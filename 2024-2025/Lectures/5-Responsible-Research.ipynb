{
 "cells": [
  {
   "cell_type": "markdown",
   "id": "fb046532",
   "metadata": {
    "slideshow": {
     "slide_type": "slide"
    }
   },
   "source": [
    "## About last time\n",
    "\n",
    "- Data partitioning is a crucial step when performing experiments $\\rightarrow$ *biases in evaluation are right behind the corner*"
   ]
  },
  {
   "cell_type": "markdown",
   "id": "7414ddb5",
   "metadata": {
    "slideshow": {
     "slide_type": "fragment"
    }
   },
   "source": [
    "- Data leakage covers a wide spectrum of possible erros, including preprocessing and data partitioning $\\rightarrow$ **hard to detect leakage sometimes!**"
   ]
  },
  {
   "cell_type": "markdown",
   "id": "a9f05920",
   "metadata": {
    "slideshow": {
     "slide_type": "fragment"
    }
   },
   "source": [
    "- Seeding control experimental stochasticity, but in many cases its use can be harmful $\\rightarrow$ *yet another hyper-parameter*"
   ]
  },
  {
   "cell_type": "markdown",
   "id": "3993068f",
   "metadata": {
    "slideshow": {
     "slide_type": "fragment"
    }
   },
   "source": [
    "- Statistical significance is a powerful tool that is unfortunately erroneously abused! $\\rightarrow$ **there is a huge lack of education on this topic**"
   ]
  },
  {
   "cell_type": "markdown",
   "id": "fea116cf",
   "metadata": {
    "slideshow": {
     "slide_type": "fragment"
    }
   },
   "source": [
    "- Metrics are a standard tool for system evaluation. However they only provide a specific point of view of a problem $\\rightarrow$ **make sure you consider different metrics and do not copy-paste results from literature**"
   ]
  },
  {
   "cell_type": "markdown",
   "id": "2f526060",
   "metadata": {
    "slideshow": {
     "slide_type": "slide"
    }
   },
   "source": [
    "## About this lecture\n",
    "\n",
    "We talked about data collection and doing experiments, and corresponding fallacies."
   ]
  },
  {
   "cell_type": "markdown",
   "id": "dcc44140",
   "metadata": {
    "slideshow": {
     "slide_type": "fragment"
    }
   },
   "source": [
    "While there are several issues we might encounter, there is also effort in developing solutions to mitigate these issues."
   ]
  },
  {
   "cell_type": "markdown",
   "id": "1d06219a",
   "metadata": {
    "slideshow": {
     "slide_type": "fragment"
    }
   },
   "source": [
    "One of these solutions in accordance with reproducible research is represented by **recommendations checklists**."
   ]
  },
  {
   "cell_type": "markdown",
   "id": "20c676e5",
   "metadata": {
    "slideshow": {
     "slide_type": "slide"
    }
   },
   "source": [
    "## But first...let's hear it from you!\n",
    "\n",
    "Time for another [Google Form](https://forms.gle/tVR38jUqNsrzigCN9) (**5 mins**)"
   ]
  },
  {
   "cell_type": "markdown",
   "id": "89ca692d",
   "metadata": {
    "slideshow": {
     "slide_type": "subslide"
    }
   },
   "source": [
    "<center>\n",
    "<div>\n",
    "<img src=\"../Images/Lecture-5/qsn_checklists.png\" width=\"600\" alt='Recommendation checklists'/>\n",
    "</div>\n",
    "</center>"
   ]
  },
  {
   "cell_type": "markdown",
   "id": "598d551a",
   "metadata": {
    "slideshow": {
     "slide_type": "slide"
    }
   },
   "source": [
    "## Data guidelines and recommendations\n",
    "\n",
    "One recommendation for evaluating aforementioned issues is via datasheets for datasets [[Gebru et al., 2021](https://cacm.acm.org/magazines/2021/12/256932-datasheets-for-datasets/abstract)]"
   ]
  },
  {
   "cell_type": "markdown",
   "id": "6a81c861",
   "metadata": {
    "slideshow": {
     "slide_type": "subslide"
    }
   },
   "source": [
    "For dataset **creators**:\n",
    "\n",
    "- Creation process $\\rightarrow$ reproducing, creating a new one..\n",
    "- Distribution\n",
    "- Maintenance\n",
    "- Assumptions\n",
    "- Risks, harms, implications of use, biases, limitations"
   ]
  },
  {
   "cell_type": "markdown",
   "id": "042ca764",
   "metadata": {
    "slideshow": {
     "slide_type": "subslide"
    }
   },
   "source": [
    "For dataset **consumers**:\n",
    "\n",
    "- Information to make informed decisions about using the dataset\n",
    "- Transparency for data selection\n",
    "- Avoid unintentional misuse"
   ]
  },
  {
   "cell_type": "markdown",
   "id": "5cf6f205",
   "metadata": {
    "slideshow": {
     "slide_type": "subslide"
    }
   },
   "source": [
    "May be valuable to policy makers, consumer advocates, investigative journalists, individuals whose data is included in datasets, and individuals who may be impacted by models trained or evaluated using datasets"
   ]
  },
  {
   "cell_type": "markdown",
   "id": "9732e914",
   "metadata": {
    "slideshow": {
     "slide_type": "subslide"
    }
   },
   "source": [
    "Datasheets also facilitate reproducibility: researchers and practitioners without access to a dataset may be able to use the information in its datasheet to create alternative datasets with similar characteristics."
   ]
  },
  {
   "cell_type": "markdown",
   "id": "f2682f6c",
   "metadata": {
    "slideshow": {
     "slide_type": "subslide"
    }
   },
   "source": [
    "Datasheets are **not** meant to be prescriptive\n",
    "\n",
    "$\\rightarrow$ datasheets will necessarily vary depending on factors such as the domain or existing organizational infrastructure and workflows. "
   ]
  },
  {
   "cell_type": "markdown",
   "id": "62b47dfb",
   "metadata": {
    "slideshow": {
     "slide_type": "subslide"
    }
   },
   "source": [
    "<center>\n",
    "<div>\n",
    "<img src=\"../Images/Lecture-5/datasheet1.png\" width=\"1500\" alt='datasheet1'/>\n",
    "</div>\n",
    "</center>"
   ]
  },
  {
   "cell_type": "markdown",
   "id": "92d5b0ee",
   "metadata": {
    "slideshow": {
     "slide_type": "subslide"
    }
   },
   "source": [
    "<center>\n",
    "<div>\n",
    "<img src=\"../Images/Lecture-5/datasheet2.png\" width=\"1000\" alt='datasheet2'/>\n",
    "</div>\n",
    "</center>"
   ]
  },
  {
   "cell_type": "markdown",
   "id": "2371b08d",
   "metadata": {
    "slideshow": {
     "slide_type": "subslide"
    }
   },
   "source": [
    "<center>\n",
    "<div>\n",
    "<img src=\"../Images/Lecture-5/datasheet3.png\" width=\"1000\" alt='datasheet3'/>\n",
    "</div>\n",
    "</center>"
   ]
  },
  {
   "cell_type": "markdown",
   "id": "be075fbb",
   "metadata": {
    "slideshow": {
     "slide_type": "subslide"
    }
   },
   "source": [
    "<center>\n",
    "<div>\n",
    "<img src=\"../Images/Lecture-5/datasheet4.png\" width=\"1000\" alt='datasheet4'/>\n",
    "</div>\n",
    "</center>"
   ]
  },
  {
   "cell_type": "markdown",
   "id": "c4e79d1f",
   "metadata": {
    "slideshow": {
     "slide_type": "subslide"
    }
   },
   "source": [
    "## A concrete example\n",
    "\n",
    "Check ''*Other material/Lecture-5/argscichat_datasheet.pdf*\""
   ]
  },
  {
   "cell_type": "markdown",
   "id": "c06c64dc",
   "metadata": {
    "slideshow": {
     "slide_type": "slide"
    }
   },
   "source": [
    "## Data Cards [[Pushkarna et al., 2022]](https://dl.acm.org/doi/pdf/10.1145/3531146.3533231)\n",
    "\n",
    "A clear and thorough understanding of a dataset’s origins, development, intent, ethical considerations and evolution becomes a necessary step for the responsible and informed deployment of models, especially those in people-facing contexts and high-risk domains."
   ]
  },
  {
   "cell_type": "markdown",
   "id": "702259f8",
   "metadata": {
    "slideshow": {
     "slide_type": "fragment"
    }
   },
   "source": [
    "$\\rightarrow$ falls on the intelligibility, conciseness, and comprehensiveness of the documentation!"
   ]
  },
  {
   "cell_type": "markdown",
   "id": "57f3ef8b",
   "metadata": {
    "slideshow": {
     "slide_type": "subslide"
    }
   },
   "source": [
    "Data Cards are structured summaries of essential facts about various aspects of ML datasets needed by stakeholders across a dataset’s lifecycle for responsible AI development"
   ]
  },
  {
   "cell_type": "markdown",
   "id": "779e571b",
   "metadata": {
    "slideshow": {
     "slide_type": "fragment"
    }
   },
   "source": [
    "- provide explanations of processes and rationales that shape the data and corresponding up-stream processes\n",
    "- trainining and evaluation methods\n",
    "- intended use of data (*recall annotation paradigms!*)\n",
    "- decisions affecting model performance"
   ]
  },
  {
   "cell_type": "markdown",
   "id": "6383483f",
   "metadata": {
    "slideshow": {
     "slide_type": "slide"
    }
   },
   "source": [
    "### Data cards principles\n",
    "\n",
    "The authors develop guidelines for the successful and appropriate adoption of Data Cards in practice and at scale"
   ]
  },
  {
   "cell_type": "markdown",
   "id": "f34bb2ce",
   "metadata": {
    "slideshow": {
     "slide_type": "subslide"
    }
   },
   "source": [
    "#### Consistent\n",
    "\n",
    "Data Cards must be comparable to one another, regardless of data modality or domain such that claims are easy to interpret and validate within context of use. "
   ]
  },
  {
   "cell_type": "markdown",
   "id": "7a67d031",
   "metadata": {
    "slideshow": {
     "slide_type": "fragment"
    }
   },
   "source": [
    "A Data Card creation effort should solicit equitable information from all datasets."
   ]
  },
  {
   "cell_type": "markdown",
   "id": "77b9d1de",
   "metadata": {
    "slideshow": {
     "slide_type": "subslide"
    }
   },
   "source": [
    "#### Comprehensive\n",
    "\n",
    "Rather than being created as a last step in a dataset’s lifecycle, it should be easy to create a Data Card concurrently with the dataset.\n"
   ]
  },
  {
   "cell_type": "markdown",
   "id": "11d2dfe4",
   "metadata": {
    "slideshow": {
     "slide_type": "fragment"
    }
   },
   "source": [
    "This requires standardized methods that extend beyond the Data Card, and apply to the various reports generated in the dataset’s lifecycle."
   ]
  },
  {
   "cell_type": "markdown",
   "id": "39f6364c",
   "metadata": {
    "slideshow": {
     "slide_type": "subslide"
    }
   },
   "source": [
    "#### Intelligible and Concise\n",
    "\n",
    "A Data Card should efficiently communicate to the reader with the least proficiency, while enabling readers with greater proficiency to find more information as needed. "
   ]
  },
  {
   "cell_type": "markdown",
   "id": "44821b75",
   "metadata": {
    "slideshow": {
     "slide_type": "fragment"
    }
   },
   "source": [
    "The content and design should advance a reader’s deliberation process without overwhelming them, and encourage stakeholder cooperation towards a shared mental model of the dataset for decision-making."
   ]
  },
  {
   "cell_type": "markdown",
   "id": "154fce6c",
   "metadata": {
    "slideshow": {
     "slide_type": "subslide"
    }
   },
   "source": [
    "#### Explainability, Uncertainty\n",
    "\n",
    "Clear descriptions and justifications for uncertainty can lead to additional measures to mitigate risks, leading to opportunities for fairer and equitable models. "
   ]
  },
  {
   "cell_type": "markdown",
   "id": "4c1a3fa1",
   "metadata": {
    "slideshow": {
     "slide_type": "fragment"
    }
   },
   "source": [
    "This builds greater trust in the dataset and subsequently, its publishers."
   ]
  },
  {
   "cell_type": "markdown",
   "id": "d572343a",
   "metadata": {
    "slideshow": {
     "slide_type": "subslide"
    }
   },
   "source": [
    "<center>\n",
    "<div>\n",
    "<img src=\"../Images/Lecture-5/datacard-template.png\" width=\"1000\" alt='datacard template'/>\n",
    "</div>\n",
    "</center>"
   ]
  },
  {
   "cell_type": "markdown",
   "id": "3afe84c9",
   "metadata": {
    "slideshow": {
     "slide_type": "subslide"
    }
   },
   "source": [
    "<center>\n",
    "<div>\n",
    "<img src=\"../Images/Lecture-5/datacard-themes.png\" width=\"1000\" alt='datacard themes'/>\n",
    "</div>\n",
    "</center>"
   ]
  },
  {
   "cell_type": "markdown",
   "id": "4f35bdeb",
   "metadata": {
    "slideshow": {
     "slide_type": "subslide"
    }
   },
   "source": [
    "### A concrete example\n",
    "\n",
    "Check ''*Other material/Lecture-5/datacards.pdf*\""
   ]
  },
  {
   "cell_type": "markdown",
   "id": "6ad6d36b",
   "metadata": {
    "slideshow": {
     "slide_type": "subslide"
    }
   },
   "source": [
    "## Model Cards [[Mitchell et al., 2019](https://dl.acm.org/doi/10.1145/3287560.3287596)]\n",
    "\n",
    "Similarly to datasheets for datasets, there exist **datasheets for models**.\n",
    "\n",
    "Offer a **middle ground** for peer-reviewing processes: code checking is a time-consuming process."
   ]
  },
  {
   "cell_type": "markdown",
   "id": "ee6b2291",
   "metadata": {
    "slideshow": {
     "slide_type": "fragment"
    }
   },
   "source": [
    "**Objective**: To clarify the intended use cases of machine learning models and minimize their usage in contexts for which they are not well suited."
   ]
  },
  {
   "cell_type": "markdown",
   "id": "4cc08044",
   "metadata": {
    "slideshow": {
     "slide_type": "subslide"
    }
   },
   "source": [
    "Focus on trained model performance characteristics: \n",
    "\n",
    "- Type of model\n",
    "- Intended use cases\n",
    "- Attributes for which performance may vary\n",
    "- Measures of model performance (their motivation)\n",
    "- Ethical considerations\n",
    "- Target users"
   ]
  },
  {
   "cell_type": "markdown",
   "id": "d7eeaaad",
   "metadata": {
    "slideshow": {
     "slide_type": "fragment"
    }
   },
   "source": [
    "Useful to understand the **systematic impacts** of models before their deployment."
   ]
  },
  {
   "cell_type": "markdown",
   "id": "c9c79955",
   "metadata": {
    "slideshow": {
     "slide_type": "subslide"
    }
   },
   "source": [
    "Model cards are short documents accompanying trained machine learning models that provide benchmarked evaluation in a variety of conditions, such as across \n",
    "\n",
    "- different cultural, demographic, or phenotypic groups (e.g., race, geographic location, sex, etc..) \n",
    "- intersectional groups (e.g., age and race, or sex and) \n",
    "\n",
    "that are relevant to the intended application domains."
   ]
  },
  {
   "cell_type": "markdown",
   "id": "a7f64320",
   "metadata": {
    "slideshow": {
     "slide_type": "subslide"
    }
   },
   "source": [
    "Model cards aim to standardize ethical practice and reporting.\n",
    "\n",
    "$\\rightarrow$ allowing stakeholders to compare candidate models for deployment across traditional evaluation metrics, ethical, inclusive, and fair considerations."
   ]
  },
  {
   "cell_type": "markdown",
   "id": "69e62b70",
   "metadata": {
    "slideshow": {
     "slide_type": "subslide"
    }
   },
   "source": [
    "### Use cases\n",
    "\n",
    "Model reporting will hold different meaning to those involved in different aspects of model development, deployment, and use."
   ]
  },
  {
   "cell_type": "markdown",
   "id": "1d48fade",
   "metadata": {
    "slideshow": {
     "slide_type": "subslide"
    }
   },
   "source": [
    "#### ML and AI practitioners \n",
    "They can better understand how well the model might work for the intended use cases and track its performance over time."
   ]
  },
  {
   "cell_type": "markdown",
   "id": "cdee87d4",
   "metadata": {
    "slideshow": {
     "slide_type": "subslide"
    }
   },
   "source": [
    "#### Model developers\n",
    "\n",
    "They can compare the model’s results to other models in the same space, and make decisions about training their own system."
   ]
  },
  {
   "cell_type": "markdown",
   "id": "cbd7c84f",
   "metadata": {
    "slideshow": {
     "slide_type": "subslide"
    }
   },
   "source": [
    "#### Software developers\n",
    "\n",
    "Software developers working on products that use the model’s predictions can inform their design and implementation decisions."
   ]
  },
  {
   "cell_type": "markdown",
   "id": "cb6d1f66",
   "metadata": {
    "slideshow": {
     "slide_type": "subslide"
    }
   },
   "source": [
    "#### Policymakers\n",
    "\n",
    "They can understand how a machine learning system may fail or succeed in ways that impact people."
   ]
  },
  {
   "cell_type": "markdown",
   "id": "a6c16f3b",
   "metadata": {
    "slideshow": {
     "slide_type": "subslide"
    }
   },
   "source": [
    "#### Organizations\n",
    "\n",
    "They can inform decisions about adopting technology that incorporates machine learning."
   ]
  },
  {
   "cell_type": "markdown",
   "id": "dff0bf9d",
   "metadata": {
    "slideshow": {
     "slide_type": "subslide"
    }
   },
   "source": [
    "#### ML-knowledgeable individuals\n",
    "\n",
    "They can be informed on different options for fine-tuning, model combination, or additional rules and constraints to help curate models for intended use\n",
    "cases without requiring technical expertise."
   ]
  },
  {
   "cell_type": "markdown",
   "id": "37cdb045",
   "metadata": {
    "slideshow": {
     "slide_type": "subslide"
    }
   },
   "source": [
    "#### Impacted individuals\n",
    "\n",
    "Who may experience effects from a model can better understand how it works or use information in the card to pursue remedies."
   ]
  },
  {
   "cell_type": "markdown",
   "id": "d4a836c6",
   "metadata": {
    "slideshow": {
     "slide_type": "subslide"
    }
   },
   "source": [
    "<center>\n",
    "<div>\n",
    "<img src=\"../Images/Lecture-5/model-card.png\" width=\"450\" alt='model-card'/>\n",
    "</div>\n",
    "</center>"
   ]
  },
  {
   "cell_type": "markdown",
   "id": "b2fb8a8e",
   "metadata": {
    "slideshow": {
     "slide_type": "subslide"
    }
   },
   "source": [
    "<center>\n",
    "<div>\n",
    "<img src=\"../Images/Lecture-5/model-card-example.png\" width=\"800\" alt='model-card-example'/>\n",
    "</div>\n",
    "</center>"
   ]
  },
  {
   "cell_type": "markdown",
   "id": "a1ac9ccf",
   "metadata": {
    "slideshow": {
     "slide_type": "slide"
    }
   },
   "source": [
    "## Model info sheets [[Kapoor and Narayanan, 2022]](https://www.sciencedirect.com/science/article/pii/S2666389923001599)\n",
    "\n",
    "Inspired by Model cards [[Mitchell et al., 2019](https://dl.acm.org/doi/10.1145/3287560.3287596)]\n",
    "\n",
    "A model info sheet requires the researcher to provide precise arguments to justify that models used for making scientific claims do not suffer from leakage, by answering 21 questions based on their taxonomy of leakage."
   ]
  },
  {
   "cell_type": "markdown",
   "id": "112a1050",
   "metadata": {
    "slideshow": {
     "slide_type": "fragment"
    }
   },
   "source": [
    "### Limitations\n",
    "\n",
    "- **Cannot be verified** in the **absence** of computational reproducibility (code availability!)\n",
    "- **Incorrect claims** in the datasheet $\\rightarrow$ false assurance (*I'm only human after all...*)"
   ]
  },
  {
   "cell_type": "markdown",
   "id": "8bd3c8e3",
   "metadata": {
    "slideshow": {
     "slide_type": "fragment"
    }
   },
   "source": [
    "### Model info sheet template\n",
    "\n",
    "Check ''*Other material/Lecture-5/model-info-sheet-template.docx*\""
   ]
  },
  {
   "cell_type": "markdown",
   "id": "4f39dd28",
   "metadata": {
    "slideshow": {
     "slide_type": "slide"
    }
   },
   "source": [
    "## FactSheets [[Arnold et al., 2019](https://ieeexplore.ieee.org/document/8843893)]\n",
    "\n",
    "Considerations beyond accuracy, such as safety (which includes fairness and explainability), security, and provenance, are also critical elements to engender consumers’ trust in a service."
   ]
  },
  {
   "cell_type": "markdown",
   "id": "d50c420c",
   "metadata": {
    "slideshow": {
     "slide_type": "fragment"
    }
   },
   "source": [
    "FactSheets are documents to contain purpose, performance, safety, security, and provenance information to be completed by AI service providers for examination by consumers."
   ]
  },
  {
   "cell_type": "markdown",
   "id": "17b6cc28",
   "metadata": {
    "slideshow": {
     "slide_type": "subslide"
    }
   },
   "source": [
    "A FactSheet is modeled after a supplier’s declaration of conformity (SDoC). "
   ]
  },
  {
   "cell_type": "markdown",
   "id": "a02eb6fc",
   "metadata": {
    "slideshow": {
     "slide_type": "fragment"
    }
   },
   "source": [
    "An SDoC is a document to “show that a product, process or service conforms to a standard or technical regulation, in which a supplier provides written assurance of conformity to the specified requirements”"
   ]
  },
  {
   "cell_type": "markdown",
   "id": "49084dda",
   "metadata": {
    "slideshow": {
     "slide_type": "fragment"
    }
   },
   "source": [
    "$\\rightarrow$ used in many different industries and sectors including telecommunications and transportation"
   ]
  },
  {
   "cell_type": "markdown",
   "id": "439e0e9c",
   "metadata": {
    "slideshow": {
     "slide_type": "fragment"
    }
   },
   "source": [
    "$\\rightarrow$ SDoCs are often voluntary and tests reported in SDoCs are conducted by the supplier itself rather than by third parties."
   ]
  },
  {
   "cell_type": "markdown",
   "id": "0a9c6716",
   "metadata": {
    "slideshow": {
     "slide_type": "subslide"
    }
   },
   "source": [
    "In summary, FactSheets cover several aspects."
   ]
  },
  {
   "cell_type": "markdown",
   "id": "d4488507",
   "metadata": {
    "slideshow": {
     "slide_type": "subslide"
    }
   },
   "source": [
    "#### Statement of Purpose\n",
    "\n",
    "- General: who is the supplier, what is the service about, output of the service, what algorithms, etc.\n",
    "- Usage: what is the intended use of the service output\n",
    "- Domains and Applications: was tested on or used for, how is the service being used"
   ]
  },
  {
   "cell_type": "markdown",
   "id": "b3f369b7",
   "metadata": {
    "slideshow": {
     "slide_type": "subslide"
    }
   },
   "source": [
    "#### Basic Performance\n",
    "\n",
    "- Testing the service provider: which datasets, which testing methodology, which results\n",
    "- Testing by third parties: way to verify performance metrics, tested by any third party"
   ]
  },
  {
   "cell_type": "markdown",
   "id": "39edd265",
   "metadata": {
    "slideshow": {
     "slide_type": "subslide"
    }
   },
   "source": [
    "#### Safety\n",
    "\n",
    "- General: aware of biases, ethical issues, safety risks, informed consent\n",
    "- Explainability: are the service output explainable/interpretable?\n",
    "- Fairness: was each dataset checked for biases, any bias detection implemented\n",
    "- Concept drift: expected performance on seen and unseen data, is the system updated with new data"
   ]
  },
  {
   "cell_type": "markdown",
   "id": "74a87e67",
   "metadata": {
    "slideshow": {
     "slide_type": "subslide"
    }
   },
   "source": [
    "#### Security\n",
    "\n",
    "- How could the service be attacked\n",
    "- How is data secured\n",
    "- Is the service robust to adversarial attacks"
   ]
  },
  {
   "cell_type": "markdown",
   "id": "d6645f7d",
   "metadata": {
    "slideshow": {
     "slide_type": "subslide"
    }
   },
   "source": [
    "#### Lineage\n",
    "\n",
    "- Training data: as-is model availability, training data availability\n",
    "- Trained models: model training details, model last update"
   ]
  },
  {
   "cell_type": "markdown",
   "id": "aba6c2bf",
   "metadata": {
    "slideshow": {
     "slide_type": "slide"
    }
   },
   "source": [
    "### FactSheet Template\n",
    "\n",
    "Check *''Other material/Lecture-5/factsheets.pdf\"*"
   ]
  },
  {
   "cell_type": "markdown",
   "id": "9bc71de6",
   "metadata": {
    "slideshow": {
     "slide_type": "subslide"
    }
   },
   "source": [
    "## Many other ways for reporting\n",
    "\n",
    "Check JAIR paper for more related work\n",
    "\n",
    "- Checklists [[Han et al., 2017](https://journals.plos.org/plosone/article?id=10.1371/journal.pone.0183591)] $\\rightarrow$ mainly for reviewing and community specific\n",
    "- Data statements [[Bender & Friedman, 2018](https://aclanthology.org/Q18-1041.pdf)] $\\rightarrow$ to allieve issues related to exclusion and bias in NLP\n",
    "- The Dataset Nutrition Label [[Holland et al., 2018](https://arxiv.org/pdf/1805.03677.pdf)] $\\rightarrow$ Guidelines for analyzing data structure and status"
   ]
  },
  {
   "cell_type": "markdown",
   "id": "22a35faf",
   "metadata": {
    "slideshow": {
     "slide_type": "fragment"
    }
   },
   "source": [
    "[❓] Do you see any drawback?\n",
    "\n",
    "State that they are quite general on average $\\rightarrow$ JAIR paper for a concrete example\n",
    "\n",
    "Make questionnaire for evaluation\n",
    "\n",
    "State that nobody is going to do use these recommendations"
   ]
  },
  {
   "cell_type": "markdown",
   "id": "0a257cf3",
   "metadata": {
    "slideshow": {
     "slide_type": "slide"
    }
   },
   "source": [
    "## Concluding Remarks\n"
   ]
  },
  {
   "cell_type": "markdown",
   "id": "b9bba58a",
   "metadata": {
    "slideshow": {
     "slide_type": "slide"
    }
   },
   "source": [
    "# Any questions?\n",
    "\n",
    "<center>\n",
    "<div>\n",
    "<img src=\"../Images/Lecture-2/jojo-arrivederci.gif\" width=\"1000\" alt='JOJO_arrivederci'/>\n",
    "</div>\n",
    "</center>"
   ]
  }
 ],
 "metadata": {
  "celltoolbar": "Slideshow",
  "kernelspec": {
   "display_name": "Python 3 (ipykernel)",
   "language": "python",
   "name": "python3"
  },
  "language_info": {
   "codemirror_mode": {
    "name": "ipython",
    "version": 3
   },
   "file_extension": ".py",
   "mimetype": "text/x-python",
   "name": "python",
   "nbconvert_exporter": "python",
   "pygments_lexer": "ipython3",
   "version": "3.10.11"
  }
 },
 "nbformat": 4,
 "nbformat_minor": 5
}
