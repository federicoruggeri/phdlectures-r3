{
 "cells": [
  {
   "cell_type": "markdown",
   "id": "737f1b81",
   "metadata": {
    "slideshow": {
     "slide_type": "slide"
    }
   },
   "source": [
    "## Motivational outro\n",
    "\n",
    "Before saying goodbye, here are few things I want to tell you"
   ]
  },
  {
   "cell_type": "markdown",
   "id": "e5640f30",
   "metadata": {
    "slideshow": {
     "slide_type": "fragment"
    }
   },
   "source": [
    "- Research is **chaotic**, often **competitive** and time to time **toxic** $\\rightarrow$ let's **share** knowledge!"
   ]
  },
  {
   "cell_type": "markdown",
   "id": "4c86fc80",
   "metadata": {
    "slideshow": {
     "slide_type": "fragment"
    }
   },
   "source": [
    "- ``cinnamon`` is **my attempt** to share experience and set up a common working environment"
   ]
  },
  {
   "cell_type": "markdown",
   "id": "30339c93",
   "metadata": {
    "slideshow": {
     "slide_type": "fragment"
    }
   },
   "source": [
    "- It may be a **good idea** to sit down and talk about research problems time to time! $\\rightarrow$ **recurring themed meetings**"
   ]
  },
  {
   "cell_type": "markdown",
   "id": "68d5daba",
   "metadata": {
    "slideshow": {
     "slide_type": "subslide"
    }
   },
   "source": [
    "## Almost done\n",
    "\n",
    "Before saying goodbye, please fill in this **final** [Google Form](https://forms.gle/PEXzkFoGjS9E9GDd7) for exam participation."
   ]
  },
  {
   "cell_type": "markdown",
   "id": "e734f1b9",
   "metadata": {
    "slideshow": {
     "slide_type": "subslide"
    }
   },
   "source": [
    "<center>\n",
    "<div>\n",
    "<img src=\"../Images/Extra/qsn_exam.png\" width=\"600\" alt='Exam'/>\n",
    "</div>\n",
    "</center>"
   ]
  },
  {
   "cell_type": "markdown",
   "id": "5751d5ab",
   "metadata": {
    "slideshow": {
     "slide_type": "slide"
    }
   },
   "source": [
    "# Any questions?\n",
    "\n",
    "<center>\n",
    "<div>\n",
    "<img src=\"../Images/Lecture-3/jojo-arrivederci.gif\" width=\"1200\" alt='JOJO_arrivederci'/>\n",
    "</div>\n",
    "</center>"
   ]
  },
  {
   "cell_type": "code",
   "execution_count": null,
   "id": "3dedac85",
   "metadata": {},
   "outputs": [],
   "source": []
  }
 ],
 "metadata": {
  "celltoolbar": "Slideshow",
  "kernelspec": {
   "display_name": "Python 3 (ipykernel)",
   "language": "python",
   "name": "python3"
  },
  "language_info": {
   "codemirror_mode": {
    "name": "ipython",
    "version": 3
   },
   "file_extension": ".py",
   "mimetype": "text/x-python",
   "name": "python",
   "nbconvert_exporter": "python",
   "pygments_lexer": "ipython3",
   "version": "3.10.15"
  }
 },
 "nbformat": 4,
 "nbformat_minor": 5
}
