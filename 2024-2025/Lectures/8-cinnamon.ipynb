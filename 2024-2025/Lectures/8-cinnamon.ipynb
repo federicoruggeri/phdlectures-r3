{
 "cells": [
  {
   "cell_type": "markdown",
   "id": "7bc225cc",
   "metadata": {
    "slideshow": {
     "slide_type": "slide"
    }
   },
   "source": [
    "## The end (?)\n",
    "\n",
    "We've reached **the end** of this short Ph.D. course about reproducible and open research."
   ]
  },
  {
   "cell_type": "markdown",
   "id": "4a2e1236",
   "metadata": {
    "slideshow": {
     "slide_type": "fragment"
    }
   },
   "source": [
    "### What to do?"
   ]
  },
  {
   "cell_type": "markdown",
   "id": "4fc14f27",
   "metadata": {
    "slideshow": {
     "slide_type": "slide"
    }
   },
   "source": [
    "## Cinnamon\n",
    "\n",
    "In this **bonus** lecture, I'm going to briefly show you some functionalities of my small **custom library**."
   ]
  },
  {
   "cell_type": "markdown",
   "id": "e5f01449",
   "metadata": {
    "slideshow": {
     "slide_type": "fragment"
    }
   },
   "source": [
    "#### Disclaimer"
   ]
  },
  {
   "cell_type": "markdown",
   "id": "29cf2004",
   "metadata": {
    "slideshow": {
     "slide_type": "fragment"
    }
   },
   "source": [
    "- What you are going to see is not **groundbreaking** and probably well-known since 50 years. I just couldn't find anything suitable...but I'm a picky person time to time..."
   ]
  },
  {
   "cell_type": "markdown",
   "id": "87b751c8",
   "metadata": {
    "slideshow": {
     "slide_type": "fragment"
    }
   },
   "source": [
    "- The library is still a prototype $\\rightarrow$ still, it somehow does its job"
   ]
  },
  {
   "cell_type": "markdown",
   "id": "2868597b",
   "metadata": {
    "slideshow": {
     "slide_type": "fragment"
    }
   },
   "source": [
    "- **Ping me** if you are interested! (*don't you have anything else to do?*)"
   ]
  },
  {
   "cell_type": "markdown",
   "id": "0f162de5",
   "metadata": {
    "slideshow": {
     "slide_type": "slide"
    }
   },
   "source": [
    "## What are we going to cover?\n",
    "\n",
    "- ``cinnamon``\n",
    "    - Motivational intro $\\rightarrow$ *why writing a custom library*\n",
    "    - Overview\n",
    "    - Configuration and Component\n",
    "    - Registration\n",
    "    - A simple showcase\n",
    "\n",
    "- Motivational outro"
   ]
  },
  {
   "cell_type": "markdown",
   "id": "9541a1cb",
   "metadata": {
    "slideshow": {
     "slide_type": "slide"
    }
   },
   "source": [
    "## Motivational Intro\n",
    "\n",
    "*Shouldn't you be doing research instead of jamming with your **mechanical** keyboard to write buggy code?*"
   ]
  },
  {
   "cell_type": "markdown",
   "id": "0e22e68a",
   "metadata": {
    "slideshow": {
     "slide_type": "subslide"
    }
   },
   "source": [
    "### Why cinnamon\n",
    "\n",
    "*Take a seat, my friend, for I'm telling you my story now*\n",
    "\n",
    "Around the middle of my Ph.D., I noticed that:"
   ]
  },
  {
   "cell_type": "markdown",
   "id": "8a37ce84",
   "metadata": {
    "slideshow": {
     "slide_type": "fragment"
    }
   },
   "source": [
    "- I was **copy-pasting** quite a lot of code from one project to another (*w/ several bugs*)"
   ]
  },
  {
   "cell_type": "markdown",
   "id": "ebebf6a8",
   "metadata": {
    "slideshow": {
     "slide_type": "fragment"
    }
   },
   "source": [
    "- The majority of my **most frequent errors** were about running experiments with the **wrong hyper-parameters configuration**"
   ]
  },
  {
   "cell_type": "markdown",
   "id": "801413f8",
   "metadata": {
    "slideshow": {
     "slide_type": "fragment"
    }
   },
   "source": [
    "- I had a lot of models (variants included) to test and their **management** was becoming **cumbersome**"
   ]
  },
  {
   "cell_type": "markdown",
   "id": "92998898",
   "metadata": {
    "slideshow": {
     "slide_type": "subslide"
    }
   },
   "source": [
    "### An example\n",
    "\n",
    "For one paper, I had to test a GNN:"
   ]
  },
  {
   "cell_type": "markdown",
   "id": "750aa955",
   "metadata": {
    "slideshow": {
     "slide_type": "fragment"
    }
   },
   "source": [
    "- A basic model (**B**)"
   ]
  },
  {
   "cell_type": "markdown",
   "id": "10add49f",
   "metadata": {
    "slideshow": {
     "slide_type": "fragment"
    }
   },
   "source": [
    "- A variant with an additional layer (**B + layer**)"
   ]
  },
  {
   "cell_type": "markdown",
   "id": "d81997d5",
   "metadata": {
    "slideshow": {
     "slide_type": "fragment"
    }
   },
   "source": [
    "- **3** variants of **B + layer** with a specific regularization (**B + layer + regs**)"
   ]
  },
  {
   "cell_type": "markdown",
   "id": "ca4c4f8a",
   "metadata": {
    "slideshow": {
     "slide_type": "fragment"
    }
   },
   "source": [
    "- **All** the above models had to be tested on **5 different datasets**"
   ]
  },
  {
   "cell_type": "markdown",
   "id": "7f29b848",
   "metadata": {
    "slideshow": {
     "slide_type": "fragment"
    }
   },
   "source": [
    "- **All** the above models had to be tested on **2** different **input** configurations (**I1**, **I2**)"
   ]
  },
  {
   "cell_type": "markdown",
   "id": "1f122787",
   "metadata": {
    "slideshow": {
     "slide_type": "fragment"
    }
   },
   "source": [
    "$\\rightarrow $ *Because yes*"
   ]
  },
  {
   "cell_type": "markdown",
   "id": "06993fbf",
   "metadata": {
    "slideshow": {
     "slide_type": "fragment"
    }
   },
   "source": [
    "#### Totaling: 10 models per dataset $\\rightarrow$ 50 models\n",
    "\n",
    "Actually, I have also an LSTM baseline and a BERT model, so the total number of models was **150**.\n",
    "\n",
    "$\\rightarrow$ *Yes, I like to hurt myself*"
   ]
  },
  {
   "cell_type": "markdown",
   "id": "63a29e96",
   "metadata": {
    "slideshow": {
     "slide_type": "subslide"
    }
   },
   "source": [
    "### An Example (cont'd)\n",
    "\n",
    "I was **confident** and started writing up model configurations in JSON format (*a simplified version*)\n",
    "\n",
    "```\n",
    "\"dataset1_B_GNN_I1\": {\n",
    "        \"rnn_encoding\": false\n",
    "        \"representation_mlp_weights\": [\n",
    "                    64,\n",
    "                    256,\n",
    "                    512\n",
    "                ]\n",
    "        \"merge_vocabularies\": false,\n",
    "        \"build_embedding_matrix\": true,\n",
    "        \"embedding_model_type\": \"glove\",\n",
    "        \"input_dropout_rate\": 0.4,\n",
    "        \"feature_class\": \"pos_text_graph_dep_adj_features\",\n",
    "        \"is_directional\": false,\n",
    "        \"clip_gradient\": true,\n",
    "        \"embedding_dimension\":  200,\n",
    "        \"l2_regularization\": 0.0002,\n",
    "        \"max_grad_norm\":  40,\n",
    "        \"gcn_info\": {...}\n",
    "        \"use_position_feature\":  true\n",
    "        \"tokenizer_args\": {\n",
    "                \"filters\": \"\",\n",
    "                \"oov_token\": \"<UNK>\"\n",
    "        },\n",
    "        \"weight_predictions\": true,\n",
    "        \"add_gradient_noise\": true,\n",
    "        \"dropout_rate\": 0.4,\n",
    "        \"optimizer_args\": {\n",
    "                \"learning_rate\": 0.0002\n",
    "        },\n",
    "        \"max_graph_nodes_limit\": 140,\n",
    "        ...\n",
    "    }\n",
    "```"
   ]
  },
  {
   "cell_type": "markdown",
   "id": "7beb1b98",
   "metadata": {
    "slideshow": {
     "slide_type": "subslide"
    }
   },
   "source": [
    "### Eventually..."
   ]
  },
  {
   "cell_type": "markdown",
   "id": "d0f02806",
   "metadata": {
    "slideshow": {
     "slide_type": "fragment"
    }
   },
   "source": [
    "- My JSON configuration file ended up having **more than 8k lines** - barely readable (*not all models were yet listed!*)"
   ]
  },
  {
   "cell_type": "markdown",
   "id": "43b163ef",
   "metadata": {
    "slideshow": {
     "slide_type": "fragment"
    }
   },
   "source": [
    "- I could **hardly recall** (each day) each parameter type, allowed values, potential conflicts, etc..."
   ]
  },
  {
   "cell_type": "markdown",
   "id": "af7c6317",
   "metadata": {
    "slideshow": {
     "slide_type": "fragment"
    }
   },
   "source": [
    "- I was **still messing around** with wrong hyper-parameter settings (*my eyes @_@*)"
   ]
  },
  {
   "cell_type": "markdown",
   "id": "df4722ca",
   "metadata": {
    "slideshow": {
     "slide_type": "fragment"
    }
   },
   "source": [
    "- I was **wasting quite a lot of time** by just making errors and setting up the right experiment"
   ]
  },
  {
   "cell_type": "markdown",
   "id": "28918e71",
   "metadata": {
    "slideshow": {
     "slide_type": "subslide"
    }
   },
   "source": [
    "### I want to be lazy!\n",
    "\n",
    "I looked at my configuration hell and reasoned on the **limitations**..."
   ]
  },
  {
   "cell_type": "markdown",
   "id": "0a54a117",
   "metadata": {
    "slideshow": {
     "slide_type": "fragment"
    }
   },
   "source": [
    "- **Hardly** readable (*wanna collaborate? enjoy...*)"
   ]
  },
  {
   "cell_type": "markdown",
   "id": "462c5383",
   "metadata": {
    "slideshow": {
     "slide_type": "fragment"
    }
   },
   "source": [
    "- **No typing** (*err, what was the accepted format of this parameter?*)"
   ]
  },
  {
   "cell_type": "markdown",
   "id": "e8eb77c4",
   "metadata": {
    "slideshow": {
     "slide_type": "fragment"
    }
   },
   "source": [
    "- Custom types (e.g., numpy.ndarray) had to be **converted**..."
   ]
  },
  {
   "cell_type": "markdown",
   "id": "ec5c027d",
   "metadata": {
    "slideshow": {
     "slide_type": "fragment"
    }
   },
   "source": [
    "- **No** possibility to define configuration **constraints**"
   ]
  },
  {
   "cell_type": "markdown",
   "id": "deb20f89",
   "metadata": {
    "slideshow": {
     "slide_type": "fragment"
    }
   },
   "source": [
    "- **No** possibility to add **descriptions**"
   ]
  },
  {
   "cell_type": "markdown",
   "id": "289905e5",
   "metadata": {
    "slideshow": {
     "slide_type": "subslide"
    }
   },
   "source": [
    "### I'm fucking lazy..."
   ]
  },
  {
   "cell_type": "markdown",
   "id": "a21800f8",
   "metadata": {
    "slideshow": {
     "slide_type": "fragment"
    }
   },
   "source": [
    "- I don't want to **waste time** on writing my configuration in a different format"
   ]
  },
  {
   "cell_type": "markdown",
   "id": "95e95f85",
   "metadata": {
    "slideshow": {
     "slide_type": "fragment"
    }
   },
   "source": [
    "- I want to run **different** experiments with an **effort comparable to a mouse click**"
   ]
  },
  {
   "cell_type": "markdown",
   "id": "c094630f",
   "metadata": {
    "slideshow": {
     "slide_type": "fragment"
    }
   },
   "source": [
    "- I want to **focus** on my research (*Nobody believes you, Fede!*)"
   ]
  },
  {
   "cell_type": "markdown",
   "id": "40905fb6",
   "metadata": {
    "slideshow": {
     "slide_type": "subslide"
    }
   },
   "source": [
    "### F\\*\\*\\* you configuration files!\n",
    "\n",
    "- F\\*\\*\\* you JSON\n",
    "- F\\*\\*\\* you JSONL\n",
    "- F\\*\\*\\* YAML (*horrible*)\n",
    "- F\\*\\*\\* JSONNET (*kill me*)\n",
    "- F\\*\\*\\* TXT (*really?*)\n",
    "- F\\*\\*\\* CFG\n",
    "- F\\*\\*\\* to command line arguments (*I'll never be your friend*)"
   ]
  },
  {
   "cell_type": "markdown",
   "id": "a98699b7",
   "metadata": {
    "slideshow": {
     "slide_type": "fragment"
    }
   },
   "source": [
    "$\\rightarrow$ I want write my configurations in **Python**!"
   ]
  },
  {
   "cell_type": "markdown",
   "id": "56995cd4",
   "metadata": {
    "slideshow": {
     "slide_type": "subslide"
    }
   },
   "source": [
    "### Why not some existing library?\n",
    "\n",
    "Well, this is entirely due to my **personal experience** and the fact that I'm a very stupid user"
   ]
  },
  {
   "cell_type": "markdown",
   "id": "32d35004",
   "metadata": {
    "slideshow": {
     "slide_type": "fragment"
    }
   },
   "source": [
    "- [Allennlp](https://allenai.org/allennlp): cool features but fucking **hard** to **customize** unless you are from allennlp"
   ]
  },
  {
   "cell_type": "markdown",
   "id": "e4793234",
   "metadata": {
    "slideshow": {
     "slide_type": "fragment"
    }
   },
   "source": [
    "- [ParlAI](https://parl.ai/): cool if you have to do the three commands written in the **tutorial page**. Otherwise, kill yourself!"
   ]
  },
  {
   "cell_type": "markdown",
   "id": "99fb01f5",
   "metadata": {
    "slideshow": {
     "slide_type": "fragment"
    }
   },
   "source": [
    "- [Huggingface](https://huggingface.co/): super cool if you are working with transformers but **horrible configuration** format $\\rightarrow$ you need an open tab on their documentation to **understand each hyper-parameter**"
   ]
  },
  {
   "cell_type": "markdown",
   "id": "586f3d62",
   "metadata": {
    "slideshow": {
     "slide_type": "fragment"
    }
   },
   "source": [
    "- Tensorflow/Torch/Keras: not a simple way to **define configurations** except for **flags**. You'll never have me!!!"
   ]
  },
  {
   "cell_type": "markdown",
   "id": "ec077613",
   "metadata": {
    "slideshow": {
     "slide_type": "subslide"
    }
   },
   "source": [
    "### Disclaimer \n",
    "\n",
    "I'm **NOT** saying these are bad libraries at all! It's just that I was not able to use them to solve my issues..."
   ]
  },
  {
   "cell_type": "markdown",
   "id": "193523f4",
   "metadata": {
    "slideshow": {
     "slide_type": "fragment"
    }
   },
   "source": [
    "$\\rightarrow$ Why can't I run my SVM, decision tree, LSTM, BERT models using the **same configuration** and **training format**?"
   ]
  },
  {
   "cell_type": "markdown",
   "id": "ccdba73b",
   "metadata": {
    "slideshow": {
     "slide_type": "slide"
    }
   },
   "source": [
    "## A more concrete example\n",
    "\n",
    "Consider a code logic that has to load some data"
   ]
  },
  {
   "cell_type": "code",
   "execution_count": null,
   "id": "6fc8904a",
   "metadata": {
    "slideshow": {
     "slide_type": "fragment"
    }
   },
   "outputs": [],
   "source": [
    "class DataLoader:\n",
    "    \n",
    "    def __init__(self, folder_name):\n",
    "        self.folder_name = folder_name\n",
    "    \n",
    "    def load(...):\n",
    "        data = read_from_file(folder_name=self.folder_name)\n",
    "        return data"
   ]
  },
  {
   "cell_type": "markdown",
   "id": "df6126b5",
   "metadata": {
    "slideshow": {
     "slide_type": "subslide"
    }
   },
   "source": [
    "The data loader reads from a file located according to ``self.folder_name`` value."
   ]
  },
  {
   "cell_type": "markdown",
   "id": "abe50549",
   "metadata": {
    "slideshow": {
     "slide_type": "fragment"
    }
   },
   "source": [
    "If ``self.folder_name`` has multiple values, we can use the same code logic to load data from different folders."
   ]
  },
  {
   "cell_type": "markdown",
   "id": "641b1c76",
   "metadata": {
    "slideshow": {
     "slide_type": "subslide"
    }
   },
   "source": [
    "Hypothetically, we would define multiple data loaders:"
   ]
  },
  {
   "cell_type": "code",
   "execution_count": null,
   "id": "83ea485d",
   "metadata": {
    "slideshow": {
     "slide_type": "fragment"
    }
   },
   "outputs": [],
   "source": [
    "data_loader_1 = DataLoader(folder_name='*folder_name1*')\n",
    "data_loader_2 = DataLoader(folder_name='*folder_name2*')\n",
    "..."
   ]
  },
  {
   "cell_type": "markdown",
   "id": "b9f4301e",
   "metadata": {
    "slideshow": {
     "slide_type": "subslide"
    }
   },
   "source": [
    "Now, if the data loader code block is used in a project, we require some code modularity to avoid defining several versions of the same script."
   ]
  },
  {
   "cell_type": "markdown",
   "id": "9d0f36cd",
   "metadata": {
    "slideshow": {
     "slide_type": "fragment"
    }
   },
   "source": [
    "One common solution is to rely on configuration files (e.g., JSON file)."
   ]
  },
  {
   "cell_type": "code",
   "execution_count": null,
   "id": "f3720d82",
   "metadata": {
    "slideshow": {
     "slide_type": "subslide"
    }
   },
   "outputs": [],
   "source": [
    "{\n",
    "  'data_loader' : {\n",
    "     'folder_name': '*folder_name1*'\n",
    "  }\n",
    "}"
   ]
  },
  {
   "cell_type": "markdown",
   "id": "9472a80a",
   "metadata": {
    "slideshow": {
     "slide_type": "fragment"
    }
   },
   "source": [
    "The main script is modified to load our configuration file so that each code logic is properly initialized."
   ]
  },
  {
   "cell_type": "markdown",
   "id": "8d52709e",
   "metadata": {
    "slideshow": {
     "slide_type": "subslide"
    }
   },
   "source": [
    "## Cinnamon\n",
    "\n",
    "Cinnamon keeps this <configuration, code logic> dichotomy where a configuration is written in **plain Python code**!"
   ]
  },
  {
   "cell_type": "code",
   "execution_count": null,
   "id": "6f72b7a7",
   "metadata": {
    "slideshow": {
     "slide_type": "subslide"
    }
   },
   "outputs": [],
   "source": [
    "from cinnamon.configuration import Configuration\n",
    "\n",
    "class DataLoaderConfig(Configuration):\n",
    "\n",
    "   @classmethod\n",
    "   def default(cls):\n",
    "       config = super().default()\n",
    "       config.add(name='folder_name',\n",
    "                  type_hint=str,\n",
    "                  variants=['*folder_name1*', '*folder_name2*', ...],\n",
    "                  description=\"Folder where to look for data files.\")\n",
    "    return config"
   ]
  },
  {
   "cell_type": "code",
   "execution_count": null,
   "id": "d5265b34",
   "metadata": {
    "slideshow": {
     "slide_type": "subslide"
    }
   },
   "outputs": [],
   "source": [
    "from cinnamon.component import Component\n",
    "\n",
    "class DataLoader(Component):\n",
    "    \n",
    "    def __init__(self, folder_name):\n",
    "        self.folder_name = folder_name\n",
    "        \n",
    "    def load(...):\n",
    "        data = read_from_file(folder_name=self.folder_name)\n",
    "        return data"
   ]
  },
  {
   "cell_type": "markdown",
   "id": "0498b20c",
   "metadata": {
    "slideshow": {
     "slide_type": "fragment"
    }
   },
   "source": [
    "Cinnamon allows high-level configuration definition (constraints, type-checking, description, variants, etc...)"
   ]
  },
  {
   "cell_type": "markdown",
   "id": "f8b0ae69",
   "metadata": {
    "slideshow": {
     "slide_type": "subslide"
    }
   },
   "source": [
    "To quickly load any instance of our data loader, we have **two steps**"
   ]
  },
  {
   "cell_type": "markdown",
   "id": "60830275",
   "metadata": {
    "slideshow": {
     "slide_type": "subslide"
    }
   },
   "source": [
    "### Register\n",
    "\n",
    "Register the configuration via a **registration key** as <name, tags, namespace> tuple."
   ]
  },
  {
   "cell_type": "code",
   "execution_count": null,
   "id": "bde3f659",
   "metadata": {
    "slideshow": {
     "slide_type": "fragment"
    }
   },
   "outputs": [],
   "source": [
    "Registry.register_configuration(config_class=DataLoaderConfig,\n",
    "                                component_class=DataLoader,\n",
    "                                name='data_loader',\n",
    "                                tags={'example'},\n",
    "                                namespace='showcase')"
   ]
  },
  {
   "cell_type": "markdown",
   "id": "83c2cd5d",
   "metadata": {
    "slideshow": {
     "slide_type": "subslide"
    }
   },
   "source": [
    "### Build\n",
    "\n",
    "Build the ``DataLoader`` via the used **registration key**."
   ]
  },
  {
   "cell_type": "code",
   "execution_count": null,
   "id": "4715d3b3",
   "metadata": {
    "slideshow": {
     "slide_type": "fragment"
    }
   },
   "outputs": [],
   "source": [
    "data_loader = DataLoader.build_component(name='data_loader',\n",
    "                                        tags={'example'},\n",
    "                                        namespace='showcase')\n",
    "\n",
    "variant = DataLoader.build_component(name='data_loader',\n",
    "                                     tags={'example', \n",
    "                                           'folder_name=*folder_name1*'},\n",
    "                                     namespace='showcase')"
   ]
  },
  {
   "cell_type": "markdown",
   "id": "abf6f0b7",
   "metadata": {
    "slideshow": {
     "slide_type": "slide"
    }
   },
   "source": [
    "## Overview\n",
    "\n",
    "That's it! This is all you need to use ``cinnamon``!"
   ]
  },
  {
   "cell_type": "markdown",
   "id": "b48a159b",
   "metadata": {
    "slideshow": {
     "slide_type": "fragment"
    }
   },
   "source": [
    "Let's talk more about the details.."
   ]
  },
  {
   "cell_type": "markdown",
   "id": "868f4c03",
   "metadata": {
    "slideshow": {
     "slide_type": "subslide"
    }
   },
   "source": [
    "### Inspiration\n",
    "\n",
    "I remembered a cool feature of some library (*I think it was allenlp...*) \n",
    "\n",
    "- You could write your model and **register it** so that you could run your experiment by commandline (*aaargh...*)"
   ]
  },
  {
   "cell_type": "markdown",
   "id": "84ac0924",
   "metadata": {
    "slideshow": {
     "slide_type": "fragment"
    }
   },
   "source": [
    "This feature led me to the following conclusions:"
   ]
  },
  {
   "cell_type": "markdown",
   "id": "a6773abb",
   "metadata": {
    "slideshow": {
     "slide_type": "fragment"
    }
   },
   "source": [
    "1. **Separate** configuration from logic\n",
    "2. **Register** configuration and logic separately to **quickly use them later** and organize your working environment"
   ]
  },
  {
   "cell_type": "markdown",
   "id": "eeb4bf82",
   "metadata": {
    "slideshow": {
     "slide_type": "fragment"
    }
   },
   "source": [
    "$\\rightarrow$ Formally, I denote the configuration as ``Configuration`` and the logic as ``Component``."
   ]
  },
  {
   "cell_type": "markdown",
   "id": "28ceec2c",
   "metadata": {
    "slideshow": {
     "slide_type": "slide"
    }
   },
   "source": [
    "### A visual depiction\n",
    "\n",
    "A ``Component`` **is built** via its ``Configuration``.\n",
    "\n",
    "<center>\n",
    "<div>\n",
    "<img src=\"../Images/Lecture-8/conf_and_comp.png\" width=\"1200\"/>\n",
    "</div>\n",
    "</center>"
   ]
  },
  {
   "cell_type": "markdown",
   "id": "9881b2c4",
   "metadata": {
    "slideshow": {
     "slide_type": "subslide"
    }
   },
   "source": [
    "## Binding\n",
    "\n",
    "We **bind** the ``Configuration`` to its ``Component``.\n",
    "\n",
    "<center>\n",
    "<div>\n",
    "<img src=\"../Images/Lecture-8/conf_and_comp_bound.png\" width=\"1200\"/>\n",
    "</div>\n",
    "</center>"
   ]
  },
  {
   "cell_type": "markdown",
   "id": "0c929cbc",
   "metadata": {
    "slideshow": {
     "slide_type": "subslide"
    }
   },
   "source": [
    "## Registration\n",
    "\n",
    "We **register** the ``Configuration`` to remember it.\n",
    "\n",
    "<center>\n",
    "<div>\n",
    "<img src=\"../Images/Lecture-8/registration.png\" width=\"1000\"/>\n",
    "</div>\n",
    "</center>"
   ]
  },
  {
   "cell_type": "markdown",
   "id": "7d38f836",
   "metadata": {
    "slideshow": {
     "slide_type": "subslide"
    }
   },
   "source": [
    "## Registration (cont'd)\n",
    "\n",
    "To remember a ``Configuration`` we simply define a ``RegistrationKey`` (*a compound dictionary key*)\n",
    "\n",
    "<br/>\n",
    "\n",
    "<center>\n",
    "<div>\n",
    "<img src=\"../Images/Lecture-8/registration_with_key.png\" width=\"1200\"/>\n",
    "</div>\n",
    "</center>"
   ]
  },
  {
   "cell_type": "markdown",
   "id": "bbf28432",
   "metadata": {
    "slideshow": {
     "slide_type": "subslide"
    }
   },
   "source": [
    "### To sum up\n",
    "\n",
    "- We **define** our ``Component``\n",
    "- We **define** its corresponding ``Configuration`` (even more than one)\n",
    "- We **register** the ``Configuration`` to the ``Registry`` with a ``RegistrationKey``\n",
    "- We **bind** the ``Configuration`` to ``Component`` by using the configuration ``RegistrationKey``"
   ]
  },
  {
   "cell_type": "markdown",
   "id": "71d75014",
   "metadata": {
    "slideshow": {
     "slide_type": "fragment"
    }
   },
   "source": [
    "Thus, the ``RegistrationKey`` of our ``Configuration`` allows to:\n",
    "- **Retrieve** the registered ``Configuration`` from the ``Registry``\n",
    "- **Retrieve** the ``Component`` that our registered ``Configuration`` is bounded to"
   ]
  },
  {
   "cell_type": "markdown",
   "id": "051e77e4",
   "metadata": {
    "slideshow": {
     "slide_type": "subslide"
    }
   },
   "source": [
    "### That's it! If you get this, you get 99% of cinnamon!"
   ]
  },
  {
   "cell_type": "markdown",
   "id": "3665f367",
   "metadata": {
    "slideshow": {
     "slide_type": "fragment"
    }
   },
   "source": [
    "*Happy weekend :)!*"
   ]
  },
  {
   "cell_type": "markdown",
   "id": "c897011b",
   "metadata": {
    "slideshow": {
     "slide_type": "subslide"
    }
   },
   "source": [
    "## Configuration and Component"
   ]
  },
  {
   "cell_type": "markdown",
   "id": "ec9010b2",
   "metadata": {
    "slideshow": {
     "slide_type": "subslide"
    }
   },
   "source": [
    "### Configuration parameters\n",
    "\n",
    "A ``Configuration`` is comprised of ``Parameter`` objects\n",
    "\n",
    "<center>\n",
    "<div>\n",
    "<img src=\"../Images/Lecture-8/configuration.png\" width=\"1200\"/>\n",
    "</div>\n",
    "</center>"
   ]
  },
  {
   "cell_type": "markdown",
   "id": "858e34b9",
   "metadata": {
    "slideshow": {
     "slide_type": "subslide"
    }
   },
   "source": [
    "A ``Parameter`` is essentially a wrapper for each attribute of ``Configuration``"
   ]
  },
  {
   "cell_type": "code",
   "execution_count": null,
   "id": "e544c99d",
   "metadata": {
    "slideshow": {
     "slide_type": "subslide"
    }
   },
   "outputs": [],
   "source": [
    "from cinnamon.configuration import Configuration\n",
    "\n",
    "class DataLoaderConfig(Configuration):\n",
    "\n",
    "   @classmethod\n",
    "   def default(cls):\n",
    "       config = super().default()\n",
    "       # This is a Parameter behidn the curtains...\n",
    "       config.add(name='folder_name',\n",
    "                  type_hint=str,\n",
    "                  variants=['*folder_name1*', '*folder_name2*', ...],\n",
    "                  description=\"Folder where to look for data files.\")\n",
    "    return config"
   ]
  },
  {
   "cell_type": "markdown",
   "id": "82950427",
   "metadata": {
    "slideshow": {
     "slide_type": "subslide"
    }
   },
   "source": [
    "### Why ``Parameter``?\n",
    "\n",
    "Essentially, ``Parameter`` is a useful wrapper for storing additional metadata\n",
    "\n",
    "- type hints\n",
    "- descriptions\n",
    "- allowed value range\n",
    "- possible variants of interest\n",
    "- optional tags for quickly retrieving a certain subset of parameters\n",
    "- ..."
   ]
  },
  {
   "cell_type": "markdown",
   "id": "b557a7eb",
   "metadata": {
    "slideshow": {
     "slide_type": "subslide"
    }
   },
   "source": [
    "### Configuration class"
   ]
  },
  {
   "cell_type": "code",
   "execution_count": null,
   "id": "16f88ad6",
   "metadata": {
    "slideshow": {
     "slide_type": "fragment"
    }
   },
   "outputs": [],
   "source": [
    "class Configuration:\n",
    "    \n",
    "    def add(self, ...):\n",
    "        ...\n",
    "    \n",
    "    def add_condition(self, ...):\n",
    "        ...\n",
    "        \n",
    "    def validate(self, ...):\n",
    "        ...\n",
    "        \n",
    "    def delta_copy(self, **kwargs):\n",
    "        ...\n",
    "        \n",
    "    @classmethod\n",
    "    def default(cls):\n",
    "        ..."
   ]
  },
  {
   "cell_type": "markdown",
   "id": "9cebd7a9",
   "metadata": {
    "slideshow": {
     "slide_type": "subslide"
    }
   },
   "source": [
    "### What does a ``Configuration`` do?\n",
    "\n",
    "A ``Configuration`` is essentially an extension of a Python dictionary\n",
    "\n",
    "- You can add ``Parameter``\n",
    "- You can add **conditions** (i.e., callable functions) relating multiple ``Parameter``\n",
    "- You can ``validate()`` your ``Configuration``: running all conditions to check for errors\n",
    "- You can **quickly search** for ``Parameter``\n",
    "- You can **quickly get a delta copy** of your ``Configuration`` via a simple key-value dictionary\n",
    "- You can **specify the template** (``default()``) of your ``Configuration`` $\\rightarrow$ a readable and detailed specification!\n",
    "- Lastly, it is a Python object, you can define ``Configuration`` subclasses via **inheritance**!"
   ]
  },
  {
   "cell_type": "markdown",
   "id": "cc4e7bc2",
   "metadata": {
    "slideshow": {
     "slide_type": "subslide"
    }
   },
   "source": [
    "### An example"
   ]
  },
  {
   "cell_type": "code",
   "execution_count": null,
   "id": "9854aeab",
   "metadata": {
    "slideshow": {
     "slide_type": "fragment"
    }
   },
   "outputs": [],
   "source": [
    "class ConfigA(Configuration):\n",
    "\n",
    "    @classmethod\n",
    "    def get_default(\n",
    "            cls\n",
    "    ) -> ConfigA:\n",
    "        config = super().default()\n",
    "\n",
    "        config.add(name='x',\n",
    "                   value=True,\n",
    "                   type_hint=bool)\n",
    "        config.add(name='y',\n",
    "                   value=True,\n",
    "                   type_hint=bool)\n",
    "\n",
    "        config.add_condition(condition=lambda conf: conf.x == conf.y,\n",
    "                             name='equal_bools')\n",
    "\n",
    "        return config"
   ]
  },
  {
   "cell_type": "markdown",
   "id": "a2dbade9",
   "metadata": {
    "slideshow": {
     "slide_type": "subslide"
    }
   },
   "source": [
    "### Nesting\n",
    "\n",
    "A ``Configuration`` can also include another (or multiple) ``Configuration``."
   ]
  },
  {
   "cell_type": "code",
   "execution_count": null,
   "id": "c3e14a3e",
   "metadata": {
    "slideshow": {
     "slide_type": "fragment"
    }
   },
   "outputs": [],
   "source": [
    "class ParentConfig(Configuration):\n",
    "\n",
    "    @classmethod\n",
    "    def default(\n",
    "            cls\n",
    "    ):\n",
    "        config = super().default()\n",
    "\n",
    "        config.add(name='x',\n",
    "                   value=True,\n",
    "                   type_hint=bool)\n",
    "        config.add(name='y',\n",
    "                   value=False,\n",
    "                   type_hint=bool)\n",
    "        # This assumes that ConfigA is registered\n",
    "        config.add(name='child',\n",
    "                   value=RegistrationKey(name='confing',\n",
    "                                         namespace='testing')\n",
    "                   )\n",
    "        return config\n",
    "    \n",
    "class ConfigA(Configuration):\n",
    "    ..."
   ]
  },
  {
   "cell_type": "markdown",
   "id": "89e025ef",
   "metadata": {
    "slideshow": {
     "slide_type": "subslide"
    }
   },
   "source": [
    "This allows us to define complex ``Component`` like\n",
    "\n",
    "- A data-loading pipeline\n",
    "- A data pre-processing pipeline\n",
    "- A training routine\n",
    "- ..."
   ]
  },
  {
   "cell_type": "markdown",
   "id": "cb5fa1ad",
   "metadata": {
    "slideshow": {
     "slide_type": "subslide"
    }
   },
   "source": [
    "### An example"
   ]
  },
  {
   "cell_type": "code",
   "execution_count": null,
   "id": "c44ac510",
   "metadata": {
    "slideshow": {
     "slide_type": "fragment"
    }
   },
   "outputs": [],
   "source": [
    "class ProcessorPipelineConfig(Configuration):\n",
    "\n",
    "    @classmethod\n",
    "    def default(\n",
    "            cls\n",
    "    ):\n",
    "        config = super().default()\n",
    "\n",
    "        config.add(name='processors',\n",
    "                   type_hint=List[RegistrationKey],\n",
    "                   description='Processors to be executed',\n",
    "                   )\n",
    "\n",
    "        return config"
   ]
  },
  {
   "cell_type": "code",
   "execution_count": null,
   "id": "166a24a1",
   "metadata": {
    "slideshow": {
     "slide_type": "subslide"
    }
   },
   "outputs": [],
   "source": [
    "class Processor(Component):\n",
    "    \n",
    "    def run(self,\n",
    "            data: Any,\n",
    "            is_training_data: bool = False):\n",
    "        ...\n",
    "\n",
    "class ProcessorPipeline(Component):\n",
    "    \n",
    "    def __init__(\n",
    "        self,\n",
    "        processors\n",
    "    ):\n",
    "        self.processors = processors\n",
    "    \n",
    "    def run(\n",
    "            self,\n",
    "            data: Any,\n",
    "            is_training_data: bool = False\n",
    "    ):\n",
    "        for processor in self.processors:\n",
    "            data = processor.run(data=data,\n",
    "                                 is_training_data=is_training_data)\n",
    "        return data"
   ]
  },
  {
   "cell_type": "markdown",
   "id": "24cd51b7",
   "metadata": {
    "slideshow": {
     "slide_type": "subslide"
    }
   },
   "source": [
    "### Variants\n",
    "\n",
    "In many cases, you may need **multiple** ``Configuration`` instances to define different scenarios."
   ]
  },
  {
   "cell_type": "markdown",
   "id": "aec04128",
   "metadata": {
    "slideshow": {
     "slide_type": "fragment"
    }
   },
   "source": [
    "$\\rightarrow$ we can specify ``Configuration`` **variants** easily!"
   ]
  },
  {
   "cell_type": "markdown",
   "id": "8545f76f",
   "metadata": {
    "slideshow": {
     "slide_type": "subslide"
    }
   },
   "source": [
    "### ``Parameter`` level variants\n",
    "\n",
    "Simply list possible values via ``Parameter.variants`` field."
   ]
  },
  {
   "cell_type": "code",
   "execution_count": null,
   "id": "0c8a8f9a",
   "metadata": {
    "slideshow": {
     "slide_type": "fragment"
    }
   },
   "outputs": [],
   "source": [
    "class ConfigA(Configuration):\n",
    "\n",
    "    @classmethod\n",
    "    def default(\n",
    "            cls\n",
    "    ) -> ConfigA:\n",
    "        config = super().default()\n",
    "\n",
    "        config.add(name='x',\n",
    "                   value=True,\n",
    "                   type_hint=bool,\n",
    "                   variants=[False, True])    # <---\n",
    "        config.add(name='y',\n",
    "                   value=True,\n",
    "                   type_hint=bool,\n",
    "                   variants=[False, True])    # <---\n",
    "\n",
    "        config.add_condition(condition=lambda conf: conf.x == conf.y)\n",
    "\n",
    "        return config"
   ]
  },
  {
   "cell_type": "markdown",
   "id": "ce2a88ab",
   "metadata": {
    "slideshow": {
     "slide_type": "subslide"
    }
   },
   "source": [
    "### Configuration level variants\n",
    "\n",
    "We can explicitly define new ``Configuration`` via the ``register_method`` decorator."
   ]
  },
  {
   "cell_type": "code",
   "execution_count": null,
   "id": "13e75a89",
   "metadata": {
    "slideshow": {
     "slide_type": "subslide"
    }
   },
   "outputs": [],
   "source": [
    "class ConfigA(Configuration):\n",
    "\n",
    "    @classmethod\n",
    "    def default(\n",
    "            cls\n",
    "    ) -> ConfigA:\n",
    "        config = super().default()\n",
    "\n",
    "        config.add(name='x',\n",
    "                   value=True,\n",
    "                   type_hint=bool)\n",
    "        config.add(name='y',\n",
    "                   value=True,\n",
    "                   type_hint=bool)\n",
    "\n",
    "        config.add_condition(condition=lambda conf: conf.x == conf.y)\n",
    "\n",
    "        return config\n",
    "    \n",
    "    @classmethod\n",
    "    @register_method(name='config',\n",
    "                     namespace='showcase',\n",
    "                     tags={'variant1'})\n",
    "    def variant1(cls):\n",
    "        config = cls.default()\n",
    "        config.x = False\n",
    "        config.y = False\n",
    "        return config"
   ]
  },
  {
   "cell_type": "markdown",
   "id": "14d4643d",
   "metadata": {
    "slideshow": {
     "slide_type": "subslide"
    }
   },
   "source": [
    "### Variants and Nesting\n",
    "\n",
    "Variants are a powerful tool since they are **compatible** with ``Configuration`` nesting!"
   ]
  },
  {
   "cell_type": "markdown",
   "id": "f355b5a3",
   "metadata": {
    "slideshow": {
     "slide_type": "fragment"
    }
   },
   "source": [
    "Consider your complex pipeline: data-loading, pre-processing, model training, etc..."
   ]
  },
  {
   "cell_type": "markdown",
   "id": "d5d88f95",
   "metadata": {
    "slideshow": {
     "slide_type": "fragment"
    }
   },
   "source": [
    "- You can write it as a combination of ``Configuration`` and ``Component`` classes\n",
    "- You can define variants\n",
    "- You can specify conditions $\\rightarrow$ only **valid variants** are considered!\n",
    "- You can register all possible valid variant combinations in one shot!"
   ]
  },
  {
   "cell_type": "markdown",
   "id": "19550423",
   "metadata": {
    "slideshow": {
     "slide_type": "subslide"
    }
   },
   "source": [
    "## An Example"
   ]
  },
  {
   "cell_type": "code",
   "execution_count": null,
   "id": "9bff4c9c",
   "metadata": {
    "slideshow": {
     "slide_type": "fragment"
    }
   },
   "outputs": [],
   "source": [
    "class ConfigA(Configuration):\n",
    "\n",
    "    @classmethod\n",
    "    def default(\n",
    "            cls\n",
    "    ) -> ConfigA:\n",
    "        config = super().default()\n",
    "        config.add(name='param_1',\n",
    "                   value=True,\n",
    "                   variants=[False, True])\n",
    "        config.add(name='child', \n",
    "                   value=RegistrationKey(name='config_b',\n",
    "                                         namespace='testing'))\n",
    "        return config"
   ]
  },
  {
   "cell_type": "code",
   "execution_count": null,
   "id": "736d694d",
   "metadata": {
    "slideshow": {
     "slide_type": "subslide"
    }
   },
   "outputs": [],
   "source": [
    "class ConfigB(Configuration):\n",
    "\n",
    "    @classmethod\n",
    "    def default(\n",
    "            cls\n",
    "    ) -> ConfigB:\n",
    "        config = super().default()\n",
    "        config.add(name='param_1', value=1, variants=[1, 2])\n",
    "        config.add(name='child', \n",
    "                   value=RegistrationKey(name='config_c',\n",
    "                                         namespace='testing'))\n",
    "        return config"
   ]
  },
  {
   "cell_type": "code",
   "execution_count": null,
   "id": "1e5a7e4b",
   "metadata": {
    "slideshow": {
     "slide_type": "subslide"
    }
   },
   "outputs": [],
   "source": [
    "class ConfigC(Configuration):\n",
    "\n",
    "    @classmethod\n",
    "    def default(\n",
    "            cls\n",
    "    ) -> ConfigC:\n",
    "        config = super().default()\n",
    "        config.add(name='param_1', value=False, variants=[False, True])\n",
    "        return config"
   ]
  },
  {
   "cell_type": "code",
   "execution_count": null,
   "id": "421b29df",
   "metadata": {
    "slideshow": {
     "slide_type": "subslide"
    }
   },
   "outputs": [],
   "source": [
    "if __name__ == '__main__':\n",
    "    Registry.register_configuration(config_class=ConfigB,\n",
    "                                    name='config_b',\n",
    "                                    namespace='testing')\n",
    "    Registry.register_configuration(configuration_class=ConfigC,\n",
    "                                    name='config_c',\n",
    "                                    namespace='testing')\n",
    "    # We'll see later what this does...\n",
    "    valid_keys, invalid_keys = Registry.dag_resolution()\n",
    "    print(valid_keys)"
   ]
  },
  {
   "cell_type": "markdown",
   "id": "c41925ee",
   "metadata": {
    "slideshow": {
     "slide_type": "fragment"
    }
   },
   "source": [
    "```python\n",
    "name:config_a--tags:['child.child.param_1=False', 'child.param_1=1', 'param_1=False']--namespace:testing\n",
    "name:config_a--tags:['child.child.param_1=False', 'child.param_1=1', 'param_1=True']--namespace:testing\n",
    "name:config_a--tags:['child.child.param_1=False', 'child.param_1=2', 'param_1=False']--namespace:testing\n",
    "name:config_a--tags:['child.child.param_1=False', 'child.param_1=2', 'param_1=True']--namespace:testing\n",
    "name:config_a--tags:['child.child.param_1=True', 'child.param_1=1', 'param_1=False']--namespace:testing\n",
    "name:config_a--tags:['child.child.param_1=True', 'child.param_1=1', 'param_1=True']--namespace:testing\n",
    "name:config_a--tags:['child.child.param_1=True', 'child.param_1=2', 'param_1=False']--namespace:testing\n",
    "name:config_a--tags:['child.child.param_1=True', 'child.param_1=2', 'param_1=True']--namespace:testing\n",
    "```"
   ]
  },
  {
   "cell_type": "markdown",
   "id": "d361f666",
   "metadata": {
    "slideshow": {
     "slide_type": "subslide"
    }
   },
   "source": [
    "### Component\n",
    "\n",
    "The ``Component`` is a simple interface that **doesn't define** any specific **behaviour**\n",
    "\n",
    "- I really like freedom of choice\n",
    "- You can define your preferred APIs since **you decide** how ``Component`` are nested"
   ]
  },
  {
   "cell_type": "code",
   "execution_count": null,
   "id": "54b34068",
   "metadata": {
    "slideshow": {
     "slide_type": "subslide"
    }
   },
   "outputs": [],
   "source": [
    "class Component:\n",
    "        \n",
    "    @classmethod\n",
    "    def build_component(cls, ...):\n",
    "        ..."
   ]
  },
  {
   "cell_type": "markdown",
   "id": "e2082d09",
   "metadata": {
    "slideshow": {
     "slide_type": "subslide"
    }
   },
   "source": [
    "### That's all you have to know about ``Component``!\n",
    "\n",
    "I **don't** want to setup **yet another restrictive** Python library with all its interfaces...\n",
    "\n",
    "- Define any kind of ``Component`` you want\n",
    "- Wrap existing code logic into ``Component``\n",
    "- Simply re-map your configuration to ``Configuration``\n",
    "- Done!"
   ]
  },
  {
   "cell_type": "markdown",
   "id": "843485b8",
   "metadata": {
    "slideshow": {
     "slide_type": "slide"
    }
   },
   "source": [
    "## Registration\n",
    "\n",
    "*How does it work?*"
   ]
  },
  {
   "cell_type": "markdown",
   "id": "0b5824ed",
   "metadata": {
    "slideshow": {
     "slide_type": "subslide"
    }
   },
   "source": [
    "### Registration format\n",
    "\n",
    "Right now, registration has **very few** requirements and dynamics\n",
    "\n",
    "- The ``Registry`` is yet a simple Python dictionary: ``RegistrationKey: ConfigurationInfo``\n",
    "- You need to **manually register** and **bind** ``Configuration`` via simple APIs\n",
    "- You need to wrap configurations methods via ``register_method`` or custom functions via ``register``"
   ]
  },
  {
   "cell_type": "markdown",
   "id": "13531ec4",
   "metadata": {
    "slideshow": {
     "slide_type": "subslide"
    }
   },
   "source": [
    "## An example\n",
    "\n",
    "Suppose the following **recommended** code organization:\n",
    "\n",
    "```\n",
    "    project_folder\n",
    "        |\n",
    "        |__ configurations\n",
    "        |        |__ __init__.py\n",
    "        |        |__ data_loader.py\n",
    "        |\n",
    "        |__ components\n",
    "        |       |__ __init__.py\n",
    "        |       |__ data_loader.py\n",
    "        |\n",
    "        |__ my_script.py\n",
    "```"
   ]
  },
  {
   "cell_type": "code",
   "execution_count": null,
   "id": "40a30a62",
   "metadata": {
    "slideshow": {
     "slide_type": "subslide"
    }
   },
   "outputs": [],
   "source": [
    "class ExampleLoaderConfig:\n",
    "\n",
    "    # The registration is automatically done by the Registry!\n",
    "    @classmethod\n",
    "    @register_method(name='data_loader',\n",
    "                     tags={'custom'},\n",
    "                     namespace='showcase',\n",
    "                     component_class=ExampleLoader)\n",
    "    def default(\n",
    "            cls\n",
    "    ):\n",
    "        config = super().default()\n",
    "\n",
    "        config.add(name='data_url',\n",
    "                   value='http://ai.stanford.edu/...',\n",
    "                   description='URL to dataset archive file')\n",
    "        config.add(name='download_directory',\n",
    "                   value='imdb',\n",
    "                   description='Folder the archive file is downloaded')\n",
    "        config.add(name='download_filename',\n",
    "                   value='imdb.tar.gz'\n",
    "                   description='Name of the archive file')\n",
    "        return config"
   ]
  },
  {
   "cell_type": "code",
   "execution_count": null,
   "id": "ef104561",
   "metadata": {
    "slideshow": {
     "slide_type": "subslide"
    }
   },
   "outputs": [],
   "source": [
    "class ExampleLoaderConfig:\n",
    "\n",
    "    # The registration is automatically done by the Registry!\n",
    "    @classmethod\n",
    "    def default(\n",
    "            cls\n",
    "    ):\n",
    "        config = super().default()\n",
    "\n",
    "        config.add(name='data_url',\n",
    "                   value='http://ai.stanford.edu/...',\n",
    "                   description='URL to dataset archive file')\n",
    "        config.add(name='download_directory',\n",
    "                   value='imdb',\n",
    "                   description='Folder the archive file is downloaded')\n",
    "        config.add(name='download_filename',\n",
    "                   value='imdb.tar.gz'\n",
    "                   description='Name of the archive file')\n",
    "        return config\n",
    "    \n",
    "@register\n",
    "def register_loaders():\n",
    "    Registry.register_configuration(name='data_loader',\n",
    "                                    tags={'custom'},\n",
    "                                    namespace='showcase',\n",
    "                                    # binding!\n",
    "                                    component_class=ExampleLoader)"
   ]
  },
  {
   "cell_type": "markdown",
   "id": "98a30bdc",
   "metadata": {
    "slideshow": {
     "slide_type": "subslide"
    }
   },
   "source": [
    "## How does the Registration work?\n",
    "\n",
    "- You register configurations via shown APIs (``register_method``, ``register``, ``Registry.register_configuration``)\n",
    "- The ``Registry`` takes notes of all registration APIs and progressively builds a dependency DAG\n",
    "- The DAG allows to **dynamically** resolve conflicts\n",
    "- The DAG allows for **dynamically** expanding configuration variants\n",
    "- The DAG lifts from registration **ordering**!"
   ]
  },
  {
   "cell_type": "markdown",
   "id": "85d04e53",
   "metadata": {
    "slideshow": {
     "slide_type": "subslide"
    }
   },
   "source": [
    "### DAG Resolution\n",
    "\n",
    "Once we are done with registration, we issue the resolution of the DAG to check its correctness"
   ]
  },
  {
   "cell_type": "markdown",
   "id": "373b9cd6",
   "metadata": {
    "slideshow": {
     "slide_type": "fragment"
    }
   },
   "source": [
    "valid_keys, invalid_keys = Registry.dag_resolution()"
   ]
  },
  {
   "cell_type": "markdown",
   "id": "193db6f0",
   "metadata": {
    "slideshow": {
     "slide_type": "subslide"
    }
   },
   "source": [
    "### Configuration validation\n",
    "\n",
    "DAG resolution also validates ``Configuration`` instances to prune invalid configurations!"
   ]
  },
  {
   "cell_type": "markdown",
   "id": "fdfbb45f",
   "metadata": {
    "slideshow": {
     "slide_type": "subslide"
    }
   },
   "source": [
    "### Commands\n",
    "\n",
    "That's **all you need to setup** since ``cinnamon`` offers some **high-level APIs** to deal with registrations"
   ]
  },
  {
   "cell_type": "code",
   "execution_count": null,
   "id": "2dfc6125",
   "metadata": {
    "slideshow": {
     "slide_type": "fragment"
    }
   },
   "outputs": [],
   "source": [
    "# my_script.py\n",
    "from pathlib import Path\n",
    "\n",
    "from cinnamon import Registry\n",
    "\n",
    "if __name__ == '__main__':\n",
    "    directory = Path(__file__).parent.parent.resolve()\n",
    "    \n",
    "    # This calls DAG resolution\n",
    "    Registry.setup(directory=directory)\n",
    "    \n",
    "    # The rest of your code!\n",
    "    loader = CustomLoader.build_component(name='data_loader',\n",
    "                                          tags={'custom'},\n",
    "                                          namespace='showcase')\n",
    "    ..."
   ]
  },
  {
   "cell_type": "markdown",
   "id": "df8e4fbd",
   "metadata": {
    "slideshow": {
     "slide_type": "subslide"
    }
   },
   "source": [
    "#### Behind the curtains\n",
    "\n",
    "The ``Registry`` is looking for all registration APIs below ``directory``"
   ]
  },
  {
   "cell_type": "markdown",
   "id": "529b5f80",
   "metadata": {
    "slideshow": {
     "slide_type": "subslide"
    }
   },
   "source": [
    "### External directories and namespaces\n",
    "\n",
    "What if you want to use code from another project?"
   ]
  },
  {
   "cell_type": "code",
   "execution_count": null,
   "id": "2bd2907b",
   "metadata": {
    "slideshow": {
     "slide_type": "fragment"
    }
   },
   "outputs": [],
   "source": [
    "# my_script.py\n",
    "from pathlib import Path\n",
    "\n",
    "from cinnamon import Registry\n",
    "\n",
    "if __name__ == '__main__':\n",
    "    directory = Path(__file__).parent.parent.resolve()\n",
    "    external_dir = Path('path', 'to', 'external', 'dir')\n",
    "    \n",
    "    # This calls DAG resolution\n",
    "    Registry.setup(directory=directory, \n",
    "                   external_directories=[external_dir])\n",
    "    \n",
    "    # The rest of your code!\n",
    "    loader = Registry.build_component(name='data_loader',\n",
    "                                      namespace='external')\n",
    "    ..."
   ]
  },
  {
   "cell_type": "markdown",
   "id": "fd89c863",
   "metadata": {
    "slideshow": {
     "slide_type": "subslide"
    }
   },
   "source": [
    "#### Limitations\n",
    "\n",
    "Registration is **always done** at **runtime**!\n",
    "\n",
    "Thus, **always** begin your script with ``setup(...)``"
   ]
  },
  {
   "cell_type": "markdown",
   "id": "d2ba3777",
   "metadata": {
    "slideshow": {
     "slide_type": "slide"
    }
   },
   "source": [
    "## How to check dynamically created RegistrationKeys?\n",
    "\n",
    "``cinnamon`` also provides a few commands for checking keys and running components via command line!"
   ]
  },
  {
   "cell_type": "markdown",
   "id": "7d8734a6",
   "metadata": {
    "slideshow": {
     "slide_type": "subslide"
    }
   },
   "source": [
    "### cmn-setup\n",
    "\n",
    "The ``cmn-setup`` command is the console script version of ``Registry.setup()``."
   ]
  },
  {
   "cell_type": "code",
   "execution_count": null,
   "id": "a04c032c",
   "metadata": {
    "slideshow": {
     "slide_type": "fragment"
    }
   },
   "outputs": [],
   "source": [
    "cmn-setup --dir *main-directory* --ext *ext-directory-1* ..."
   ]
  },
  {
   "cell_type": "markdown",
   "id": "26d9059b",
   "metadata": {
    "slideshow": {
     "slide_type": "subslide"
    }
   },
   "source": [
    "<center>\n",
    "<div>\n",
    "<img src=\"../Images/Lecture-8/cmn-setup.png\" width=\"1400\"/>\n",
    "</div>\n",
    "</center>"
   ]
  },
  {
   "cell_type": "markdown",
   "id": "13bb51dc",
   "metadata": {
    "slideshow": {
     "slide_type": "subslide"
    }
   },
   "source": [
    "You also get all valid and invalid configuration keys stored in .csv files for better readability."
   ]
  },
  {
   "cell_type": "markdown",
   "id": "5c3b6604",
   "metadata": {
    "slideshow": {
     "slide_type": "subslide"
    }
   },
   "source": [
    "### cmn-run\n",
    "\n",
    "The ``cmn-run`` command allows building and executing ``Component`` given a ``RegistrationKey``."
   ]
  },
  {
   "cell_type": "code",
   "execution_count": null,
   "id": "5d93a5ff",
   "metadata": {
    "slideshow": {
     "slide_type": "fragment"
    }
   },
   "outputs": [],
   "source": [
    "class CustomRunnable(cinnamon.component.RunnableComponent):\n",
    "\n",
    "    def __init__(self, x, y):\n",
    "        self.x = x\n",
    "        self.y = y\n",
    "\n",
    "    def run(\n",
    "        config: cinnamon.configuration.Configuration\n",
    "    ):\n",
    "        print(f\"Running this component with x={x} and y={y}\")\n",
    "        print(f'The configuration of the component is {config})"
   ]
  },
  {
   "cell_type": "markdown",
   "id": "e7a9fb44",
   "metadata": {
    "slideshow": {
     "slide_type": "subslide"
    }
   },
   "source": [
    "<center>\n",
    "<div>\n",
    "<img src=\"../Images/Lecture-8/cmn-run.png\" width=\"1400\"/>\n",
    "</div>\n",
    "</center>"
   ]
  },
  {
   "cell_type": "markdown",
   "id": "c9bef773",
   "metadata": {
    "slideshow": {
     "slide_type": "slide"
    }
   },
   "source": [
    "## Training a SVM model with deasy-learning\n",
    "\n",
    "Enough showcasing! Let's see some practical example (*still a showcase ehehe...*)\n",
    "\n",
    "#### Steps\n",
    "\n",
    "- Data loading: IMDB dataset\n",
    "- Preprocessor pipeline: some text normalization and tf-idf encoding\n",
    "- Model: a SVM\n",
    "- Routine: a train and test routine"
   ]
  },
  {
   "cell_type": "markdown",
   "id": "9e6d14c9",
   "metadata": {
    "slideshow": {
     "slide_type": "subslide"
    }
   },
   "source": [
    "### Data loading (Component)\n",
    "\n",
    "Let's define a base ``DataLoader`` component."
   ]
  },
  {
   "cell_type": "code",
   "execution_count": null,
   "id": "644e9edf",
   "metadata": {
    "slideshow": {
     "slide_type": "subslide"
    }
   },
   "outputs": [],
   "source": [
    "class IMBDLoader(RunnableComponent):\n",
    "    \n",
    "    def __init__(self, \n",
    "                 download_directory: Path,\n",
    "                 download_filename: str,\n",
    "                 dataset_name: str,\n",
    "                 download_url: str):\n",
    "        ...\n",
    "        \n",
    "    def download(self, ...):\n",
    "        ...\n",
    "        \n",
    "    def load_data(self, ...) -> pd.DataFrame:\n",
    "        ...\n",
    "        \n",
    "    def get_splits(self, ...):\n",
    "        ...\n",
    "        \n",
    "    def run(...):\n",
    "        return self.load_data()"
   ]
  },
  {
   "cell_type": "code",
   "execution_count": null,
   "id": "278f478b",
   "metadata": {
    "slideshow": {
     "slide_type": "subslide"
    }
   },
   "outputs": [],
   "source": [
    "class IMDBLoaderConfig(Configuration):\n",
    "\n",
    "    @classmethod\n",
    "    @register_method(name='data_loader',\n",
    "                     tags={'imdb'},\n",
    "                     namespace='examples',\n",
    "                     component_class=IMDBLoader)\n",
    "    def default(\n",
    "            cls\n",
    "    ):\n",
    "        config = super().default()\n",
    "\n",
    "        config.add(name='download_directory',\n",
    "                   value=Path('...'),\n",
    "                   description='Folder the archive file is downloaded')\n",
    "        config.add(name='download_filename',\n",
    "                   value='imdb.tar.gz',\n",
    "                   description='Name of the archive file')\n",
    "        config.add(name='dataset_name',\n",
    "                   value='dataset.csv',\n",
    "                   description='.csv filename')\n",
    "        config.add(name='download_url',\n",
    "                   value='http://ai.stanford.edu/...',\n",
    "                   description='URL to dataset archive file')\n",
    "\n",
    "        return config"
   ]
  },
  {
   "cell_type": "markdown",
   "id": "a3bfd92a",
   "metadata": {
    "slideshow": {
     "slide_type": "subslide"
    }
   },
   "source": [
    "### Data loading (Testing)\n",
    "\n",
    "Let's test our ``ExampleDataLoader``!"
   ]
  },
  {
   "cell_type": "code",
   "execution_count": null,
   "id": "ea34c830",
   "metadata": {
    "slideshow": {
     "slide_type": "subslide"
    }
   },
   "outputs": [],
   "source": [
    "from pathlib import Path\n",
    "\n",
    "from cinnamon.registry import Registry\n",
    "from components.data_loader import IMDBLoader\n",
    "\n",
    "if __name__ == '__main__':\n",
    "    \"\"\"\n",
    "    In this demo script, we retrieve and build our IMDB data loader.\n",
    "    Once built, we run the data loader to load the IMDB dataset\n",
    "    and print it for visualization purposes.\n",
    "    \"\"\"\n",
    "\n",
    "    directory = Path(__file__).parent.parent.resolve()\n",
    "    Registry.setup(directory=directory)\n",
    "\n",
    "    loader = IMDBLoader.build_component(name='data_loader',\n",
    "                                        tags={'imdb'},\n",
    "                                        namespace='examples')\n",
    "    df = loader.load_data()\n",
    "    print(df)"
   ]
  },
  {
   "cell_type": "markdown",
   "id": "53129fe0",
   "metadata": {
    "slideshow": {
     "slide_type": "subslide"
    }
   },
   "source": [
    "### Data pre-processing (Component)\n",
    "\n",
    "We now define how to convert our inputs to be digested by our SVM model."
   ]
  },
  {
   "cell_type": "code",
   "execution_count": null,
   "id": "735c0d2c",
   "metadata": {
    "slideshow": {
     "slide_type": "subslide"
    }
   },
   "outputs": [],
   "source": [
    "class TfIdfProcessor(Component):\n",
    "\n",
    "    def __init__(\n",
    "            self,\n",
    "            **kwargs\n",
    "    ):\n",
    "        self.vectorizer = TfidfVectorizer(**kwargs)\n",
    "\n",
    "    def process(\n",
    "            self,\n",
    "            data: Optional[pd.DataFrame],\n",
    "            is_training_data: bool = False,\n",
    "    ) -> Optional[Any]:\n",
    "        if data is None:\n",
    "            return data\n",
    "\n",
    "        if is_training_data:\n",
    "            self.vectorizer.fit(data.x.values)\n",
    "\n",
    "        return self.vectorizer.transform(data.x.values)"
   ]
  },
  {
   "cell_type": "code",
   "execution_count": null,
   "id": "b44ea774",
   "metadata": {
    "slideshow": {
     "slide_type": "subslide"
    }
   },
   "outputs": [],
   "source": [
    "class TfIdfProcessorConfig(Configuration):\n",
    "\n",
    "    @classmethod\n",
    "    @register_method(name='processor',\n",
    "                     tags={'tf-idf'},\n",
    "                     namespace='examples',\n",
    "                     component_class=TfIdfProcessor)\n",
    "    def default(\n",
    "            cls\n",
    "    ):\n",
    "        config = super().default()\n",
    "\n",
    "        config.add(name='ngram_range',\n",
    "                   value=(1, 1),\n",
    "                   type_hint=Any,\n",
    "                   description='Vectorizer ngram_range')\n",
    "\n",
    "        return config"
   ]
  },
  {
   "cell_type": "code",
   "execution_count": null,
   "id": "c4b69016",
   "metadata": {
    "slideshow": {
     "slide_type": "subslide"
    }
   },
   "outputs": [],
   "source": [
    "class LabelProcessor(Component):\n",
    "\n",
    "    def __init__(\n",
    "            self\n",
    "    ):\n",
    "        self.label_encoder = LabelEncoder()\n",
    "\n",
    "    def process(\n",
    "            self,\n",
    "            data: Optional[pd.DataFrame],\n",
    "            is_training_data: bool = False\n",
    "    ) -> Optional[Any]:\n",
    "        if data is None:\n",
    "            return data\n",
    "\n",
    "        labels = data.y.values\n",
    "        if is_training_data:\n",
    "            self.label_encoder.fit(labels)\n",
    "\n",
    "        return self.label_encoder.transform(labels)"
   ]
  },
  {
   "cell_type": "code",
   "execution_count": null,
   "id": "c76d0d7a",
   "metadata": {
    "slideshow": {
     "slide_type": "subslide"
    }
   },
   "outputs": [],
   "source": [
    "@register\n",
    "def register_processors():\n",
    "    Registry.register_configuration(config_class=Configuration,\n",
    "                                    component_class=LabelProcessor,\n",
    "                                    name='processor',\n",
    "                                    tags={'label'},\n",
    "                                    namespace='examples')"
   ]
  },
  {
   "cell_type": "markdown",
   "id": "b48bec3c",
   "metadata": {
    "slideshow": {
     "slide_type": "subslide"
    }
   },
   "source": [
    "### Modeling (Component)\n",
    "\n",
    "We are now ready to define our SVM ``Component`` wrapper!"
   ]
  },
  {
   "cell_type": "code",
   "execution_count": null,
   "id": "0e0edcb6",
   "metadata": {
    "slideshow": {
     "slide_type": "fragment"
    }
   },
   "outputs": [],
   "source": [
    "class SVCModel(Component):\n",
    "\n",
    "    def __init__(self, ...):\n",
    "        ...\n",
    "\n",
    "    def fit(self, x_train: Any, y_train: Any,\n",
    "            x_val: Any = None, y_val: Any = None\n",
    "    ):\n",
    "        ...\n",
    "\n",
    "    def evaluate(self, x: Any, y: Any\n",
    "    ) -> Dict[str, float]:\n",
    "        ...\n",
    "\n",
    "    def predict(self, x: Any\n",
    "    ) -> Any:\n",
    "        ..."
   ]
  },
  {
   "cell_type": "code",
   "execution_count": null,
   "id": "2f2d490b",
   "metadata": {
    "slideshow": {
     "slide_type": "subslide"
    }
   },
   "outputs": [],
   "source": [
    "class SVCModelConfig(Configuration):\n",
    "\n",
    "    @classmethod\n",
    "    @register_method(name='model',\n",
    "                     tags={'svc'},\n",
    "                     namespace='examples',\n",
    "                     component_class=SVCModel)\n",
    "    def default(\n",
    "            cls\n",
    "    ):\n",
    "        config = super().default()\n",
    "\n",
    "        config.add(name='C',\n",
    "                   value=1.0,\n",
    "                   description='C parameter of SVC')\n",
    "        config.add(name='kernel',\n",
    "                   value='linear',\n",
    "                   description='The kernel of the SVC')\n",
    "        config.add(name='class_weight',\n",
    "                   value='balanced',\n",
    "                   description='Technique for class imbalance')\n",
    "\n",
    "        return config"
   ]
  },
  {
   "cell_type": "markdown",
   "id": "d8d745f0",
   "metadata": {
    "slideshow": {
     "slide_type": "subslide"
    }
   },
   "source": [
    "### Benchmark\n",
    "\n",
    "The ``Benchmark`` is our task pipeline: from data loading to model training and evaluation"
   ]
  },
  {
   "cell_type": "code",
   "execution_count": null,
   "id": "9e691d91",
   "metadata": {
    "slideshow": {
     "slide_type": "subslide"
    }
   },
   "outputs": [],
   "source": [
    "class SVCBenchmark(RunnableComponent):\n",
    "\n",
    "    def __init__(self,\n",
    "            data_loader: IMDBLoader,\n",
    "            model: SVCModel,\n",
    "            text_processor: TfIdfProcessor,\n",
    "            label_processor: LabelProcessor):\n",
    "        ...\n",
    "\n",
    "    def run(self, ...):\n",
    "        train_df, val_df, test_df = self.data_loader.get_splits()\n",
    "\n",
    "        x_train = self.text_processor.process(data=train_df)\n",
    "        y_train = self.label_processor.process(data=train_df)\n",
    "\n",
    "        x_val = self.text_processor.process(data=val_df)\n",
    "        y_val = self.label_processor.process(data=val_df)\n",
    "\n",
    "        x_test = self.text_processor.process(data=test_df)\n",
    "        y_test = self.label_processor.process(data=test_df)\n",
    "\n",
    "        train_info, val_info = self.model.fit(x_train=x_train, \n",
    "                                              y_train=y_train,\n",
    "                                              x_val=x_val, \n",
    "                                              y_val=y_val)\n",
    "        test_info = self.model.evaluate(x=x_test, y=y_test)"
   ]
  },
  {
   "cell_type": "code",
   "execution_count": null,
   "id": "3a4a931d",
   "metadata": {
    "slideshow": {
     "slide_type": "subslide"
    }
   },
   "outputs": [],
   "source": [
    "class SVCBenchmarkConfig(Configuration):\n",
    "\n",
    "    @classmethod\n",
    "    @register_method(name='benchmark',\n",
    "                     tags={'svc'},\n",
    "                     namespace='examples',\n",
    "                     component_class=SVCBenchmark)\n",
    "    def default(cls):\n",
    "        config = super().default()\n",
    "\n",
    "        config.add(name='data_loader',\n",
    "                   value=RegistrationKey(name='data_loader',\n",
    "                                         tags={'imdb'},\n",
    "                                         namespace='examples'))\n",
    "        config.add(name='text_processor',\n",
    "                   value=RegistrationKey(name='processor',\n",
    "                                         tags={'tf-idf'},\n",
    "                                         namespace='examples'))\n",
    "        config.add(name='label_processor',\n",
    "                   value=RegistrationKey(name='processor',\n",
    "                                         tags={'label'},\n",
    "                                         namespace='examples'))\n",
    "        config.add(name='model',\n",
    "                   value=RegistrationKey(name='model',\n",
    "                                         tags={'svc'},\n",
    "                                         namespace='examples'))\n",
    "        return config"
   ]
  },
  {
   "cell_type": "markdown",
   "id": "c75c6dbc",
   "metadata": {
    "slideshow": {
     "slide_type": "subslide"
    }
   },
   "source": [
    "### Benchmark (Testing)\n",
    "\n",
    "Let's test our **whole** pipeline in a **single shot**!"
   ]
  },
  {
   "cell_type": "markdown",
   "id": "6f534cb2",
   "metadata": {
    "slideshow": {
     "slide_type": "subslide"
    }
   },
   "source": [
    "<center>\n",
    "<div>\n",
    "<img src=\"../Images/Lecture-8/benchmark-I.png\" width=\"1400\"/>\n",
    "</div>\n",
    "</center>"
   ]
  },
  {
   "cell_type": "markdown",
   "id": "c5aa3525",
   "metadata": {
    "slideshow": {
     "slide_type": "subslide"
    }
   },
   "source": [
    "<center>\n",
    "<div>\n",
    "<img src=\"../Images/Lecture-8/benchmark-II.png\" width=\"1400\"/>\n",
    "</div>\n",
    "</center>"
   ]
  },
  {
   "cell_type": "markdown",
   "id": "7291e152",
   "metadata": {
    "slideshow": {
     "slide_type": "slide"
    }
   },
   "source": [
    "## The End (really!)\n",
    "\n",
    "- A quick overview of ``cinnamon``, yet a pretty exhaustive one! $\\rightarrow$ simplicity!"
   ]
  },
  {
   "cell_type": "markdown",
   "id": "332a3384",
   "metadata": {
    "slideshow": {
     "slide_type": "fragment"
    }
   },
   "source": [
    "- A ``Configuration`` stores all your hyper-parameters"
   ]
  },
  {
   "cell_type": "markdown",
   "id": "8f0efa71",
   "metadata": {
    "slideshow": {
     "slide_type": "fragment"
    }
   },
   "source": [
    "- A ``Component`` defines the core logic"
   ]
  },
  {
   "cell_type": "markdown",
   "id": "03828c9d",
   "metadata": {
    "slideshow": {
     "slide_type": "fragment"
    }
   },
   "source": [
    "- The ``Registry`` stores ``Configuration`` to ``Component`` bindings to de-couple them for quick re-use and readability"
   ]
  }
 ],
 "metadata": {
  "celltoolbar": "Slideshow",
  "kernelspec": {
   "display_name": "Python 3 (ipykernel)",
   "language": "python",
   "name": "python3"
  },
  "language_info": {
   "codemirror_mode": {
    "name": "ipython",
    "version": 3
   },
   "file_extension": ".py",
   "mimetype": "text/x-python",
   "name": "python",
   "nbconvert_exporter": "python",
   "pygments_lexer": "ipython3",
   "version": "3.10.15"
  }
 },
 "nbformat": 4,
 "nbformat_minor": 5
}
