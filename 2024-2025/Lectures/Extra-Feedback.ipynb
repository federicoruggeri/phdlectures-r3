{
 "cells": [
  {
   "cell_type": "markdown",
   "id": "0a257cf3",
   "metadata": {
    "slideshow": {
     "slide_type": "slide"
    }
   },
   "source": [
    "## It's feedback time!\n",
    "\n",
    "Can't **miss** the opportunity since I have your attention now!"
   ]
  },
  {
   "cell_type": "markdown",
   "id": "68d5daba",
   "metadata": {
    "slideshow": {
     "slide_type": "subslide"
    }
   },
   "source": [
    "## Almost done\n",
    "\n",
    "We are almost at the **end** of this short and condensed PhD course on reproducible open research."
   ]
  },
  {
   "cell_type": "markdown",
   "id": "b5f3f876",
   "metadata": {
    "slideshow": {
     "slide_type": "fragment"
    }
   },
   "source": [
    "Before concluding, I would like to collect your **kind opinion** about the course $\\rightarrow$ we never stop **improving** ;)"
   ]
  },
  {
   "cell_type": "markdown",
   "id": "a5477a6c",
   "metadata": {
    "slideshow": {
     "slide_type": "fragment"
    }
   },
   "source": [
    "P.s. it is **not prescriptive**! You have your right to oppose (*got the reference?*)"
   ]
  },
  {
   "cell_type": "markdown",
   "id": "a4cf7632",
   "metadata": {
    "slideshow": {
     "slide_type": "fragment"
    }
   },
   "source": [
    "P.p.s. **Nor** I will **share** Google forms data with anybody else. It is restricted to the course (and my Drive...)"
   ]
  },
  {
   "cell_type": "markdown",
   "id": "e8f46c2c",
   "metadata": {
    "slideshow": {
     "slide_type": "subslide"
    }
   },
   "source": [
    "<center>\n",
    "<div>\n",
    "<img src=\"../Images/Extra/please.gif\" width=\"600\" alt='Please'/>\n",
    "</div>\n",
    "</center>"
   ]
  },
  {
   "cell_type": "markdown",
   "id": "77c3ab05",
   "metadata": {
    "slideshow": {
     "slide_type": "slide"
    }
   },
   "source": [
    "## Enough talking, grab your phone now!\n",
    "\n",
    "Time for another [Google Form](https://forms.gle/yYKuYDd3JJ9PmYBH8) (**10 mins**)"
   ]
  },
  {
   "cell_type": "markdown",
   "id": "e734f1b9",
   "metadata": {
    "slideshow": {
     "slide_type": "subslide"
    }
   },
   "source": [
    "<center>\n",
    "<div>\n",
    "<img src=\"../Images/Extra/qsn_feedback.png\" width=\"600\" alt='Feedback'/>\n",
    "</div>\n",
    "</center>"
   ]
  }
 ],
 "metadata": {
  "celltoolbar": "Slideshow",
  "kernelspec": {
   "display_name": "Python 3 (ipykernel)",
   "language": "python",
   "name": "python3"
  },
  "language_info": {
   "codemirror_mode": {
    "name": "ipython",
    "version": 3
   },
   "file_extension": ".py",
   "mimetype": "text/x-python",
   "name": "python",
   "nbconvert_exporter": "python",
   "pygments_lexer": "ipython3",
   "version": "3.10.15"
  }
 },
 "nbformat": 4,
 "nbformat_minor": 5
}
