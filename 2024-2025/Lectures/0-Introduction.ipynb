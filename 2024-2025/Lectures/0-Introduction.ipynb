{
 "cells": [
  {
   "cell_type": "markdown",
   "id": "1cfec425",
   "metadata": {
    "slideshow": {
     "slide_type": "slide"
    }
   },
   "source": [
    " ## Program\n",
    "\n",
    "* Lecture 1 (2 hours): Reproducibility in Research (Pt. I)\n",
    "* Lecture 2 (2 hours): Reproducibility in Research (Pt. II)\n",
    "* Lecture 3 (3 hours): Data Collection and Annotation\n",
    "* Lecture 4 (2 hours): Modeling and Experimenting\n",
    "* Lecture 5 (2 hours): Responsible Research\n",
    "* Lecture 6 (2 hours): Programming Best Practices (Pt. I)\n",
    "* Lecture 7 (2 hours): Programming Best Practices (Pt. II)\n",
    "* Lecture 8 (2 hours): Cinnamon: a lightweight python library for research\n",
    "\n",
    "**Tl;dr: 16 hours, 3 CFU**"
   ]
  },
  {
   "cell_type": "markdown",
   "id": "b124eab6",
   "metadata": {
    "slideshow": {
     "slide_type": "slide"
    }
   },
   "source": [
    "## Lecture format\n",
    "\n",
    "Lectures are held in **hybrid** format (via **Teams**).\n",
    "\n",
    "I'll try my best to **record** lectures. (*please, remind me in case I forget about it!*)\n"
   ]
  },
  {
   "cell_type": "markdown",
   "id": "1ba90305",
   "metadata": {
    "slideshow": {
     "slide_type": "fragment"
    }
   },
   "source": [
    "P.s. Please, check the course Teams page for **updates**! "
   ]
  },
  {
   "cell_type": "markdown",
   "id": "a7b9792f",
   "metadata": {
    "slideshow": {
     "slide_type": "fragment"
    }
   },
   "source": [
    "P.p.s Let me know if I've **missed to invite** someone!"
   ]
  },
  {
   "cell_type": "markdown",
   "id": "24aff45d",
   "metadata": {
    "slideshow": {
     "slide_type": "subslide"
    }
   },
   "source": [
    "Lectures are going to be highly **interactive** (*I don't like talking too much...*).\n",
    "\n",
    "But do not worry $\\rightarrow$ I know we are computer scientists and we do not like social interactions on average.\n",
    "\n",
    "Thus, expect some **anonymous Google forms** here and there! (*release the &#9000; &#129409; that is in you!*)"
   ]
  },
  {
   "cell_type": "markdown",
   "id": "2b1fb374",
   "metadata": {
    "slideshow": {
     "slide_type": "slide"
    }
   },
   "source": [
    "## Help Desk\n",
    "\n",
    "For any questions, doubts, and requests, please send me **an email** as follows.\n",
    "\n",
    "Object prefix: *\"[PhD Course - R^3]\"*"
   ]
  },
  {
   "cell_type": "markdown",
   "id": "ff2d180c",
   "metadata": {
    "slideshow": {
     "slide_type": "slide"
    }
   },
   "source": [
    "## Exam\n",
    "\n",
    "If you need to **certify your attendance** to the course via an exam, you can submit a review\n",
    "as described below. "
   ]
  },
  {
   "cell_type": "markdown",
   "id": "f3ecafda",
   "metadata": {
    "slideshow": {
     "slide_type": "fragment"
    }
   },
   "source": [
    "#### **Disclaimer**:\n",
    "\n",
    "I don't really **like** this CFU-based system for PhD students. \n",
    "\n",
    "However, I do really **hope** you find this course (or, at least, part of it) useful."
   ]
  },
  {
   "cell_type": "markdown",
   "id": "d9959df8",
   "metadata": {
    "slideshow": {
     "slide_type": "subslide"
    }
   },
   "source": [
    "**All submissions are made by contacting me via email**: federico.ruggeri6@unibo.it "
   ]
  },
  {
   "cell_type": "markdown",
   "id": "06ed12bd",
   "metadata": {
    "slideshow": {
     "slide_type": "fragment"
    }
   },
   "source": [
    "Use the following template:\n",
    "\n",
    "**Object**: *\"[PhD Course - R^3] Exam Report\"*"
   ]
  },
  {
   "cell_type": "markdown",
   "id": "949e9afa",
   "metadata": {
    "slideshow": {
     "slide_type": "subslide"
    }
   },
   "source": [
    "### Review\n",
    "\n",
    "You can submit a review you have made concerning a paper of your choice.\n",
    "\n",
    "The review should focus on **issues related to the course topics** and corresponding\n",
    "**solution(s)** suggested by you or proposed in the paper."
   ]
  },
  {
   "cell_type": "markdown",
   "id": "68df70d0",
   "metadata": {
    "slideshow": {
     "slide_type": "fragment"
    }
   },
   "source": [
    "**Please submit your review in .pdf format (<u>1-2 pages at most</u>).**"
   ]
  },
  {
   "cell_type": "markdown",
   "id": "5d08e9e1",
   "metadata": {
    "slideshow": {
     "slide_type": "fragment"
    }
   },
   "source": [
    "Please use the **LaTeX template** available in the [course Github repository](https://github.com/federicoruggeri/phdlectures-r3)."
   ]
  },
  {
   "cell_type": "markdown",
   "id": "02fcc70d",
   "metadata": {
    "slideshow": {
     "slide_type": "slide"
    }
   },
   "source": [
    "## About lectures\n",
    "\n",
    "I'm using [RISE](https://rise.readthedocs.io/en/stable/) plugin for notebooks.\n",
    "\n",
    "Do not worry, you won't need it. I'll present slides derived from notebooks.\n",
    "\n",
    "If you are interested just run \n",
    "\n",
    "``pip install notebook==6.5.7 jupyter_contrib_nbextensions RISE`` \n",
    "\n",
    "Then run ``jupyter-notebook`` to see added plugin functionalities."
   ]
  },
  {
   "cell_type": "markdown",
   "id": "b7077949",
   "metadata": {
    "slideshow": {
     "slide_type": "slide"
    }
   },
   "source": [
    "## Github repo\n",
    "\n",
    "This notebook and all other lecture notebooks are available in the course' official [Github repository](https://github.com/federicoruggeri/phdlectures-r3) \n",
    "\n",
    "**Don't spoiler yourself each upcoming lecture! You are going to ruin my jokes!**"
   ]
  },
  {
   "cell_type": "markdown",
   "id": "772b99c8",
   "metadata": {
    "slideshow": {
     "slide_type": "slide"
    }
   },
   "source": [
    "## About me\n",
    "\n",
    "Post-doc research fellow at Unibo, <a href=\"https://site.unibo.it/nlp/en\">Language Technologies Lab</a>."
   ]
  },
  {
   "cell_type": "markdown",
   "id": "df8e5d07",
   "metadata": {
    "slideshow": {
     "slide_type": "fragment"
    }
   },
   "source": [
    "I'm 31 (**actually, much much less**)."
   ]
  },
  {
   "cell_type": "markdown",
   "id": "f21f9028",
   "metadata": {
    "slideshow": {
     "slide_type": "fragment"
    }
   },
   "source": [
    "I like making bad jokes, playing volleyball, watching anime, reading books, developing video games..."
   ]
  },
  {
   "cell_type": "markdown",
   "id": "09db989a",
   "metadata": {
    "slideshow": {
     "slide_type": "subslide"
    }
   },
   "source": [
    "### Research interest\n",
    "\n",
    "Mainly specialized in NLP: [Argument Mining](https://aclanthology.org/J19-4006.pdf)\n",
    "\n",
    "My main research area is about **unstructured knowledge extraction and integration** (raw text as knowledge in NLP) and **interpretable AI**.\n",
    "\n",
    "You can check my [UniBo web page](https://www.unibo.it/sitoweb/federico.ruggeri6) and [Google Scholar](https://scholar.google.com/citations?user=moOd0BwAAAAJ&hl=en&oi=ao) profile. (*what about Steam?*)"
   ]
  },
  {
   "cell_type": "markdown",
   "id": "7826b2a4",
   "metadata": {
    "slideshow": {
     "slide_type": "subslide"
    }
   },
   "source": [
    "### Contact\n",
    "\n",
    "<a href=\"mailto:federico.ruggeri6@unibo.it\">Federico Ruggeri</a>\n",
    "\n",
    "DISI, Viale Risorgimento 2, first floor (<u>!= ground floor</u>), LIA room. \n",
    "\n",
    "**Luckily**, I don't have a desk phone number.\n",
    "\n",
    "Feel free to contact me via **email/Teams** for any issue/question about the course."
   ]
  },
  {
   "cell_type": "markdown",
   "id": "f289b861",
   "metadata": {
    "slideshow": {
     "slide_type": "slide"
    }
   },
   "source": [
    "## Second Baptism of Fire\n",
    "\n",
    "This is my **second time** teaching! \n",
    "\n",
    "Thus"
   ]
  },
  {
   "cell_type": "markdown",
   "id": "4f4e0fdc",
   "metadata": {
    "slideshow": {
     "slide_type": "fragment"
    }
   },
   "source": [
    "- I might explain some content **not so clearly** $\\rightarrow$ please, **ask** questions and **correct** me!"
   ]
  },
  {
   "cell_type": "markdown",
   "id": "de57ab3a",
   "metadata": {
    "slideshow": {
     "slide_type": "fragment"
    }
   },
   "source": [
    "- I might **go overtime** or, conversely, be too fast at explaining things $\\rightarrow$ **stop me**!"
   ]
  },
  {
   "cell_type": "markdown",
   "id": "bf366520",
   "metadata": {
    "slideshow": {
     "slide_type": "fragment"
    }
   },
   "source": [
    "- I'll ask for your **feedback** (Google Form) at the end of this course $\\rightarrow$ your feedback is **important** to improve the course!"
   ]
  },
  {
   "cell_type": "markdown",
   "id": "5b0dc68a",
   "metadata": {
    "slideshow": {
     "slide_type": "fragment"
    }
   },
   "source": [
    "- I'll ask for your **opinions**, experience, knowledge $\\rightarrow$ good way to **share expertise** and do **networking**!"
   ]
  },
  {
   "cell_type": "markdown",
   "id": "5b0b0fcb",
   "metadata": {
    "slideshow": {
     "slide_type": "fragment"
    }
   },
   "source": [
    "- If your automatic speech-to-text tool (either artificial or biological) is not recognizing the language I'm speaking $\\rightarrow$ **stop me and ask me to speak slower! I do tend to slur my words.**"
   ]
  },
  {
   "cell_type": "markdown",
   "id": "c13be859",
   "metadata": {
    "slideshow": {
     "slide_type": "subslide"
    }
   },
   "source": [
    "### Changelogs from last edition\n"
   ]
  },
  {
   "cell_type": "markdown",
   "id": "15d7b209",
   "metadata": {
    "slideshow": {
     "slide_type": "fragment"
    }
   },
   "source": [
    "- From 10 to 16 hours $\\rightarrow$ +60% duration increase (*oh god, why...*)"
   ]
  },
  {
   "cell_type": "markdown",
   "id": "aae20dd2",
   "metadata": {
    "slideshow": {
     "slide_type": "fragment"
    }
   },
   "source": [
    "- Removed a lot of anime memes $\\rightarrow$ I didn't expect this (*what about brainrot memes?*)"
   ]
  },
  {
   "cell_type": "markdown",
   "id": "68541c3f",
   "metadata": {
    "slideshow": {
     "slide_type": "fragment"
    }
   },
   "source": [
    "- Lectures are now much more interactive"
   ]
  },
  {
   "cell_type": "markdown",
   "id": "9a35945e",
   "metadata": {
    "slideshow": {
     "slide_type": "fragment"
    }
   },
   "source": [
    "- The teacher's English proficiency improved a little bit (*hopefully*)"
   ]
  },
  {
   "cell_type": "markdown",
   "id": "cb962534",
   "metadata": {
    "slideshow": {
     "slide_type": "slide"
    }
   },
   "source": [
    "## The End (?)\n",
    "\n",
    "Let's give you a **valid reason** on **why** you are here...\n",
    "\n"
   ]
  }
 ],
 "metadata": {
  "celltoolbar": "Slideshow",
  "kernelspec": {
   "display_name": "Python 3 (ipykernel)",
   "language": "python",
   "name": "python3"
  },
  "language_info": {
   "codemirror_mode": {
    "name": "ipython",
    "version": 3
   },
   "file_extension": ".py",
   "mimetype": "text/x-python",
   "name": "python",
   "nbconvert_exporter": "python",
   "pygments_lexer": "ipython3",
   "version": "3.10.12"
  }
 },
 "nbformat": 4,
 "nbformat_minor": 5
}
