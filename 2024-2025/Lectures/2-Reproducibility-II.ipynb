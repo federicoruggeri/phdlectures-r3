{
 "cells": [
  {
   "cell_type": "markdown",
   "id": "fb046532",
   "metadata": {
    "slideshow": {
     "slide_type": "slide"
    }
   },
   "source": [
    "## About last time\n",
    "\n",
    "- You are  all **liars!** (*I like honesty*)"
   ]
  },
  {
   "cell_type": "markdown",
   "id": "2c087b45",
   "metadata": {
    "slideshow": {
     "slide_type": "fragment"
    }
   },
   "source": [
    "- Some aspects of doing research like the capability of repeating the experiments to get the same results seem **straightforward**. But, a lot lot lot lot of the times we make (unwanted, unconscious) **errors**."
   ]
  },
  {
   "cell_type": "markdown",
   "id": "85710de5",
   "metadata": {
    "slideshow": {
     "slide_type": "fragment"
    }
   },
   "source": [
    "- In short, we are (often) able to **recognize** these erros, but **keep making** them.  (*...to persevere is diabolical*)"
   ]
  },
  {
   "cell_type": "markdown",
   "id": "1e79a535",
   "metadata": {
    "slideshow": {
     "slide_type": "fragment"
    }
   },
   "source": [
    "- This is because there are **several factors** that make us prone to incur into these faults (*Say hi to your supervisor(s)*)."
   ]
  },
  {
   "cell_type": "markdown",
   "id": "0e66f878",
   "metadata": {
    "slideshow": {
     "slide_type": "fragment"
    }
   },
   "source": [
    "- (Scientific) progress is made by **trusted research**, where that trust is layed on research being reproducible."
   ]
  },
  {
   "cell_type": "markdown",
   "id": "cf3b89d0",
   "metadata": {
    "slideshow": {
     "slide_type": "slide"
    }
   },
   "source": [
    "### The dominance of Closed Science [[Leonelli, 2023]](https://www.cambridge.org/core/elements/philosophy-of-open-science/0D049ECF635F3B676C03C6868873E406)\n",
    "\n",
    "*``Scientists owe their credibility and influence to the perceived effectiveness and breadth of the scrutiny applied to their research''*"
   ]
  },
  {
   "cell_type": "markdown",
   "id": "c579fcee",
   "metadata": {
    "slideshow": {
     "slide_type": "fragment"
    }
   },
   "source": [
    "*``**Openness** is often viewed as a necessary complement to accountability and public scrutiny''*"
   ]
  },
  {
   "cell_type": "markdown",
   "id": "8451329d",
   "metadata": {
    "slideshow": {
     "slide_type": "fragment"
    }
   },
   "source": [
    "As argued by many philosophers, what distinguishes a dictator from an elected leader - or a scientist from a crook - is the extent to which their decision-making processes are **visible, intelligible, and receptive to critique**."
   ]
  },
  {
   "cell_type": "markdown",
   "id": "49c7a717",
   "metadata": {
    "slideshow": {
     "slide_type": "subslide"
    }
   },
   "source": [
    "## However..."
   ]
  },
  {
   "cell_type": "markdown",
   "id": "c1032e41",
   "metadata": {
    "slideshow": {
     "slide_type": "fragment"
    }
   },
   "source": [
    "The general culture in computer science research is that research is **competitive, commercialized and self-referential**."
   ]
  },
  {
   "cell_type": "markdown",
   "id": "2d279bfa",
   "metadata": {
    "slideshow": {
     "slide_type": "fragment"
    }
   },
   "source": [
    "In the last years, **a lot** of people apply to be researchers, **a lot** of papers are being published."
   ]
  },
  {
   "cell_type": "markdown",
   "id": "a21e3c74",
   "metadata": {
    "slideshow": {
     "slide_type": "subslide"
    }
   },
   "source": [
    "[❓] How many friends **without** a PhD do you know :)?"
   ]
  },
  {
   "cell_type": "markdown",
   "id": "47a33ed8",
   "metadata": {
    "slideshow": {
     "slide_type": "fragment"
    }
   },
   "source": [
    "<center>\n",
    "<div>\n",
    "<img src=\"../Images/Lecture-2/phd_meme.jpg\" width=\"800\" alt='You get a PhD'/>\n",
    "</div>\n",
    "</center>"
   ]
  },
  {
   "cell_type": "markdown",
   "id": "caac4cbd",
   "metadata": {
    "slideshow": {
     "slide_type": "subslide"
    }
   },
   "source": [
    "\n",
    "\n",
    "\n",
    "\n",
    "Consequently, research outputs have grown exponentially and have become ever more specialized, putting pressure on existing systems to disseminate and evaluate findings."
   ]
  },
  {
   "cell_type": "markdown",
   "id": "43c79e15",
   "metadata": {
    "slideshow": {
     "slide_type": "subslide"
    }
   },
   "source": [
    "### Issue #1\n",
    "\n",
    "Researchers are **multi-tasking**: research, publish, peer review, editor, etc. "
   ]
  },
  {
   "cell_type": "markdown",
   "id": "d1b196a5",
   "metadata": {
    "slideshow": {
     "slide_type": "fragment"
    }
   },
   "source": [
    "All done for **free**!"
   ]
  },
  {
   "cell_type": "markdown",
   "id": "d98d350a",
   "metadata": {
    "slideshow": {
     "slide_type": "fragment"
    }
   },
   "source": [
    "Financial support for  publishing has come from ever-higher subscription charges $\\rightarrow$ access to academic journals is **unaffordable** to all but wealthy research institutions."
   ]
  },
  {
   "cell_type": "markdown",
   "id": "99d4a9ee",
   "metadata": {
    "slideshow": {
     "slide_type": "subslide"
    }
   },
   "source": [
    "### Issues #2\n",
    "\n",
    "**Intense competition** has put pressure on the systems of assessment."
   ]
  },
  {
   "cell_type": "markdown",
   "id": "f1d0b8ed",
   "metadata": {
    "slideshow": {
     "slide_type": "fragment"
    }
   },
   "source": [
    "**Who** makes good research and deserves funding?"
   ]
  },
  {
   "cell_type": "markdown",
   "id": "c99f68a3",
   "metadata": {
    "slideshow": {
     "slide_type": "subslide"
    }
   },
   "source": [
    "In many countries and research institutions, the quantity of papers produced and the prestige of the journal in which they are published have become a **shorthand** for research quality and reliability."
   ]
  },
  {
   "cell_type": "markdown",
   "id": "eb313bf1",
   "metadata": {
    "slideshow": {
     "slide_type": "fragment"
    }
   },
   "source": [
    "A well known example is the **impact factor**."
   ]
  },
  {
   "cell_type": "markdown",
   "id": "a3901e0c",
   "metadata": {
    "slideshow": {
     "slide_type": "fragment"
    }
   },
   "source": [
    "$\\rightarrow$ papers published in high impact factor journals are the **only recognized output** of the research process"
   ]
  },
  {
   "cell_type": "markdown",
   "id": "4bfde2b3",
   "metadata": {
    "slideshow": {
     "slide_type": "fragment"
    }
   },
   "source": [
    "$\\rightarrow$ **little regard** is given to other components like data,  models and software."
   ]
  },
  {
   "cell_type": "markdown",
   "id": "b1355daa",
   "metadata": {
    "slideshow": {
     "slide_type": "subslide"
    }
   },
   "source": [
    "### Consequence #1\n",
    "\n",
    "Knowledge is conveyed through **article-shaped units**."
   ]
  },
  {
   "cell_type": "markdown",
   "id": "c499fece",
   "metadata": {
    "slideshow": {
     "slide_type": "fragment"
    }
   },
   "source": [
    "Their production is often thorugh public funding or public-private partnerships, **often available to only** those who can afford subscription fees."
   ]
  },
  {
   "cell_type": "markdown",
   "id": "4fe9c5e5",
   "metadata": {
    "slideshow": {
     "slide_type": "fragment"
    }
   },
   "source": [
    "**High profits** for publishing companies (*have you ever heard about the tragedy of darth OA?*)"
   ]
  },
  {
   "cell_type": "markdown",
   "id": "f21841ef",
   "metadata": {
    "slideshow": {
     "slide_type": "fragment"
    }
   },
   "source": [
    "This only applies to research that gets published! A lot of units remain **within the institutions** that generate them (e.g., private companies, industry, military, etc.)."
   ]
  },
  {
   "cell_type": "markdown",
   "id": "3c668fb6",
   "metadata": {
    "slideshow": {
     "slide_type": "subslide"
    }
   },
   "source": [
    "### Consequence #2\n",
    "\n",
    "**No real incentive or rewards** for the responsible dissemination of material other than research articles."
   ]
  },
  {
   "cell_type": "markdown",
   "id": "0cf7ff24",
   "metadata": {
    "slideshow": {
     "slide_type": "fragment"
    }
   },
   "source": [
    "$\\rightarrow$ Most research data, models, and procedures are not circulated **beyond the group of researchers who generated them**."
   ]
  },
  {
   "cell_type": "markdown",
   "id": "2e1e21d5",
   "metadata": {
    "slideshow": {
     "slide_type": "fragment"
    }
   },
   "source": [
    "$\\rightarrow$ If published, there's **little recognition** for the **extensive efforts** involved in making such components (*there is no such thing as best Github repository award...*)"
   ]
  },
  {
   "cell_type": "markdown",
   "id": "898b8176",
   "metadata": {
    "slideshow": {
     "slide_type": "subslide"
    }
   },
   "source": [
    "### Consequence #3\n",
    "\n",
    "Focus on publishing high quantity of articles, as fast as possible."
   ]
  },
  {
   "cell_type": "markdown",
   "id": "01ce2cb7",
   "metadata": {
    "slideshow": {
     "slide_type": "fragment"
    }
   },
   "source": [
    "It doesn't get along well with desiderata such [[Edwards and Roy, 2017]](https://pubmed.ncbi.nlm.nih.gov/28115824/): "
   ]
  },
  {
   "cell_type": "markdown",
   "id": "ed527032",
   "metadata": {
    "slideshow": {
     "slide_type": "fragment"
    }
   },
   "source": [
    "- **Checking** procedures"
   ]
  },
  {
   "cell_type": "markdown",
   "id": "9be5a1ee",
   "metadata": {
    "slideshow": {
     "slide_type": "fragment"
    }
   },
   "source": [
    "- **Replicating** experiments"
   ]
  },
  {
   "cell_type": "markdown",
   "id": "5dad1610",
   "metadata": {
    "slideshow": {
     "slide_type": "fragment"
    }
   },
   "source": [
    "- **Validating results** through a variety of methods"
   ]
  },
  {
   "cell_type": "markdown",
   "id": "ae86d5b5",
   "metadata": {
    "slideshow": {
     "slide_type": "fragment"
    }
   },
   "source": [
    "- **Formatting data** for wider dissemination"
   ]
  },
  {
   "cell_type": "markdown",
   "id": "06b64382",
   "metadata": {
    "slideshow": {
     "slide_type": "fragment"
    }
   },
   "source": [
    "- **Consulting relevant experts** from other domains to improve research"
   ]
  },
  {
   "cell_type": "markdown",
   "id": "b55c79ac",
   "metadata": {
    "slideshow": {
     "slide_type": "subslide"
    }
   },
   "source": [
    "[💬] The God particle\n",
    "\n",
    "<center>\n",
    "<div>\n",
    "<img src=\"../Images/Lecture-2/higgs.jpeg\" width=\"400\" alt='Higgs'/>\n",
    "</div>\n",
    "</center>"
   ]
  },
  {
   "cell_type": "markdown",
   "id": "663156cd",
   "metadata": {
    "slideshow": {
     "slide_type": "subslide"
    }
   },
   "source": [
    "[❓] Who volunteers to have their paper(s) **checked**? :)"
   ]
  },
  {
   "cell_type": "markdown",
   "id": "4144b2b0",
   "metadata": {
    "slideshow": {
     "slide_type": "subslide"
    }
   },
   "source": [
    "### Consequence #4\n",
    "\n",
    "This pressure to publish translates also to a tendency to **overstate and/or overgeneralize one's results**."
   ]
  },
  {
   "cell_type": "markdown",
   "id": "35795bcb",
   "metadata": {
    "slideshow": {
     "slide_type": "fragment"
    }
   },
   "source": [
    "$\\rightarrow$ making assumptions about the scope and validity of inferences that are not **necessarily well justified**. (e.g., p-hacking)"
   ]
  },
  {
   "cell_type": "markdown",
   "id": "7f053c5f",
   "metadata": {
    "slideshow": {
     "slide_type": "subslide"
    }
   },
   "source": [
    "### Consequence #5\n",
    "\n",
    "One would expect peer-reviewing to address some of these problems."
   ]
  },
  {
   "cell_type": "markdown",
   "id": "e5a86091",
   "metadata": {
    "slideshow": {
     "slide_type": "fragment"
    }
   },
   "source": [
    "But.."
   ]
  },
  {
   "cell_type": "markdown",
   "id": "11c47600",
   "metadata": {
    "slideshow": {
     "slide_type": "fragment"
    }
   },
   "source": [
    "- Reviewing itself is **not a visible or rewarded** activity (*rarely you get some useless awards..*)"
   ]
  },
  {
   "cell_type": "markdown",
   "id": "f0076cd5",
   "metadata": {
    "slideshow": {
     "slide_type": "fragment"
    }
   },
   "source": [
    "- **Difficult** to find volunteers"
   ]
  },
  {
   "cell_type": "markdown",
   "id": "fdc33881",
   "metadata": {
    "slideshow": {
     "slide_type": "fragment"
    }
   },
   "source": [
    "- Peer-reviewing is often facing **quality issues**"
   ]
  },
  {
   "cell_type": "markdown",
   "id": "0a4c898e",
   "metadata": {
    "slideshow": {
     "slide_type": "fragment"
    }
   },
   "source": [
    "- **Debatable reviewing formats** and restrictive rules to account for the high number of submissions"
   ]
  },
  {
   "cell_type": "markdown",
   "id": "6e900fb0",
   "metadata": {
    "slideshow": {
     "slide_type": "fragment"
    }
   },
   "source": [
    "- There's **little formal training** for reviewers (*hey, do this review for me for tomorrow, thanks!*)"
   ]
  },
  {
   "cell_type": "markdown",
   "id": "271c5c07",
   "metadata": {
    "slideshow": {
     "slide_type": "slide"
    }
   },
   "source": [
    "## Peer Reviewing\n",
    "\n",
    "Let's open this Pandora's box while holding hands in a circle around a bonefire."
   ]
  },
  {
   "cell_type": "markdown",
   "id": "ab8c88aa",
   "metadata": {
    "slideshow": {
     "slide_type": "fragment"
    }
   },
   "source": [
    "Time for another [Google form](https://forms.gle/dm9jg7XVSmk9ffnU6). (**15 mins**)"
   ]
  },
  {
   "cell_type": "markdown",
   "id": "a6315fdd",
   "metadata": {
    "slideshow": {
     "slide_type": "subslide"
    }
   },
   "source": [
    "<center>\n",
    "<div>\n",
    "<img src=\"../Images/Lecture-2/qsn_reviewing.png\" width=\"600\" alt='Peer review'/>\n",
    "</div>\n",
    "</center>"
   ]
  },
  {
   "cell_type": "markdown",
   "id": "c129ac00",
   "metadata": {
    "slideshow": {
     "slide_type": "subslide"
    }
   },
   "source": [
    "### Some points worth mentioning\n",
    "\n",
    "**Disclaimer**: the following comments are entirely based on **my experience** as a reviewer and as an author."
   ]
  },
  {
   "cell_type": "markdown",
   "id": "a9a8f9b9",
   "metadata": {
    "slideshow": {
     "slide_type": "fragment"
    }
   },
   "source": [
    "You can check my [LinkedIn short article](https://www.linkedin.com/pulse/peer-reviewing-computer-science-federico-ruggeri-kdzmf/?trackingId=qBLx%2BtNcSM64RLKk8VRbHQ%3D%3D) for more details (*yet one of the many out there...*)"
   ]
  },
  {
   "cell_type": "markdown",
   "id": "beaaae81",
   "metadata": {
    "slideshow": {
     "slide_type": "subslide"
    }
   },
   "source": [
    "### Paper quality\n",
    "\n",
    "Many times, we have to review papers that are more like **drafts** than actual submissions."
   ]
  },
  {
   "cell_type": "markdown",
   "id": "f377d7ec",
   "metadata": {
    "slideshow": {
     "slide_type": "fragment"
    }
   },
   "source": [
    "- **Missing or incomplete** information"
   ]
  },
  {
   "cell_type": "markdown",
   "id": "ca76ce94",
   "metadata": {
    "slideshow": {
     "slide_type": "fragment"
    }
   },
   "source": [
    "- Strong hints of **garbage AI-generated content** (*hey ChatGPT...*)"
   ]
  },
  {
   "cell_type": "markdown",
   "id": "333cf629",
   "metadata": {
    "slideshow": {
     "slide_type": "fragment"
    }
   },
   "source": [
    "- **Inconsistencies** throughout the manuscript (e.g., writing style, terminology, etc.)"
   ]
  },
  {
   "cell_type": "markdown",
   "id": "fed62c5a",
   "metadata": {
    "slideshow": {
     "slide_type": "subslide"
    }
   },
   "source": [
    "### A waste of time\n",
    "\n",
    "Sending drafts is a waste of time from **both sides** (i.e., authors and reviewers)"
   ]
  },
  {
   "cell_type": "markdown",
   "id": "3551e55a",
   "metadata": {
    "slideshow": {
     "slide_type": "fragment"
    }
   },
   "source": [
    "$\\rightarrow$ Even papers written in **a few days** (*which I often hear about as an indicator of merit*)"
   ]
  },
  {
   "cell_type": "markdown",
   "id": "78bd2612",
   "metadata": {
    "slideshow": {
     "slide_type": "subslide"
    }
   },
   "source": [
    "As a reviewer, I still feel the **duty** to provide an exhaustive review."
   ]
  },
  {
   "cell_type": "markdown",
   "id": "f3a6b2fd",
   "metadata": {
    "slideshow": {
     "slide_type": "fragment"
    }
   },
   "source": [
    "But, it is evident that this practice of sending low quality papers **should be discouraged**"
   ]
  },
  {
   "cell_type": "markdown",
   "id": "42de7d12",
   "metadata": {
    "slideshow": {
     "slide_type": "fragment"
    }
   },
   "source": [
    "It's mainly about how you **educate researchers**!"
   ]
  },
  {
   "cell_type": "markdown",
   "id": "5e21501f",
   "metadata": {
    "slideshow": {
     "slide_type": "subslide"
    }
   },
   "source": [
    "Research should be something you **curate and evaluate attentively**."
   ]
  },
  {
   "cell_type": "markdown",
   "id": "87f47185",
   "metadata": {
    "slideshow": {
     "slide_type": "fragment"
    }
   },
   "source": [
    "It is not something you come up with **two weeks before a deadline** (*even if you are a fucking genius or nerd*)"
   ]
  },
  {
   "cell_type": "markdown",
   "id": "d0e64b6c",
   "metadata": {
    "slideshow": {
     "slide_type": "subslide"
    }
   },
   "source": [
    "### Rebuttal phase\n",
    "\n",
    "I **do not** see a point of a short rebuttal phase **without** proper discussion (*which rarely happens*)"
   ]
  },
  {
   "cell_type": "markdown",
   "id": "d34391f4",
   "metadata": {
    "slideshow": {
     "slide_type": "fragment"
    }
   },
   "source": [
    "Reviewers can undoubedly **make mistakes and misunderstand** relevant aspects of a paper."
   ]
  },
  {
   "cell_type": "markdown",
   "id": "901e4e93",
   "metadata": {
    "slideshow": {
     "slide_type": "fragment"
    }
   },
   "source": [
    "$\\rightarrow$ Authors should **have the opportunity** to clarify in response."
   ]
  },
  {
   "cell_type": "markdown",
   "id": "4dab761c",
   "metadata": {
    "slideshow": {
     "slide_type": "subslide"
    }
   },
   "source": [
    "Moreover, short rebuttals are **subject to further misunderstandings** as authors have to summarized articulated responses to raised issues in a few short sentences."
   ]
  },
  {
   "cell_type": "markdown",
   "id": "a60cbeed",
   "metadata": {
    "slideshow": {
     "slide_type": "fragment"
    }
   },
   "source": [
    "What happens when we have to reply to a **long and detailed review**?"
   ]
  },
  {
   "cell_type": "markdown",
   "id": "9bf0b72e",
   "metadata": {
    "slideshow": {
     "slide_type": "fragment"
    }
   },
   "source": [
    "$\\rightarrow$ Frustrating since the final decision **strongly depends** on the reported rebuttal content (*which often deviates from guidelines*)"
   ]
  },
  {
   "cell_type": "markdown",
   "id": "799a684e",
   "metadata": {
    "slideshow": {
     "slide_type": "subslide"
    }
   },
   "source": [
    "All in all, authors spend **months** (4-6 at least) of work on a paper..."
   ]
  },
  {
   "cell_type": "markdown",
   "id": "702869b1",
   "metadata": {
    "slideshow": {
     "slide_type": "fragment"
    }
   },
   "source": [
    "..have to **wait for 4-5 months** (on average) to get reviews.."
   ]
  },
  {
   "cell_type": "markdown",
   "id": "fb33e930",
   "metadata": {
    "slideshow": {
     "slide_type": "fragment"
    }
   },
   "source": [
    "..and defend their paper with **just 1000+ characters in a few days** (on average)"
   ]
  },
  {
   "cell_type": "markdown",
   "id": "5ef506fd",
   "metadata": {
    "slideshow": {
     "slide_type": "subslide"
    }
   },
   "source": [
    "### Supplementary Material\n",
    "\n",
    "Reviewers are **not required to check** supplementary material."
   ]
  },
  {
   "cell_type": "markdown",
   "id": "276d31d4",
   "metadata": {
    "slideshow": {
     "slide_type": "fragment"
    }
   },
   "source": [
    "However..."
   ]
  },
  {
   "cell_type": "markdown",
   "id": "aae6cd60",
   "metadata": {
    "slideshow": {
     "slide_type": "fragment"
    }
   },
   "source": [
    "$\\rightarrow$ Reviewers **may raise issues** about content reported in the supplementary (e.g., some experiments, some details, etc.)"
   ]
  },
  {
   "cell_type": "markdown",
   "id": "b9398125",
   "metadata": {
    "slideshow": {
     "slide_type": "fragment"
    }
   },
   "source": [
    "$\\rightarrow$ If the authors spend time to report supplementary material, there **must be some valid motivation**, which should be worth a reviewer's time (*and we get back to what Leonelli's was saying*)"
   ]
  },
  {
   "cell_type": "markdown",
   "id": "dbc45521",
   "metadata": {
    "slideshow": {
     "slide_type": "subslide"
    }
   },
   "source": [
    "### Review Focus\n",
    "\n",
    "There is a trend of critizing papers by **\"requesting more experiments/content\"** rather than by **\"highlighting the weakeness(es) of reported content\"**."
   ]
  },
  {
   "cell_type": "markdown",
   "id": "a64a3e65",
   "metadata": {
    "slideshow": {
     "slide_type": "fragment"
    }
   },
   "source": [
    "This leads to 8-page (on average) papers with around **20-30+** pages of supplementary material (*I'm looking at you CV friends...*)"
   ]
  },
  {
   "cell_type": "markdown",
   "id": "c0c8c8c7",
   "metadata": {
    "slideshow": {
     "slide_type": "fragment"
    }
   },
   "source": [
    "$\\rightarrow$ **Tremendous overload** for authors with little payoff, which is not desired, especially during rebuttal."
   ]
  },
  {
   "cell_type": "markdown",
   "id": "383be45c",
   "metadata": {
    "slideshow": {
     "slide_type": "subslide"
    }
   },
   "source": [
    "### Code and Data Availability\n",
    "\n",
    "I'm **strongly against** submissions that state:\n",
    "\n",
    "*``We'll make code and data available upon acceptance''*"
   ]
  },
  {
   "cell_type": "markdown",
   "id": "7a1402f4",
   "metadata": {
    "slideshow": {
     "slide_type": "fragment"
    }
   },
   "source": [
    "**I believe this is nonsense.**"
   ]
  },
  {
   "cell_type": "markdown",
   "id": "6fdcace3",
   "metadata": {
    "slideshow": {
     "slide_type": "subslide"
    }
   },
   "source": [
    "As a reviewer in computer science, I understand that code and data are the **primary aspects** to be verified when analyzing a paper."
   ]
  },
  {
   "cell_type": "markdown",
   "id": "3990ff32",
   "metadata": {
    "slideshow": {
     "slide_type": "fragment"
    }
   },
   "source": [
    "If a paper is submitted, it means that **some code and data have been used to produce** the experimental results reported in the paper."
   ]
  },
  {
   "cell_type": "markdown",
   "id": "c73e510c",
   "metadata": {
    "slideshow": {
     "slide_type": "subslide"
    }
   },
   "source": [
    "Thus, they **should be made available** for peer-reviewing. "
   ]
  },
  {
   "cell_type": "markdown",
   "id": "69f03c20",
   "metadata": {
    "slideshow": {
     "slide_type": "fragment"
    }
   },
   "source": [
    "$\\rightarrow$ Otherwise, we **cannot entirely trust the content of a paper**, even though the method is worthy of acceptance."
   ]
  },
  {
   "cell_type": "markdown",
   "id": "5a276e4d",
   "metadata": {
    "slideshow": {
     "slide_type": "subslide"
    }
   },
   "source": [
    "Note that this does not imply to have perfectly organized or readable code."
   ]
  },
  {
   "cell_type": "markdown",
   "id": "0250e42a",
   "metadata": {
    "slideshow": {
     "slide_type": "fragment"
    }
   },
   "source": [
    "It is fine to provide something that can be executed **without much effort**. (*the bare minimum...*)"
   ]
  },
  {
   "cell_type": "markdown",
   "id": "8734cca8",
   "metadata": {
    "slideshow": {
     "slide_type": "fragment"
    }
   },
   "source": [
    "Moreover, in computer science, more than in other settings, there are several frameworks to set up reproducible environments (e.g., [Docker](https://disi.unibo.it/en/teaching/phd-programmes/computer-science-and-engineering/courses-of-the-phd-program-in-computer-science-and-engineering/phd-courses-2024-25-academic-year))."
   ]
  },
  {
   "cell_type": "markdown",
   "id": "7b656edf",
   "metadata": {
    "slideshow": {
     "slide_type": "subslide"
    }
   },
   "source": [
    "### Review Quality\n",
    "\n",
    "Based on my experience, the feeling is that several of reported reviews are **somewhat superficial, short, and mostly very generic**."
   ]
  },
  {
   "cell_type": "markdown",
   "id": "623d5cae",
   "metadata": {
    "slideshow": {
     "slide_type": "fragment"
    }
   },
   "source": [
    "$\\rightarrow$ Sometimes giving a hint of **being AI-generated**"
   ]
  },
  {
   "cell_type": "markdown",
   "id": "d5d9e29a",
   "metadata": {
    "slideshow": {
     "slide_type": "fragment"
    }
   },
   "source": [
    "$\\rightarrow$ Often associated with **high confidence rating and peaked scores** (either very low or very high)"
   ]
  },
  {
   "cell_type": "markdown",
   "id": "c13cab57",
   "metadata": {
    "slideshow": {
     "slide_type": "subslide"
    }
   },
   "source": [
    "For instance,"
   ]
  },
  {
   "cell_type": "markdown",
   "id": "62fe7234",
   "metadata": {
    "slideshow": {
     "slide_type": "fragment"
    }
   },
   "source": [
    "*``The paper should experiment with more recent models and datasets''* (**while no suggestions were provided**)"
   ]
  },
  {
   "cell_type": "markdown",
   "id": "df06b3c0",
   "metadata": {
    "slideshow": {
     "slide_type": "fragment"
    }
   },
   "source": [
    "*``The paper should be better motivated''* (**while there is a 1-page Motivation section that seems ignored**)"
   ]
  },
  {
   "cell_type": "markdown",
   "id": "335e49df",
   "metadata": {
    "slideshow": {
     "slide_type": "subslide"
    }
   },
   "source": [
    "### Reviewers' Engagement\n",
    "\n",
    "Reviewers often **stop engaging** after having provided their review."
   ]
  },
  {
   "cell_type": "markdown",
   "id": "981a94eb",
   "metadata": {
    "slideshow": {
     "slide_type": "fragment"
    }
   },
   "source": [
    "$\\rightarrow$ **Lack of acknowledgment** of having read the rebuttal (*which took a lot of time and effort*)"
   ]
  },
  {
   "cell_type": "markdown",
   "id": "00af2703",
   "metadata": {
    "slideshow": {
     "slide_type": "fragment"
    }
   },
   "source": [
    "$\\rightarrow$ Reviewers **do not or barely participate** in the rebuttal phase (*this also includes meta reviewers, unfortunately*)"
   ]
  },
  {
   "cell_type": "markdown",
   "id": "d77c938d",
   "metadata": {
    "slideshow": {
     "slide_type": "fragment"
    }
   },
   "source": [
    "$\\rightarrow$ In most cases, some crucial aspects of the rebuttal **are ignored** in the final decision (if any)"
   ]
  },
  {
   "cell_type": "markdown",
   "id": "23a4d8fa",
   "metadata": {
    "slideshow": {
     "slide_type": "fragment"
    }
   },
   "source": [
    "$\\rightarrow$ Authors are somewhat in a disadvantageous situation since they **don't know to what extent their comments are being taking into consideration**."
   ]
  },
  {
   "cell_type": "markdown",
   "id": "ecfd5a6e",
   "metadata": {
    "slideshow": {
     "slide_type": "subslide"
    }
   },
   "source": [
    "These issues are exacerbated by the author's **inability to see reviewers' discussion** also could be viewed as lack of professionalism."
   ]
  },
  {
   "cell_type": "markdown",
   "id": "d3cf1915",
   "metadata": {
    "slideshow": {
     "slide_type": "fragment"
    }
   },
   "source": [
    "$\\rightarrow$ Remember that this is all done for **free**..."
   ]
  },
  {
   "cell_type": "markdown",
   "id": "0bb945de",
   "metadata": {
    "slideshow": {
     "slide_type": "subslide"
    }
   },
   "source": [
    "### Checklists\n",
    "\n",
    "Checklist covering reproducibility and ethical aspects are more than welcome and should be part of  the default submission policy (*we'll talk about checklists later in the course*)"
   ]
  },
  {
   "cell_type": "markdown",
   "id": "c5e14ff7",
   "metadata": {
    "slideshow": {
     "slide_type": "fragment"
    }
   },
   "source": [
    "But.."
   ]
  },
  {
   "cell_type": "markdown",
   "id": "3d245571",
   "metadata": {
    "slideshow": {
     "slide_type": "fragment"
    }
   },
   "source": [
    "- They should be **properly compiled**"
   ]
  },
  {
   "cell_type": "markdown",
   "id": "d3b90bfd",
   "metadata": {
    "slideshow": {
     "slide_type": "fragment"
    }
   },
   "source": [
    "- They should be **part of the reviewing process**"
   ]
  },
  {
   "cell_type": "markdown",
   "id": "bd991766",
   "metadata": {
    "slideshow": {
     "slide_type": "fragment"
    }
   },
   "source": [
    "- They should be **taken into account** when providing an overall review score"
   ]
  },
  {
   "cell_type": "markdown",
   "id": "2f9806c7",
   "metadata": {
    "slideshow": {
     "slide_type": "subslide"
    }
   },
   "source": [
    "For instance (examples from [AAAI 2024 Reproducibility checklist](https://aaai.org/conference/aaai/aaai-23/reproducibility-checklist/)),"
   ]
  },
  {
   "cell_type": "markdown",
   "id": "344d70f7",
   "metadata": {
    "slideshow": {
     "slide_type": "fragment"
    }
   },
   "source": [
    "*Does the paper report theoretical results?* Yes (**while the paper does not contain any theoretical content**)"
   ]
  },
  {
   "cell_type": "markdown",
   "id": "35369ca7",
   "metadata": {
    "slideshow": {
     "slide_type": "fragment"
    }
   },
   "source": [
    "*Does the paper report code, data, statistical measurements, and content for reproducibility?* Yes (**while such information is nowhere found in the paper**)"
   ]
  },
  {
   "cell_type": "markdown",
   "id": "9e251abe",
   "metadata": {
    "slideshow": {
     "slide_type": "subslide"
    }
   },
   "source": [
    "It is unclear to what extent reporting or not this checklist **influence** the decision process"
   ]
  },
  {
   "cell_type": "markdown",
   "id": "e1977fdf",
   "metadata": {
    "slideshow": {
     "slide_type": "fragment"
    }
   },
   "source": [
    "$\\rightarrow$ Quite surprising since the presence and correctness of the reproducibility checklist is often the **main acceptance/rejection criteria** for a first reviewing stage."
   ]
  },
  {
   "cell_type": "markdown",
   "id": "30cead62",
   "metadata": {
    "slideshow": {
     "slide_type": "subslide"
    }
   },
   "source": [
    "### Biased perception?\n",
    "\n",
    "Is this a biased perception of many top computer science venues?"
   ]
  },
  {
   "cell_type": "markdown",
   "id": "4aee1a71",
   "metadata": {
    "slideshow": {
     "slide_type": "fragment"
    }
   },
   "source": [
    "I don't have the resources to exclude this, but my experience continuously provides evidence of that."
   ]
  },
  {
   "cell_type": "markdown",
   "id": "6dc20182",
   "metadata": {
    "slideshow": {
     "slide_type": "subslide"
    }
   },
   "source": [
    "In particular, there's a general perception of the reviewing process as a **roulette wheel**, which is problematic!"
   ]
  },
  {
   "cell_type": "markdown",
   "id": "0d941de2",
   "metadata": {
    "slideshow": {
     "slide_type": "fragment"
    }
   },
   "source": [
    "$\\rightarrow$ You are just pleased if you get some fruitful reviews... (*oh come on...*)"
   ]
  },
  {
   "cell_type": "markdown",
   "id": "d798cbf3",
   "metadata": {
    "slideshow": {
     "slide_type": "subslide"
    }
   },
   "source": [
    "More importantly, it pities me to tell fellow PhD students or researchers that their work has a **pseudo-random probability** of getting accepted because this is what you perceive."
   ]
  },
  {
   "cell_type": "markdown",
   "id": "d422c4f7",
   "metadata": {
    "slideshow": {
     "slide_type": "subslide"
    }
   },
   "source": [
    "### Consequence #6\n",
    "\n",
    "**Lack of trustworthiness** of published research and the effectiveness of current scientific communication."
   ]
  },
  {
   "cell_type": "markdown",
   "id": "6ec74d26",
   "metadata": {
    "slideshow": {
     "slide_type": "fragment"
    }
   },
   "source": [
    "$\\rightarrow$ Exacerbated for **early career researchers** who need a high number of publications to secure a research job while doing most labour- and time-intensive research activities."
   ]
  },
  {
   "cell_type": "markdown",
   "id": "137e75a0",
   "metadata": {
    "slideshow": {
     "slide_type": "fragment"
    }
   },
   "source": [
    "$\\rightarrow$ This emphasis on publication quantity is training researchers **to skimp** on detail and rigour in favour of hype and speed."
   ]
  },
  {
   "cell_type": "markdown",
   "id": "3ba0c910",
   "metadata": {
    "slideshow": {
     "slide_type": "fragment"
    }
   },
   "source": [
    "$\\rightarrow$ It also **discourages diversity and transdisciplinar**y research because it's time-consuming (*yet rewarding, in principle*)"
   ]
  },
  {
   "cell_type": "markdown",
   "id": "74fa62cd",
   "metadata": {
    "slideshow": {
     "slide_type": "slide"
    }
   },
   "source": [
    "## Are there any solutions?\n",
    "\n",
    "It is **hard to come away** from such a depiction of scientific knowledge production without worrying that the whole research system is bankrupt [[Allison et al., 2016]](https://www.nature.com/articles/530027a)"
   ]
  },
  {
   "cell_type": "markdown",
   "id": "c5b5d633",
   "metadata": {
    "slideshow": {
     "slide_type": "subslide"
    }
   },
   "source": [
    "[❓] Should you **withdraw** from your PhD after this concentrated dose of depression?"
   ]
  },
  {
   "cell_type": "markdown",
   "id": "e69f5ff5",
   "metadata": {
    "slideshow": {
     "slide_type": "fragment"
    }
   },
   "source": [
    "<center>\n",
    "<div>\n",
    "<img src=\"../Images/Lecture-2/already-dead.jpeg\" width=\"800\" alt='Already dead'/>\n",
    "</div>\n",
    "</center>"
   ]
  },
  {
   "cell_type": "markdown",
   "id": "c67433c6",
   "metadata": {
    "slideshow": {
     "slide_type": "subslide"
    }
   },
   "source": [
    "Of course **there are**, even though they are **not proper solutions exactly**, but recommendations one should follow.\n",
    "\n",
    "To be solutions, some sort of **educative process** should be distilled into researchers to some extent."
   ]
  },
  {
   "cell_type": "markdown",
   "id": "b18c3ad9",
   "metadata": {
    "slideshow": {
     "slide_type": "slide"
    }
   },
   "source": [
    "## Advocating for reproducibility\n",
    "\n",
    "There's a **growing interest** in improving reproducibility across scientific disciplines: guidelines, recommendations [[McNutt, 2014](https://www.science.org/doi/epdf/10.1126/science.1250475)]."
   ]
  },
  {
   "cell_type": "markdown",
   "id": "f5251605",
   "metadata": {
    "slideshow": {
     "slide_type": "fragment"
    }
   },
   "source": [
    "But what does **reproducible research** mean?"
   ]
  },
  {
   "cell_type": "markdown",
   "id": "5c36253b",
   "metadata": {
    "slideshow": {
     "slide_type": "subslide"
    }
   },
   "source": [
    "## Let's see what you got!\n",
    "\n",
    "Let's test your brains with another [Google form](https://forms.gle/3oPKxCmXuy8PbHRS6). (**10 mins**)"
   ]
  },
  {
   "cell_type": "markdown",
   "id": "3a39e334",
   "metadata": {
    "slideshow": {
     "slide_type": "subslide"
    }
   },
   "source": [
    "<center>\n",
    "<div>\n",
    "<img src=\"../Images/Lecture-2/qsn_reproducibility.png\" width=\"600\" alt='Reproducible Research'/>\n",
    "</div>\n",
    "</center>"
   ]
  },
  {
   "cell_type": "markdown",
   "id": "9df72a52",
   "metadata": {
    "slideshow": {
     "slide_type": "subslide"
    }
   },
   "source": [
    "### The Open Science movement\n",
    "\n",
    "\"*Open Science is transparent and accessible knowledge that is shared and developed through **collaborative networks***'' [[Vicente-Saez & Martinez-Fuentes, 2018](https://www.sciencedirect.com/science/article/pii/S0148296317305441)]\n",
    "\n",
    "$\\rightarrow$ Code, data, scientific communications, research artifacts **should be made publicly available** [[Sonnenburg et al., 2007](https://jmlr.csail.mit.edu/papers/volume8/sonnenburg07a/sonnenburg07a.pdf)]"
   ]
  },
  {
   "cell_type": "markdown",
   "id": "8fc57c1f",
   "metadata": {
    "slideshow": {
     "slide_type": "subslide"
    }
   },
   "source": [
    "### [Stodden's Best Practices Wiki](https://papers.ssrn.com/sol3/papers.cfm?abstract_id=2322276)\n",
    "\n",
    "*It's now completely acceptable for a researcher to say - here is what I did, and here are my results. [...] The presentation's core isn't about the struggle to root our error but is instead a sales pitch: **an enthusiastic presentation of ideas and a breezy demo of an implementation*** [[Donoho et al., 2009](https://ieeexplore.ieee.org/stamp/stamp.jsp?tp=&arnumber=4720218)]"
   ]
  },
  {
   "cell_type": "markdown",
   "id": "8c7a6f34",
   "metadata": {
    "slideshow": {
     "slide_type": "fragment"
    }
   },
   "source": [
    "To contrast this, reproducibility is viewed as a digital concept beginning **from data and tracing through the computational steps taken to achieve the published results**."
   ]
  },
  {
   "cell_type": "markdown",
   "id": "9da60d8e",
   "metadata": {
    "slideshow": {
     "slide_type": "fragment"
    }
   },
   "source": [
    "$\\rightarrow$ Different from replication of the experiment from first principles (e.g., regeneration of raw data, reimplementation of the data analysis de novo, etc.)"
   ]
  },
  {
   "cell_type": "markdown",
   "id": "6e8d4561",
   "metadata": {
    "slideshow": {
     "slide_type": "subslide"
    }
   },
   "source": [
    "Because of the speed of the changes occuring in scientific research, Stodden and Miguez implement their best practices as a Wiki."
   ]
  },
  {
   "cell_type": "markdown",
   "id": "56f27a63",
   "metadata": {
    "slideshow": {
     "slide_type": "fragment"
    }
   },
   "source": [
    "- Make your data, code, supplementary material and other artifacts **publicly available** (including versioning, raw data availability, storage capabilities, etc..)"
   ]
  },
  {
   "cell_type": "markdown",
   "id": "9356427c",
   "metadata": {
    "slideshow": {
     "slide_type": "fragment"
    }
   },
   "source": [
    "- Provide **version control** for data and code"
   ]
  },
  {
   "cell_type": "markdown",
   "id": "399adc64",
   "metadata": {
    "slideshow": {
     "slide_type": "fragment"
    }
   },
   "source": [
    "- Make sure you **cite original authors** if using external data, code, etc..."
   ]
  },
  {
   "cell_type": "markdown",
   "id": "7f713210",
   "metadata": {
    "slideshow": {
     "slide_type": "subslide"
    }
   },
   "source": [
    "### Transparency\n",
    "\n",
    "Share your data, code, results in an accessible way. \n",
    "\n",
    "- It adds **confidence** to your work\n",
    "- It allows **easier** and **fair** comparison\n",
    "- Enforces you to act **thoughtfully** and **carefully**: document your steps, write clean code, fill checklists\n",
    "- Replication of mistakes $\\rightarrow$ code availability doesn't mean **correctness** but it's a good starting point!"
   ]
  },
  {
   "cell_type": "markdown",
   "id": "ad457f18",
   "metadata": {
    "slideshow": {
     "slide_type": "slide"
    }
   },
   "source": [
    "## Reproducible Research \n",
    "\n",
    "According to [[Pineau et al., 2021]](https://jmlr2020.csail.mit.edu/papers/volume22/20-303/20-303.pdf), we distinguish:\n",
    "\n",
    "<center>\n",
    "<div>\n",
    "<img src=\"../Images/Lecture-2/reproducible_research.png\" width=\"1000\" alt='reproducible_research'/>\n",
    "</div>\n",
    "</center>\n",
    "\n",
    "- <u>**Reproducible**</u>: re-doing an experiment using the **same data** and **same analytical tools**\n",
    "- **Replicable**: considers **different data** (presumably, from the same distribution)\n",
    "- <u>**Robust**</u>: assumes the **same data** but **different analysis** (e.g., code re-implementation, different hardware, different architecture, etc..)\n",
    "- **Generalisable**: leads to the **same conclusions** despite considering **different data** and **different analytical tools**"
   ]
  },
  {
   "cell_type": "markdown",
   "id": "8ce44835",
   "metadata": {
    "slideshow": {
     "slide_type": "subslide"
    }
   },
   "source": [
    "### Not a single definition\n",
    "\n",
    "A research finding is **reproducible** if the code and data used to obtain the finding are **available** and the data is **correctly analyzed** [[Kapoor & Narayanan, 2022](https://arxiv.org/pdf/2207.07048.pdf)]"
   ]
  },
  {
   "cell_type": "markdown",
   "id": "20bf5e42",
   "metadata": {
    "slideshow": {
     "slide_type": "fragment"
    }
   },
   "source": [
    "$\\rightarrow$ A more **broader** definition than **computational reproducibility**: when the results in a paper can be replicated using the **exact code** and **dataset** provided by the authors"
   ]
  },
  {
   "cell_type": "markdown",
   "id": "2af76bc2",
   "metadata": {
    "slideshow": {
     "slide_type": "subslide"
    }
   },
   "source": [
    "[[Bouthillier et al., 2019]](https://proceedings.mlr.press/v97/bouthillier19a/bouthillier19a.pdf) extend this notion to *reproducibility of the findings*."
   ]
  },
  {
   "cell_type": "markdown",
   "id": "7aabeeab",
   "metadata": {
    "slideshow": {
     "slide_type": "fragment"
    }
   },
   "source": [
    "*``We argue that the  commendable quest towards easy deterministic reproducibility of methods and numerical results should not have us forget the even more important necessity of ensuring the **reproducibility of empirical findings and conclusions by properly accounting for essential sources of variations**''*"
   ]
  },
  {
   "cell_type": "markdown",
   "id": "0d291604",
   "metadata": {
    "slideshow": {
     "slide_type": "subslide"
    }
   },
   "source": [
    "In short, they show that even if the results of an experiment can be reproduced, **a slightly different experiment would  not support the findings**. (*remember the GANs and LSTMs experiments...*)"
   ]
  },
  {
   "cell_type": "markdown",
   "id": "84c8070a",
   "metadata": {
    "slideshow": {
     "slide_type": "fragment"
    }
   },
   "source": [
    "Most importantly, attempts to address sources of variations (e.g., stochastic effets) **may weaken the generality of conclusions**!"
   ]
  },
  {
   "cell_type": "markdown",
   "id": "5ea908fe",
   "metadata": {
    "slideshow": {
     "slide_type": "subslide"
    }
   },
   "source": [
    "[[Bouthillier et al., 2019]](https://proceedings.mlr.press/v97/bouthillier19a/bouthillier19a.pdf) uses the notion of reproducibility of [[Goodman et al., 2016]](https://www.science.org/doi/10.1126/scitranslmed.aaf5027) to avoid ambiguity"
   ]
  },
  {
   "cell_type": "markdown",
   "id": "e392cea9",
   "metadata": {
    "slideshow": {
     "slide_type": "fragment"
    }
   },
   "source": [
    "- **Methods Reproducibility**: A method is reproducible if reusing the original code leads to the same results."
   ]
  },
  {
   "cell_type": "markdown",
   "id": "17d17d79",
   "metadata": {
    "slideshow": {
     "slide_type": "fragment"
    }
   },
   "source": [
    "- **Results Reproducibility**: A result is reproducible if a re-implementation of the method generates statistically similar values."
   ]
  },
  {
   "cell_type": "markdown",
   "id": "5875195d",
   "metadata": {
    "slideshow": {
     "slide_type": "fragment"
    }
   },
   "source": [
    "- **Inferential Reproducibility**: A finding or a conclusion is reproducible if one can draw it from a different experimental setup."
   ]
  },
  {
   "cell_type": "markdown",
   "id": "724976ae",
   "metadata": {
    "slideshow": {
     "slide_type": "subslide"
    }
   },
   "source": [
    "In general, there is **no consensus** about the term reproducibility, but all attempts aim at addressing the same suite of flaws in research."
   ]
  },
  {
   "cell_type": "markdown",
   "id": "efbd96d4",
   "metadata": {
    "slideshow": {
     "slide_type": "subslide"
    }
   },
   "source": [
    "### What are we going to cover\n",
    "\n",
    "There's a lot about reproducibility to cover, spanning across several steps of (computer science) research."
   ]
  },
  {
   "cell_type": "markdown",
   "id": "2cb85a0f",
   "metadata": {
    "slideshow": {
     "slide_type": "fragment"
    }
   },
   "source": [
    "- How data should be **created, annotated, distributed, maintained, etc.**"
   ]
  },
  {
   "cell_type": "markdown",
   "id": "47780f1e",
   "metadata": {
    "slideshow": {
     "slide_type": "fragment"
    }
   },
   "source": [
    "- How data should be **partitioned**"
   ]
  },
  {
   "cell_type": "markdown",
   "id": "e1e1c1fe",
   "metadata": {
    "slideshow": {
     "slide_type": "fragment"
    }
   },
   "source": [
    "- How a model evaluation experiment should be set up for **fair evaluation and analysis**"
   ]
  },
  {
   "cell_type": "markdown",
   "id": "b777199f",
   "metadata": {
    "slideshow": {
     "slide_type": "fragment"
    }
   },
   "source": [
    "- How code **should be set up** to carry out experiments"
   ]
  },
  {
   "cell_type": "markdown",
   "id": "27cee3e5",
   "metadata": {
    "slideshow": {
     "slide_type": "slide"
    }
   },
   "source": [
    "## Concluding Remarks\n",
    "\n",
    "- Ensuring reproducible and robust research is still an **open problem**"
   ]
  },
  {
   "cell_type": "markdown",
   "id": "df196cd7",
   "metadata": {
    "slideshow": {
     "slide_type": "fragment"
    }
   },
   "source": [
    "- There are **several ways** for documenting and keeping track of experiments $\\rightarrow$ **overhead**? **effectiveness**?"
   ]
  },
  {
   "cell_type": "markdown",
   "id": "2c89397e",
   "metadata": {
    "slideshow": {
     "slide_type": "fragment"
    }
   },
   "source": [
    "- There are **several recommendations** to avoid **erroneous decision making** in your experimental approach"
   ]
  },
  {
   "cell_type": "markdown",
   "id": "36ee07b4",
   "metadata": {
    "slideshow": {
     "slide_type": "fragment"
    }
   },
   "source": [
    "- Ensuring a **clean coding environment** is crucial"
   ]
  },
  {
   "cell_type": "markdown",
   "id": "b9bba58a",
   "metadata": {
    "slideshow": {
     "slide_type": "slide"
    }
   },
   "source": [
    "# Any questions?\n",
    "\n",
    "<center>\n",
    "<div>\n",
    "<img src=\"../Images/Lecture-2/jojo-arrivederci.gif\" width=\"1000\" alt='JOJO_arrivederci'/>\n",
    "</div>\n",
    "</center>"
   ]
  }
 ],
 "metadata": {
  "celltoolbar": "Slideshow",
  "kernelspec": {
   "display_name": "Python 3 (ipykernel)",
   "language": "python",
   "name": "python3"
  },
  "language_info": {
   "codemirror_mode": {
    "name": "ipython",
    "version": 3
   },
   "file_extension": ".py",
   "mimetype": "text/x-python",
   "name": "python",
   "nbconvert_exporter": "python",
   "pygments_lexer": "ipython3",
   "version": "3.10.12"
  }
 },
 "nbformat": 4,
 "nbformat_minor": 5
}
