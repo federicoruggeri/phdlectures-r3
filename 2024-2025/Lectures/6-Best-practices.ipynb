{
 "cells": [
  {
   "cell_type": "markdown",
   "id": "0a257cf3",
   "metadata": {
    "slideshow": {
     "slide_type": "slide"
    }
   },
   "source": [
    "## About last lecture\n",
    "\n",
    "- Checklists represent a **way to document research** while trading-off content quality and clarity with workload"
   ]
  },
  {
   "cell_type": "markdown",
   "id": "30fe92eb",
   "metadata": {
    "slideshow": {
     "slide_type": "fragment"
    }
   },
   "source": [
    "- They are still only recommendations and they can be quite **time-consuming with barely no reward** (feel depressed again?)"
   ]
  },
  {
   "cell_type": "markdown",
   "id": "6f88a30f",
   "metadata": {
    "slideshow": {
     "slide_type": "fragment"
    }
   },
   "source": [
    "- Still, researchers should be **educated to be responsible**. Each output is a building block for the next ones."
   ]
  },
  {
   "cell_type": "markdown",
   "id": "f48d0c4e",
   "metadata": {
    "slideshow": {
     "slide_type": "slide"
    }
   },
   "source": [
    "## It's time to talk about coding!\n",
    "\n",
    "<center>\n",
    "<div>\n",
    "<img src=\"../Images/Lecture-6/programming-skills.png\" width=\"1800\" alt='programming_skills'/>\n",
    "</div>\n",
    "</center>\n"
   ]
  },
  {
   "cell_type": "markdown",
   "id": "d1a981a9",
   "metadata": {
    "slideshow": {
     "slide_type": "slide"
    }
   },
   "source": [
    "## Why do we care about coding?\n",
    "\n",
    "Whether you like it or not, experimental setting might require you to do some coding stuff."
   ]
  },
  {
   "cell_type": "markdown",
   "id": "16b48517",
   "metadata": {
    "slideshow": {
     "slide_type": "subslide"
    }
   },
   "source": [
    "Coding translates to: \n",
    "\n",
    "1. Transparency (*don't you dare do some cheap tricks!*)\n",
    "2. Correctness (*your code should reflect your paper statements*) \n",
    "3. **Readability** (*please, don't make this a nightmare*)\n",
    "4. Efficiency (*time is money*)\n",
    "5. **Maintainability** (*I'm sure you'll re-use this code*)"
   ]
  },
  {
   "cell_type": "markdown",
   "id": "d9ee19f6",
   "metadata": {
    "slideshow": {
     "slide_type": "slide"
    }
   },
   "source": [
    "## About this lecture\n",
    "\n",
    "- Debugging\n",
    "- General coding best practices\n",
    "- Code documentation"
   ]
  },
  {
   "cell_type": "markdown",
   "id": "2b9afc8f",
   "metadata": {
    "slideshow": {
     "slide_type": "fragment"
    }
   },
   "source": [
    "*The 5-minute-in-the-future of yourself and your friends will appreciate!*"
   ]
  },
  {
   "cell_type": "markdown",
   "id": "f14b02b9",
   "metadata": {
    "slideshow": {
     "slide_type": "slide"
    }
   },
   "source": [
    "# Debugging\n",
    "\n",
    "<center>\n",
    "<div>\n",
    "<img src=\"../Images/Lecture-6/programming-meme.png\" width=\"350\"/>\n",
    "</div>\n",
    "</center>\n"
   ]
  },
  {
   "cell_type": "markdown",
   "id": "ebb46f01",
   "metadata": {
    "slideshow": {
     "slide_type": "subslide"
    }
   },
   "source": [
    "### What are we going to see\n",
    "\n",
    "- Using a debugger\n",
    "- Type hints, annotations, typechecking\n",
    "- Logging\n",
    "- Assertions and Unit tests\n",
    "- Profiling"
   ]
  },
  {
   "cell_type": "markdown",
   "id": "77c3ab05",
   "metadata": {
    "slideshow": {
     "slide_type": "slide"
    }
   },
   "source": [
    "## As always, let's first check your experience!\n",
    "\n",
    "Time for another [Google Form](https://forms.gle/DSjiz1v85PfTtwuw5) (**10 mins**)"
   ]
  },
  {
   "cell_type": "markdown",
   "id": "e734f1b9",
   "metadata": {
    "slideshow": {
     "slide_type": "subslide"
    }
   },
   "source": [
    "<center>\n",
    "<div>\n",
    "<img src=\"../Images/Lecture-6/qsn_coding.png\" width=\"600\" alt='Debugging'/>\n",
    "</div>\n",
    "</center>"
   ]
  },
  {
   "cell_type": "markdown",
   "id": "e6aaebbd",
   "metadata": {
    "slideshow": {
     "slide_type": "slide"
    }
   },
   "source": [
    "### The debugging slice\n",
    "\n",
    "Whether you've already realized it or you still have to, debugging usually takes **around 90%** of your work time\n",
    "\n",
    "- 9% the idea\n",
    "- 1% code writing\n",
    "- 90% debugging"
   ]
  },
  {
   "cell_type": "markdown",
   "id": "6aa16732",
   "metadata": {
    "slideshow": {
     "slide_type": "fragment"
    }
   },
   "source": [
    "It is tiresome, boring, stressful, annoying $\\rightarrow$ **we all know that!**"
   ]
  },
  {
   "cell_type": "markdown",
   "id": "5441e29a",
   "metadata": {
    "slideshow": {
     "slide_type": "subslide"
    }
   },
   "source": [
    "#### My point\n",
    "\n",
    "- We **don't really need** to be <u>good</u> programmers to write correct code (*what do you with mean with 'good'?*)"
   ]
  },
  {
   "cell_type": "markdown",
   "id": "887ee470",
   "metadata": {
    "slideshow": {
     "slide_type": "fragment"
    }
   },
   "source": [
    "- This lecture is **not** a computer science 101 course about programming (*I'm far from being competent on this matter*)"
   ]
  },
  {
   "cell_type": "markdown",
   "id": "7805bb35",
   "metadata": {
    "slideshow": {
     "slide_type": "fragment"
    }
   },
   "source": [
    "- What I want to say is that you should learn **how to think** to tackle debugging"
   ]
  },
  {
   "cell_type": "markdown",
   "id": "f6484209",
   "metadata": {
    "slideshow": {
     "slide_type": "subslide"
    }
   },
   "source": [
    "#### Debugging is like an investigation game where you have to find the culprit, and usually the culprit is you!"
   ]
  },
  {
   "cell_type": "markdown",
   "id": "a76e2a21",
   "metadata": {
    "slideshow": {
     "slide_type": "subslide"
    }
   },
   "source": [
    "#### What are our weapons?"
   ]
  },
  {
   "cell_type": "markdown",
   "id": "bdce8be4",
   "metadata": {
    "slideshow": {
     "slide_type": "fragment"
    }
   },
   "source": [
    "- [**Dynamic**] Debugger\n",
    "- [**Static**] Type hints\n",
    "- [**Dynamic**] Typechecking\n",
    "- [**Dynamic**] Assertions\n",
    "- [**Static**] Logging\n",
    "- [**Dynamic**] Unit tests\n",
    "- [**Dynamic**] Profiling"
   ]
  },
  {
   "cell_type": "markdown",
   "id": "8d2e72a7",
   "metadata": {
    "slideshow": {
     "slide_type": "fragment"
    }
   },
   "source": [
    "All these methods, **combined**, allow us to better inspect our code to find unwanted behaviours/features (*bugs*)"
   ]
  },
  {
   "cell_type": "markdown",
   "id": "fde2fbde",
   "metadata": {
    "slideshow": {
     "slide_type": "slide"
    }
   },
   "source": [
    "### Using a Debugger\n",
    "\n",
    "Long story short, we have a powerful tool to inspect our code"
   ]
  },
  {
   "cell_type": "markdown",
   "id": "975cc5d0",
   "metadata": {
    "slideshow": {
     "slide_type": "fragment"
    }
   },
   "source": [
    "- Stop using ```print(...)``` for debugging"
   ]
  },
  {
   "cell_type": "markdown",
   "id": "35d23bf7",
   "metadata": {
    "slideshow": {
     "slide_type": "fragment"
    }
   },
   "source": [
    "- Stop running your script piecewise"
   ]
  },
  {
   "cell_type": "markdown",
   "id": "9d3b63bc",
   "metadata": {
    "slideshow": {
     "slide_type": "fragment"
    }
   },
   "source": [
    "- Just use a **debugger**"
   ]
  },
  {
   "cell_type": "markdown",
   "id": "cdccf4d7",
   "metadata": {
    "slideshow": {
     "slide_type": "fragment"
    }
   },
   "source": [
    "- Just use a **debugger**"
   ]
  },
  {
   "cell_type": "markdown",
   "id": "50c88745",
   "metadata": {
    "slideshow": {
     "slide_type": "fragment"
    }
   },
   "source": [
    "- Got it?"
   ]
  },
  {
   "cell_type": "markdown",
   "id": "0f7553a5",
   "metadata": {
    "slideshow": {
     "slide_type": "subslide"
    }
   },
   "source": [
    "There are **many powerful IDEs** that support a debugger: PyCharm, Spider, VisualStudio Code"
   ]
  },
  {
   "cell_type": "markdown",
   "id": "8566a2e8",
   "metadata": {
    "slideshow": {
     "slide_type": "fragment"
    }
   },
   "source": [
    "#### Unless you are a skilled programmer (*why would you do that?*), just avoid programming with \n",
    "   - text editors like vim, sublimetext, nano, notepad++, etc.\n",
    "   - notebooks (*unless you need to run real experiments, not all of us are rich and have personal GPUs*)\n",
    "\n",
    "$\\rightarrow$ *personal opinion*"
   ]
  },
  {
   "cell_type": "markdown",
   "id": "b4a161c1",
   "metadata": {
    "slideshow": {
     "slide_type": "subslide"
    }
   },
   "source": [
    "#### What if we can't use an IDE (e.g., working on a remote server without GUI)?\n",
    "\n",
    "Python has a neat functionality that allows to run the Python Debugger [```pdb```](https://docs.python.org/3/library/pdb.html#debugger-commands) from command line"
   ]
  },
  {
   "cell_type": "markdown",
   "id": "aecfad1f",
   "metadata": {
    "slideshow": {
     "slide_type": "fragment"
    }
   },
   "source": [
    "$\\rightarrow$ just run your python script with ```python -i myscript.py``` for interactive mode and\n",
    "\n",
    "```\n",
    "    import pdb\n",
    "    pdb.pm()   # <-- run post-mortem debugger\n",
    "```"
   ]
  },
  {
   "cell_type": "code",
   "execution_count": null,
   "id": "97eb6cf3",
   "metadata": {
    "slideshow": {
     "slide_type": "subslide"
    }
   },
   "outputs": [],
   "source": [
    "# crashing_app.py\n",
    "SOME_VAR = 42\n",
    "\n",
    "class SomeError(Exception):\n",
    "    pass\n",
    "\n",
    "def func():\n",
    "    raise SomeError(\"Something went wrong...\")\n",
    "\n",
    "func()"
   ]
  },
  {
   "cell_type": "code",
   "execution_count": null,
   "id": "2ba4fc5d",
   "metadata": {
    "slideshow": {
     "slide_type": "subslide"
    }
   },
   "outputs": [],
   "source": [
    "!python3 -i crashing_app.py\n",
    "\n",
    "Traceback (most recent call last):\n",
    "  File \"crashing_app.py\", line 9, in <module>\n",
    "    func()\n",
    "  File \"crashing_app.py\", line 7, in func\n",
    "    raise SomeError(\"Something went wrong...\")\n",
    "__main__.SomeError: Something went wrong...\n",
    ">>> # We are interactive shell\n",
    ">>> import pdb\n",
    ">>> pdb.pm()  # start Post-Mortem debugger\n",
    "> .../crashing_app.py(7)func()\n",
    "-> raise SomeError(\"Something went wrong...\")\n",
    "(Pdb) # Now we are in debugger and can poke around \n",
    "      # and run some commands:\n",
    "(Pdb) p SOME_VAR  # Print value of variable\n",
    "42\n",
    "(Pdb) l  # List surrounding code we are working with\n",
    "  2\n",
    "  3  \tclass SomeError(Exception):\n",
    "  4  \t    pass\n",
    "  5\n",
    "  6  \tdef func():\n",
    "  7  ->\t    raise SomeError(\"Something went wrong...\")\n",
    "  8\n",
    "  9  \tfunc()\n",
    "[EOF]\n",
    "(Pdb)  # Continue debugging... set breakpoints, step through the code.."
   ]
  },
  {
   "cell_type": "markdown",
   "id": "796ffbb8",
   "metadata": {
    "slideshow": {
     "slide_type": "slide"
    }
   },
   "source": [
    "### Type hints [[Read1](https://peps.python.org/pep-0483/), [Read2](https://bernat.tech/posts/the-state-of-type-hints-in-python/)]\n",
    "\n",
    "If debugging is our dynamic way of inspecting code, type hints are our way to **statically analyze it**"
   ]
  },
  {
   "cell_type": "code",
   "execution_count": null,
   "id": "1ad40c22",
   "metadata": {
    "slideshow": {
     "slide_type": "fragment"
    }
   },
   "outputs": [],
   "source": [
    "from typing import Typle, List\n",
    "\n",
    "# With type hints\n",
    "def parse_inputs(input_data: Tuple[str, int]) -> [List[int], int]:\n",
    "    text, label = input_data\n",
    "    text = preprocess_text(text=text)\n",
    "    tokens = vocab(tokenizer(text))\n",
    "    return tokens, label\n",
    "\n",
    "\n",
    "# Without type hints\n",
    "def parse_inputs(input_data):\n",
    "    text, label = input_data\n",
    "    text = preprocess_text(text=text)\n",
    "    tokens = vocab(tokenizer(text))\n",
    "    return tokens, label"
   ]
  },
  {
   "cell_type": "markdown",
   "id": "eafc54b2",
   "metadata": {
    "slideshow": {
     "slide_type": "subslide"
    }
   },
   "source": [
    "#### Advantages\n",
    "\n",
    "1. **Integrated** documentation with code $\\rightarrow$ **much more readable** than docstrings\n",
    "2. Accurate code **re-factoring** for IDEs\n",
    "3. Allows code **auto-completion** for IDEs\n",
    "4. Linters (included in IDEs) can tell **wrong function calls** based on type hints $\\rightarrow$ warnings!!\n",
    "5. We can define **compund types** like ```List[int]```"
   ]
  },
  {
   "cell_type": "markdown",
   "id": "821c808b",
   "metadata": {
    "slideshow": {
     "slide_type": "fragment"
    }
   },
   "source": [
    "#### Disadvantages\n",
    "\n",
    "1. We need at least ```Python 3.6``` (*reasonable, we are in 2025...*)\n",
    "2. May have **conflicts with docstrings** depending on the tool used $\\rightarrow$ check for plugins!\n",
    "3. Minor added computation **overhead**\n",
    "4. Forces to import **all type dependencies**, even though they are not used at runtime at all\n",
    "5. Compound type may require some **additional operations** by the interpreter"
   ]
  },
  {
   "cell_type": "markdown",
   "id": "57cf23d7",
   "metadata": {
    "slideshow": {
     "slide_type": "subslide"
    }
   },
   "source": [
    "Points [**4-5**] are solved via post-poned evaluation of annotations (*requires ```Python 3.7```*)"
   ]
  },
  {
   "cell_type": "code",
   "execution_count": 2,
   "id": "e10b5f6f",
   "metadata": {
    "slideshow": {
     "slide_type": "fragment"
    }
   },
   "outputs": [],
   "source": [
    "# w/o post-poned evaluation\n",
    "class A:\n",
    "    def f(self) -> A: # NameError: name 'A' is not defined\n",
    "        pass\n",
    "    \n",
    "# w/ post-poned evaluation\n",
    "from __future__ import annotations\n",
    "\n",
    "class A:\n",
    "    def f(self) -> A:\n",
    "        pass"
   ]
  },
  {
   "cell_type": "markdown",
   "id": "f9429b3c",
   "metadata": {
    "slideshow": {
     "slide_type": "subslide"
    }
   },
   "source": [
    "#### An example\n",
    "\n",
    "We can use Python's reference linter ```mypy``` to run our type hinted code\n",
    "\n",
    "You may need to install it \n",
    "\n",
    "```pip install mypy```"
   ]
  },
  {
   "cell_type": "code",
   "execution_count": null,
   "id": "e0441257",
   "metadata": {
    "slideshow": {
     "slide_type": "subslide"
    }
   },
   "outputs": [],
   "source": [
    "from typing import Union\n",
    "\n",
    "\n",
    "class CustomClass:\n",
    "    def __init__(self, identifier: Union[str, int], name: str):\n",
    "        self.identifier = identifier\n",
    "        self.name = name\n",
    "\n",
    "\n",
    "x = CustomClass(identifier=3.0, name='test')   # this is incorrect\n",
    "print(x.identifiers)                           # this does not exist"
   ]
  },
  {
   "cell_type": "code",
   "execution_count": null,
   "id": "f46c8653",
   "metadata": {
    "slideshow": {
     "slide_type": "fragment"
    }
   },
   "outputs": [],
   "source": [
    "!mypy mypy_example.py \n",
    "\n",
    ">>>> mypy_example.py:11: error: Argument \"identifier\" to \"CustomClass\" \n",
    "    has incompatible type \"float\"; expected \"str | int\"  [arg-type]\n",
    ">>>> mypy_example.py:12: error: \"CustomClass\" has no attribute \n",
    "    \"identifiers\"; maybe \"identifier\"?  [attr-defined]\n",
    ">>>> Found 2 errors in 1 file (checked 1 source file)"
   ]
  },
  {
   "cell_type": "markdown",
   "id": "364adc1a",
   "metadata": {
    "slideshow": {
     "slide_type": "subslide"
    }
   },
   "source": [
    "#### Types of type hints\n",
    "\n",
    "- **Nominal types**: ```int```, ```float```, ```bool```, etc... (*all bultin type*)"
   ]
  },
  {
   "cell_type": "markdown",
   "id": "c2dfd5ca",
   "metadata": {
    "slideshow": {
     "slide_type": "fragment"
    }
   },
   "source": [
    "- **Compound types**: ```List[int]```\n",
    "    - We can also define type aliases for readability: ```CustomType = Optional[List[int], Dict[str, str]]```"
   ]
  },
  {
   "cell_type": "markdown",
   "id": "835dd510",
   "metadata": {
    "slideshow": {
     "slide_type": "fragment"
    }
   },
   "source": [
    "- **Compotional types**: ```Union[...]``` (*one of*), ```Intersection[...]``` (*each one*), ```Optional[...]``` (*can be None*)"
   ]
  },
  {
   "cell_type": "markdown",
   "id": "a1cec989",
   "metadata": {
    "slideshow": {
     "slide_type": "fragment"
    }
   },
   "source": [
    "- **Generic types**:"
   ]
  },
  {
   "cell_type": "code",
   "execution_count": null,
   "id": "46110c90",
   "metadata": {
    "slideshow": {
     "slide_type": "fragment"
    }
   },
   "outputs": [],
   "source": [
    "from typing import TypeVar, Generic, Iterable, Iterator\n",
    "\n",
    "T = TypeVar('T')   # must use the same variable name\n",
    "\n",
    "class CustomClass(Generic[T]):\n",
    "    def __init__(self, value: T) -> None:\n",
    "        self.value: T = value\n",
    "            \n",
    "    def get_iterator(values: Iterable[CustomClass[int]]) -> Iterator:\n",
    "        for value in values:\n",
    "            yield value"
   ]
  },
  {
   "cell_type": "markdown",
   "id": "26e2749b",
   "metadata": {
    "slideshow": {
     "slide_type": "subslide"
    }
   },
   "source": [
    "####  Proper function overloading\n",
    "\n",
    "Suppose you have the following function"
   ]
  },
  {
   "cell_type": "code",
   "execution_count": null,
   "id": "978fd145",
   "metadata": {
    "slideshow": {
     "slide_type": "fragment"
    }
   },
   "outputs": [],
   "source": [
    "def do_stuff(x: Union[int, List[int]]) -> Union[int, List[int]]:\n",
    "    ..."
   ]
  },
  {
   "cell_type": "markdown",
   "id": "85d30c78",
   "metadata": {
    "slideshow": {
     "slide_type": "fragment"
    }
   },
   "source": [
    "The type hinter understands that you can call ```do_stuff``` with\n",
    "   - ```input x is int returns int```\n",
    "   - ```input x is int returns List[int]```\n",
    "   - ```input x is List[int] returns int```\n",
    "   - ```input x is List[int] returns List[int]```\n",
    "  "
   ]
  },
  {
   "cell_type": "markdown",
   "id": "9364248d",
   "metadata": {
    "slideshow": {
     "slide_type": "fragment"
    }
   },
   "source": [
    "#### How to avoid this?"
   ]
  },
  {
   "cell_type": "code",
   "execution_count": null,
   "id": "6244abf0",
   "metadata": {
    "slideshow": {
     "slide_type": "subslide"
    }
   },
   "outputs": [],
   "source": [
    "from typing import overload\n",
    "\n",
    "@overload\n",
    "def do_stuff(x: int) -> int:\n",
    "    ...\n",
    "    \n",
    "@overload\n",
    "def do_stuff(x: List[int]) -> List[int]:\n",
    "    ...\n",
    "\n",
    "\n",
    "def do_stuff(x: Union[int, List[int]]) -> Union[int, List[int]]:\n",
    "    ..."
   ]
  },
  {
   "cell_type": "markdown",
   "id": "bd83e10b",
   "metadata": {
    "slideshow": {
     "slide_type": "fragment"
    }
   },
   "source": [
    "Actually, we **should rely** on patterns like ```functools.singledispatch``` or [```multipledispatch```](https://pypi.org/project/multipledispatch/)\n",
    "\n",
    "$\\rightarrow$ check [this interesting blog](https://martinheinz.dev/blog/50) about proper function overloading"
   ]
  },
  {
   "cell_type": "markdown",
   "id": "175a1459",
   "metadata": {
    "slideshow": {
     "slide_type": "subslide"
    }
   },
   "source": [
    "#### What type hints don't do\n",
    "\n",
    "- Runtime type inference $\\rightarrow$ we need some libraries that leverage type hints\n",
    "- No performance tuning (*by the interpreter*) $\\rightarrow$ type hints are treated just like comments"
   ]
  },
  {
   "cell_type": "markdown",
   "id": "bcdc317f",
   "metadata": {
    "slideshow": {
     "slide_type": "fragment"
    }
   },
   "source": [
    "#### Only type hinted code is type-checked!"
   ]
  },
  {
   "cell_type": "markdown",
   "id": "861eb0cb",
   "metadata": {
    "slideshow": {
     "slide_type": "subslide"
    }
   },
   "source": [
    "#### Bonus: type hints and Sphinx for merging documentation\n",
    "\n",
    "We can remove all typing information from docstrings and infer them from type hints"
   ]
  },
  {
   "cell_type": "markdown",
   "id": "a6909025",
   "metadata": {
    "slideshow": {
     "slide_type": "fragment"
    }
   },
   "source": [
    "Sphinx has the plugin [```agronoholm/sphinx-autodoc-typehints```](https://github.com/agronholm/sphinx-autodoc-typehints)"
   ]
  },
  {
   "cell_type": "markdown",
   "id": "d9be2ae4",
   "metadata": {
    "slideshow": {
     "slide_type": "fragment"
    }
   },
   "source": [
    "Then add the following extensions to Sphinx's ```conf.py```\n",
    "\n",
    "```\n",
    "extensions = [\"sphinx.ext.autodoc\", \"sphinx_autodoc_typehints\"]\n",
    "```"
   ]
  },
  {
   "cell_type": "markdown",
   "id": "eb1b7cbd",
   "metadata": {
    "slideshow": {
     "slide_type": "slide"
    }
   },
   "source": [
    "### Typechecking\n",
    "\n",
    "Type hints **do not** perform type checking at execution time!\n",
    "\n",
    "$\\rightarrow$ you may still **pass wrong typed data** without raising any error"
   ]
  },
  {
   "cell_type": "markdown",
   "id": "a262ca9f",
   "metadata": {
    "slideshow": {
     "slide_type": "fragment"
    }
   },
   "source": [
    "#### Typechecking leverages type hints to perform execution control\n",
    "\n",
    "There exist several libraries for doing typechecking: [Enforce](https://pypi.org/project/enforce/), [Pydantic](https://pypi.org/project/pydantic/), [Pytypes](https://pypi.org/project/pytypes/), and [Typeguard](https://pypi.org/project/typeguard/) are among the most popular ones"
   ]
  },
  {
   "cell_type": "markdown",
   "id": "72270dae",
   "metadata": {
    "slideshow": {
     "slide_type": "subslide"
    }
   },
   "source": [
    "### [An example with Pydantic](https://lyz-code.github.io/blue-book/coding/python/pydantic_functions/)"
   ]
  },
  {
   "cell_type": "code",
   "execution_count": null,
   "id": "20990521",
   "metadata": {
    "slideshow": {
     "slide_type": "fragment"
    }
   },
   "outputs": [],
   "source": [
    "from pydantic import validate_arguments, ValidationError\n",
    "\n",
    "@validate_arguments\n",
    "def repeat(s: str, count: int, *, separator: bytes = b'') -> bytes:\n",
    "    b = s.encode()\n",
    "    return separator.join(b for _ in range(count))\n",
    "\n",
    "a = repeat('hello', 3)\n",
    "print(a)\n",
    "#> b'hellohellohello'\n",
    "\n",
    "b = repeat('x', '4', separator=' ')\n",
    "print(b)\n",
    "#> b'x x x x'\n",
    "\n",
    "try:\n",
    "    c = repeat('hello', 'wrong')\n",
    "except ValidationError as exc:\n",
    "    print(exc)\n",
    "    \"\"\"\n",
    "    1 validation error for Repeat\n",
    "    count\n",
    "      value is not a valid integer (type=type_error.integer)\n",
    "    \"\"\""
   ]
  },
  {
   "cell_type": "markdown",
   "id": "73f1c7d2",
   "metadata": {
    "slideshow": {
     "slide_type": "slide"
    }
   },
   "source": [
    "### Logging [[Read1](https://martinheinz.dev/blog/24)]\n",
    "\n",
    "**Not having any logs** from your application can make it very difficult to troubleshoot any bugs.\n",
    "\n",
    "$\\rightarrow$ replace ```print(...)``` with ```logging.info(...)```"
   ]
  },
  {
   "cell_type": "code",
   "execution_count": null,
   "id": "961c979a",
   "metadata": {
    "slideshow": {
     "slide_type": "fragment"
    }
   },
   "outputs": [],
   "source": [
    "import logging\n",
    "logging.basicConfig(\n",
    "    filename='application.log',\n",
    "    level=logging.WARNING,\n",
    "    format= '[%(asctime)s] {%(pathname)s:%(lineno)d}'\\ \n",
    "            '%(levelname)s - %(message)s',\n",
    "    datefmt='%H:%M:%S'\n",
    ")\n",
    "\n",
    "logging.info('Here AAAAAAAAAAH')\n",
    "logging.error(\"Some serious error occurred.\")\n",
    "logging.warning('Function you are using is deprecated.')"
   ]
  },
  {
   "cell_type": "markdown",
   "id": "82775534",
   "metadata": {
    "slideshow": {
     "slide_type": "subslide"
    }
   },
   "source": [
    "#### Decorating functions to avoid messing up their body"
   ]
  },
  {
   "cell_type": "code",
   "execution_count": null,
   "id": "0c644980",
   "metadata": {
    "slideshow": {
     "slide_type": "fragment"
    }
   },
   "outputs": [],
   "source": [
    "from functools import wraps, partial\n",
    "import logging\n",
    "\n",
    "# Helper function that attaches function as attribute of an object\n",
    "def attach_wrapper(obj, func=None):  \n",
    "    if func is None:\n",
    "        return partial(attach_wrapper, obj)\n",
    "    setattr(obj, func.__name__, func)\n",
    "    return func"
   ]
  },
  {
   "cell_type": "code",
   "execution_count": 1,
   "id": "14449c67",
   "metadata": {
    "slideshow": {
     "slide_type": "subslide"
    }
   },
   "outputs": [],
   "source": [
    "def log(level, message):  # Actual decorator\n",
    "    def decorate(func):\n",
    "        logger = logging.getLogger(func.__module__)  # Setup logger\n",
    "        formatter = logging.Formatter(\n",
    "            '%(asctime)s - %(name)s - %(levelname)s - %(message)s')\n",
    "        handler = logging.StreamHandler()\n",
    "        handler.setFormatter(formatter)\n",
    "        logger.addHandler(handler)\n",
    "        log_message = f\"{func.__name__} - {message}\"\n",
    "\n",
    "        # Logs the message and before executing the decorated function\n",
    "        @wraps(func)\n",
    "        def wrapper(*args, **kwargs):  \n",
    "            logger.log(level, log_message)\n",
    "            return func(*args, **kwargs)\n",
    "\n",
    "        # Attaches \"set_level\" to \"wrapper\" as attribute\n",
    "        @attach_wrapper(wrapper)\n",
    "        # Function that allows us to set log level\n",
    "        def set_level(new_level):  \n",
    "            nonlocal level\n",
    "            level = new_level\n",
    "\n",
    "        # Attaches \"set_message\" to \"wrapper\" as attribute\n",
    "        @attach_wrapper(wrapper)\n",
    "        # Function that allows us to set message\n",
    "        def set_message(new_message):  \n",
    "            nonlocal log_message\n",
    "            log_message = f\"{func.__name__} - {new_message}\"\n",
    "\n",
    "        return wrapper\n",
    "    return decorate"
   ]
  },
  {
   "cell_type": "code",
   "execution_count": 2,
   "id": "49bfaf6f",
   "metadata": {
    "slideshow": {
     "slide_type": "subslide"
    }
   },
   "outputs": [
    {
     "name": "stderr",
     "output_type": "stream",
     "text": [
      "2023-05-03 10:08:54,429 - __main__ - WARNING - somefunc - example-param\n",
      "2023-05-03 10:08:54,430 - __main__ - CRITICAL - somefunc - new-message\n"
     ]
    },
    {
     "data": {
      "text/plain": [
       "'some args'"
      ]
     },
     "execution_count": 2,
     "metadata": {},
     "output_type": "execute_result"
    }
   ],
   "source": [
    "# Example Usage\n",
    "@log(logging.WARN, \"example-param\")\n",
    "def somefunc(args):\n",
    "    return args\n",
    "\n",
    "somefunc(\"some args\")\n",
    "# Change log level by accessing internal decorator function\n",
    "somefunc.set_level(logging.CRITICAL)\n",
    "# Change log message by accessing internal decorator function\n",
    "somefunc.set_message(\"new-message\")   \n",
    "somefunc(\"some args\")"
   ]
  },
  {
   "cell_type": "markdown",
   "id": "5ecc7e3a",
   "metadata": {
    "slideshow": {
     "slide_type": "subslide"
    }
   },
   "source": [
    "#### Overwriting ```__repr__``` and ```__str__``` for debugging\n",
    "\n",
    "It might be a **good idea to overload** these methods to better inspect objects via logging"
   ]
  },
  {
   "cell_type": "code",
   "execution_count": null,
   "id": "5a7c7cfb",
   "metadata": {
    "slideshow": {
     "slide_type": "fragment"
    }
   },
   "outputs": [],
   "source": [
    "class Circle:\n",
    "    def __init__(self, x, y, radius):\n",
    "        self.x = x\n",
    "        self.y = y\n",
    "        self.radius = radius\n",
    "\n",
    "    def __repr__(self):\n",
    "        return f\"Rectangle({self.x}, {self.y}, {self.radius})\"\n",
    "\n",
    "...\n",
    "c = Circle(100, 80, 30)\n",
    "repr(c)\n",
    "# Circle(100, 80, 30)"
   ]
  },
  {
   "cell_type": "markdown",
   "id": "6ba46740",
   "metadata": {
    "slideshow": {
     "slide_type": "slide"
    }
   },
   "source": [
    "### Assertions\n",
    "\n",
    "In addition to typechecking, you may also want to **enforce specific sanity checks**: pre-conditions, post-conditions, invariants\n",
    "\n",
    "- Correct batches\n",
    "- Correct pre-processing\n",
    "- etc..."
   ]
  },
  {
   "cell_type": "markdown",
   "id": "209f40c8",
   "metadata": {
    "slideshow": {
     "slide_type": "fragment"
    }
   },
   "source": [
    "$\\rightarrow$ In the simplest form, we can insert assertions in our code: ```assert condition, message```"
   ]
  },
  {
   "cell_type": "markdown",
   "id": "c0a5e8b0",
   "metadata": {
    "slideshow": {
     "slide_type": "subslide"
    }
   },
   "source": [
    "#### Make sure you use assertions for debugging only!\n",
    "\n",
    "Proper control flow (e..g, ```if-then-else```) is the **recommended way** for handling multiple behaviours"
   ]
  },
  {
   "cell_type": "markdown",
   "id": "c7734264",
   "metadata": {
    "slideshow": {
     "slide_type": "fragment"
    }
   },
   "source": [
    "Assertions may be disabled via ```python -0 myscript.py```, thus, your code relying on assertion may not perform any sanity check at all\n",
    "\n",
    "$\\rightarrow$ In practice, in research, **we are never doing production code**, thus we may not need to follow these advices slavishly"
   ]
  },
  {
   "cell_type": "markdown",
   "id": "06580bf3",
   "metadata": {
    "slideshow": {
     "slide_type": "slide"
    }
   },
   "source": [
    "### Unit tests [[Read1](https://martinheinz.dev/blog/7)]\n",
    "\n",
    "A better way to make use of assertions to define sanity checks is to define **proper unit tests**."
   ]
  },
  {
   "cell_type": "markdown",
   "id": "fa9dbca3",
   "metadata": {
    "slideshow": {
     "slide_type": "fragment"
    }
   },
   "source": [
    "Python offers the ```pytest``` and ```unittest``` libraries to define unit tests"
   ]
  },
  {
   "cell_type": "markdown",
   "id": "405a3740",
   "metadata": {
    "slideshow": {
     "slide_type": "subslide"
    }
   },
   "source": [
    "#### Testing exception raise"
   ]
  },
  {
   "cell_type": "code",
   "execution_count": null,
   "id": "f9b5e599",
   "metadata": {
    "slideshow": {
     "slide_type": "fragment"
    }
   },
   "outputs": [],
   "source": [
    "import pytest\n",
    "\n",
    "def test_my_function():\n",
    "    with pytest.raises(Exception, match='My Message') as e:\n",
    "        my_function()\n",
    "        assert e.type is ValueError"
   ]
  },
  {
   "cell_type": "markdown",
   "id": "1ed0a056",
   "metadata": {
    "slideshow": {
     "slide_type": "subslide"
    }
   },
   "source": [
    "#### Testing stout and stderr"
   ]
  },
  {
   "cell_type": "code",
   "execution_count": 2,
   "id": "9732bd40",
   "metadata": {
    "slideshow": {
     "slide_type": "subslide"
    }
   },
   "outputs": [],
   "source": [
    "def test_my_function(capsys):\n",
    "    my_function()  # function that prints stuff\n",
    "    captured = capsys.readouterr()  # Capture output\n",
    "    # Test stdout\n",
    "    assert f\"Received invalid message ...\" in captured.out  \n",
    "    # Test stderr\n",
    "    assert f\"Fatal error ...\" in captured.err  "
   ]
  },
  {
   "cell_type": "markdown",
   "id": "aedb66a1",
   "metadata": {
    "slideshow": {
     "slide_type": "subslide"
    }
   },
   "source": [
    "#### Patching objects\n",
    "\n",
    "We can replace objects used in functions under test with ```mock.patch```"
   ]
  },
  {
   "cell_type": "code",
   "execution_count": null,
   "id": "5916ad95",
   "metadata": {
    "slideshow": {
     "slide_type": "subslide"
    }
   },
   "outputs": [],
   "source": [
    "from unittest import mock\n",
    "\n",
    "def test_my_function():\n",
    "    # We are replacing 'method_of_class' to return None\n",
    "    with mock.patch.object(SomeClass,\n",
    "                           'method_of_class',\n",
    "                           return_value=None) as mock_method:\n",
    "        instance = SomeClass()\n",
    "        instance.method_of_class('arg')\n",
    "\n",
    "        mock_method.assert_called_with('arg')  # True\n",
    "\n",
    "def test_my_function():\n",
    "    r = Mock()\n",
    "    r.content = b'{\"success\": true}'\n",
    "    # Avoid doing actual GET request\n",
    "    with mock.patch('requests.get', return_value=r) as get:\n",
    "        some_function()  # Function that calls requests.get\n",
    "        get.assert_called_once()"
   ]
  },
  {
   "cell_type": "markdown",
   "id": "224d4439",
   "metadata": {
    "slideshow": {
     "slide_type": "subslide"
    }
   },
   "source": [
    "#### Fixtures\n",
    "\n",
    "If we have **multiple unit tests**, you can **share fixtures** (i.e., test init functions) between unit tests via ```conftest.py```\n",
    "\n",
    "Pytest **automatically** discovers them"
   ]
  },
  {
   "cell_type": "code",
   "execution_count": null,
   "id": "6200bf97",
   "metadata": {
    "slideshow": {
     "slide_type": "fragment"
    }
   },
   "outputs": [],
   "source": [
    "import pytest, os\n",
    "\n",
    "# Executed before any pytest\n",
    "@pytest.fixture(scope='function')\n",
    "def reset_sqlite_db(request):\n",
    "    path = request.param  # Path to database file\n",
    "    with open(path, 'w'): pass\n",
    "    yield None\n",
    "    os.remove(path)\n",
    "    \n",
    "# Defining pytest that initially invokes the above fixture\n",
    "@pytest.mark.parametrize('reset_sqlite_db',\n",
    "                         ['/tmp/test_db.sql'],\n",
    "                         indirect=True)\n",
    "def test_send_message(reset_sqlite_db):\n",
    "    ...  # Perform tests that access prepared SQLite database"
   ]
  },
  {
   "cell_type": "markdown",
   "id": "e152fe0a",
   "metadata": {
    "slideshow": {
     "slide_type": "subslide"
    }
   },
   "source": [
    "Alternatively, you can create an ad-hoc file ``fixtures.py`` where to store all fixtures."
   ]
  },
  {
   "cell_type": "markdown",
   "id": "2e5c8e40",
   "metadata": {
    "slideshow": {
     "slide_type": "subslide"
    }
   },
   "source": [
    "### Cinnamon example\n",
    "\n",
    "A quick glimpse to my 'stupid' library, where the number of lines of code for unittests is greater than those defining the library.\n",
    "\n",
    "Total number of unittests: **78**"
   ]
  },
  {
   "cell_type": "markdown",
   "id": "d3fc6674",
   "metadata": {
    "slideshow": {
     "slide_type": "fragment"
    }
   },
   "source": [
    "Check https://github.com/nlp-unibo/cinnamon/tree/main/tests"
   ]
  },
  {
   "cell_type": "markdown",
   "id": "5ed1f6b3",
   "metadata": {
    "slideshow": {
     "slide_type": "slide"
    }
   },
   "source": [
    "### Profiling [[Read1](https://martinheinz.dev/blog/13), [Read2](https://martinheinz.dev/blog/68), [Read3](https://martinheinz.dev/blog/83), [Read4](https://martinheinz.dev/blog/64)]\n",
    "\n",
    "Debugging and typechecking are **not the only way** to find a bug.\n",
    "\n",
    "$\\rightarrow$ we can also **monitor employed resources** to gather insights about efficiency, memory leaks and potential bottlenecks"
   ]
  },
  {
   "cell_type": "markdown",
   "id": "1bc8d3d3",
   "metadata": {
    "slideshow": {
     "slide_type": "subslide"
    }
   },
   "source": [
    "#### Using ```timeit```"
   ]
  },
  {
   "cell_type": "code",
   "execution_count": null,
   "id": "1caa0cd9",
   "metadata": {
    "slideshow": {
     "slide_type": "fragment"
    }
   },
   "outputs": [],
   "source": [
    "# In the simplest form:\n",
    "python -m timeit \"7 + 28\"\n",
    "50000000 loops, best of 5: 5.72 nsec per loop\n",
    "\n",
    "# Creates \"x\" variable before running the test\n",
    "python -m timeit -s \"x = range(10000)\" \"sum(x)\"\n",
    "2000 loops, best of 5: 160 usec per loop"
   ]
  },
  {
   "cell_type": "markdown",
   "id": "c7af4d47",
   "metadata": {
    "slideshow": {
     "slide_type": "subslide"
    }
   },
   "source": [
    "#### Using ```pyperf```"
   ]
  },
  {
   "cell_type": "code",
   "execution_count": null,
   "id": "7cbd108b",
   "metadata": {
    "slideshow": {
     "slide_type": "fragment"
    }
   },
   "outputs": [],
   "source": [
    "# Uses \"-l\" and \"-n\" instead of \"-n\" and \"-r\" respectively\n",
    "python -m pyperf timeit -s \"x = range(10000)\" \"sum(x)\" -o result.json\n",
    ".....................\n",
    "Mean +- std dev: 157 us +- 12 us\n",
    "\n",
    "python -m pyperf stats result.json\n",
    "\n",
    "Total duration: 13.4 sec\n",
    "Start date: 2022-09-09 12:36:27\n",
    "End date: 2022-09-09 12:36:42\n",
    "...\n",
    "\n",
    "  0th percentile: 134 us (-9% of the mean) -- minimum\n",
    "  5th percentile: 135 us (-9% of the mean)\n",
    " 25th percentile: 137 us (-8% of the mean) -- Q1\n",
    " 50th percentile: 141 us (-4% of the mean) -- median\n",
    " 75th percentile: 161 us (+9% of the mean) -- Q3\n",
    " 95th percentile: 163 us (+10% of the mean)\n",
    "100th percentile: 168 us (+14% of the mean) -- maximum"
   ]
  },
  {
   "cell_type": "code",
   "execution_count": null,
   "id": "8a466906",
   "metadata": {
    "slideshow": {
     "slide_type": "subslide"
    }
   },
   "outputs": [],
   "source": [
    "python3 -m pyperf hist result.json\n",
    "\n",
    "python3 -m pyperf hist result.json --bins 10\n",
    "133 us: 13 ############################################\n",
    "136 us: 14 #################################################\n",
    "139 us:  6 ############################\n",
    "143 us:  1 #####\n",
    "146 us:  0 |\n",
    "150 us:  0 |\n",
    "153 us:  0 |\n",
    "156 us:  7 #################################\n",
    "160 us: 17 ######################################################\n",
    "163 us:  0 |\n",
    "167 us:  2 #########"
   ]
  },
  {
   "cell_type": "markdown",
   "id": "4ceb7a29",
   "metadata": {
    "slideshow": {
     "slide_type": "subslide"
    }
   },
   "source": [
    "#### Using ```cProfile```"
   ]
  },
  {
   "cell_type": "code",
   "execution_count": null,
   "id": "8a58caa1",
   "metadata": {
    "slideshow": {
     "slide_type": "fragment"
    }
   },
   "outputs": [],
   "source": [
    "!python -m cProfile -s time your_script.py\n",
    "         1297 function calls (1272 primitive calls) in 11.081 seconds\n",
    "\n",
    "Ordered by: internal time\n",
    "\n",
    "ncalls  tottime  percall  cumtime  percall filename:lineno(function)\n",
    "    3   11.079    3.693   11.079    3.693 slow_program.py:4(exp)\n",
    "    1    0.000    0.000    0.002    0.002 {built-in method _imp.create_dynamic}\n",
    "  4/1    0.000    0.000   11.081   11.081 {built-in method builtins.exec}\n",
    "    6    0.000    0.000    0.000    0.000 {built-in method __new__ of type object at 0x9d12c0}\n",
    "    6    0.000    0.000    0.000    0.000 abc.py:132(__new__)\n",
    "   23    0.000    0.000    0.000    0.000 _weakrefset.py:36(__init__)\n",
    "  245    0.000    0.000    0.000    0.000 {built-in method builtins.getattr}\n",
    "    2    0.000    0.000    0.000    0.000 {built-in method marshal.loads}\n",
    "   10    0.000    0.000    0.000    0.000 <frozen importlib._bootstrap_external>:1233(find_spec)\n",
    "  8/4    0.000    0.000    0.000    0.000 abc.py:196(__subclasscheck__)\n",
    "   15    0.000    0.000    0.000    0.000 {built-in method posix.stat}\n",
    "    6    0.000    0.000    0.000    0.000 {built-in method builtins.__build_class__}\n",
    "    1    0.000    0.000    0.000    0.000 __init__.py:357(namedtuple)\n",
    "   48    0.000    0.000    0.000    0.000 <frozen importlib._bootstrap_external>:57(_path_join)\n",
    "   48    0.000    0.000    0.000    0.000 <frozen importlib._bootstrap_external>:59(<listcomp>)\n",
    "    1    0.000    0.000   11.081   11.081 slow_program.py:1(<module>)\n",
    "..."
   ]
  },
  {
   "cell_type": "markdown",
   "id": "1059e5dd",
   "metadata": {
    "slideshow": {
     "slide_type": "fragment"
    }
   },
   "source": [
    "Just shows **function calls**!"
   ]
  },
  {
   "cell_type": "markdown",
   "id": "500869b9",
   "metadata": {
    "slideshow": {
     "slide_type": "subslide"
    }
   },
   "source": [
    "#### Using ```line_profiler```"
   ]
  },
  {
   "cell_type": "code",
   "execution_count": null,
   "id": "9ee80d41",
   "metadata": {
    "slideshow": {
     "slide_type": "fragment"
    }
   },
   "outputs": [],
   "source": [
    "kernprof -l -v some-code.py  # This might take a while...\n",
    "\n",
    "Wrote profile results to some-code.py.lprof\n",
    "Timer unit: 1e-06 s\n",
    "\n",
    "Total time: 13.0418 s\n",
    "File: some-code.py\n",
    "Function: exp at line 3\n",
    "\n",
    "Line #      Hits         Time  Per Hit   % Time  Line Contents\n",
    "==============================================================\n",
    "     3                                           @profile\n",
    "     4                                           def exp(x):\n",
    "     5         1          4.0      4.0      0.0      getcontext().prec += 2\n",
    "     6         1          0.0      0.0      0.0      i, lasts, s, fact, num = 0, 0, 1, 1, 1\n",
    "     7      5818       4017.0      0.7      0.0      while s != lasts:\n",
    "     8      5817       1569.0      0.3      0.0          lasts = s\n",
    "     9      5817       1837.0      0.3      0.0          i += 1\n",
    "    10      5817       6902.0      1.2      0.1          fact *= i\n",
    "    11      5817       2604.0      0.4      0.0          num *= x\n",
    "    12      5817   13024902.0   2239.1     99.9          s += num / fact\n",
    "    13         1          5.0      5.0      0.0      getcontext().prec -= 2\n",
    "    14         1          2.0      2.0      0.0      return +s"
   ]
  },
  {
   "cell_type": "markdown",
   "id": "4cd867ad",
   "metadata": {
    "slideshow": {
     "slide_type": "subslide"
    }
   },
   "source": [
    "#### Using ```pyheat```"
   ]
  },
  {
   "cell_type": "code",
   "execution_count": null,
   "id": "938311cb",
   "metadata": {
    "slideshow": {
     "slide_type": "fragment"
    }
   },
   "outputs": [],
   "source": [
    "!pyheat some-code.py --out image_file.png"
   ]
  },
  {
   "cell_type": "markdown",
   "id": "c2aeec3d",
   "metadata": {
    "slideshow": {
     "slide_type": "fragment"
    }
   },
   "source": [
    "<center>\n",
    "<div>\n",
    "<img src=\"../Images/Lecture-6/pyheat.png\" width=\"1000\"/>\n",
    "</div>\n",
    "</center>"
   ]
  },
  {
   "cell_type": "markdown",
   "id": "c2591ce7",
   "metadata": {
    "slideshow": {
     "slide_type": "subslide"
    }
   },
   "source": [
    "#### Using decorators"
   ]
  },
  {
   "cell_type": "code",
   "execution_count": null,
   "id": "60440ce5",
   "metadata": {
    "slideshow": {
     "slide_type": "fragment"
    }
   },
   "outputs": [],
   "source": [
    "def evaluate_time(\n",
    "        func: Callable\n",
    "):\n",
    "    def compute_time(\n",
    "            *args,\n",
    "            **kwargs\n",
    "    ):\n",
    "        start_time = time.perf_counter()    # <---\n",
    "        func_result = func(*args, **kwargs)\n",
    "        end_time = time.perf_counter()      # <---\n",
    "        total_time = end_time - start_time\n",
    "        print(f'Function func {func.__module__} --\n",
    "              {func.__name__} took {total_time} seconds')\n",
    "        return func_result\n",
    "\n",
    "    return compute_time\n",
    "\n",
    "@evaluate_time\n",
    "def load_ibm2015_dataset(\n",
    "        samples_amount: int = -1\n",
    "):\n",
    "    ..."
   ]
  },
  {
   "cell_type": "markdown",
   "id": "87f26b5e",
   "metadata": {
    "slideshow": {
     "slide_type": "subslide"
    }
   },
   "source": [
    "#### Using ```memory_profiler``` and ```psutil```"
   ]
  },
  {
   "cell_type": "code",
   "execution_count": null,
   "id": "04a1b43a",
   "metadata": {
    "slideshow": {
     "slide_type": "fragment"
    }
   },
   "outputs": [],
   "source": [
    "python -m memory_profiler some-code.py\n",
    "Filename: some-code.py\n",
    "\n",
    "Line #    Mem usage    Increment  Occurrences   Line Contents\n",
    "============================================================\n",
    "    15   39.113 MiB   39.113 MiB            1   @profile\n",
    "    16                                          def memory_intensive():\n",
    "    17   46.539 MiB    7.426 MiB            1       small_list = [None] * 1000000\n",
    "    18  122.852 MiB   76.312 MiB            1       big_list = [None] * 10000000\n",
    "    19   46.766 MiB  -76.086 MiB            1       del big_list\n",
    "    20   46.766 MiB    0.000 MiB            1       return small_list"
   ]
  },
  {
   "cell_type": "markdown",
   "id": "e8641fbd",
   "metadata": {
    "slideshow": {
     "slide_type": "slide"
    }
   },
   "source": [
    "# Coding Best Practices"
   ]
  },
  {
   "cell_type": "markdown",
   "id": "15c87e28",
   "metadata": {
    "slideshow": {
     "slide_type": "subslide"
    }
   },
   "source": [
    "### What are we going to see\n",
    "\n",
    "- Variable naming\n",
    "- Comments\n",
    "- Nesting\n",
    "- Inheritance\n",
    "- Abstraction\n",
    "- Code optimization"
   ]
  },
  {
   "cell_type": "markdown",
   "id": "43ed3a91",
   "metadata": {
    "slideshow": {
     "slide_type": "slide"
    }
   },
   "source": [
    "## Oh no, not again!\n",
    "\n",
    "Time for another [Google Form](https://forms.gle/M3ZYQSGQKWzMTTqaA) (**5 mins**)"
   ]
  },
  {
   "cell_type": "markdown",
   "id": "1ca130ed",
   "metadata": {
    "slideshow": {
     "slide_type": "subslide"
    }
   },
   "source": [
    "<center>\n",
    "<div>\n",
    "<img src=\"../Images/Lecture-6/qsn_best-practices.png\" width=\"600\" alt='Best Practices'/>\n",
    "</div>\n",
    "</center>"
   ]
  },
  {
   "cell_type": "markdown",
   "id": "2d3abb93",
   "metadata": {
    "slideshow": {
     "slide_type": "subslide"
    }
   },
   "source": [
    "All taken from the **wonderful youtube channel** of [```CodeAeshetic```](https://www.youtube.com/@CodeAesthetic)"
   ]
  },
  {
   "cell_type": "markdown",
   "id": "4fc1c913",
   "metadata": {
    "slideshow": {
     "slide_type": "slide"
    }
   },
   "source": [
    "### Variable Naming [[Read1](https://www.youtube.com/watch?v=-J3wNP6u5YU&t=43s)]\n",
    "\n",
    "We've talked about debugging, but can we prevent **feeding our 'internal demon' about making errors**?"
   ]
  },
  {
   "cell_type": "markdown",
   "id": "6e16901a",
   "metadata": {
    "slideshow": {
     "slide_type": "fragment"
    }
   },
   "source": [
    "$\\rightarrow$ Yes! F\\*\\*\\*ing use proper **naming convention**!"
   ]
  },
  {
   "cell_type": "markdown",
   "id": "b62cb730",
   "metadata": {
    "slideshow": {
     "slide_type": "fragment"
    }
   },
   "source": [
    "#### Why? Because we spend more time reading code than writing code!"
   ]
  },
  {
   "cell_type": "markdown",
   "id": "6cf80a95",
   "metadata": {
    "slideshow": {
     "slide_type": "subslide"
    }
   },
   "source": [
    "#### Don'ts\n",
    "\n",
    "- **Avoid** single letter variable names (*wtf?*)\n",
    "- **Avoid** abbreviations (*may induce wrong interpretation*)\n",
    "- **Don't put types** in variable names (e.g., ```my_output_str```, ```BaseModel```)"
   ]
  },
  {
   "cell_type": "markdown",
   "id": "d1675708",
   "metadata": {
    "slideshow": {
     "slide_type": "fragment"
    }
   },
   "source": [
    "#### Do's\n",
    "\n",
    "- **Put units** in variable names (e.g., ```float sleep_time_seconds```) $\\rightarrow$ if we can use a **custom type**, it is much better\n",
    "- Refactor code to **avoid general functions** like ```utilities``` $\\rightarrow$ usually, these functions can be moved to specific classes"
   ]
  },
  {
   "cell_type": "markdown",
   "id": "d79ea675",
   "metadata": {
    "slideshow": {
     "slide_type": "slide"
    }
   },
   "source": [
    "### Comments\n",
    "\n",
    "Writing comments is usually the best way of explaining the code, **increasing readability**"
   ]
  },
  {
   "cell_type": "markdown",
   "id": "c88dd728",
   "metadata": {
    "slideshow": {
     "slide_type": "fragment"
    }
   },
   "source": [
    "But, **extremes** (i.e., 'no comments at all' or 'wall of texts')  can be potentially **harmful**"
   ]
  },
  {
   "cell_type": "markdown",
   "id": "47ea1f64",
   "metadata": {
    "slideshow": {
     "slide_type": "fragment"
    }
   },
   "source": [
    "Comments get 'bugs' like code (i.e., code is updated but not comments!) $\\rightarrow$ <u>the cake is a lie</u>"
   ]
  },
  {
   "cell_type": "markdown",
   "id": "617816aa",
   "metadata": {
    "slideshow": {
     "slide_type": "subslide"
    }
   },
   "source": [
    "#### Code should speak by itself\n",
    "\n",
    "We should really comment on **WHY** that code is needed rather on **WHAT** that code is doing\n",
    "   - Code Documentation: how code is used (e.g., ```Sphinx```)\n",
    "   - Code Comments: how code works"
   ]
  },
  {
   "cell_type": "markdown",
   "id": "97027784",
   "metadata": {
    "slideshow": {
     "slide_type": "fragment"
    }
   },
   "source": [
    "#### Should we always avoid comments? Hell no!\n",
    "\n",
    "- In many cases, we might have **hard to grasp code** (especially when doing code optimization)\n",
    "- If we are following a particular **reference** (e.g., formula, paper, github issue, etc...)"
   ]
  },
  {
   "cell_type": "markdown",
   "id": "043816bd",
   "metadata": {
    "slideshow": {
     "slide_type": "slide"
    }
   },
   "source": [
    "### Never a Nester\n",
    "\n",
    "''*If you need more than 3 levels of indentation, you're screwed anyway, and should fix your program*\" - from Linux style guidelines"
   ]
  },
  {
   "cell_type": "markdown",
   "id": "6c7639e1",
   "metadata": {
    "slideshow": {
     "slide_type": "fragment"
    }
   },
   "source": [
    "Nesting means **adding inner code blocks** to your code (e.g., function, control flow, etc...)"
   ]
  },
  {
   "cell_type": "code",
   "execution_count": null,
   "id": "3dc00e13",
   "metadata": {
    "slideshow": {
     "slide_type": "fragment"
    }
   },
   "outputs": [],
   "source": [
    "def calculate(bottom: int, top: int):        # <--- Level 1\n",
    "    if top > bottom:                         # <--- Level 2\n",
    "        sum = 0\n",
    "        for number in range(bottom, top):    # <--- Level 3\n",
    "            if number % 2 == 0:              # <--- Level 4\n",
    "                sum += number\n",
    "        return sum\n",
    "    else:\n",
    "        return 0"
   ]
  },
  {
   "cell_type": "markdown",
   "id": "ba797f52",
   "metadata": {
    "slideshow": {
     "slide_type": "subslide"
    }
   },
   "source": [
    "#### What can we do?\n",
    "\n",
    "1. **Extraction**: move a block to a separate function\n",
    "2. **Inversion**: flip control flow to avoid nesting"
   ]
  },
  {
   "cell_type": "markdown",
   "id": "ac97f510",
   "metadata": {
    "slideshow": {
     "slide_type": "subslide"
    }
   },
   "source": [
    "#### Extraction"
   ]
  },
  {
   "cell_type": "code",
   "execution_count": null,
   "id": "b6541ae2",
   "metadata": {
    "slideshow": {
     "slide_type": "fragment"
    }
   },
   "outputs": [],
   "source": [
    "# We moved this part to a separate function\n",
    "def filter_number(number: int):\n",
    "    if number % 2 == 0:\n",
    "        return number\n",
    "    return 0\n",
    "\n",
    "def calculate(bottom: int, top: int):       # <--- 1 \n",
    "    if top > bottom:                        # <--- 2 \n",
    "        sum = 0\n",
    "        for number in range(bottom, top):   # <--- 3\n",
    "            sum += filter_number(number)\n",
    "        return sum\n",
    "    else:\n",
    "        return 0"
   ]
  },
  {
   "cell_type": "markdown",
   "id": "66c52d70",
   "metadata": {
    "slideshow": {
     "slide_type": "subslide"
    }
   },
   "source": [
    "#### Inversion"
   ]
  },
  {
   "cell_type": "code",
   "execution_count": null,
   "id": "a224126c",
   "metadata": {
    "slideshow": {
     "slide_type": "fragment"
    }
   },
   "outputs": [],
   "source": [
    "def filter_number(number: int):\n",
    "    if number % 2 == 0:\n",
    "        return number\n",
    "    return 0\n",
    "\n",
    "def calculate(bottom: int, top: int):                # <--- 1\n",
    "    # We moved this control flow at the beginning\n",
    "    if top < bottom:                                 # <--- 2\n",
    "        return 0\n",
    "                             \n",
    "    sum = 0\n",
    "    for number in range(bottom, top):                # <--- 2\n",
    "        sum += filter_number(number)\n",
    "    return sum\n"
   ]
  },
  {
   "cell_type": "markdown",
   "id": "76df5b15",
   "metadata": {
    "slideshow": {
     "slide_type": "slide"
    }
   },
   "source": [
    "### Abstraction\n",
    "\n",
    "When writing code, we usually learn that **code repetition** is **bad** and that **abstraction** is **good**"
   ]
  },
  {
   "cell_type": "markdown",
   "id": "610597f0",
   "metadata": {
    "slideshow": {
     "slide_type": "fragment"
    }
   },
   "source": [
    "$\\rightarrow$ We really need to understand the side-effect of abstraction: **coupling**"
   ]
  },
  {
   "cell_type": "markdown",
   "id": "f90bc7ba",
   "metadata": {
    "slideshow": {
     "slide_type": "subslide"
    }
   },
   "source": [
    "#### Worth it\n",
    "\n",
    "- Many implementations with **complex construction**\n",
    "- **Deferred execution** from creation"
   ]
  },
  {
   "cell_type": "markdown",
   "id": "1e646957",
   "metadata": {
    "slideshow": {
     "slide_type": "fragment"
    }
   },
   "source": [
    "#### Not worth it\n",
    "\n",
    "- Sharing member variables\n",
    "- Not valuable for abstraction user"
   ]
  },
  {
   "cell_type": "markdown",
   "id": "ab0726e5",
   "metadata": {
    "slideshow": {
     "slide_type": "slide"
    }
   },
   "source": [
    "### Inheritance and Composition\n",
    "\n",
    "Inheritance is one of the **most popular** features of OOP"
   ]
  },
  {
   "cell_type": "markdown",
   "id": "5391a8da",
   "metadata": {
    "slideshow": {
     "slide_type": "fragment"
    }
   },
   "source": [
    "Two functionalities\n",
    "\n",
    "- **Re-use code** $\\rightarrow$ extending functionalities\n",
    "- **Abstraction** $\\rightarrow$ hiding details about from which class a method is being invoked"
   ]
  },
  {
   "cell_type": "code",
   "execution_count": null,
   "id": "e9157328",
   "metadata": {
    "slideshow": {
     "slide_type": "subslide"
    }
   },
   "outputs": [],
   "source": [
    "class Image(ABC):\n",
    "    \n",
    "    def resize(scale: float):\n",
    "        ...\n",
    "        \n",
    "    def flip():\n",
    "        ...\n",
    "        \n",
    "    @abc.abstractmethod\n",
    "    def save():\n",
    "        pass\n",
    "\n",
    "class PngImage(Image):\n",
    "    \n",
    "    def save():\n",
    "        ...\n",
    "        \n",
    "class JpegImage(Image):\n",
    "    \n",
    "    def save():\n",
    "        ...\n",
    "        \n",
    "# Exception!\n",
    "class DrawableImage(Image):\n",
    "    \n",
    "    def save():\n",
    "        raise Exception('Not supported')"
   ]
  },
  {
   "cell_type": "code",
   "execution_count": null,
   "id": "c9223e5d",
   "metadata": {
    "slideshow": {
     "slide_type": "subslide"
    }
   },
   "outputs": [],
   "source": [
    "class Image(ABC):\n",
    "    ...\n",
    "    \n",
    "class FileImage(Image):\n",
    "    \n",
    "    @abc.abstractmethod\n",
    "    def save():\n",
    "        pass\n",
    "    \n",
    "class PngImage(FileImage):\n",
    "    ...\n",
    "    \n",
    "class JpegImage(FileImage):\n",
    "    ...\n",
    "    \n",
    "class DrawableImage(Image):\n",
    "    ..."
   ]
  },
  {
   "cell_type": "markdown",
   "id": "c42d40a0",
   "metadata": {
    "slideshow": {
     "slide_type": "fragment"
    }
   },
   "source": [
    "Such a refactoring can be **quite costly**!"
   ]
  },
  {
   "cell_type": "markdown",
   "id": "e451cc06",
   "metadata": {
    "slideshow": {
     "slide_type": "subslide"
    }
   },
   "source": [
    "#### What about Composition?\n",
    "\n",
    "Inheritance **breaks down** as soon we find an **exception** to our 'perfect' design (i.e., when we grab common terms to define a shared parent class)"
   ]
  },
  {
   "cell_type": "markdown",
   "id": "3bec2ee2",
   "metadata": {
    "slideshow": {
     "slide_type": "fragment"
    }
   },
   "source": [
    "$\\rightarrow$ In these cases, we can rely on **Composition**!"
   ]
  },
  {
   "cell_type": "code",
   "execution_count": null,
   "id": "a694f120",
   "metadata": {
    "slideshow": {
     "slide_type": "subslide"
    }
   },
   "outputs": [],
   "source": [
    "class Image(ABC):\n",
    "    \n",
    "    def resize(scale: float):\n",
    "        ...\n",
    "        \n",
    "    def flip():\n",
    "        ...\n",
    "        \n",
    "class PngImage:\n",
    "    \n",
    "    def save(image: Image):\n",
    "        ...\n",
    "        \n",
    "class JpegImage:\n",
    "    \n",
    "    def save(image: Image):\n",
    "        ...\n",
    "        \n",
    "        \n",
    "class DrawableImage:\n",
    "    \n",
    "    def __init__(self, image: Image):\n",
    "        ..."
   ]
  },
  {
   "cell_type": "markdown",
   "id": "a8544295",
   "metadata": {
    "slideshow": {
     "slide_type": "subslide"
    }
   },
   "source": [
    "\n",
    "#### Pros:\n",
    "\n",
    "- **Reduces coupling** to re-used code\n",
    "- **Adaptable** as new requirements come in"
   ]
  },
  {
   "cell_type": "markdown",
   "id": "54fccbed",
   "metadata": {
    "slideshow": {
     "slide_type": "fragment"
    }
   },
   "source": [
    "#### Cons:\n",
    "\n",
    "- **Boilerplate code** to inizialize internal types\n",
    "- We may need to write **wrapper methods**o expose information from internal types"
   ]
  },
  {
   "cell_type": "markdown",
   "id": "2b9a53ae",
   "metadata": {
    "slideshow": {
     "slide_type": "slide"
    }
   },
   "source": [
    "### Code Optimization\n",
    "\n",
    "**Don't** immediately focus on performance (i.e., code optimization), but rather on **velocity of implementation** and **ease of use**"
   ]
  },
  {
   "cell_type": "markdown",
   "id": "f69b6133",
   "metadata": {
    "slideshow": {
     "slide_type": "fragment"
    }
   },
   "source": [
    "$\\rightarrow$ Only care about performance when **strictly needed**! \n",
    "$\\rightarrow$ Is it **worth** it?\n",
    "$\\rightarrow$ Does it lead to **less readable code**?"
   ]
  },
  {
   "cell_type": "markdown",
   "id": "32b2e6df",
   "metadata": {
    "slideshow": {
     "slide_type": "fragment"
    }
   },
   "source": [
    "#### Example:\n",
    "\n",
    "Don't worry if your training routine is taking a lot, focus first on its correctness and test your code with small controlled inputs."
   ]
  },
  {
   "cell_type": "markdown",
   "id": "3eef8ee0",
   "metadata": {
    "slideshow": {
     "slide_type": "slide"
    }
   },
   "source": [
    "## Documentation\n",
    "\n",
    "- Code documentation\n",
    "- Writing a proper README\n",
    "- Controlled environments"
   ]
  },
  {
   "cell_type": "markdown",
   "id": "94b7a733",
   "metadata": {
    "slideshow": {
     "slide_type": "slide"
    }
   },
   "source": [
    "### Code documentation\n",
    "\n",
    "We have talked about type annotations and other recommendations for code readability."
   ]
  },
  {
   "cell_type": "markdown",
   "id": "56597646",
   "metadata": {
    "slideshow": {
     "slide_type": "fragment"
    }
   },
   "source": [
    "However, we still miss a way to understand **HOW** to use such code"
   ]
  },
  {
   "cell_type": "markdown",
   "id": "3425eeed",
   "metadata": {
    "slideshow": {
     "slide_type": "fragment"
    }
   },
   "source": [
    "$\\rightarrow$ Code documentation (a.k.a. **docstrings**)"
   ]
  },
  {
   "cell_type": "code",
   "execution_count": null,
   "id": "4857b232",
   "metadata": {
    "slideshow": {
     "slide_type": "fragment"
    }
   },
   "outputs": [],
   "source": [
    "def my_function(param1: int, param2: str):\n",
    "    \"\"\"\n",
    "        This function takes ..., computes ... and then returns ...\n",
    "        \n",
    "        Args:\n",
    "            :param param1: *Description of param1*\n",
    "            :param param2: *Description of param2*\n",
    "        \n",
    "        Returns:\n",
    "            Description of return value\n",
    "    \"\"\"\n",
    "        ..."
   ]
  },
  {
   "cell_type": "markdown",
   "id": "ea5a9496",
   "metadata": {
    "slideshow": {
     "slide_type": "subslide"
    }
   },
   "source": [
    "#### Different docstring styles"
   ]
  },
  {
   "cell_type": "code",
   "execution_count": null,
   "id": "bca927ef",
   "metadata": {
    "slideshow": {
     "slide_type": "fragment"
    }
   },
   "outputs": [],
   "source": [
    "# Numpy docstring style\n",
    "def my_function(param1: int, param2: str):\n",
    "    \"\"\"\n",
    "        This function takes ..., computes ... and then returns ...\n",
    "        \n",
    "        Parameters\n",
    "        ----------\n",
    "        param1 : Description of param1\n",
    "        param2 : Description of param2\n",
    "\n",
    "        Returns\n",
    "        -------\n",
    "        int\n",
    "            Description of return value\n",
    "    \"\"\"\n",
    "        ..."
   ]
  },
  {
   "cell_type": "markdown",
   "id": "c5668f5b",
   "metadata": {
    "slideshow": {
     "slide_type": "subslide"
    }
   },
   "source": [
    "#### Tools for automatic web documentation\n",
    "\n",
    "There exist several tools that can **automatically parse documented code** to build a documentation website of your project"
   ]
  },
  {
   "cell_type": "markdown",
   "id": "dd42b2bb",
   "metadata": {
    "slideshow": {
     "slide_type": "fragment"
    }
   },
   "source": [
    "Among the many, [```Sphinx```](https://www.sphinx-doc.org/en/master/) is one of the most used for Python"
   ]
  },
  {
   "cell_type": "markdown",
   "id": "fc14ed2f",
   "metadata": {
    "slideshow": {
     "slide_type": "fragment"
    }
   },
   "source": [
    "$\\rightarrow$ If you are building small libraries, then you **must build** the corresponding web documentation for ease use!"
   ]
  },
  {
   "cell_type": "markdown",
   "id": "ad7ac401",
   "metadata": {
    "slideshow": {
     "slide_type": "slide"
    }
   },
   "source": [
    "### Writing a proper README\n",
    "\n",
    "During research, we often define a **code repository** for storing our experiments.\n",
    "\n",
    "In case of paper acceptance, the code repository should be **made publicly available** and linked in the publication."
   ]
  },
  {
   "cell_type": "markdown",
   "id": "908548fd",
   "metadata": {
    "slideshow": {
     "slide_type": "fragment"
    }
   },
   "source": [
    "#### What you should do?\n",
    "\n",
    "- Write a proper README file **to guide users** through your code repository"
   ]
  },
  {
   "cell_type": "markdown",
   "id": "7de28a3b",
   "metadata": {
    "slideshow": {
     "slide_type": "fragment"
    }
   },
   "source": [
    "However, in many cases, ```README``` files are **partially informative**, **outdated**, and **sometimes useless**."
   ]
  },
  {
   "cell_type": "markdown",
   "id": "e780a970",
   "metadata": {
    "slideshow": {
     "slide_type": "subslide"
    }
   },
   "source": [
    "#### A recommended README template for research"
   ]
  },
  {
   "cell_type": "markdown",
   "id": "7818b511",
   "metadata": {
    "slideshow": {
     "slide_type": "fragment"
    }
   },
   "source": [
    "1. Project title\n",
    "\n",
    "2. Authors\n",
    "\n",
    "3. Link to publication (if available)\n",
    "\n",
    "4. Abstract/Project description\n",
    "\n",
    "5. Repository Overview\n",
    "\n",
    "6. Instructions to perform experiments\n",
    "      1. Prerequisites\n",
    "      2. Scripts\n",
    "    \n",
    "7. FAQ\n",
    "\n",
    "8. Contributors\n",
    "\n",
    "9. How to cite\n",
    "\n",
    "10. [Optional] Disclaimer\n",
    "\n",
    "11. [Optional] License "
   ]
  },
  {
   "cell_type": "markdown",
   "id": "07e15a91",
   "metadata": {
    "slideshow": {
     "slide_type": "subslide"
    }
   },
   "source": [
    "If your project has **multiple** subfolders/sub-projects, make sure to include a **dedicated README**!"
   ]
  },
  {
   "cell_type": "markdown",
   "id": "124a841c",
   "metadata": {
    "slideshow": {
     "slide_type": "slide"
    }
   },
   "source": [
    "### Controlled environments\n",
    "\n",
    "There are many frameworks to build controlled coding environments, mainly focusing on delivering self-contained executions."
   ]
  },
  {
   "cell_type": "markdown",
   "id": "8787538b",
   "metadata": {
    "slideshow": {
     "slide_type": "fragment"
    }
   },
   "source": [
    "One of most used frameworks is [Docker](https://www.docker.com/)"
   ]
  },
  {
   "cell_type": "markdown",
   "id": "59859118",
   "metadata": {
    "slideshow": {
     "slide_type": "fragment"
    }
   },
   "source": [
    "I recommend checking [Giovanni Ciatto's PhD course](https://disi.unibo.it/en/teaching/phd-programmes/computer-science-and-engineering/courses-of-the-phd-program-in-computer-science-and-engineering/phd-courses-2024-25-academic-year) on containerization and virtualization."
   ]
  },
  {
   "cell_type": "markdown",
   "id": "4a8b8a33",
   "metadata": {
    "slideshow": {
     "slide_type": "slide"
    }
   },
   "source": [
    "# Concluding Remarks\n",
    "\n",
    "1. Catching bugs requires a **lot of effort**! Luckily, we have many weapons"
   ]
  },
  {
   "cell_type": "markdown",
   "id": "59aa26ea",
   "metadata": {
    "slideshow": {
     "slide_type": "fragment"
    }
   },
   "source": [
    "2. Many best practices for debugging and code organization also **greatly increase readability**!"
   ]
  },
  {
   "cell_type": "markdown",
   "id": "dcdc10a9",
   "metadata": {
    "slideshow": {
     "slide_type": "fragment"
    }
   },
   "source": [
    "3. There are **several tips** concerning **code organization and structure** that we should depending on our scenario"
   ]
  },
  {
   "cell_type": "markdown",
   "id": "c43dc590",
   "metadata": {
    "slideshow": {
     "slide_type": "fragment"
    }
   },
   "source": [
    "5. There are many more, often **problem specific** and **very hard to generalize**"
   ]
  },
  {
   "cell_type": "markdown",
   "id": "c3256c3b",
   "metadata": {
    "slideshow": {
     "slide_type": "slide"
    }
   },
   "source": [
    "# Any questions?\n",
    "\n",
    "<center>\n",
    "<div>\n",
    "<img src=\"../Images/Lecture-3/jojo-arrivederci.gif\" width=\"1200\" alt='JOJO_arrivederci'/>\n",
    "</div>\n",
    "</center>"
   ]
  }
 ],
 "metadata": {
  "celltoolbar": "Slideshow",
  "kernelspec": {
   "display_name": "Python 3 (ipykernel)",
   "language": "python",
   "name": "python3"
  },
  "language_info": {
   "codemirror_mode": {
    "name": "ipython",
    "version": 3
   },
   "file_extension": ".py",
   "mimetype": "text/x-python",
   "name": "python",
   "nbconvert_exporter": "python",
   "pygments_lexer": "ipython3",
   "version": "3.10.15"
  }
 },
 "nbformat": 4,
 "nbformat_minor": 5
}
