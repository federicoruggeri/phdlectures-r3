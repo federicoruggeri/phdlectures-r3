{
 "cells": [
  {
   "cell_type": "markdown",
   "id": "fb046532",
   "metadata": {
    "slideshow": {
     "slide_type": "slide"
    }
   },
   "source": [
    "## About last time\n",
    "\n",
    "- Research is competitive, self-referential and commercialized"
   ]
  },
  {
   "cell_type": "markdown",
   "id": "2c087b45",
   "metadata": {
    "slideshow": {
     "slide_type": "fragment"
    }
   },
   "source": [
    "- A lot of research is produced everyday, mostly in the form of article-shaped units"
   ]
  },
  {
   "cell_type": "markdown",
   "id": "85710de5",
   "metadata": {
    "slideshow": {
     "slide_type": "fragment"
    }
   },
   "source": [
    "- This focus on articles leaves behind other equivalently important aspects like data, code, and other kind of artefacts"
   ]
  },
  {
   "cell_type": "markdown",
   "id": "1e79a535",
   "metadata": {
    "slideshow": {
     "slide_type": "fragment"
    }
   },
   "source": [
    "- Moreover, competitiveness and the lack of adequate fundings leads to several issues, such as the evaluation of produced research (*publish or perish*), research quality, and lack of incentives."
   ]
  },
  {
   "cell_type": "markdown",
   "id": "66058f23",
   "metadata": {
    "slideshow": {
     "slide_type": "fragment"
    }
   },
   "source": [
    "- Peer reviewing should address some of these problems (e.g., research quality) but this is often not the case"
   ]
  },
  {
   "cell_type": "markdown",
   "id": "4b072a03",
   "metadata": {
    "slideshow": {
     "slide_type": "fragment"
    }
   },
   "source": [
    "- This situation calls for movements focused on quality and reproducibility of research, often embracing different definitions of these terms"
   ]
  },
  {
   "cell_type": "markdown",
   "id": "7926783e",
   "metadata": {
    "slideshow": {
     "slide_type": "slide"
    }
   },
   "source": [
    "## About this lecture\n",
    "\n",
    "Reproducibility can target different aspects of the research pipeline."
   ]
  },
  {
   "cell_type": "markdown",
   "id": "cce5a30f",
   "metadata": {
    "slideshow": {
     "slide_type": "fragment"
    }
   },
   "source": [
    "From the conceptualization of ideas to collecting resources and doing experiments."
   ]
  },
  {
   "cell_type": "markdown",
   "id": "e4f0a7fb",
   "metadata": {
    "slideshow": {
     "slide_type": "fragment"
    }
   },
   "source": [
    "In this lecture, we are going to cover several aspects of data collection since it often represents the backbone of most procuded machine learning research."
   ]
  },
  {
   "cell_type": "markdown",
   "id": "24c6ce2d",
   "metadata": {
    "slideshow": {
     "slide_type": "subslide"
    }
   },
   "source": [
    "### What about data\n",
    "\n",
    "In particular, we will cover the following aspects, which (hopefully) might be new to many of you."
   ]
  },
  {
   "cell_type": "markdown",
   "id": "6ee6bec3",
   "metadata": {
    "slideshow": {
     "slide_type": "fragment"
    }
   },
   "source": [
    "- Annotation paradigms\n",
    "- Requirements for collecting and annotating data\n",
    "- Issues and risks when collecting data\n",
    "- Evaluating annotation quality"
   ]
  },
  {
   "cell_type": "markdown",
   "id": "98c68c12",
   "metadata": {
    "slideshow": {
     "slide_type": "subslide"
    }
   },
   "source": [
    "### Why should you care about data?\n",
    "\n",
    "Even if you never going to annotate and collect novel resources, you will highly probably deal with some sort of data."
   ]
  },
  {
   "cell_type": "markdown",
   "id": "ce66d2dc",
   "metadata": {
    "slideshow": {
     "slide_type": "fragment"
    }
   },
   "source": [
    "$\\rightarrow$ This means that you will still need to inspect and understand the limits of the data you are using in relation to the hypothesis you want to corroborate in your experiments!"
   ]
  },
  {
   "cell_type": "markdown",
   "id": "242703ee",
   "metadata": {
    "slideshow": {
     "slide_type": "slide"
    }
   },
   "source": [
    "## Let's first check your experience!\n",
    "\n",
    "It is time for another [Google Form](https://forms.gle/uQBhrgoDM52VbKA99)! (**5 mins**)"
   ]
  },
  {
   "cell_type": "markdown",
   "id": "dd2d7db6",
   "metadata": {
    "slideshow": {
     "slide_type": "subslide"
    }
   },
   "source": [
    "<center>\n",
    "<div>\n",
    "<img src=\"../Images/Lecture-3/qsn_data-collection.png\" width=\"600\" alt='Data collection'/>\n",
    "</div>\n",
    "</center>"
   ]
  },
  {
   "cell_type": "markdown",
   "id": "dff117c4",
   "metadata": {
    "slideshow": {
     "slide_type": "slide"
    }
   },
   "source": [
    "## Annotation Paradigms\n",
    "\n",
    "Data annotation covers several aspects, such as annotators eligibility, agreement resolution, human evaluation, recommendations for mitigating harmful biases, and data annotation methodology [[Ruggeri et al., 2024]](https://arxiv.org/abs/2406.14099v2)"
   ]
  },
  {
   "cell_type": "markdown",
   "id": "6bc3269a",
   "metadata": {
    "slideshow": {
     "slide_type": "fragment"
    }
   },
   "source": [
    "Annotation paradigms are a way to frame data annotation methodology where the focus is on the intended purpose of collected data."
   ]
  },
  {
   "cell_type": "markdown",
   "id": "58df5ca2",
   "metadata": {
    "slideshow": {
     "slide_type": "fragment"
    }
   },
   "source": [
    "In brief, an annotation paradigm can be thought of some sort of recommendations on how to structured the annotation process."
   ]
  },
  {
   "cell_type": "markdown",
   "id": "df8a6e16",
   "metadata": {
    "slideshow": {
     "slide_type": "subslide"
    }
   },
   "source": [
    "### Types of Annotation Paradigms\n",
    "\n",
    "So far, we identify three main annotation paradigms."
   ]
  },
  {
   "cell_type": "markdown",
   "id": "c629e679",
   "metadata": {
    "slideshow": {
     "slide_type": "fragment"
    }
   },
   "source": [
    "- Prescriptive [[Rottger et al., 2022]](https://aclanthology.org/2022.naacl-main.13/)\n",
    "- Descriptive  [[Rottger et al., 2022]](https://aclanthology.org/2022.naacl-main.13/)\n",
    "- Perspectivist [[Cabitza et al., 2023]](https://ojs.aaai.org/index.php/AAAI/article/view/25840)"
   ]
  },
  {
   "cell_type": "markdown",
   "id": "ea4968e1",
   "metadata": {
    "slideshow": {
     "slide_type": "subslide"
    }
   },
   "source": [
    "### An important disclaimer\n",
    "\n",
    "Bare in mind that no paradigm is inherently superior!\n",
    "\n",
    "$\\rightarrow$ Explicitly aiming for one specific annotation paradigm beneficial because it makes clear what an annotated dataset can and should be used for."
   ]
  },
  {
   "cell_type": "markdown",
   "id": "65eb30ba",
   "metadata": {
    "slideshow": {
     "slide_type": "slide"
    }
   },
   "source": [
    "## Descriptive Annotation Paradigm"
   ]
  },
  {
   "cell_type": "markdown",
   "id": "92274f01",
   "metadata": {
    "slideshow": {
     "slide_type": "subslide"
    }
   },
   "source": [
    "### Hands on session!\n",
    "\n",
    "It is time to test your skills (and patience) as an annotator.\n",
    "\n",
    "You will be asked to annotate a few examples concerning hate speech.\n",
    "\n",
    "Please, click on this [Google Form]() to annotate (**15 mins**)"
   ]
  },
  {
   "cell_type": "markdown",
   "id": "6a725e3a",
   "metadata": {
    "slideshow": {
     "slide_type": "subslide"
    }
   },
   "source": [
    "<center>\n",
    "<div>\n",
    "<img src=\"../Images/Lecture-3/qsn_descriptive.png\" width=\"600\" alt='Descriptive hands on'/>\n",
    "</div>\n",
    "</center>"
   ]
  },
  {
   "cell_type": "markdown",
   "id": "46755a0f",
   "metadata": {
    "slideshow": {
     "slide_type": "slide"
    }
   },
   "source": [
    "## Prescriptive Annotation Paradigm\n",
    "\n",
    "[[Rottger et al., 2022]](https://aclanthology.org/2022.naacl-main.13/) argues that one particular aspect of collecting data is how many beliefs (concerning a certain task) shoud be modeled."
   ]
  },
  {
   "cell_type": "markdown",
   "id": "8f9ad8b1",
   "metadata": {
    "slideshow": {
     "slide_type": "fragment"
    }
   },
   "source": [
    "The prescriptive annotation paradigm discourages annotator subjectivity and instead tasks annotators with encoding one specific belief."
   ]
  },
  {
   "cell_type": "markdown",
   "id": "b1a57bde",
   "metadata": {
    "slideshow": {
     "slide_type": "fragment"
    }
   },
   "source": [
    "This shared belief is formulated in the annotation guidelines."
   ]
  },
  {
   "cell_type": "markdown",
   "id": "7e2d2683",
   "metadata": {
    "slideshow": {
     "slide_type": "subslide"
    }
   },
   "source": [
    "### Does it make sense?\n",
    "\n",
    "Encoding one specific belief in a dataset through data annotation is difficult.\n",
    "\n",
    "$\\rightarrow$ still advantageous for many practical applications"
   ]
  },
  {
   "cell_type": "markdown",
   "id": "e380d500",
   "metadata": {
    "slideshow": {
     "slide_type": "subslide"
    }
   },
   "source": [
    "#### Example\n",
    "\n",
    "Social media companies moderate content on their platforms according to specific and extensive content policies"
   ]
  },
  {
   "cell_type": "markdown",
   "id": "da63e84f",
   "metadata": {
    "slideshow": {
     "slide_type": "fragment"
    }
   },
   "source": [
    "$\\rightarrow$ This illustrates that even for highly subjective tasks, where different model behaviours are plausible and valid, one specific behaviour may be practically desirable."
   ]
  },
  {
   "cell_type": "markdown",
   "id": "2f838fc1",
   "metadata": {
    "slideshow": {
     "slide_type": "subslide"
    }
   },
   "source": [
    "### The good thing(s)\n",
    "\n",
    "In the prescriptive paradigm, annotator disagreements are a call to action"
   ]
  },
  {
   "cell_type": "markdown",
   "id": "cbeb425d",
   "metadata": {
    "slideshow": {
     "slide_type": "fragment"
    }
   },
   "source": [
    "-  the annotation guidelines were not correctly applied by annotators"
   ]
  },
  {
   "cell_type": "markdown",
   "id": "b70ae9b6",
   "metadata": {
    "slideshow": {
     "slide_type": "fragment"
    }
   },
   "source": [
    "-  the guidelines themselves were inadequate"
   ]
  },
  {
   "cell_type": "markdown",
   "id": "9dfde038",
   "metadata": {
    "slideshow": {
     "slide_type": "fragment"
    }
   },
   "source": [
    "$\\rightarrow$ Quality assurance is a laborious but structured process, with inter-annotator agreement as a\n",
    "useful, albeit noisy, measure of dataset quality."
   ]
  },
  {
   "cell_type": "markdown",
   "id": "3288870d",
   "metadata": {
    "slideshow": {
     "slide_type": "subslide"
    }
   },
   "source": [
    "More importantly, the one belief that annotators are tasked with applying is made visible and explicit in the\n",
    "annotation guidelines."
   ]
  },
  {
   "cell_type": "markdown",
   "id": "b0ee0081",
   "metadata": {
    "slideshow": {
     "slide_type": "fragment"
    }
   },
   "source": [
    "Prescriptive annotation guidelines can provide detailed insights into how datasets were created, which can then\n",
    "inform their downstream use."
   ]
  },
  {
   "cell_type": "markdown",
   "id": "691e49c5",
   "metadata": {
    "slideshow": {
     "slide_type": "subslide"
    }
   },
   "source": [
    "### The bad thing(s)\n",
    "\n",
    "Creating guidelines for prescriptive data annotation is difficult because it requires topical knowledge and\n",
    "familiarity with the data that is to be annotated."
   ]
  },
  {
   "cell_type": "markdown",
   "id": "a7618fdb",
   "metadata": {
    "slideshow": {
     "slide_type": "fragment"
    }
   },
   "source": [
    "Guidelines would ideally provide a clear judgment on every possible entry, but in practice, such perfectly comprehensive guidelines can only be approximated."
   ]
  },
  {
   "cell_type": "markdown",
   "id": "16d558c8",
   "metadata": {
    "slideshow": {
     "slide_type": "subslide"
    }
   },
   "source": [
    "Moreover, creating guidelines for prescriptive data annotation requires deciding which one belief to encode in the dataset."
   ]
  },
  {
   "cell_type": "markdown",
   "id": "57b78a00",
   "metadata": {
    "slideshow": {
     "slide_type": "fragment"
    }
   },
   "source": [
    "This can be a complex process that risks disregarding non-majority beliefs if marginalised people are\n",
    "not included in it."
   ]
  },
  {
   "cell_type": "markdown",
   "id": "a522168c",
   "metadata": {
    "slideshow": {
     "slide_type": "subslide"
    }
   },
   "source": [
    "Annotators need to be familiar with annotation guidelines to apply them correctly, which may require additional training, especially if guidelines are long and complex."
   ]
  },
  {
   "cell_type": "markdown",
   "id": "d430dbae",
   "metadata": {
    "slideshow": {
     "slide_type": "fragment"
    }
   },
   "source": [
    "During annotation, annotators will need to refer back to the guidelines, which requires giving them sufficient time per entry and providing a well-designed annotation interface."
   ]
  },
  {
   "cell_type": "markdown",
   "id": "b968f493",
   "metadata": {
    "slideshow": {
     "slide_type": "subslide"
    }
   },
   "source": [
    "Annotator subjectivity can be discouraged, but not eliminated. "
   ]
  },
  {
   "cell_type": "markdown",
   "id": "281c2fb9",
   "metadata": {
    "slideshow": {
     "slide_type": "fragment"
    }
   },
   "source": [
    "Inevitable gaps in guidelines leave annotators no choice but to apply their personal judgement for some entries, and even when there is explicit guidance, implicit biases may persist."
   ]
  },
  {
   "cell_type": "markdown",
   "id": "e83799e0",
   "metadata": {
    "slideshow": {
     "slide_type": "fragment"
    }
   },
   "source": [
    "To address this issue, dataset creators should work with groups of annotators that are diverse in terms of sociodemographic characteristics and personal experiences, even when annotator subjectivity is discouraged."
   ]
  },
  {
   "cell_type": "markdown",
   "id": "fc63a2cd",
   "metadata": {
    "slideshow": {
     "slide_type": "subslide"
    }
   },
   "source": [
    "### Hands on session!\n",
    "\n",
    "It is time to test your skills (and patience) as an annotator.\n",
    "\n",
    "You will be asked to annotate a few examples concerning hate speech.\n",
    "\n",
    "Please, click on this [Google Form]() to annotate (**15 mins**)"
   ]
  },
  {
   "cell_type": "markdown",
   "id": "ac6a9143",
   "metadata": {
    "slideshow": {
     "slide_type": "subslide"
    }
   },
   "source": [
    "<center>\n",
    "<div>\n",
    "<img src=\"../Images/Lecture-3/qsn_prescriptive.png\" width=\"600\" alt='Prescriptive hands on'/>\n",
    "</div>\n",
    "</center>"
   ]
  },
  {
   "cell_type": "markdown",
   "id": "3ae80381",
   "metadata": {
    "slideshow": {
     "slide_type": "subslide"
    }
   },
   "source": [
    "### Guidelines\n",
    "\n",
    "<center>\n",
    "<div>\n",
    "<img src=\"../Images/Lecture-3/prescriptive-guidelines.png\" width=\"600\" alt='Prescriptive guidelines'/>\n",
    "</div>\n",
    "</center>"
   ]
  },
  {
   "cell_type": "markdown",
   "id": "dfb54fbe",
   "metadata": {
    "slideshow": {
     "slide_type": "slide"
    }
   },
   "source": [
    "## A simple remark on the prescriptive annotation paradigm"
   ]
  },
  {
   "cell_type": "markdown",
   "id": "4472cc13",
   "metadata": {
    "slideshow": {
     "slide_type": "slide"
    }
   },
   "source": [
    "## The perspectivist annotation paradigm"
   ]
  },
  {
   "cell_type": "markdown",
   "id": "96f489f8",
   "metadata": {
    "slideshow": {
     "slide_type": "slide"
    }
   },
   "source": [
    "## Step 1 - The data\n",
    "\n",
    "- Data selection\n",
    "- Understand your data\n",
    "- Data size and distribution"
   ]
  },
  {
   "cell_type": "markdown",
   "id": "7df41e98",
   "metadata": {
    "slideshow": {
     "slide_type": "subslide"
    }
   },
   "source": [
    "### Data selection\n",
    "\n",
    "The data on which you carry out your experiments is **extremely important**."
   ]
  },
  {
   "cell_type": "markdown",
   "id": "8fa85268",
   "metadata": {
    "slideshow": {
     "slide_type": "fragment"
    }
   },
   "source": [
    "- What does it contain?"
   ]
  },
  {
   "cell_type": "markdown",
   "id": "d28748ca",
   "metadata": {
    "slideshow": {
     "slide_type": "fragment"
    }
   },
   "source": [
    "- Where was the data collected?"
   ]
  },
  {
   "cell_type": "markdown",
   "id": "755272f6",
   "metadata": {
    "slideshow": {
     "slide_type": "fragment"
    }
   },
   "source": [
    "- Are there any limitations/bias/spurious correlations? $\\rightarrow$ **The Tank problem** [💬]; **Pre-processing on Aharoni et al., 2014** [💬]."
   ]
  },
  {
   "cell_type": "markdown",
   "id": "c3d3ec61",
   "metadata": {
    "slideshow": {
     "slide_type": "fragment"
    }
   },
   "source": [
    "- **Popularity != quality** $\\rightarrow$ several popular datasets have shown to have significant limitations [[Paullada et al., 2020](https://www.sciencedirect.com/science/article/pii/S2666389921001847); [Koch et al., 2021](https://datasets-benchmarks-proceedings.neurips.cc/paper/2021/file/3b8a614226a953a8cd9526fca6fe9ba5-Paper-round2.pdf)]"
   ]
  },
  {
   "cell_type": "markdown",
   "id": "3391dbe4",
   "metadata": {
    "slideshow": {
     "slide_type": "fragment"
    }
   },
   "source": [
    "- Is the data directly available or built via code?"
   ]
  },
  {
   "cell_type": "markdown",
   "id": "e9a66ae5",
   "metadata": {
    "slideshow": {
     "slide_type": "fragment"
    }
   },
   "source": [
    "- Are you going to collect any data?"
   ]
  },
  {
   "cell_type": "markdown",
   "id": "01656d64",
   "metadata": {
    "slideshow": {
     "slide_type": "subslide"
    }
   },
   "source": [
    "### Understand your data\n",
    "\n",
    "**Data is your friend**: you may spot relevant patterns that can guide your modeling. \n",
    "\n",
    "$\\rightarrow$ However, **only look at training data!**\n",
    "\n",
    "Otherwise, you might **impose some biases** that limit the generalization capabilities of your approach: **data leakage** [❗]\n",
    "\n",
    "**Domain experts** are a valuable resource for understanding your data!"
   ]
  },
  {
   "cell_type": "markdown",
   "id": "182f0340",
   "metadata": {
    "slideshow": {
     "slide_type": "subslide"
    }
   },
   "source": [
    "### Data size\n",
    "\n",
    "- Are there any **requirements** on data size?\n"
   ]
  },
  {
   "cell_type": "markdown",
   "id": "b0c65391",
   "metadata": {
    "slideshow": {
     "slide_type": "fragment"
    }
   },
   "source": [
    "- **Low amount** of data? What does 'low' mean?"
   ]
  },
  {
   "cell_type": "markdown",
   "id": "1b97ba1f",
   "metadata": {
    "slideshow": {
     "slide_type": "fragment"
    }
   },
   "source": [
    "- Do you need specific solutions concerning data size? $\\rightarrow$ cross-validation, data-augmentation [[Wong et al., 2016](https://ieeexplore.ieee.org/document/7797091); [Shorten and Khoshgoftaar, 2019](https://journalofbigdata.springeropen.com/articles/10.1186/s40537-019-0197-0)], transfer learning, simple models."
   ]
  },
  {
   "cell_type": "markdown",
   "id": "0307ae0c",
   "metadata": {
    "slideshow": {
     "slide_type": "fragment"
    }
   },
   "source": [
    "- Class imbalance [[Haixian et al., 2017](https://www.sciencedirect.com/science/article/pii/S0957417416307175?via%3Dihub)]"
   ]
  },
  {
   "cell_type": "markdown",
   "id": "20e94ffa",
   "metadata": {
    "slideshow": {
     "slide_type": "slide"
    }
   },
   "source": [
    "## Dataset collection\n",
    "\n",
    "According to [[Paullada et al., 2021](https://www.sciencedirect.com/science/article/pii/S2666389921001847)], a **wide majority** of datasets and related data collection processes have **major flaws**.\n"
   ]
  },
  {
   "cell_type": "markdown",
   "id": "b0d8cc0c",
   "metadata": {
    "slideshow": {
     "slide_type": "fragment"
    }
   },
   "source": [
    "- **Trend** on collecting large-scale datasets (quantity over quality) $\\rightarrow$ *''If it is available to us, we ingest it\"*"
   ]
  },
  {
   "cell_type": "markdown",
   "id": "094d542d",
   "metadata": {
    "slideshow": {
     "slide_type": "fragment"
    }
   },
   "source": [
    "- No **clear understanding** what these datasets/benchmarks **measure**."
   ]
  },
  {
   "cell_type": "markdown",
   "id": "47d85f8f",
   "metadata": {
    "slideshow": {
     "slide_type": "fragment"
    }
   },
   "source": [
    "- Affected by **spurious correlations** that deep learning models use as **shortcuts** and **overfit** on them [[Geirhos et al., 2020](https://www.nature.com/articles/s42256-020-00257-z); [Storks et al. 2020](https://arxiv.org/pdf/1904.01172.pdf); [Schlegel et al., 2020](https://arxiv.org/pdf/2005.14709.pdf)] $\\rightarrow$ exacerbate a dataset's utility (the hypothesis of reflecting human reasoning capabilities)"
   ]
  },
  {
   "cell_type": "markdown",
   "id": "ff033ee2",
   "metadata": {
    "slideshow": {
     "slide_type": "fragment"
    }
   },
   "source": [
    "- **Improper** task formulation (I/O)$\\rightarrow$ **Personal traits prediction from images** [💬]"
   ]
  },
  {
   "cell_type": "markdown",
   "id": "efe150e1",
   "metadata": {
    "slideshow": {
     "slide_type": "fragment"
    }
   },
   "source": [
    "- Annotators' **biases**, usually due to **lack of** guidelines or dataset documentation  $\\rightarrow$ **re-building ImageNet** [💬]"
   ]
  },
  {
   "cell_type": "markdown",
   "id": "572d84a5",
   "metadata": {
    "slideshow": {
     "slide_type": "fragment"
    }
   },
   "source": [
    "- Hard to scrutinize $\\rightarrow$ **abbatoir-effect** [[Raji et al., 2020](https://slideslive.com/38947414/harms-from-ai-research)] exacerbating data quality and hiding ethical issues"
   ]
  },
  {
   "cell_type": "markdown",
   "id": "5ed381a5",
   "metadata": {
    "slideshow": {
     "slide_type": "fragment"
    }
   },
   "source": [
    "- Entirely focused on **benchmarking metrics** $\\rightarrow$ consumption, cost, fairness, model size, limitations, multiple gold standards, etc.."
   ]
  },
  {
   "cell_type": "markdown",
   "id": "0e66f878",
   "metadata": {
    "slideshow": {
     "slide_type": "fragment"
    }
   },
   "source": [
    "- (Scientific) progress is made by **trusted research**, where that trust is layed on research being reproducible."
   ]
  },
  {
   "cell_type": "markdown",
   "id": "04e679a8",
   "metadata": {
    "slideshow": {
     "slide_type": "slide"
    }
   },
   "source": [
    "## Dataset creation\n",
    "\n",
    "What might **go wrong**? How to follow a **correct** approach?"
   ]
  },
  {
   "cell_type": "markdown",
   "id": "5564d569",
   "metadata": {
    "slideshow": {
     "slide_type": "fragment"
    }
   },
   "source": [
    "- Initial motivation: do we really need to create a new dataset?\n",
    "\n",
    "- What data to collect?\n",
    "\n",
    "- For what purpose(s)?\n",
    "\n",
    "- **How to collect data**? annotators' selection, training, guidelines definition, pilot studies\n",
    "\n",
    "- How to state if a data collection was **'successful'**? Size, quality, coverage, biases, unbalance\n",
    "\n",
    "- Can we estimate human performance?\n",
    "\n",
    "- Ethical considerations"
   ]
  },
  {
   "cell_type": "markdown",
   "id": "0a9f8402",
   "metadata": {
    "slideshow": {
     "slide_type": "subslide"
    }
   },
   "source": [
    "### Data-centric AI\n",
    "\n",
    "A recent trend **is emerging** centred on **data quality** rather than model design: [Data-centric AI](https://datacentricai.org/)\n",
    "\n",
    "$\\rightarrow$ a suite covering different aspects of data design and collection: from labeling to augmentation"
   ]
  },
  {
   "cell_type": "markdown",
   "id": "073f9177",
   "metadata": {
    "slideshow": {
     "slide_type": "fragment"
    }
   },
   "source": [
    "#### Why?"
   ]
  },
  {
   "cell_type": "markdown",
   "id": "6c69d1f8",
   "metadata": {
    "slideshow": {
     "slide_type": "fragment"
    }
   },
   "source": [
    "Because collecting high-quality data is the **biggest slice of the effort cake** when solving a particular task! (*the cake is a lie!*)"
   ]
  },
  {
   "cell_type": "markdown",
   "id": "ec2227e5",
   "metadata": {
    "slideshow": {
     "slide_type": "fragment"
    }
   },
   "source": [
    "Models **always find a shortcut** to solve a task: biases, correlations, cues "
   ]
  },
  {
   "cell_type": "markdown",
   "id": "3500a360",
   "metadata": {
    "slideshow": {
     "slide_type": "fragment"
    }
   },
   "source": [
    "$\\rightarrow$ More in general: **Internal** and **external** validity of experiments [[Liao et al., 2021](https://datasets-benchmarks-proceedings.neurips.cc/paper_files/paper/2021/file/757b505cfd34c64c85ca5b5690ee5293-Paper-round2.pdf)]"
   ]
  },
  {
   "cell_type": "markdown",
   "id": "358c494e",
   "metadata": {
    "slideshow": {
     "slide_type": "fragment"
    }
   },
   "source": [
    "Reproducibility of findings should **avoid such leakages** in experimenting"
   ]
  },
  {
   "cell_type": "markdown",
   "id": "01b56a2d",
   "metadata": {
    "slideshow": {
     "slide_type": "subslide"
    }
   },
   "source": [
    "### Data collection\n",
    "\n",
    "Data collection is a **time-consuming** process whose *success* also depends on the **complexity** of the task"
   ]
  },
  {
   "cell_type": "markdown",
   "id": "aff3fd92",
   "metadata": {
    "slideshow": {
     "slide_type": "fragment"
    }
   },
   "source": [
    "It is **crucial** to bridge the gap between the 'theoretical aspects' of a problem and its 'implementation' (a dataset) $\\rightarrow$ biases are around the corner!"
   ]
  },
  {
   "cell_type": "markdown",
   "id": "e7433f18",
   "metadata": {
    "slideshow": {
     "slide_type": "subslide"
    }
   },
   "source": [
    "Some bad quality indicators (**non-exhaustive**):\n",
    "\n",
    "- Low annotators agreement\n",
    "- Duplicates $\\rightarrow$ ([💬] CIFAR 14% relative performance drop [[Barz et al., 2020](https://www.mdpi.com/2313-433X/6/6/41)])\n",
    "- Labeling errors\n",
    "- Annotator's bias\n",
    "- Incorrect feature selection\n",
    "- Simple heuristics $\\rightarrow$ ([💬] VQA imbalance [[Goyal et al., 2017](https://openaccess.thecvf.com/content_cvpr_2017/papers/Goyal_Making_the_v_CVPR_2017_paper.pdf)])"
   ]
  },
  {
   "cell_type": "markdown",
   "id": "a10e283c",
   "metadata": {
    "slideshow": {
     "slide_type": "fragment"
    }
   },
   "source": [
    "<center>\n",
    "<div>\n",
    "<img src=\"Images/Lecture-2/jojo-yare-yare-daze.gif\" width=\"1200\" alt='JOJ_YAREYARE'/>\n",
    "</div>\n",
    "</center>"
   ]
  },
  {
   "cell_type": "markdown",
   "id": "9596536b",
   "metadata": {
    "slideshow": {
     "slide_type": "subslide"
    }
   },
   "source": [
    "#### How to assign a label to a sample? [❓]"
   ]
  },
  {
   "cell_type": "markdown",
   "id": "f00875fa",
   "metadata": {
    "slideshow": {
     "slide_type": "fragment"
    }
   },
   "source": [
    "We consider **multiple annotators** and assign them samples to annotate"
   ]
  },
  {
   "cell_type": "markdown",
   "id": "8eea60f6",
   "metadata": {
    "slideshow": {
     "slide_type": "fragment"
    }
   },
   "source": [
    "#### How to do that? [❓]"
   ]
  },
  {
   "cell_type": "markdown",
   "id": "215a2ab3",
   "metadata": {
    "slideshow": {
     "slide_type": "fragment"
    }
   },
   "source": [
    "We need a set of **instructions**!"
   ]
  },
  {
   "cell_type": "markdown",
   "id": "3daeb2c6",
   "metadata": {
    "slideshow": {
     "slide_type": "subslide"
    }
   },
   "source": [
    "### Example: Subjectivity Detection\n",
    "\n",
    "Consider the task of annotating a sentence as subjective or objective (w.r.t. to its writer)"
   ]
  },
  {
   "cell_type": "markdown",
   "id": "875cc555",
   "metadata": {
    "slideshow": {
     "slide_type": "fragment"
    }
   },
   "source": [
    "I (the author) assign you (the annotator) the following guideline:\n",
    "\n",
    "*''A sentence is subjective if it conveys an opinion''*"
   ]
  },
  {
   "cell_type": "markdown",
   "id": "65473666",
   "metadata": {
    "slideshow": {
     "slide_type": "fragment"
    }
   },
   "source": [
    "#### Do you think this is detailed enough? Would you understand it? [❓]"
   ]
  },
  {
   "cell_type": "markdown",
   "id": "ee3ad6ed",
   "metadata": {
    "slideshow": {
     "slide_type": "subslide"
    }
   },
   "source": [
    "We need to build appropriate annotation guidelines to allow:\n",
    "   - High-quality annotation $\\rightarrow$ annotators **fully understand** your task definition\n",
    "   - **Reproducibility** (recall ImageNet reconstruction issues)"
   ]
  },
  {
   "cell_type": "markdown",
   "id": "4b9a4924",
   "metadata": {
    "slideshow": {
     "slide_type": "subslide"
    }
   },
   "source": [
    "<center>\n",
    "<div>\n",
    "<img src=\"Images/Lecture-2/subjectivity.png\" width=\"850\" alt='subjectivity'/>\n",
    "</div>\n",
    "</center>"
   ]
  },
  {
   "cell_type": "markdown",
   "id": "1e1347da",
   "metadata": {
    "slideshow": {
     "slide_type": "subslide"
    }
   },
   "source": [
    "How do we achieve that [❓]"
   ]
  },
  {
   "cell_type": "markdown",
   "id": "8fb2efd6",
   "metadata": {
    "slideshow": {
     "slide_type": "fragment"
    }
   },
   "source": [
    "- Follow a specific annotation paradigm (e.g., prescriptive vs descriptive [[Röttger et al., 2022](https://aclanthology.org/2022.naacl-main.13.pdf)])\n",
    "- Multiple pilot studies $\\rightarrow$ for **edge case discovery** and **resolution**\n",
    "- Guidelines refinement\n",
    "- Discussion phases"
   ]
  },
  {
   "cell_type": "markdown",
   "id": "c1e70ec2",
   "metadata": {
    "slideshow": {
     "slide_type": "fragment"
    }
   },
   "source": [
    "**Note**: it takes a lot of time!"
   ]
  },
  {
   "cell_type": "markdown",
   "id": "e94deccb",
   "metadata": {
    "slideshow": {
     "slide_type": "fragment"
    }
   },
   "source": [
    "**Note**: biases are **always there** $\\rightarrow$ limited sources, limited data, limited time span, arbitrary guidelines definition, etc..."
   ]
  },
  {
   "cell_type": "markdown",
   "id": "fc11ec57",
   "metadata": {
    "slideshow": {
     "slide_type": "subslide"
    }
   },
   "source": [
    "### How to measure success?\n",
    "\n",
    "Inter-annotator agreement to the rescue!\n",
    "\n",
    "- Cohen's kappa for pairs of annotators\n",
    "- Krippendorff's alpha, Fleiss's kappa for multiple annotators\n",
    "\n"
   ]
  },
  {
   "cell_type": "markdown",
   "id": "583a4e90",
   "metadata": {
    "slideshow": {
     "slide_type": "fragment"
    }
   },
   "source": [
    "Avoid mistakes during annotation!\n",
    "\n",
    "**Annotation leakage** between annotators during annotation (*sounds trivial, right?*) $\\rightarrow$ ([💬] Annotating in the legal domain)"
   ]
  },
  {
   "cell_type": "markdown",
   "id": "e960f6ea",
   "metadata": {
    "slideshow": {
     "slide_type": "subslide"
    }
   },
   "source": [
    "### How to ease data maintenance?\n",
    "\n",
    "We have already seen datasheets $\\rightarrow$ that's the way to do it\n",
    "\n",
    "In addition:\n",
    "\n",
    "- Proper documentation $\\rightarrow$ ([💬] IBM2015 corpus [[Rinott et al., 2015](https://aclanthology.org/D15-1050.pdf)])\n",
    "- Guidelines availability\n",
    "- Reporting individual annotator's labels $\\rightarrow$ quality assurance [[Röttger et al., 2022](https://aclanthology.org/2022.naacl-main.13.pdf), [Teruel et al., 2018](https://aclanthology.org/L18-1640.pdf)]"
   ]
  },
  {
   "cell_type": "markdown",
   "id": "7487d366",
   "metadata": {
    "slideshow": {
     "slide_type": "subslide"
    }
   },
   "source": [
    "## Modeling uncertainty in subjective tasks\n",
    "\n",
    "[[Davani et al., 2022](https://aclanthology.org/2022.tacl-1.6.pdf)] propose to address annotation disagreement by modeling multiple annotations as a multi-task approach $\\rightarrow$ majority-voting is non-representative of annotation\n",
    "\n",
    "<center>\n",
    "<div>\n",
    "<img src=\"Images/Lecture-2/modeling_disagreement.png\" width=\"1600\" alt='modeling_disagreement'/>\n",
    "</div>\n",
    "</center>"
   ]
  },
  {
   "cell_type": "markdown",
   "id": "4fff948d",
   "metadata": {
    "slideshow": {
     "slide_type": "subslide"
    }
   },
   "source": [
    "<center>\n",
    "<div>\n",
    "<img src=\"Images/Lecture-2/modeling_uncerntainty_example.png\" width=\"1800\" alt='modeling_uncerntainty_example'/>\n",
    "</div>\n",
    "</center>\n",
    "\n",
    "The multi-task approach **better correlates** with uncertainty estimation of annotators' labels"
   ]
  },
  {
   "cell_type": "markdown",
   "id": "10369219",
   "metadata": {
    "slideshow": {
     "slide_type": "subslide"
    }
   },
   "source": [
    "## Are we modeling the annotator?\n",
    "\n",
    "[[Geva et al., 2019](https://aclanthology.org/D19-1107.pdf)] show that models overfit **on annotators' specific cues**, especially when free natural language text is allowed\n",
    "\n",
    "<center>\n",
    "<div>\n",
    "<img src=\"Images/Lecture-2/modeling_annotators.png\" width=\"900\" alt='modeling_annotators'/>\n",
    "</div>\n",
    "</center>"
   ]
  },
  {
   "cell_type": "markdown",
   "id": "66990fb9",
   "metadata": {
    "slideshow": {
     "slide_type": "subslide"
    }
   },
   "source": [
    "They advocate for annotation processes were **different annotators** are used for training and test splits, respectively"
   ]
  },
  {
   "cell_type": "markdown",
   "id": "3c93bd2e",
   "metadata": {
    "slideshow": {
     "slide_type": "fragment"
    }
   },
   "source": [
    "$\\rightarrow$ this is **particularly important** when considering small/medium-sized datasets with a restricted number of annotators"
   ]
  },
  {
   "cell_type": "markdown",
   "id": "71cee403",
   "metadata": {
    "slideshow": {
     "slide_type": "fragment"
    }
   },
   "source": [
    "As the number of annotators **increases**, the model is less prone to exploit annotators' specific cues"
   ]
  },
  {
   "cell_type": "markdown",
   "id": "b9bba58a",
   "metadata": {
    "slideshow": {
     "slide_type": "slide"
    }
   },
   "source": [
    "# Any questions?\n",
    "\n",
    "<center>\n",
    "<div>\n",
    "<img src=\"../Images/Lecture-2/jojo-arrivederci.gif\" width=\"1000\" alt='JOJO_arrivederci'/>\n",
    "</div>\n",
    "</center>"
   ]
  }
 ],
 "metadata": {
  "celltoolbar": "Slideshow",
  "kernelspec": {
   "display_name": "Python 3 (ipykernel)",
   "language": "python",
   "name": "python3"
  },
  "language_info": {
   "codemirror_mode": {
    "name": "ipython",
    "version": 3
   },
   "file_extension": ".py",
   "mimetype": "text/x-python",
   "name": "python",
   "nbconvert_exporter": "python",
   "pygments_lexer": "ipython3",
   "version": "3.10.11"
  }
 },
 "nbformat": 4,
 "nbformat_minor": 5
}
