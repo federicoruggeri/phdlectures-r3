{
 "cells": [
  {
   "cell_type": "markdown",
   "id": "fb046532",
   "metadata": {
    "slideshow": {
     "slide_type": "slide"
    }
   },
   "source": [
    "## About last time\n",
    "\n",
    "- Research is **competitive, self-referential and commercialized**"
   ]
  },
  {
   "cell_type": "markdown",
   "id": "2c087b45",
   "metadata": {
    "slideshow": {
     "slide_type": "fragment"
    }
   },
   "source": [
    "- A lot of research is produced everyday, mostly in the form of **article-shaped units**"
   ]
  },
  {
   "cell_type": "markdown",
   "id": "85710de5",
   "metadata": {
    "slideshow": {
     "slide_type": "fragment"
    }
   },
   "source": [
    "- This focus on articles leaves behind other equivalently important aspects like **data, code, and other kind of artefacts**"
   ]
  },
  {
   "cell_type": "markdown",
   "id": "1e79a535",
   "metadata": {
    "slideshow": {
     "slide_type": "fragment"
    }
   },
   "source": [
    "- Moreover, competitiveness and the lack of adequate fundings leads to several issues, such as the **evaluation** of produced research (*publish or perish*), research **quality**, and **lack** of incentives."
   ]
  },
  {
   "cell_type": "markdown",
   "id": "66058f23",
   "metadata": {
    "slideshow": {
     "slide_type": "fragment"
    }
   },
   "source": [
    "- **Peer reviewing** should address some of these problems (e.g., research quality) but this is often not the case"
   ]
  },
  {
   "cell_type": "markdown",
   "id": "4b072a03",
   "metadata": {
    "slideshow": {
     "slide_type": "fragment"
    }
   },
   "source": [
    "- This situation calls for movements focused on **quality and reproducibility** of research, often embracing **different definitions** of these terms"
   ]
  },
  {
   "cell_type": "markdown",
   "id": "7926783e",
   "metadata": {
    "slideshow": {
     "slide_type": "slide"
    }
   },
   "source": [
    "## About this lecture\n",
    "\n",
    "Reproducibility can target **different aspects** of the research pipeline."
   ]
  },
  {
   "cell_type": "markdown",
   "id": "cce5a30f",
   "metadata": {
    "slideshow": {
     "slide_type": "fragment"
    }
   },
   "source": [
    "From the conceptualization of ideas to collecting resources and doing experiments."
   ]
  },
  {
   "cell_type": "markdown",
   "id": "e4f0a7fb",
   "metadata": {
    "slideshow": {
     "slide_type": "fragment"
    }
   },
   "source": [
    "In this lecture, we are going to cover several aspects of data collection since it often represents the **backbone** of most procuded machine learning research."
   ]
  },
  {
   "cell_type": "markdown",
   "id": "24c6ce2d",
   "metadata": {
    "slideshow": {
     "slide_type": "subslide"
    }
   },
   "source": [
    "### What about data\n",
    "\n",
    "In particular, we will cover the following aspects, which (hopefully) might be new to many of you."
   ]
  },
  {
   "cell_type": "markdown",
   "id": "6ee6bec3",
   "metadata": {
    "slideshow": {
     "slide_type": "fragment"
    }
   },
   "source": [
    "- Annotation paradigms\n",
    "- Requirements for collecting and annotating data\n",
    "- Issues and risks when collecting data\n",
    "- Evaluating annotation quality"
   ]
  },
  {
   "cell_type": "markdown",
   "id": "98c68c12",
   "metadata": {
    "slideshow": {
     "slide_type": "subslide"
    }
   },
   "source": [
    "### Why should you care about data?\n",
    "\n",
    "Even if you never going to annotate and collect novel resources, you will **highly probably** deal with some sort of data."
   ]
  },
  {
   "cell_type": "markdown",
   "id": "ce66d2dc",
   "metadata": {
    "slideshow": {
     "slide_type": "fragment"
    }
   },
   "source": [
    "$\\rightarrow$ This means that you will still need to **inspect** and understand the limits of the data you are using in relation to the hypothesis you want to corroborate in your experiments!"
   ]
  },
  {
   "cell_type": "markdown",
   "id": "0a9f8402",
   "metadata": {
    "slideshow": {
     "slide_type": "subslide"
    }
   },
   "source": [
    "### Data-centric AI\n",
    "\n",
    "A recent trend **is emerging** centred on **data quality** rather than model design: [Data-centric AI](https://datacentricai.org/)\n",
    "\n",
    "$\\rightarrow$ a suite covering different aspects of data design and collection: from labeling to augmentation"
   ]
  },
  {
   "cell_type": "markdown",
   "id": "073f9177",
   "metadata": {
    "slideshow": {
     "slide_type": "fragment"
    }
   },
   "source": [
    "#### Why?"
   ]
  },
  {
   "cell_type": "markdown",
   "id": "6c69d1f8",
   "metadata": {
    "slideshow": {
     "slide_type": "fragment"
    }
   },
   "source": [
    "Because collecting high-quality data is the **biggest slice of the effort cake** when solving a particular task! (*the cake is a lie!*)"
   ]
  },
  {
   "cell_type": "markdown",
   "id": "ec2227e5",
   "metadata": {
    "slideshow": {
     "slide_type": "fragment"
    }
   },
   "source": [
    "Models **always find a shortcut** to solve a task: biases, correlations, cues "
   ]
  },
  {
   "cell_type": "markdown",
   "id": "3500a360",
   "metadata": {
    "slideshow": {
     "slide_type": "fragment"
    }
   },
   "source": [
    "$\\rightarrow$ More in general: **Internal** and **external** validity of experiments [[Liao et al., 2021](https://datasets-benchmarks-proceedings.neurips.cc/paper_files/paper/2021/file/757b505cfd34c64c85ca5b5690ee5293-Paper-round2.pdf)]"
   ]
  },
  {
   "cell_type": "markdown",
   "id": "358c494e",
   "metadata": {
    "slideshow": {
     "slide_type": "fragment"
    }
   },
   "source": [
    "Reproducibility of findings should **avoid such leakages** in experimenting"
   ]
  },
  {
   "cell_type": "markdown",
   "id": "242703ee",
   "metadata": {
    "slideshow": {
     "slide_type": "slide"
    }
   },
   "source": [
    "## Let's first check your experience!\n",
    "\n",
    "It is time for another [Google Form](https://forms.gle/uQBhrgoDM52VbKA99)! (**5 mins**)"
   ]
  },
  {
   "cell_type": "markdown",
   "id": "dd2d7db6",
   "metadata": {
    "slideshow": {
     "slide_type": "subslide"
    }
   },
   "source": [
    "<center>\n",
    "<div>\n",
    "<img src=\"../Images/Lecture-3/qsn_data-collection.png\" width=\"600\" alt='Data collection'/>\n",
    "</div>\n",
    "</center>"
   ]
  },
  {
   "cell_type": "markdown",
   "id": "dff117c4",
   "metadata": {
    "slideshow": {
     "slide_type": "slide"
    }
   },
   "source": [
    "## Annotation Paradigms\n",
    "\n",
    "Data annotation covers several aspects, such as annotators eligibility, agreement resolution, human evaluation, recommendations for mitigating harmful biases, and data annotation methodology [[Ruggeri et al., 2024]](https://arxiv.org/abs/2406.14099v2)"
   ]
  },
  {
   "cell_type": "markdown",
   "id": "6bc3269a",
   "metadata": {
    "slideshow": {
     "slide_type": "fragment"
    }
   },
   "source": [
    "Annotation paradigms are a way to frame data annotation methodology where the focus is on the **intended purpose** of collected data."
   ]
  },
  {
   "cell_type": "markdown",
   "id": "58df5ca2",
   "metadata": {
    "slideshow": {
     "slide_type": "fragment"
    }
   },
   "source": [
    "In brief, an annotation paradigm can be thought of some sort of recommendations on **how to** structure the annotation process."
   ]
  },
  {
   "cell_type": "markdown",
   "id": "df8a6e16",
   "metadata": {
    "slideshow": {
     "slide_type": "subslide"
    }
   },
   "source": [
    "### Types of Annotation Paradigms\n",
    "\n",
    "So far, we identify three main annotation paradigms."
   ]
  },
  {
   "cell_type": "markdown",
   "id": "c629e679",
   "metadata": {
    "slideshow": {
     "slide_type": "fragment"
    }
   },
   "source": [
    "- Prescriptive [[Rottger et al., 2022]](https://aclanthology.org/2022.naacl-main.13/)\n",
    "- Descriptive  [[Rottger et al., 2022]](https://aclanthology.org/2022.naacl-main.13/)\n",
    "- Perspectivist [[Cabitza et al., 2023]](https://ojs.aaai.org/index.php/AAAI/article/view/25840)"
   ]
  },
  {
   "cell_type": "markdown",
   "id": "ea4968e1",
   "metadata": {
    "slideshow": {
     "slide_type": "subslide"
    }
   },
   "source": [
    "### An important disclaimer\n",
    "\n",
    "Bare in mind that **no paradigm is inherently superior**!\n",
    "\n",
    "$\\rightarrow$ Explicitly aiming for one specific annotation paradigm beneficial because it makes clear what an annotated dataset can and should be used for."
   ]
  },
  {
   "cell_type": "markdown",
   "id": "7ed5c4bc",
   "metadata": {
    "slideshow": {
     "slide_type": "fragment"
    }
   },
   "source": [
    "Annotation paradigms are applicable to **all** data annotation."
   ]
  },
  {
   "cell_type": "markdown",
   "id": "6ac45c6c",
   "metadata": {
    "slideshow": {
     "slide_type": "fragment"
    }
   },
   "source": [
    "They can be used to compare existing datasets, and to make and communicate decisions about **how** new datasets are annotated as well as **how** annotator disagreement can be interpreted."
   ]
  },
  {
   "cell_type": "markdown",
   "id": "65eb30ba",
   "metadata": {
    "slideshow": {
     "slide_type": "slide"
    }
   },
   "source": [
    "## Descriptive Annotation Paradigm\n",
    "\n",
    "[[Rottger et al., 2022]](https://aclanthology.org/2022.naacl-main.13/) argues that one particular aspect of collecting data is how many beliefs (concerning a certain task) shoud be modeled."
   ]
  },
  {
   "cell_type": "markdown",
   "id": "71d6a7ae",
   "metadata": {
    "slideshow": {
     "slide_type": "fragment"
    }
   },
   "source": [
    "The descriptive annotation paradigm **encourages** annotator subjectivity to create datasets as granular surveys of\n",
    "individual beliefs."
   ]
  },
  {
   "cell_type": "markdown",
   "id": "f2fb0eeb",
   "metadata": {
    "slideshow": {
     "slide_type": "fragment"
    }
   },
   "source": [
    "Descriptive data annotation thus allows for the capturing and modelling of **different beliefs**."
   ]
  },
  {
   "cell_type": "markdown",
   "id": "39703930",
   "metadata": {
    "slideshow": {
     "slide_type": "subslide"
    }
   },
   "source": [
    "### Does it make sense?\n",
    "\n",
    "Descriptive data annotation captures a multiplicity of beliefs in data labels, much like a very granular survey would."
   ]
  },
  {
   "cell_type": "markdown",
   "id": "f587129a",
   "metadata": {
    "slideshow": {
     "slide_type": "subslide"
    }
   },
   "source": [
    "#### Example [[Jiang et al., 2021]](https://journals.plos.org/plosone/article?id=10.1371/journal.pone.0256762)\n",
    "\n",
    "Perceptions about the harmfulness of sexually explicit language vary strongly across the eight countries in their sample."
   ]
  },
  {
   "cell_type": "markdown",
   "id": "c7fcddd2",
   "metadata": {
    "slideshow": {
     "slide_type": "fragment"
    }
   },
   "source": [
    "In contrast, support for mass murder or human trafficking is seen as very harmful across all countries."
   ]
  },
  {
   "cell_type": "markdown",
   "id": "15d322c4",
   "metadata": {
    "slideshow": {
     "slide_type": "fragment"
    }
   },
   "source": [
    "$\\rightarrow$ Descriptive data annotation can help to identify which entries are more **subjective**"
   ]
  },
  {
   "cell_type": "markdown",
   "id": "a1db3177",
   "metadata": {
    "slideshow": {
     "slide_type": "subslide"
    }
   },
   "source": [
    "### The good thing(s)\n",
    "\n",
    "Annotator-level labels from descriptive data annotation have been shown to be a rich source of information for model training"
   ]
  },
  {
   "cell_type": "markdown",
   "id": "d43aa31e",
   "metadata": {
    "slideshow": {
     "slide_type": "fragment"
    }
   },
   "source": [
    "$\\rightarrow$ they can be used to **separately** model annotators’ beliefs."
   ]
  },
  {
   "cell_type": "markdown",
   "id": "e6d9d377",
   "metadata": {
    "slideshow": {
     "slide_type": "fragment"
    }
   },
   "source": [
    "[[Davani et al., 2021]](https://aclanthology.org/2022.tacl-1.6/) show that for tasks like abuse detection multi-annotator model architectures\n",
    "outperform standard single-label approaches on single label prediction"
   ]
  },
  {
   "cell_type": "markdown",
   "id": "9f95ab8a",
   "metadata": {
    "slideshow": {
     "slide_type": "subslide"
    }
   },
   "source": [
    "Annotators can be studied by **grouping them** into clusters based on sociodemographic attributes [[Al Kuwatly et al., 2020]](https://aclanthology.org/2020.alw-1.21/) or polarisation\n",
    "measures [[Akhtar et al., 2020]](https://ojs.aaai.org/index.php/HCOMP/article/view/7473) derived from annotator labels."
   ]
  },
  {
   "cell_type": "markdown",
   "id": "2317cc3d",
   "metadata": {
    "slideshow": {
     "slide_type": "subslide"
    }
   },
   "source": [
    "Models can be trained directly on **soft labels** (i.e., distributions of labels given by annotators), rather than hard one-hot ground truth vectors."
   ]
  },
  {
   "cell_type": "markdown",
   "id": "fc25e21b",
   "metadata": {
    "slideshow": {
     "slide_type": "subslide"
    }
   },
   "source": [
    "Descriptive data annotation facilitates **model evaluation** that accounts for different beliefs about how a model should behave."
   ]
  },
  {
   "cell_type": "markdown",
   "id": "e313c550",
   "metadata": {
    "slideshow": {
     "slide_type": "fragment"
    }
   },
   "source": [
    "$\\rightarrow$ comparing a model prediction to a descriptive label distribution, the crowd truth can help estimate how acceptable the prediction would be to users."
   ]
  },
  {
   "cell_type": "markdown",
   "id": "8aad87c5",
   "metadata": {
    "slideshow": {
     "slide_type": "subslide"
    }
   },
   "source": [
    "### The bad thing(s)\n",
    "\n",
    "Dataset creators must decide **who their data aims to represent**, by establishing a clear population of interest."
   ]
  },
  {
   "cell_type": "markdown",
   "id": "b9502218",
   "metadata": {
    "slideshow": {
     "slide_type": "fragment"
    }
   },
   "source": [
    "For instance, ask women journalists to annotate harassment targeted at them [[Arora et al., 2020]](https://aclanthology.org/2020.alw-1.2/)"
   ]
  },
  {
   "cell_type": "markdown",
   "id": "8e8094e9",
   "metadata": {
    "slideshow": {
     "slide_type": "subslide"
    }
   },
   "source": [
    "Dataset creators must consider whether representativeness can practically **be achieved**."
   ]
  },
  {
   "cell_type": "markdown",
   "id": "fa98773e",
   "metadata": {
    "slideshow": {
     "slide_type": "fragment"
    }
   },
   "source": [
    "To capture a representative distribution of beliefs for each entry requires dozens, if not hundreds of annotators recruited from the population of interest."
   ]
  },
  {
   "cell_type": "markdown",
   "id": "e7e414e5",
   "metadata": {
    "slideshow": {
     "slide_type": "fragment"
    }
   },
   "source": [
    "$\\rightarrow$ To mitigate this, we might introduce information sharing across groups of annotators, where annotator behaviour updates group-specific priors rather than being considered in isolation"
   ]
  },
  {
   "cell_type": "markdown",
   "id": "ccab3183",
   "metadata": {
    "slideshow": {
     "slide_type": "subslide"
    }
   },
   "source": [
    "The absence of a (specified) ground truth label **complicates the interpretation** of any observed annotator disagreement."
   ]
  },
  {
   "cell_type": "markdown",
   "id": "6f1b28be",
   "metadata": {
    "slideshow": {
     "slide_type": "fragment"
    }
   },
   "source": [
    "It may be due to:"
   ]
  },
  {
   "cell_type": "markdown",
   "id": "99691baf",
   "metadata": {
    "slideshow": {
     "slide_type": "fragment"
    }
   },
   "source": [
    "- (**desirable**) a genuine difference in beliefs"
   ]
  },
  {
   "cell_type": "markdown",
   "id": "4cc34790",
   "metadata": {
    "slideshow": {
     "slide_type": "fragment"
    }
   },
   "source": [
    "- (**undesirable**) annotator error"
   ]
  },
  {
   "cell_type": "markdown",
   "id": "716a6154",
   "metadata": {
    "slideshow": {
     "slide_type": "fragment"
    }
   },
   "source": [
    "$\\rightarrow$ affects agreement measures in the sense they can **only measure subjectiveness** and not task difficulty, annotator performance, or data quality."
   ]
  },
  {
   "cell_type": "markdown",
   "id": "d8c74b0a",
   "metadata": {
    "slideshow": {
     "slide_type": "subslide"
    }
   },
   "source": [
    "Descriptive annotation is fundamentally **misaligned** with standard NLP methods that rely on single gold standard labels"
   ]
  },
  {
   "cell_type": "markdown",
   "id": "05da0c9a",
   "metadata": {
    "slideshow": {
     "slide_type": "fragment"
    }
   },
   "source": [
    "When datasets are constructed to be granular surveys of beliefs, reducing those beliefs to a single label, through\n",
    "majority voting or otherwise, goes directly **against that purpose**"
   ]
  },
  {
   "cell_type": "markdown",
   "id": "35ce4dc9",
   "metadata": {
    "slideshow": {
     "slide_type": "fragment"
    }
   },
   "source": [
    "$\\rightarrow$ Aggregating labels conceals informative disagreements and risks discarding minority beliefs"
   ]
  },
  {
   "cell_type": "markdown",
   "id": "92274f01",
   "metadata": {
    "slideshow": {
     "slide_type": "subslide"
    }
   },
   "source": [
    "### Hands on session!\n",
    "\n",
    "It is time to test your skills (and patience) as an annotator.\n",
    "\n",
    "You will be asked to annotate a few examples concerning hate speech.\n",
    "\n",
    "Please, click on this [Google Form](https://forms.gle/PEhH5xH2dcAEuMTe9) to annotate (**10 mins**)"
   ]
  },
  {
   "cell_type": "markdown",
   "id": "6a725e3a",
   "metadata": {
    "slideshow": {
     "slide_type": "subslide"
    }
   },
   "source": [
    "<center>\n",
    "<div>\n",
    "<img src=\"../Images/Lecture-3/qsn_descriptive.png\" width=\"600\" alt='Descriptive hands on'/>\n",
    "</div>\n",
    "</center>"
   ]
  },
  {
   "cell_type": "markdown",
   "id": "46755a0f",
   "metadata": {
    "slideshow": {
     "slide_type": "slide"
    }
   },
   "source": [
    "## Prescriptive Annotation Paradigm\n",
    "\n",
    "The prescriptive annotation paradigm **discourages** annotator subjectivity and instead tasks annotators with encoding one specific belief."
   ]
  },
  {
   "cell_type": "markdown",
   "id": "b1a57bde",
   "metadata": {
    "slideshow": {
     "slide_type": "fragment"
    }
   },
   "source": [
    "This shared belief is formulated in the **annotation guidelines**."
   ]
  },
  {
   "cell_type": "markdown",
   "id": "7e2d2683",
   "metadata": {
    "slideshow": {
     "slide_type": "subslide"
    }
   },
   "source": [
    "### Does it make sense?\n",
    "\n",
    "Encoding one specific belief in a dataset through data annotation is **difficult**.\n",
    "\n",
    "$\\rightarrow$ still advantageous for many practical applications"
   ]
  },
  {
   "cell_type": "markdown",
   "id": "e380d500",
   "metadata": {
    "slideshow": {
     "slide_type": "subslide"
    }
   },
   "source": [
    "#### Example\n",
    "\n",
    "Social media companies moderate content on their platforms according to specific and extensive content policies"
   ]
  },
  {
   "cell_type": "markdown",
   "id": "da63e84f",
   "metadata": {
    "slideshow": {
     "slide_type": "fragment"
    }
   },
   "source": [
    "$\\rightarrow$ This illustrates that even for highly subjective tasks, where different model behaviours are plausible and valid, one specific behaviour may be practically desirable."
   ]
  },
  {
   "cell_type": "markdown",
   "id": "2f838fc1",
   "metadata": {
    "slideshow": {
     "slide_type": "subslide"
    }
   },
   "source": [
    "### The good thing(s)\n",
    "\n",
    "In the prescriptive paradigm, annotator disagreements are a **call to action** when"
   ]
  },
  {
   "cell_type": "markdown",
   "id": "cbeb425d",
   "metadata": {
    "slideshow": {
     "slide_type": "fragment"
    }
   },
   "source": [
    "-  the annotation guidelines are not correctly applied by annotators"
   ]
  },
  {
   "cell_type": "markdown",
   "id": "b70ae9b6",
   "metadata": {
    "slideshow": {
     "slide_type": "fragment"
    }
   },
   "source": [
    "-  the guidelines themselves are inadequate"
   ]
  },
  {
   "cell_type": "markdown",
   "id": "9dfde038",
   "metadata": {
    "slideshow": {
     "slide_type": "fragment"
    }
   },
   "source": [
    "$\\rightarrow$ **Quality assurance** is a laborious but structured process, with inter-annotator agreement as a\n",
    "useful, albeit noisy, measure of dataset quality."
   ]
  },
  {
   "cell_type": "markdown",
   "id": "3288870d",
   "metadata": {
    "slideshow": {
     "slide_type": "subslide"
    }
   },
   "source": [
    "More importantly, the one belief that annotators are tasked with applying is **made visible and explicit** in the\n",
    "annotation guidelines."
   ]
  },
  {
   "cell_type": "markdown",
   "id": "b0ee0081",
   "metadata": {
    "slideshow": {
     "slide_type": "fragment"
    }
   },
   "source": [
    "Prescriptive annotation guidelines can provide detailed insights into **how datasets were created**, which can then\n",
    "inform their downstream use."
   ]
  },
  {
   "cell_type": "markdown",
   "id": "691e49c5",
   "metadata": {
    "slideshow": {
     "slide_type": "subslide"
    }
   },
   "source": [
    "### The bad thing(s)\n",
    "\n",
    "Creating guidelines for prescriptive data annotation is **difficult** because it requires topical knowledge and\n",
    "familiarity with the data that is to be annotated."
   ]
  },
  {
   "cell_type": "markdown",
   "id": "a7618fdb",
   "metadata": {
    "slideshow": {
     "slide_type": "fragment"
    }
   },
   "source": [
    "Guidelines would ideally provide a clear judgment on **every possible entry**, but in practice, such perfectly comprehensive guidelines can only be approximated."
   ]
  },
  {
   "cell_type": "markdown",
   "id": "16d558c8",
   "metadata": {
    "slideshow": {
     "slide_type": "subslide"
    }
   },
   "source": [
    "Moreover, creating guidelines for prescriptive data annotation requires deciding **which one belief to encode** in the dataset."
   ]
  },
  {
   "cell_type": "markdown",
   "id": "57b78a00",
   "metadata": {
    "slideshow": {
     "slide_type": "fragment"
    }
   },
   "source": [
    "This can be a complex process that risks disregarding non-majority beliefs if marginalised people are\n",
    "not included in it."
   ]
  },
  {
   "cell_type": "markdown",
   "id": "a522168c",
   "metadata": {
    "slideshow": {
     "slide_type": "subslide"
    }
   },
   "source": [
    "Annotators need to **be familiar with annotation guidelines** to apply them correctly, which may require additional training, especially if guidelines are long and complex."
   ]
  },
  {
   "cell_type": "markdown",
   "id": "d430dbae",
   "metadata": {
    "slideshow": {
     "slide_type": "fragment"
    }
   },
   "source": [
    "During annotation, annotators will need to **refer back to the guidelines**, which requires giving them sufficient time per entry and providing a well-designed annotation interface."
   ]
  },
  {
   "cell_type": "markdown",
   "id": "b968f493",
   "metadata": {
    "slideshow": {
     "slide_type": "subslide"
    }
   },
   "source": [
    "Annotator subjectivity can be discouraged, **but not eliminated**. "
   ]
  },
  {
   "cell_type": "markdown",
   "id": "281c2fb9",
   "metadata": {
    "slideshow": {
     "slide_type": "fragment"
    }
   },
   "source": [
    "Inevitable gaps in guidelines leave annotators no choice but to apply their personal judgement for some entries, and even when there is explicit guidance, implicit biases may persist."
   ]
  },
  {
   "cell_type": "markdown",
   "id": "e83799e0",
   "metadata": {
    "slideshow": {
     "slide_type": "fragment"
    }
   },
   "source": [
    "To address this issue, dataset creators should work with groups of annotators that are diverse in terms of sociodemographic characteristics and personal experiences, even when annotator subjectivity is discouraged."
   ]
  },
  {
   "cell_type": "markdown",
   "id": "fc63a2cd",
   "metadata": {
    "slideshow": {
     "slide_type": "subslide"
    }
   },
   "source": [
    "### Hands on session!\n",
    "\n",
    "It is time to test your skills (and patience) as an annotator.\n",
    "\n",
    "You will be asked to annotate a few examples concerning hate speech.\n",
    "\n",
    "Please, click on this [Google Form](https://forms.gle/tvVmFVrLySxNgYQC7) to annotate (**15 mins**)"
   ]
  },
  {
   "cell_type": "markdown",
   "id": "ac6a9143",
   "metadata": {
    "slideshow": {
     "slide_type": "subslide"
    }
   },
   "source": [
    "<center>\n",
    "<div>\n",
    "<img src=\"../Images/Lecture-3/qsn_prescriptive.png\" width=\"600\" alt='Prescriptive hands on'/>\n",
    "</div>\n",
    "</center>"
   ]
  },
  {
   "cell_type": "markdown",
   "id": "dfb54fbe",
   "metadata": {
    "slideshow": {
     "slide_type": "slide"
    }
   },
   "source": [
    "## A simple remark on the prescriptive annotation paradigm [[Ruggeri et al. 2024]](https://arxiv.org/abs/2406.14099v2)\n",
    "\n",
    "All the existing annotation methodologies following these paradigms are centered on annotating\n",
    "data samples with **class labels**."
   ]
  },
  {
   "cell_type": "markdown",
   "id": "ef6a6e06",
   "metadata": {
    "slideshow": {
     "slide_type": "subslide"
    }
   },
   "source": [
    "When considering a paradigm that relies on annotation guidelines like the prescriptive one, there are four main limitations"
   ]
  },
  {
   "cell_type": "markdown",
   "id": "c95d6dd8",
   "metadata": {
    "slideshow": {
     "slide_type": "fragment"
    }
   },
   "source": [
    "- an **information loss** during data annotation, where the specific components(s) of the guidelines used by annotators are not explicitly recorded."
   ]
  },
  {
   "cell_type": "markdown",
   "id": "3d306d87",
   "metadata": {
    "slideshow": {
     "slide_type": "fragment"
    }
   },
   "source": [
    "-  the **lack of transparency** in evaluating annotator adherence to the guidelines, making it difficult to assess whether annotation decisions were based on the provided instructions or subjective interpretations."
   ]
  },
  {
   "cell_type": "markdown",
   "id": "990ab3ff",
   "metadata": {
    "slideshow": {
     "slide_type": "fragment"
    }
   },
   "source": [
    "- the task-specific annotations, which tie annotations to a task-specific class set, **limit the reuse of annotated data** for other tasks unless undergoing additional human annotation efforts."
   ]
  },
  {
   "cell_type": "markdown",
   "id": "6e5907ee",
   "metadata": {
    "slideshow": {
     "slide_type": "fragment"
    }
   },
   "source": [
    "- **model adherence to guidelines**, where machine learning (ML) models are trained with class supervision only despite using data annotated according to specific guidelines, thus making unclear to what extent model learning aligns with the task description conveyed by guidelines."
   ]
  },
  {
   "cell_type": "markdown",
   "id": "ec07daa5",
   "metadata": {
    "slideshow": {
     "slide_type": "subslide"
    }
   },
   "source": [
    "## Guideline-centered annotation paradigm (GCAM)\n",
    "\n",
    "<center>\n",
    "<div>\n",
    "<img src=\"../Images/Lecture-3/GCAM.png\" width=\"600\" alt='GCAM'/>\n",
    "</div>\n",
    "</center>"
   ]
  },
  {
   "cell_type": "markdown",
   "id": "216ca904",
   "metadata": {
    "slideshow": {
     "slide_type": "subslide"
    }
   },
   "source": [
    "### The good thing(s)\n",
    "\n",
    "There are three major properties of GCAM addressing the issues of SAM."
   ]
  },
  {
   "cell_type": "markdown",
   "id": "a5384394",
   "metadata": {
    "slideshow": {
     "slide_type": "fragment"
    }
   },
   "source": [
    "-  Annotators are **unaware** of the class set $C$ and the class grounding function $r$."
   ]
  },
  {
   "cell_type": "markdown",
   "id": "fee3ee61",
   "metadata": {
    "slideshow": {
     "slide_type": "fragment"
    }
   },
   "source": [
    "$\\rightarrow$ This enforces adherence by definition to the guidelines during the annotation process, as the annotators do not have access to any other information on the task"
   ]
  },
  {
   "cell_type": "markdown",
   "id": "6e825d98",
   "metadata": {
    "slideshow": {
     "slide_type": "fragment"
    }
   },
   "source": [
    "- GCAM enables using the annotated dataset for **different task annotations** that share common guidelines."
   ]
  },
  {
   "cell_type": "markdown",
   "id": "cf538004",
   "metadata": {
    "slideshow": {
     "slide_type": "subslide"
    }
   },
   "source": [
    "<center>\n",
    "<div>\n",
    "<img src=\"../Images/Lecture-3/GCAM-task-formulations.png\" width=\"600\" alt='GCAM-task-formulations'/>\n",
    "</div>\n",
    "</center>"
   ]
  },
  {
   "cell_type": "markdown",
   "id": "e20f2970",
   "metadata": {
    "slideshow": {
     "slide_type": "subslide"
    }
   },
   "source": [
    "- Datasets created following GCAM **report explicitly the knowledge** encoded in the guidelines $G$."
   ]
  },
  {
   "cell_type": "markdown",
   "id": "26ccbd55",
   "metadata": {
    "slideshow": {
     "slide_type": "fragment"
    }
   },
   "source": [
    "$\\rightarrow$ This allows ML models to be effectively trained to leverage this information"
   ]
  },
  {
   "cell_type": "markdown",
   "id": "76493ba0",
   "metadata": {
    "slideshow": {
     "slide_type": "fragment"
    }
   },
   "source": [
    "$\\rightarrow$ prevents the model from learning spurious correlations between $x$ and the class subset $C_x$, as\n",
    "the model has no access to $C_x$ during training"
   ]
  },
  {
   "cell_type": "markdown",
   "id": "85616df2",
   "metadata": {
    "slideshow": {
     "slide_type": "fragment"
    }
   },
   "source": [
    "$\\rightarrow$ decouples $G$ and $C$ allowing for using the model for different task formulations, as its predictions can be mapped to different class sets relying on the corresponding class grounding functions"
   ]
  },
  {
   "cell_type": "markdown",
   "id": "51ed96a1",
   "metadata": {
    "slideshow": {
     "slide_type": "fragment"
    }
   },
   "source": [
    "$\\rightarrow$ we can evaluate the model’s performance by assessing its alignment with $G$ by analyzing disparities between predicted and ground-truth $G_x$, fostering a deeper comprehension of the model."
   ]
  },
  {
   "cell_type": "markdown",
   "id": "51835ad0",
   "metadata": {
    "slideshow": {
     "slide_type": "subslide"
    }
   },
   "source": [
    "### The bad thing(s)\n",
    "\n",
    "While GCAM can reach comparable IAA to SAM, it requires **more than 2x of the time** and effort for annotators."
   ]
  },
  {
   "cell_type": "markdown",
   "id": "dcb47b52",
   "metadata": {
    "slideshow": {
     "slide_type": "fragment"
    }
   },
   "source": [
    "$\\rightarrow$ can significantly limit the size of collected datasets at the cost of fine-grained control over annotations."
   ]
  },
  {
   "cell_type": "markdown",
   "id": "4472cc13",
   "metadata": {
    "slideshow": {
     "slide_type": "slide"
    }
   },
   "source": [
    "## The perspectivist annotation paradigm\n",
    "\n",
    "The annotation process is often performed in terms of a **majority vote**, however this has been\n",
    "proved to be often problematic"
   ]
  },
  {
   "cell_type": "markdown",
   "id": "785f7c5c",
   "metadata": {
    "slideshow": {
     "slide_type": "fragment"
    }
   },
   "source": [
    "$\\rightarrow$ This is done to get rid of **disagreement**"
   ]
  },
  {
   "cell_type": "markdown",
   "id": "4cb1ea0e",
   "metadata": {
    "slideshow": {
     "slide_type": "fragment"
    }
   },
   "source": [
    "$\\rightarrow$ The main idea behind disagreement removal grounds on the ideal of truth for which a “higher-quality ground truth is one in which multiple humans provide the same annotation for the same examples”"
   ]
  },
  {
   "cell_type": "markdown",
   "id": "a836fafc",
   "metadata": {
    "slideshow": {
     "slide_type": "subslide"
    }
   },
   "source": [
    "Perspectivism **counters** the removal of disagreement and, consequently, the assumption of correctness of traditionally aggregated gold-standard datasets"
   ]
  },
  {
   "cell_type": "markdown",
   "id": "308c1d57",
   "metadata": {
    "slideshow": {
     "slide_type": "fragment"
    }
   },
   "source": [
    "Proposes the adoption of methods that preserve divergence of opinions and **integrate multiple perspectives**\n",
    "in the ground truthing process of ML development"
   ]
  },
  {
   "cell_type": "markdown",
   "id": "e603606f",
   "metadata": {
    "slideshow": {
     "slide_type": "subslide"
    }
   },
   "source": [
    "Thus, the perspectivist paradigm is centred on how annotations should be handled for an intended purpose, independently of how they were collected."
   ]
  },
  {
   "cell_type": "markdown",
   "id": "3eac02ee",
   "metadata": {
    "slideshow": {
     "slide_type": "subslide"
    }
   },
   "source": [
    "### Disagreement always occurs\n",
    "\n",
    "Real-world settings show that disagreement is **unavoidable and essentially irreducible**, especially when the\n",
    "objects to classify are so complex that most of the raters can actually get them wrong, and the real experts are a minority [[Basile, 2021]](https://link.springer.com/chapter/10.1007/978-3-030-77091-4_26) [[Cabitza et al., 2019]](https://journals.sagepub.com/doi/10.1177/1460458218824705)."
   ]
  },
  {
   "cell_type": "markdown",
   "id": "2cfccb53",
   "metadata": {
    "slideshow": {
     "slide_type": "subslide"
    }
   },
   "source": [
    "### Two types of perspectivism\n",
    "\n",
    "We distinguish two types of perspectivism depending on how annotations are handled."
   ]
  },
  {
   "cell_type": "markdown",
   "id": "d513baff",
   "metadata": {
    "slideshow": {
     "slide_type": "fragment"
    }
   },
   "source": [
    "#### Weak perspectivism\n",
    "\n",
    "Collect multiple annotations (i.e., labels) per sample to account for (i) annotators' errors and (ii) task variability and then **aggregate them** into a single label for training models."
   ]
  },
  {
   "cell_type": "markdown",
   "id": "f069af8a",
   "metadata": {
    "slideshow": {
     "slide_type": "fragment"
    }
   },
   "source": [
    "#### Strong perspectivism\n",
    "\n",
    "Collect multiple annotations (i.e., labels) per sample to account for (i) annotators' errors and (ii) task variability and then **keep them all** in the subsequent phases of training or benchmarking of the classifcation models."
   ]
  },
  {
   "cell_type": "markdown",
   "id": "0b6c9f64",
   "metadata": {
    "slideshow": {
     "slide_type": "subslide"
    }
   },
   "source": [
    "### The good thing(s)\n",
    "\n",
    "- Provide a tool to recognize phenomena (i.e., tasks) which exhibit a **natural ambiguity**"
   ]
  },
  {
   "cell_type": "markdown",
   "id": "d44e4edd",
   "metadata": {
    "slideshow": {
     "slide_type": "fragment"
    }
   },
   "source": [
    "- Take into account **different beliefs** which are often attributed as noise"
   ]
  },
  {
   "cell_type": "markdown",
   "id": "48b8d92d",
   "metadata": {
    "slideshow": {
     "slide_type": "fragment"
    }
   },
   "source": [
    "- To develop models that can leverage **label uncertainty**"
   ]
  },
  {
   "cell_type": "markdown",
   "id": "e481fbd1",
   "metadata": {
    "slideshow": {
     "slide_type": "fragment"
    }
   },
   "source": [
    "- Report about **annotators' confidence** in annotations $\\rightarrow$ useful for maority voting and data quality assessment"
   ]
  },
  {
   "cell_type": "markdown",
   "id": "9acd74e8",
   "metadata": {
    "slideshow": {
     "slide_type": "subslide"
    }
   },
   "source": [
    "### The bad things(s)\n",
    "\n",
    "- Involve **several annotators** to cover different perspectives with statistical significance"
   ]
  },
  {
   "cell_type": "markdown",
   "id": "58358236",
   "metadata": {
    "slideshow": {
     "slide_type": "fragment"
    }
   },
   "source": [
    "- Involve annotators from **heterogeneous backgrounds** (e.g., culture)"
   ]
  },
  {
   "cell_type": "markdown",
   "id": "0fa21d46",
   "metadata": {
    "slideshow": {
     "slide_type": "fragment"
    }
   },
   "source": [
    "-  **Incompatibility** with standard ML approaches, which are usually not designed to take into account multiple perspectives or annotation, and need to design ad-hoc ML methods"
   ]
  },
  {
   "cell_type": "markdown",
   "id": "8d517ae3",
   "metadata": {
    "slideshow": {
     "slide_type": "fragment"
    }
   },
   "source": [
    "- More complex **validation**, due to the absence of a uniquely defned ground truth."
   ]
  },
  {
   "cell_type": "markdown",
   "id": "dbfbb1ab",
   "metadata": {
    "slideshow": {
     "slide_type": "slide"
    }
   },
   "source": [
    "## Data selection\n",
    "\n",
    "The data on which you carry out your experiments is **extremely important**."
   ]
  },
  {
   "cell_type": "markdown",
   "id": "8fa85268",
   "metadata": {
    "slideshow": {
     "slide_type": "fragment"
    }
   },
   "source": [
    "- What does it contain?"
   ]
  },
  {
   "cell_type": "markdown",
   "id": "d28748ca",
   "metadata": {
    "slideshow": {
     "slide_type": "fragment"
    }
   },
   "source": [
    "- Where was the data collected?"
   ]
  },
  {
   "cell_type": "markdown",
   "id": "755272f6",
   "metadata": {
    "slideshow": {
     "slide_type": "fragment"
    }
   },
   "source": [
    "- Are there any harmful limitations/bias/spurious correlations? $\\rightarrow$ **Pre-processing on Aharoni et al., 2014** [💬]."
   ]
  },
  {
   "cell_type": "markdown",
   "id": "c3d3ec61",
   "metadata": {
    "slideshow": {
     "slide_type": "fragment"
    }
   },
   "source": [
    "- **Popularity != quality** $\\rightarrow$ several popular datasets have shown to have significant limitations [[Paullada et al., 2020](https://www.sciencedirect.com/science/article/pii/S2666389921001847); [Koch et al., 2021](https://datasets-benchmarks-proceedings.neurips.cc/paper/2021/file/3b8a614226a953a8cd9526fca6fe9ba5-Paper-round2.pdf)]"
   ]
  },
  {
   "cell_type": "markdown",
   "id": "38ec1788",
   "metadata": {
    "slideshow": {
     "slide_type": "fragment"
    }
   },
   "source": [
    "- Can you rely on some domain experts?"
   ]
  },
  {
   "cell_type": "markdown",
   "id": "182f0340",
   "metadata": {
    "slideshow": {
     "slide_type": "subslide"
    }
   },
   "source": [
    "### Data size\n",
    "\n",
    "- Are there any **requirements** on data size?\n"
   ]
  },
  {
   "cell_type": "markdown",
   "id": "b0c65391",
   "metadata": {
    "slideshow": {
     "slide_type": "fragment"
    }
   },
   "source": [
    "- **Low amount** of data? What does 'low' mean?"
   ]
  },
  {
   "cell_type": "markdown",
   "id": "1b97ba1f",
   "metadata": {
    "slideshow": {
     "slide_type": "fragment"
    }
   },
   "source": [
    "- Does dataset limit your intended empirical analysis?"
   ]
  },
  {
   "cell_type": "markdown",
   "id": "0307ae0c",
   "metadata": {
    "slideshow": {
     "slide_type": "fragment"
    }
   },
   "source": [
    "- Class imbalance [[Haixian et al., 2017](https://www.sciencedirect.com/science/article/pii/S0957417416307175?via%3Dihub)]"
   ]
  },
  {
   "cell_type": "markdown",
   "id": "fb077961",
   "metadata": {
    "slideshow": {
     "slide_type": "fragment"
    }
   },
   "source": [
    "- Duplicates $\\rightarrow$ ([💬] CIFAR 14% relative performance drop [[Barz et al., 2020](https://www.mdpi.com/2313-433X/6/6/41)])"
   ]
  },
  {
   "cell_type": "markdown",
   "id": "20e94ffa",
   "metadata": {
    "slideshow": {
     "slide_type": "slide"
    }
   },
   "source": [
    "## Dataset collection\n",
    "\n",
    "According to [[Paullada et al., 2021](https://www.sciencedirect.com/science/article/pii/S2666389921001847)], a **wide majority** of datasets and related data collection processes have **major flaws**.\n"
   ]
  },
  {
   "cell_type": "markdown",
   "id": "b0d8cc0c",
   "metadata": {
    "slideshow": {
     "slide_type": "fragment"
    }
   },
   "source": [
    "- **Trend** on collecting large-scale datasets (quantity over quality) $\\rightarrow$ *''If it is available to us, we ingest it\"*"
   ]
  },
  {
   "cell_type": "markdown",
   "id": "094d542d",
   "metadata": {
    "slideshow": {
     "slide_type": "fragment"
    }
   },
   "source": [
    "- No **clear understanding** what these datasets/benchmarks **measure**."
   ]
  },
  {
   "cell_type": "markdown",
   "id": "47d85f8f",
   "metadata": {
    "slideshow": {
     "slide_type": "fragment"
    }
   },
   "source": [
    "- Affected by **spurious correlations** that deep learning models use as **shortcuts** and **overfit** on them [[Geirhos et al., 2020](https://www.nature.com/articles/s42256-020-00257-z); [Storks et al. 2020](https://arxiv.org/pdf/1904.01172.pdf); [Schlegel et al., 2020](https://arxiv.org/pdf/2005.14709.pdf)] $\\rightarrow$ exacerbate a dataset's utility (the hypothesis of reflecting human reasoning capabilities)"
   ]
  },
  {
   "cell_type": "markdown",
   "id": "ff033ee2",
   "metadata": {
    "slideshow": {
     "slide_type": "fragment"
    }
   },
   "source": [
    "- **Improper** task formulation (I/O)$\\rightarrow$ **Personal traits prediction from images** [💬]"
   ]
  },
  {
   "cell_type": "markdown",
   "id": "efe150e1",
   "metadata": {
    "slideshow": {
     "slide_type": "fragment"
    }
   },
   "source": [
    "- Annotators' **biases**, usually due to **lack of** guidelines or dataset documentation  $\\rightarrow$ **re-building ImageNet** [💬]"
   ]
  },
  {
   "cell_type": "markdown",
   "id": "572d84a5",
   "metadata": {
    "slideshow": {
     "slide_type": "subslide"
    }
   },
   "source": [
    "- Hard to scrutinize $\\rightarrow$ **abbatoir-effect** [[Raji et al., 2020](https://slideslive.com/38947414/harms-from-ai-research)] exacerbating data quality and hiding ethical issues"
   ]
  },
  {
   "cell_type": "markdown",
   "id": "5ed381a5",
   "metadata": {
    "slideshow": {
     "slide_type": "fragment"
    }
   },
   "source": [
    "- Entirely focused on **benchmarking metrics** $\\rightarrow$ consumption, cost, fairness, model size, limitations, multiple gold standards, etc. [[Tedeschi et al., 2023]](https://aclanthology.org/2023.acl-long.697/)"
   ]
  },
  {
   "cell_type": "markdown",
   "id": "e7433f18",
   "metadata": {
    "slideshow": {
     "slide_type": "fragment"
    }
   },
   "source": [
    "- Simple heuristics $\\rightarrow$ ([💬] VQA imbalance [[Goyal et al., 2017](https://openaccess.thecvf.com/content_cvpr_2017/papers/Goyal_Making_the_v_CVPR_2017_paper.pdf)])"
   ]
  },
  {
   "cell_type": "markdown",
   "id": "10369219",
   "metadata": {
    "slideshow": {
     "slide_type": "subslide"
    }
   },
   "source": [
    "## Are we modeling the annotator?\n",
    "\n",
    "[[Geva et al., 2019](https://aclanthology.org/D19-1107.pdf)] show that models overfit **on annotators' specific cues**, especially when free natural language text is allowed\n",
    "\n",
    "<center>\n",
    "<div>\n",
    "<img src=\"../Images/Lecture-3/modeling_annotators.png\" width=\"400\" alt='modeling_annotators'/>\n",
    "</div>\n",
    "</center>"
   ]
  },
  {
   "cell_type": "markdown",
   "id": "66990fb9",
   "metadata": {
    "slideshow": {
     "slide_type": "subslide"
    }
   },
   "source": [
    "They advocate for annotation processes were **different annotators** are used for training and test splits, respectively"
   ]
  },
  {
   "cell_type": "markdown",
   "id": "3c93bd2e",
   "metadata": {
    "slideshow": {
     "slide_type": "fragment"
    }
   },
   "source": [
    "$\\rightarrow$ this is **particularly important** when considering small/medium-sized datasets with a restricted number of annotators"
   ]
  },
  {
   "cell_type": "markdown",
   "id": "71cee403",
   "metadata": {
    "slideshow": {
     "slide_type": "fragment"
    }
   },
   "source": [
    "As the number of annotators **increases**, the model is less prone to exploit annotators' specific cues"
   ]
  },
  {
   "cell_type": "markdown",
   "id": "49dfc8f8",
   "metadata": {
    "slideshow": {
     "slide_type": "slide"
    }
   },
   "source": [
    "## Important aspects of Annotation\n",
    "\n",
    "There are several aspects that concern the annotation process, which are often not discussed enough."
   ]
  },
  {
   "cell_type": "markdown",
   "id": "9e9ecb64",
   "metadata": {
    "slideshow": {
     "slide_type": "subslide"
    }
   },
   "source": [
    "### Iterative guideline refinement\n",
    "\n",
    "In real-world scenarios, guidelines are subject to **continuous refinement** with human-in-the-loop helping in addressing edge cases as data is collected"
   ]
  },
  {
   "cell_type": "markdown",
   "id": "8527135d",
   "metadata": {
    "slideshow": {
     "slide_type": "fragment"
    }
   },
   "source": [
    "Consequently, data annotation is required **at each** guideline refinement iteration, leading to substantial efforts and costs."
   ]
  },
  {
   "cell_type": "markdown",
   "id": "2ad53a97",
   "metadata": {
    "slideshow": {
     "slide_type": "fragment"
    }
   },
   "source": [
    "Repeated until convergence or time budget reached."
   ]
  },
  {
   "cell_type": "markdown",
   "id": "a722c0c1",
   "metadata": {
    "slideshow": {
     "slide_type": "subslide"
    }
   },
   "source": [
    "### Edge case discovery and resolution\n",
    "\n",
    "Preliminary annotation studies and annotation iterations are mainly devised to evaluate the coverage and effectiveness of guidelines."
   ]
  },
  {
   "cell_type": "markdown",
   "id": "33d2bc62",
   "metadata": {
    "slideshow": {
     "slide_type": "fragment"
    }
   },
   "source": [
    "Measured based on the number of difficult examples detected (i.e., topic of discussion for which high disagreement is observed)"
   ]
  },
  {
   "cell_type": "markdown",
   "id": "e88235e6",
   "metadata": {
    "slideshow": {
     "slide_type": "fragment"
    }
   },
   "source": [
    "$\\rightarrow$ these examples are often denoted as **edge cases**, which must be addressed by updating guidelines and repeating the annotation phase."
   ]
  },
  {
   "cell_type": "markdown",
   "id": "d99624a3",
   "metadata": {
    "slideshow": {
     "slide_type": "subslide"
    }
   },
   "source": [
    "## Discussion phases\n",
    "\n",
    "Annotators undergo **eligibility tests** to assess their adequacy to participate in an annotation study"
   ]
  },
  {
   "cell_type": "markdown",
   "id": "c72a9e45",
   "metadata": {
    "slideshow": {
     "slide_type": "fragment"
    }
   },
   "source": [
    "Likewise, annotators engage in discussions to compare their annotations and further assess their understanding of the task (and, if any, adherence to the guidelines)"
   ]
  },
  {
   "cell_type": "markdown",
   "id": "08214f58",
   "metadata": {
    "slideshow": {
     "slide_type": "fragment"
    }
   },
   "source": [
    "In many cases, discussions are not sufficient to resolve disagreements (if resolution if the purpose of the discussion)"
   ]
  },
  {
   "cell_type": "markdown",
   "id": "829d9120",
   "metadata": {
    "slideshow": {
     "slide_type": "fragment"
    }
   },
   "source": [
    "$\\rightarrow$ Involve additional annotators to resolve the conflict"
   ]
  },
  {
   "cell_type": "markdown",
   "id": "fc11ec57",
   "metadata": {
    "slideshow": {
     "slide_type": "slide"
    }
   },
   "source": [
    "## How to measure success?\n",
    "\n",
    "Inter-annotator agreement to the rescue!\n",
    "\n",
    "- Cohen's kappa for pairs of annotators\n",
    "- Krippendorff's alpha, Fleiss's kappa for multiple annotators\n",
    "\n"
   ]
  },
  {
   "cell_type": "markdown",
   "id": "583a4e90",
   "metadata": {
    "slideshow": {
     "slide_type": "fragment"
    }
   },
   "source": [
    "Avoid mistakes during annotation!\n",
    "\n",
    "**Annotation leakage** between annotators during annotation (*sounds trivial, right?*) $\\rightarrow$ ([💬] Annotating in the legal domain)"
   ]
  },
  {
   "cell_type": "markdown",
   "id": "0a257cf3",
   "metadata": {
    "slideshow": {
     "slide_type": "slide"
    }
   },
   "source": [
    "## Concluding Remarks\n",
    "\n",
    "- Data quality is paramount in machine learning $\\rightarrow$ don't take quality for granted!"
   ]
  },
  {
   "cell_type": "markdown",
   "id": "39b7847f",
   "metadata": {
    "slideshow": {
     "slide_type": "fragment"
    }
   },
   "source": [
    "- Data annotation should always reflect an intended use of data $\\rightarrow$ annotation paradigms "
   ]
  },
  {
   "cell_type": "markdown",
   "id": "d3c443d8",
   "metadata": {
    "slideshow": {
     "slide_type": "fragment"
    }
   },
   "source": [
    "- Data collection is inherently biased $\\rightarrow$ when biases are harmful?"
   ]
  },
  {
   "cell_type": "markdown",
   "id": "678bf7e5",
   "metadata": {
    "slideshow": {
     "slide_type": "fragment"
    }
   },
   "source": [
    "- There are several aspects concerning data annotation that should not be neglected"
   ]
  },
  {
   "cell_type": "markdown",
   "id": "2a81d1fb",
   "metadata": {
    "slideshow": {
     "slide_type": "fragment"
    }
   },
   "source": [
    "- There are several ways to measure annotator agreement $\\rightarrow$ make sure you know what this agreement indicates!"
   ]
  },
  {
   "cell_type": "markdown",
   "id": "b9bba58a",
   "metadata": {
    "slideshow": {
     "slide_type": "slide"
    }
   },
   "source": [
    "# Any questions?\n",
    "\n",
    "<center>\n",
    "<div>\n",
    "<img src=\"../Images/Lecture-2/jojo-arrivederci.gif\" width=\"1000\" alt='JOJO_arrivederci'/>\n",
    "</div>\n",
    "</center>"
   ]
  }
 ],
 "metadata": {
  "celltoolbar": "Slideshow",
  "kernelspec": {
   "display_name": "Python 3 (ipykernel)",
   "language": "python",
   "name": "python3"
  },
  "language_info": {
   "codemirror_mode": {
    "name": "ipython",
    "version": 3
   },
   "file_extension": ".py",
   "mimetype": "text/x-python",
   "name": "python",
   "nbconvert_exporter": "python",
   "pygments_lexer": "ipython3",
   "version": "3.10.11"
  }
 },
 "nbformat": 4,
 "nbformat_minor": 5
}
