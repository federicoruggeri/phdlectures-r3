{
 "cells": [
  {
   "cell_type": "markdown",
   "id": "47fad4a7",
   "metadata": {
    "slideshow": {
     "slide_type": "slide"
    }
   },
   "source": [
    "## Why are you here?\n",
    "\n",
    "According to submitted Google form data, you gave the following reasons:\n",
    "\n",
    "<center>\n",
    "<div>\n",
    "<img src=\"../Images/Lecture-1/google_form_true.png\" width=\"2200\" alt='google_form_true'/>\n",
    "</div>\n",
    "</center>"
   ]
  },
  {
   "cell_type": "markdown",
   "id": "05785134",
   "metadata": {
    "slideshow": {
     "slide_type": "subslide"
    }
   },
   "source": [
    "## All you liars!\n",
    "\n",
    "My predictions were **wrong** since I expected 100% respondance rate for ``CFUs (Yay!!!)`` answer!!\n"
   ]
  },
  {
   "cell_type": "markdown",
   "id": "ed44d628",
   "metadata": {
    "slideshow": {
     "slide_type": "fragment"
    }
   },
   "source": [
    "<center>\n",
    "<div>\n",
    "<img src=\"../Images/Lecture-1/liar-anakin.gif\" width=\"700\" alt='LIAR'/>\n",
    "</div>\n",
    "</center>"
   ]
  },
  {
   "cell_type": "markdown",
   "id": "c775a5a2",
   "metadata": {
    "slideshow": {
     "slide_type": "slide"
    }
   },
   "source": [
    "## Anyway.. Why are you here?"
   ]
  },
  {
   "cell_type": "markdown",
   "id": "ce929752",
   "metadata": {
    "slideshow": {
     "slide_type": "fragment"
    }
   },
   "source": [
    "- You love doing **research** but struggle to identify good principles to pursue?"
   ]
  },
  {
   "cell_type": "markdown",
   "id": "c8e2bcbb",
   "metadata": {
    "slideshow": {
     "slide_type": "fragment"
    }
   },
   "source": [
    "- Do you often struggle to **reproduce** a baseline for your work?"
   ]
  },
  {
   "cell_type": "markdown",
   "id": "676be950",
   "metadata": {
    "slideshow": {
     "slide_type": "fragment"
    }
   },
   "source": [
    "- Do you often struggle to reproduce your **own** work?"
   ]
  },
  {
   "cell_type": "markdown",
   "id": "800b6ed2",
   "metadata": {
    "slideshow": {
     "slide_type": "fragment"
    }
   },
   "source": [
    "- Is your work often **criticized** for the unclear methodology?"
   ]
  },
  {
   "cell_type": "markdown",
   "id": "28cf6fad",
   "metadata": {
    "slideshow": {
     "slide_type": "fragment"
    }
   },
   "source": [
    "- Are you often confused about **what kind** of experiment to carry out?"
   ]
  },
  {
   "cell_type": "markdown",
   "id": "d28f6f9a",
   "metadata": {
    "slideshow": {
     "slide_type": "fragment"
    }
   },
   "source": [
    "- Are you looking for a **sound motivation** to explain how your 1-point F1-score improvement is the new SOTA?"
   ]
  },
  {
   "cell_type": "markdown",
   "id": "1e49c29f",
   "metadata": {
    "slideshow": {
     "slide_type": "fragment"
    }
   },
   "source": [
    "- Are you looking for some ways to **improve** your spaghetti code?"
   ]
  },
  {
   "cell_type": "markdown",
   "id": "4993e95e",
   "metadata": {
    "slideshow": {
     "slide_type": "fragment"
    }
   },
   "source": [
    "- Are you already **tired** of this listing?"
   ]
  },
  {
   "cell_type": "markdown",
   "id": "e0372cf0",
   "metadata": {
    "slideshow": {
     "slide_type": "fragment"
    }
   },
   "source": [
    "**$\\rightarrow$ This course might shed some light on these topics and help you!**"
   ]
  },
  {
   "cell_type": "markdown",
   "id": "cbabd5d6",
   "metadata": {
    "slideshow": {
     "slide_type": "slide"
    }
   },
   "source": [
    "## A quick Legend\n",
    "\n",
    "[❓] $\\rightarrow$ This is a **question for you** (the audience)\n",
    "\n",
    "[❗] $\\rightarrow$ A **very important** information to remember!\n",
    "\n",
    "[💬] $\\rightarrow$ An (funny?) **anecdote** will be told\n",
    "\n",
    "[[XX et al., YEAR](https://www.youtube.com/watch?v=dQw4w9WgXcQ)] $\\rightarrow$ A reference (**click on the reference** to see the paper) \n"
   ]
  },
  {
   "cell_type": "markdown",
   "id": "c50ada7e",
   "metadata": {
    "slideshow": {
     "slide_type": "slide"
    }
   },
   "source": [
    "## Doing Research\n",
    "\n",
    "Indepedently of your academic title, we are all researchers.\n",
    "\n",
    "But, what does it mean exactly?\n",
    "\n",
    "Are there any guidelines, principles, desiderata, instructions?"
   ]
  },
  {
   "cell_type": "markdown",
   "id": "b56fc52b",
   "metadata": {
    "slideshow": {
     "slide_type": "subslide"
    }
   },
   "source": [
    "### Scientific Method 🤓\n",
    "\n",
    "- Specify an **hypothesis** $\\rightarrow$ my very own interesting idea..\n",
    "- Running some experiments $\\rightarrow$ which ones?\n",
    "- **Analyze** the results $\\rightarrow$ how?\n",
    "- Draw some conclusions $\\rightarrow$ be very cautious..."
   ]
  },
  {
   "cell_type": "markdown",
   "id": "4de3678c",
   "metadata": {
    "slideshow": {
     "slide_type": "slide"
    }
   },
   "source": [
    "[❓] This all seems pretty straightforward, but can you list some properties of research you think are essential?\n",
    "\n",
    "Let's do this brief exercise (**5 minutes**)\n",
    "\n",
    "Please, fill in the following [Google form](https://forms.gle/JYwdpSuhjBhQdaoe7)."
   ]
  },
  {
   "cell_type": "markdown",
   "id": "6b9edda6",
   "metadata": {
    "slideshow": {
     "slide_type": "subslide"
    }
   },
   "source": [
    "<center>\n",
    "<div>\n",
    "<img src=\"../Images/Lecture-1/qsn_talking-about-research.png\" width=\"600\" alt='Talking about research QR'/>\n",
    "</div>\n",
    "</center>"
   ]
  },
  {
   "cell_type": "markdown",
   "id": "fe5c15a3",
   "metadata": {
    "slideshow": {
     "slide_type": "slide"
    }
   },
   "source": [
    "## What we care about\n",
    "\n",
    "As the course title says, we focus on some core aspects of research:\n",
    "\n",
    "- Robust\n",
    "- Reproducible\n",
    "- Open (*not mentioned before*)"
   ]
  },
  {
   "cell_type": "markdown",
   "id": "a1907378",
   "metadata": {
    "slideshow": {
     "slide_type": "subslide"
    }
   },
   "source": [
    "### A small Disclaimer\n",
    "\n",
    "Research is a vast concept with some general and domain-specific characteristics.\n",
    "\n",
    "In this course, we mainly focus on computer science (*still pretty vast*)\n",
    "\n",
    "Still, the intent of the course is not losing in generality, while describing aspects (e.g., coding) that may only apply to certain domains.\n"
   ]
  },
  {
   "cell_type": "markdown",
   "id": "61b5aadf",
   "metadata": {
    "slideshow": {
     "slide_type": "slide"
    }
   },
   "source": [
    "## [Balto's Effect](https://en.wikipedia.org/wiki/Balto_(film))\n",
    "\n",
    "We just mentioned some important characteristics of research (along with what you provided).\n",
    "\n",
    "But, let's talk about research by first stating what it is certainly not what we intend."
   ]
  },
  {
   "cell_type": "markdown",
   "id": "d023a50d",
   "metadata": {
    "slideshow": {
     "slide_type": "subslide"
    }
   },
   "source": [
    "Would you **accept** (trust) a work that:\n",
    "\n",
    "- Doesn't provide **sufficient information** for reproducibility\n",
    "- Doesn't provide any **code** \n",
    "- Doesn't provide the **data/guidelines** for collecting their contributing dataset\n",
    "- Doesn't provide **training details** like model hyper-parameters, data partitioning, etc.."
   ]
  },
  {
   "cell_type": "markdown",
   "id": "5913b711",
   "metadata": {
    "slideshow": {
     "slide_type": "subslide"
    }
   },
   "source": [
    "### We know this! But...\n",
    "\n",
    "[❗] Results have to be **repeatable** and **reproducible** to be valid and reliable $\\rightarrow$ **consistent** results!"
   ]
  },
  {
   "cell_type": "markdown",
   "id": "91fd7939",
   "metadata": {
    "slideshow": {
     "slide_type": "fragment"
    }
   },
   "source": [
    "<center>\n",
    "<div>\n",
    "<img src=\"../Images/Lecture-1/keep_your_secrets.gif\" width=\"1000\" alt='LOTR_keep_your_secrets'/>\n",
    "</div>\n",
    "</center>"
   ]
  },
  {
   "cell_type": "markdown",
   "id": "ff3c62ba",
   "metadata": {
    "slideshow": {
     "slide_type": "subslide"
    }
   },
   "source": [
    "## A crysis\n",
    "\n",
    "Paradoxically, **non-replicable** publications tend to be cited **more often** than replicable ones [[Serra-Garcia & Gneezy, 2021](https://www.science.org/doi/epdf/10.1126/sciadv.abd1705)]!\n",
    "\n",
    "$\\rightarrow$ results may be more interesting than actual reproducibility! (fair enough)"
   ]
  },
  {
   "cell_type": "markdown",
   "id": "9e34a54b",
   "metadata": {
    "slideshow": {
     "slide_type": "subslide"
    }
   },
   "source": [
    "In particular, the authors observe that the difference in citation does not change after the publication of the failure to replicate.\n",
    "\n",
    "<center>\n",
    "<div>\n",
    "<img src=\"../Images/Lecture-1/replicated-count.png\" width=\"1000\" alt='Replicated Count'/>\n",
    "</div>\n",
    "</center>"
   ]
  },
  {
   "cell_type": "markdown",
   "id": "699d42d8",
   "metadata": {
    "slideshow": {
     "slide_type": "subslide"
    }
   },
   "source": [
    "On average, papers that failed to replicate are cited almost **16 times** more per year than those that were successfully replicated."
   ]
  },
  {
   "cell_type": "markdown",
   "id": "c8e602a5",
   "metadata": {
    "slideshow": {
     "slide_type": "subslide"
    }
   },
   "source": [
    "Moreover, only 12% of papers citing non replicable papers acknowledge the replication failure\n",
    "\n",
    "Note that, it is not possible to test the conjecture that papers are accepted because they are interesting.\n",
    "\n",
    "$\\rightarrow$ the gap in citations between replicable and non-replicable publications is not driven by new papers citing the replication failure."
   ]
  },
  {
   "cell_type": "markdown",
   "id": "33c2f253",
   "metadata": {
    "slideshow": {
     "slide_type": "subslide"
    }
   },
   "source": [
    "### But why this happens?\n",
    "\n",
    "A possible answer is that peer reviewing faces a trade-off.\n",
    "\n",
    "If a paper is deemed interesting, the reviewers may apply lower standards regarding its reproducibility.\n",
    "\n",
    "Surprisingly, experts can predict well which findings would replicate, yet these papers have been published!\n",
    "\n",
    "$\\rightarrow$ Understanding this trade-off is important because it can partially explain the source of the replication crisis in social sciences."
   ]
  },
  {
   "cell_type": "markdown",
   "id": "ebabb20e",
   "metadata": {
    "slideshow": {
     "slide_type": "subslide"
    }
   },
   "source": [
    "[❓] Does any of you have any relatable example?"
   ]
  },
  {
   "cell_type": "markdown",
   "id": "3686fa84",
   "metadata": {
    "slideshow": {
     "slide_type": "slide"
    }
   },
   "source": [
    "## A blind walk in the research deep forest\n",
    "\n",
    "A lot of wild issues might appear when doing research."
   ]
  },
  {
   "cell_type": "markdown",
   "id": "9ccc1935",
   "metadata": {
    "slideshow": {
     "slide_type": "subslide"
    }
   },
   "source": [
    "### w/ Data\n",
    "\n",
    "- Some interesting datasets for their study are **not available**... (*private only, premium subscription required, ethical/legal reasons, etc..*)"
   ]
  },
  {
   "cell_type": "markdown",
   "id": "16a32007",
   "metadata": {
    "slideshow": {
     "slide_type": "fragment"
    }
   },
   "source": [
    "- The available datasets are not **well-documented or maintained** (*good luck!*)"
   ]
  },
  {
   "cell_type": "markdown",
   "id": "3fc12430",
   "metadata": {
    "slideshow": {
     "slide_type": "fragment"
    }
   },
   "source": [
    "- No available **datasheet** or data cards of the dataset (*err.. is that an insult?*)"
   ]
  },
  {
   "cell_type": "markdown",
   "id": "7c7768a0",
   "metadata": {
    "slideshow": {
     "slide_type": "fragment"
    }
   },
   "source": [
    "- Some of the datasets have significant **flaws/biases** [[Bolukbasi et al., 2016](https://proceedings.neurips.cc/paper/2016/file/a486cd07e4ac3d270571622f4f316ec5-Paper.pdf)]"
   ]
  },
  {
   "cell_type": "markdown",
   "id": "0d4592f4",
   "metadata": {
    "slideshow": {
     "slide_type": "fragment"
    }
   },
   "source": [
    "- Can't **reproduce the same dataset** by following the paper [[Recht et al., 2019](https://proceedings.mlr.press/v97/recht19a/recht19a.pdf)]"
   ]
  },
  {
   "cell_type": "markdown",
   "id": "b0e697e6",
   "metadata": {
    "slideshow": {
     "slide_type": "fragment"
    }
   },
   "source": [
    "[❓] Do you feel related?"
   ]
  },
  {
   "cell_type": "markdown",
   "id": "33647a89",
   "metadata": {
    "slideshow": {
     "slide_type": "subslide"
    }
   },
   "source": [
    "[Word2vec gender bias](https://chanind.github.io/word2vec-gender-bias-explorer/#/query?sentence=kitchen)\n",
    "\n",
    "<div>\n",
    "<img src=\"../Images/Lecture-1/word2vec_bias.png\" width=\"1550\" alt='word2vec_bias'/>\n",
    "</div>"
   ]
  },
  {
   "cell_type": "markdown",
   "id": "b50712b6",
   "metadata": {
    "slideshow": {
     "slide_type": "subslide"
    }
   },
   "source": [
    "### w/ Modeling\n",
    "\n",
    "- The code of some competitor models is **not available** $\\rightarrow$ ''*We'll make the code available in case of acceptance..\"*"
   ]
  },
  {
   "cell_type": "markdown",
   "id": "24b64082",
   "metadata": {
    "slideshow": {
     "slide_type": "fragment"
    }
   },
   "source": [
    "- The code of some competitor models is **outdated**, **horrifying**, **full of errors/bugs** and **incomplete** (*pick any combination*)"
   ]
  },
  {
   "cell_type": "markdown",
   "id": "3fd0c6a7",
   "metadata": {
    "slideshow": {
     "slide_type": "fragment"
    }
   },
   "source": [
    "- The code of some competitor models is **not exactly what you inferred** after reading the paper (*it's just a prank bro!*)"
   ]
  },
  {
   "cell_type": "markdown",
   "id": "d2f338e6",
   "metadata": {
    "slideshow": {
     "slide_type": "fragment"
    }
   },
   "source": [
    "- **Missing** hyper-parameter specs, training configuration"
   ]
  },
  {
   "cell_type": "markdown",
   "id": "dab4b31c",
   "metadata": {
    "slideshow": {
     "slide_type": "fragment"
    }
   },
   "source": [
    "- Finally managed to run/re-implement the code for competitor models but **can't reproduce the same results** (*bugs?*)"
   ]
  },
  {
   "cell_type": "markdown",
   "id": "7981a1ad",
   "metadata": {
    "slideshow": {
     "slide_type": "fragment"
    }
   },
   "source": [
    "[❓] Do you feel related?"
   ]
  },
  {
   "cell_type": "markdown",
   "id": "e0463a9b",
   "metadata": {
    "slideshow": {
     "slide_type": "subslide"
    }
   },
   "source": [
    "Sampling from a very specific latent space region...\n",
    "\n",
    "<div>\n",
    "<img src=\"../Images/Lecture-1/CCVAE_trick.png\" width=\"1550\" alt='CCVAE_trick'/>\n",
    "</div>"
   ]
  },
  {
   "cell_type": "markdown",
   "id": "7eda7897",
   "metadata": {
    "slideshow": {
     "slide_type": "fragment"
    }
   },
   "source": [
    "This [paper](https://openreview.net/forum?id=wQRlSUZ5V7B) was accepted at ICLR 2021, a A* rating according to GGS ranking system. (*very interesting idea by the way!*)"
   ]
  },
  {
   "cell_type": "markdown",
   "id": "aae5e199",
   "metadata": {
    "slideshow": {
     "slide_type": "subslide"
    }
   },
   "source": [
    "And again...\n",
    "\n",
    "<div>\n",
    "<img src=\"../Images/Lecture-1/MONET_trick.png\" width=\"1550\" alt='MONET_trick'/>\n",
    "</div>"
   ]
  },
  {
   "cell_type": "markdown",
   "id": "d881f2db",
   "metadata": {
    "slideshow": {
     "slide_type": "fragment"
    }
   },
   "source": [
    "This [paper](https://arxiv.org/abs/1901.11390) has more than **300 citations**... (*the idea is super cool by the way!*)"
   ]
  },
  {
   "cell_type": "markdown",
   "id": "211794e9",
   "metadata": {
    "slideshow": {
     "slide_type": "subslide"
    }
   },
   "source": [
    "### w/ Experimental setup\n",
    "\n",
    "- **Improper use** of statistical analysis $\\rightarrow$ p-hacking (there's a lot of debate)"
   ]
  },
  {
   "cell_type": "markdown",
   "id": "860a3234",
   "metadata": {
    "slideshow": {
     "slide_type": "fragment"
    }
   },
   "source": [
    "- **Over-claiming** of results $\\rightarrow$ check what you really got"
   ]
  },
  {
   "cell_type": "markdown",
   "id": "5bf3d59a",
   "metadata": {
    "slideshow": {
     "slide_type": "fragment"
    }
   },
   "source": [
    "- **Unfair comparison** with other models, methods, etc.."
   ]
  },
  {
   "cell_type": "markdown",
   "id": "689e8b56",
   "metadata": {
    "slideshow": {
     "slide_type": "fragment"
    }
   },
   "source": [
    "- **Wrong** experiments (not aligned with the paper thesis)"
   ]
  },
  {
   "cell_type": "markdown",
   "id": "145b98ab",
   "metadata": {
    "slideshow": {
     "slide_type": "fragment"
    }
   },
   "source": [
    "[❓] Do you feel related?"
   ]
  },
  {
   "cell_type": "markdown",
   "id": "60535b68",
   "metadata": {
    "slideshow": {
     "slide_type": "subslide"
    }
   },
   "source": [
    "An over-claiming example\n",
    "\n",
    "<table><tr>\n",
    "<td> <img src=\"../Images/Lecture-1/overclaiming_1.png\" width=\"1100\" alt='overclaiming_1'/> </td>\n",
    "<td> <img src=\"../Images/Lecture-1/overclaiming_2.png\" width=\"900\" alt='overclaiming_2'/> </td>\n",
    "</tr></table>"
   ]
  },
  {
   "cell_type": "markdown",
   "id": "e0d3db2a",
   "metadata": {
    "slideshow": {
     "slide_type": "slide"
    }
   },
   "source": [
    "## [❓] Why this happens? \n",
    "\n",
    "Let's test your brains with another [Google form](https://forms.gle/o5yH7npk3EH6eHxb6). (**5 mins**)"
   ]
  },
  {
   "cell_type": "markdown",
   "id": "6ebb70fb",
   "metadata": {
    "slideshow": {
     "slide_type": "subslide"
    }
   },
   "source": [
    "<center>\n",
    "<div>\n",
    "<img src=\"../Images/Lecture-1/qsn_reproducibility-crysis.png\" width=\"600\" alt='Reproducibility crysis'/>\n",
    "</div>\n",
    "</center>"
   ]
  },
  {
   "cell_type": "markdown",
   "id": "ae117cff",
   "metadata": {
    "slideshow": {
     "slide_type": "subslide"
    }
   },
   "source": [
    "## Some possible causes (?)\n",
    "\n",
    "- Flawed reviewing system $\\rightarrow$ *feels like a dice roll?*\n",
    "- Lack of guidelines $\\rightarrow$ *any rule of thumb?*\n",
    "- Lack of documentation $\\rightarrow$ *transparency, readability, introspection*\n",
    "- Poor maintainability $\\rightarrow$ *version control*\n",
    "- 'Human factors' $\\rightarrow$ pressure to publish, poor mentoring"
   ]
  },
  {
   "cell_type": "markdown",
   "id": "d14a94fc",
   "metadata": {
    "slideshow": {
     "slide_type": "slide"
    }
   },
   "source": [
    "## A well-known issue!\n",
    "\n",
    "According to [[Baker et al., 2016](https://www.nature.com/articles/533452a)]:\n",
    "\n",
    "\"*More than 70% of researchers **failed** in their attempt to **reproduce another** researcher's experiments, and over 50% failed to reproduce one of **their own** experiments*'' (based on 1500+ researchers)"
   ]
  },
  {
   "cell_type": "markdown",
   "id": "77ca0895",
   "metadata": {
    "slideshow": {
     "slide_type": "subslide"
    }
   },
   "source": [
    "Surprisingly contradictory attitudes towards reproducibility:\n",
    "\n",
    "- 52% of researchers agree that there is a significant crysis in reproducibility\n",
    "\n",
    "- 31% of researchers think that failure to reproduce published results means that the result is probably wrong\n",
    "\n",
    "- Most say that they still trust the published research\n",
    "\n",
    "- Less than 20% of researchers had ever been contacted by others unable to reproduce their work"
   ]
  },
  {
   "cell_type": "markdown",
   "id": "63c829ed",
   "metadata": {
    "slideshow": {
     "slide_type": "subslide"
    }
   },
   "source": [
    "<center>\n",
    "<div>\n",
    "<img src=\"../Images/Lecture-1/fail-to-reproduce.png\" width=\"600\" alt='Fail to reproduce'/>\n",
    "</div>\n",
    "</center>"
   ]
  },
  {
   "cell_type": "markdown",
   "id": "0c8c19a2",
   "metadata": {
    "slideshow": {
     "slide_type": "subslide"
    }
   },
   "source": [
    "<center>\n",
    "<div>\n",
    "<img src=\"../Images/Lecture-1/factors-fail-reproduce.png\" width=\"600\" alt='Factors fail reproduce'/>\n",
    "</div>\n",
    "</center>"
   ]
  },
  {
   "cell_type": "markdown",
   "id": "e394f691",
   "metadata": {
    "slideshow": {
     "slide_type": "subslide"
    }
   },
   "source": [
    "\"*Compared to other fields like biology, physics or sociology where experiments are made in the natural or social world, the reliability and reproducibility of experiments in computer science, where the experimental apparatus for the most part consists of a computer designed and built by humans, should be much easier\n",
    "to achieve.*'' [[Pineau et al., 2020](https://www.jmlr.org/papers/volume22/20-303/20-303.pdf)]"
   ]
  },
  {
   "cell_type": "markdown",
   "id": "9aae53eb",
   "metadata": {
    "slideshow": {
     "slide_type": "fragment"
    }
   },
   "source": [
    "Moreover...\n",
    "\n",
    "\"*There's a **bias** in the field towards publishing **positive results** (rather than negative ones). Indeed, the evidence threshold for publishing a new positive finding is much lower than that for **invalidating** a previous finding.*'' [[Pineau et al., 2020](https://www.jmlr.org/papers/volume22/20-303/20-303.pdf)]\n",
    "\n",
    "In the latter case, it may require several teams showing beyond the shadow of a doubt that a result is false for the research community to revise its opinion."
   ]
  },
  {
   "cell_type": "markdown",
   "id": "5a1c8faf",
   "metadata": {
    "slideshow": {
     "slide_type": "subslide"
    }
   },
   "source": [
    "### Reporting and drawing conclusions\n",
    "\n",
    "We always want to **achieve new SOTA**: propose solutions that lead to **higher metric scores** (*just metrics?*)."
   ]
  },
  {
   "cell_type": "markdown",
   "id": "76c2ecd1",
   "metadata": {
    "slideshow": {
     "slide_type": "fragment"
    }
   },
   "source": [
    "[❗] However, it is **hard to assert** if the aspect of a model claimed to have improved its performance is indeed the factor leading to the higher score. [[Pineau et al., 2020](https://www.jmlr.org/papers/volume22/20-303/20-303.pdf)]"
   ]
  },
  {
   "cell_type": "markdown",
   "id": "ea7a3c61",
   "metadata": {
    "slideshow": {
     "slide_type": "fragment"
    }
   },
   "source": [
    "$\\rightarrow$ A few studies show new proposed methods are **often not better than previous implementations** after a more thorough **hyper-parameter search** [[Lucic et al., 2018](https://proceedings.neurips.cc/paper_files/paper/2018/file/e46de7e1bcaaced9a54f1e9d0d2f800d-Paper.pdf); [Melis et al., 2017](https://arxiv.org/pdf/1707.05589.pdf)] or **initialization** [[Bouthillier et al., 2019](https://proceedings.mlr.press/v97/bouthillier19a/bouthillier19a.pdf); [Henderson et al., 2018](https://dl.acm.org/doi/pdf/10.5555/3504035.3504427)]"
   ]
  },
  {
   "cell_type": "markdown",
   "id": "f2b71a76",
   "metadata": {
    "slideshow": {
     "slide_type": "subslide"
    }
   },
   "source": [
    "### Documentation\n",
    "\n",
    "[[Raff, 2019](https://proceedings.neurips.cc/paper_files/paper/2019/file/c429429bf1f2af051f2021dc92a8ebea-Paper.pdf)] showed that **63.5%** of manuscripts out of **255** were **successfully reproduced** given proper documentation."
   ]
  },
  {
   "cell_type": "markdown",
   "id": "dea1ce5e",
   "metadata": {
    "slideshow": {
     "slide_type": "fragment"
    }
   },
   "source": [
    "Strikingly, this study found that when authors provided assistance, **85%** of results were reproduced (compared to 4% when authors didn't respond)"
   ]
  },
  {
   "cell_type": "markdown",
   "id": "1704017a",
   "metadata": {
    "slideshow": {
     "slide_type": "fragment"
    }
   },
   "source": [
    "- Selection bias\n",
    "\n",
    "- Reporting problem?\n",
    "\n",
    "<center>\n",
    "<div>\n",
    "<img src=\"../Images/Lecture-1/reporting_bias.png\" width=\"1550\" alt='reporting_bias'/>\n",
    "</div>\n",
    "</center>"
   ]
  },
  {
   "cell_type": "markdown",
   "id": "54672320",
   "metadata": {
    "slideshow": {
     "slide_type": "slide"
    }
   },
   "source": [
    "## Advocating for reproducibility\n",
    "\n",
    "There's a **growing interest** in improving reproducibility across scientific disciplines: guidelines, recommendations [[McNutt, 2014](https://www.science.org/doi/epdf/10.1126/science.1250475)].\n",
    "\n",
    "But what does **reproducible research** mean?"
   ]
  },
  {
   "cell_type": "markdown",
   "id": "4ba016fb",
   "metadata": {
    "slideshow": {
     "slide_type": "subslide"
    }
   },
   "source": [
    "### The Open Science movement\n",
    "\n",
    "\"*Open Science is transparent and accessible knowledge that is shared and developed through **collaborative networks***'' [[Vicente-Saez & Martinez-Fuentes, 2018](https://www.sciencedirect.com/science/article/pii/S0148296317305441)]\n",
    "\n",
    "$\\rightarrow$ Code, data, scientific communications, research artifacts **should be made publicly available** [[Sonnenburg et al., 2007](https://jmlr.csail.mit.edu/papers/volume8/sonnenburg07a/sonnenburg07a.pdf)]\n"
   ]
  },
  {
   "cell_type": "markdown",
   "id": "bf2ed86d",
   "metadata": {
    "slideshow": {
     "slide_type": "slide"
    }
   },
   "source": [
    "### The dominance of Closed Science [[Leonelli, 2023]](https://www.cambridge.org/core/elements/philosophy-of-open-science/0D049ECF635F3B676C03C6868873E406)\n",
    "\n",
    "The general culture in computer science research is that research is competitive, commercialized and self-referential.\n",
    "\n",
    "In the last years, a lot of people apply to be researchers, a lot of papers are being published.\n",
    "\n",
    "Consequently, research outputs have grown exponentially and have become ever more specialized, putting pressure on existing systems to disseminate and evaluate findings."
   ]
  },
  {
   "cell_type": "markdown",
   "id": "c857faa9",
   "metadata": {
    "slideshow": {
     "slide_type": "subslide"
    }
   },
   "source": [
    "In many countries and research institutions, the quantity of papers produced and the prestige of hte journal in which they are published have become a shorthand for research quality and reliability.\n",
    "\n",
    "A well known example is the **impact factor**.\n",
    "\n",
    "$\\rightarrow$ little regard is given to other components like data,  models and software."
   ]
  },
  {
   "cell_type": "markdown",
   "id": "0d527ad8",
   "metadata": {
    "slideshow": {
     "slide_type": "subslide"
    }
   },
   "source": [
    "This inevitably leads to the following dynamics\n",
    "\n",
    "- Knowledge is conveyed through article-shaped units\n",
    "\n",
    "- The production of such units is often thorugh public funding or public-private partnerships, often available to only those who can afford subscription fees.\n",
    "\n",
    "- High profits for publishing companies (*have you ever heard about the tragedy of darth OA?*)\n",
    "\n",
    "- A lot of units are not even published and remain within the institution that generates them (e.g., industry)"
   ]
  },
  {
   "cell_type": "markdown",
   "id": "121f0da9",
   "metadata": {
    "slideshow": {
     "slide_type": "subslide"
    }
   },
   "source": [
    "Which lead to the following issues\n",
    "\n",
    "- Most research data, models and instruments are not shared\n",
    "\n",
    "- There's little recognition for the extensive efforts involved in making such components\n",
    "\n",
    "- Publish or perish principle\n",
    "\n",
    "- Publishing pressure leads to overstatements of one's results\n",
    "\n",
    "- Little or no formal training for peer reviewing\n",
    "\n",
    "- Lack of trustworthiness in research\n",
    "\n",
    "- Discourages diversity in research due to its added effort"
   ]
  },
  {
   "cell_type": "markdown",
   "id": "3aaa81e5",
   "metadata": {
    "slideshow": {
     "slide_type": "subslide"
    }
   },
   "source": [
    "### [Stodden's Best Practices Wiki](https://papers.ssrn.com/sol3/papers.cfm?abstract_id=2322276)\n",
    "\n",
    "*It's now completely acceptable for a researcher to say - here is what I did, and here are my results. [...] The presentation's core isn't about the struggle to root our error but is instead a sales pitch: **an enthusiastic presentation of ideas and a breezy demo of an implementation*** [[Donoho et al., 2009](https://ieeexplore.ieee.org/stamp/stamp.jsp?tp=&arnumber=4720218)]\n",
    "\n",
    "- Make your data, code, supplementary material and other artifacts **publicly available**\n",
    "- Provide **version control** for data and code\n",
    "- Make sure you **cite original authors** if using external data, code, etc..."
   ]
  },
  {
   "cell_type": "markdown",
   "id": "4b3aa0a5",
   "metadata": {
    "slideshow": {
     "slide_type": "subslide"
    }
   },
   "source": [
    "### Transparency\n",
    "\n",
    "Share your data, code, results in an accessible way. \n",
    "\n",
    "- It adds **confidence** to your work\n",
    "- It allows **easier** and **fair** comparison\n",
    "- Enforces you to act **thoughtfully** and **carefully**: document your steps, write clean code, fill checklists\n",
    "- Replication of mistakes $\\rightarrow$ code availability doesn't mean **correctness** but it's a good starting point!"
   ]
  },
  {
   "cell_type": "markdown",
   "id": "3099e62e",
   "metadata": {
    "slideshow": {
     "slide_type": "slide"
    }
   },
   "source": [
    "## Reproducible Research \n",
    "\n",
    "<center>\n",
    "<div>\n",
    "<img src=\"../Images/Lecture-1/reproducible_research.png\" width=\"1000\" alt='reproducible_research'/>\n",
    "</div>\n",
    "</center>\n",
    "\n",
    "- <u>**Reproducible**</u>: re-doing an experiment using the **same data** and **same analytical tools**\n",
    "- **Replicable**: considers **different data** (presumably, from the same distribution)\n",
    "- <u>**Robust**</u>: assumes the **same data** but **different analysis** (e.g., code re-implementation, different hardware, different architecture, etc..)\n",
    "- **Generalisable**: leads to the **same conclusions** despite considering **different data** and **different analytical tools**"
   ]
  },
  {
   "cell_type": "markdown",
   "id": "66a6e0d6",
   "metadata": {
    "slideshow": {
     "slide_type": "subslide"
    }
   },
   "source": [
    "### Not a single definition\n",
    "\n",
    "A research finding is **reproducible** if the code and data used to obtain the finding are **available** and the data is **correctly analyzed** [[Kapoor & Narayanan, 2022](https://arxiv.org/pdf/2207.07048.pdf)]\n",
    "\n",
    "$\\rightarrow$ A more **broader** definition than **computational reproducibility**: when the results in a paper can be replicated using the **exact code** and **dataset** provided by the authors\n",
    "\n",
    "[Bouthillier et al., 2019](https://proceedings.mlr.press/v97/bouthillier19a/bouthillier19a.pdf) extend this notion to *reproducibility of the findings*. $\\rightarrow$ fixing stochastic effects may weaken the generality of conclusions\n",
    "\n",
    "In general, there is **no consensus** about the term reproducibility, but all attempts aim at addressing the same suite of flaws in research."
   ]
  },
  {
   "cell_type": "markdown",
   "id": "5f6aa13f",
   "metadata": {
    "slideshow": {
     "slide_type": "slide"
    }
   },
   "source": [
    "## Are there any solutions?\n",
    "\n",
    "[❓] Should you withdraw from your PhD after this concentrated does of depression?"
   ]
  },
  {
   "cell_type": "markdown",
   "id": "7ca91a41",
   "metadata": {
    "slideshow": {
     "slide_type": "subslide"
    }
   },
   "source": [
    "Of course there are, even though they are not proper solutions exactly, but recommendations one should follow.\n",
    "\n",
    "To be solutions, some sort of educative process should be distilled into junior researchers."
   ]
  },
  {
   "cell_type": "markdown",
   "id": "157b6dfd",
   "metadata": {
    "slideshow": {
     "slide_type": "subslide"
    }
   },
   "source": [
    "### What are we going to cover"
   ]
  },
  {
   "cell_type": "markdown",
   "id": "7d0ab079",
   "metadata": {
    "slideshow": {
     "slide_type": "fragment"
    }
   },
   "source": [
    "- How data should be created, annotated, distributed, maintained, etc..\n",
    "- How data should be partitioned\n",
    "- How a model evaluation experiment should be set up for fair evaluation and analysis\n",
    "- How code should be set up to carry out experiments"
   ]
  },
  {
   "cell_type": "markdown",
   "id": "27cee3e5",
   "metadata": {
    "slideshow": {
     "slide_type": "slide"
    }
   },
   "source": [
    "## Concluding Remarks\n",
    "\n",
    "- Ensuring reproducible and robust research is still an **open problem**"
   ]
  },
  {
   "cell_type": "markdown",
   "id": "df196cd7",
   "metadata": {
    "slideshow": {
     "slide_type": "fragment"
    }
   },
   "source": [
    "- There are **several ways** for documenting and keeping track of experiments $\\rightarrow$ **overhead**? **effectiveness**?"
   ]
  },
  {
   "cell_type": "markdown",
   "id": "2c89397e",
   "metadata": {
    "slideshow": {
     "slide_type": "fragment"
    }
   },
   "source": [
    "- There are **several recommendations** to avoid **erroneous decision making** in your experimental approach"
   ]
  },
  {
   "cell_type": "markdown",
   "id": "36ee07b4",
   "metadata": {
    "slideshow": {
     "slide_type": "fragment"
    }
   },
   "source": [
    "- Ensuring a **clean coding environment** is crucial"
   ]
  },
  {
   "cell_type": "markdown",
   "id": "b9bba58a",
   "metadata": {
    "slideshow": {
     "slide_type": "slide"
    }
   },
   "source": [
    "# Any questions?\n",
    "\n",
    "<center>\n",
    "<div>\n",
    "<img src=\"../Images/Lecture-1/jojo-arrivederci.gif\" width=\"1000\" alt='JOJO_arrivederci'/>\n",
    "</div>\n",
    "</center>"
   ]
  }
 ],
 "metadata": {
  "celltoolbar": "Slideshow",
  "kernelspec": {
   "display_name": "Python 3 (ipykernel)",
   "language": "python",
   "name": "python3"
  },
  "language_info": {
   "codemirror_mode": {
    "name": "ipython",
    "version": 3
   },
   "file_extension": ".py",
   "mimetype": "text/x-python",
   "name": "python",
   "nbconvert_exporter": "python",
   "pygments_lexer": "ipython3",
   "version": "3.10.12"
  }
 },
 "nbformat": 4,
 "nbformat_minor": 5
}
