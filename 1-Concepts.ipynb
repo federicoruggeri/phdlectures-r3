{
 "cells": [
  {
   "cell_type": "markdown",
   "id": "47fad4a7",
   "metadata": {
    "slideshow": {
     "slide_type": "slide"
    }
   },
   "source": [
    "## Why are you here?\n",
    "\n",
    "According to submitted Google form data, you gave the following reasons\n",
    "\n",
    "\n",
    "![google_form_true](Images/Lecture-1/google_form_true.png)\n"
   ]
  },
  {
   "cell_type": "markdown",
   "id": "05785134",
   "metadata": {
    "slideshow": {
     "slide_type": "subslide"
    }
   },
   "source": [
    "## All you liars!\n",
    "\n",
    "My predictions were **wrong** since I expected 100% respondance rate for ``CFUs (Yay!!!)`` answer!!\n"
   ]
  },
  {
   "cell_type": "markdown",
   "id": "ed44d628",
   "metadata": {
    "slideshow": {
     "slide_type": "fragment"
    }
   },
   "source": [
    "<center>\n",
    "<div>\n",
    "<img src=\"Images/Lecture-1/google_form_liar.gif\" width=\"1000\" alt='JOJO_LIAR'/>\n",
    "</div>\n",
    "</center>"
   ]
  },
  {
   "cell_type": "markdown",
   "id": "c775a5a2",
   "metadata": {
    "slideshow": {
     "slide_type": "slide"
    }
   },
   "source": [
    "## Anyway.. Why are you here?"
   ]
  },
  {
   "cell_type": "markdown",
   "id": "c8e2bcbb",
   "metadata": {
    "slideshow": {
     "slide_type": "fragment"
    }
   },
   "source": [
    "- Do you often struggle to **reproduce** a baseline for your work?"
   ]
  },
  {
   "cell_type": "markdown",
   "id": "d51bb5f5",
   "metadata": {
    "slideshow": {
     "slide_type": "fragment"
    }
   },
   "source": [
    "- Do you get **different** results everytime you run your experiments?"
   ]
  },
  {
   "cell_type": "markdown",
   "id": "800b6ed2",
   "metadata": {
    "slideshow": {
     "slide_type": "fragment"
    }
   },
   "source": [
    "- Is your work often **criticized** for the unclear methodology?"
   ]
  },
  {
   "cell_type": "markdown",
   "id": "28cf6fad",
   "metadata": {
    "slideshow": {
     "slide_type": "fragment"
    }
   },
   "source": [
    "- Are you often confused about **what kind** of experiment to carry out?"
   ]
  },
  {
   "cell_type": "markdown",
   "id": "d28f6f9a",
   "metadata": {
    "slideshow": {
     "slide_type": "fragment"
    }
   },
   "source": [
    "- Are you looking for a **sound motivation** to explain that your 1-point F1-score improvement is a new SOTA?"
   ]
  },
  {
   "cell_type": "markdown",
   "id": "1e49c29f",
   "metadata": {
    "slideshow": {
     "slide_type": "fragment"
    }
   },
   "source": [
    "- Are you looking for some ways to **improve** your spaghetti code?"
   ]
  },
  {
   "cell_type": "markdown",
   "id": "4993e95e",
   "metadata": {
    "slideshow": {
     "slide_type": "fragment"
    }
   },
   "source": [
    "- Are you already **tired** of this listing?"
   ]
  },
  {
   "cell_type": "markdown",
   "id": "e0372cf0",
   "metadata": {
    "slideshow": {
     "slide_type": "fragment"
    }
   },
   "source": [
    "**$\\rightarrow$ This course might shed some light on these topics and help you!**"
   ]
  },
  {
   "cell_type": "markdown",
   "id": "cbabd5d6",
   "metadata": {
    "slideshow": {
     "slide_type": "slide"
    }
   },
   "source": [
    "## A quick Legend\n",
    "\n",
    "[❓] $\\rightarrow$ This is a **question for you** (the audience)\n",
    "\n",
    "[❗] $\\rightarrow$ A **very important** information to remember!\n",
    "\n",
    "[💬] $\\rightarrow$ An (funny?) **anecdote** will be told\n",
    "\n",
    "[[XX et al., YEAR](https://www.youtube.com/watch?v=dQw4w9WgXcQ)] $\\rightarrow$ A reference (**click on the reference** to see the paper) \n"
   ]
  },
  {
   "cell_type": "markdown",
   "id": "cd4be403",
   "metadata": {
    "slideshow": {
     "slide_type": "slide"
    }
   },
   "source": [
    "## Motivational Intro\n",
    "\n",
    "Let's consider a general, relatable, researcher. \n",
    "\n",
    "We name this researcher as **FR**.\n",
    "\n",
    "FR has **just started their PhD** and is particularly entusiastic: a lot of ideas, stuff to read, things to try.\n",
    "\n",
    "Intuitively, **FR has no idea of what comes next..**\n"
   ]
  },
  {
   "cell_type": "markdown",
   "id": "2b1864f4",
   "metadata": {
    "slideshow": {
     "slide_type": "subslide"
    }
   },
   "source": [
    "Suppose now that FR has a little, yet interesting, idea about their favourite research domain.\n",
    "\n",
    "[❓] **What does FR do? Any idea?**"
   ]
  },
  {
   "cell_type": "markdown",
   "id": "b56fc52b",
   "metadata": {
    "slideshow": {
     "slide_type": "fragment"
    }
   },
   "source": [
    "#### Scientific Method [🤓]\n",
    "\n",
    "- Specify an **hypothesis** $\\rightarrow$ my very own interesting idea..\n",
    "- Running some experiments $\\rightarrow$ which ones?\n",
    "- Analyze the results $\\rightarrow$ how?\n",
    "- Draw some conclusions $\\rightarrow$ be very cautious..."
   ]
  },
  {
   "cell_type": "markdown",
   "id": "5913b711",
   "metadata": {
    "slideshow": {
     "slide_type": "subslide"
    }
   },
   "source": [
    "#### We know this! But...\n",
    "\n",
    "[❗] Results have to be **repeatable** and **reproducible** to be valid and reliable $\\rightarrow$ **consistent** results!"
   ]
  },
  {
   "cell_type": "markdown",
   "id": "d023a50d",
   "metadata": {
    "slideshow": {
     "slide_type": "fragment"
    }
   },
   "source": [
    "Would you **accept** (trust) a work that:\n",
    "\n",
    "- Doesn't provide **sufficient information** for reproducibility\n",
    "- Doesn't provide any **code** \n",
    "- Doesn't provide the **data/guidelines** for collecting their contributing dataset\n",
    "- Doesn't provide **training details** like model hyper-parameters, data partitioning, etc.."
   ]
  },
  {
   "cell_type": "markdown",
   "id": "91fd7939",
   "metadata": {
    "slideshow": {
     "slide_type": "fragment"
    }
   },
   "source": [
    "<center>\n",
    "<div>\n",
    "<img src=\"Images/Lecture-1/keep_your_secrets.gif\" width=\"1000\" alt='LOTR_keep_your_secrets'/>\n",
    "</div>\n",
    "</center>"
   ]
  },
  {
   "cell_type": "markdown",
   "id": "ff3c62ba",
   "metadata": {
    "slideshow": {
     "slide_type": "subslide"
    }
   },
   "source": [
    "Paradoxically, **non-replicable** publications tend to be cited **more often** than replicable ones [[Serra-Garcia & Gneezy, 2021](https://www.science.org/doi/epdf/10.1126/sciadv.abd1705)]!\n",
    "\n",
    "$\\rightarrow$ results may be more interesting than actual reproducibility! (fair enough)\n",
    "\n",
    "[❓] Does any of you have any relatable example?"
   ]
  },
  {
   "cell_type": "markdown",
   "id": "3686fa84",
   "metadata": {
    "slideshow": {
     "slide_type": "slide"
    }
   },
   "source": [
    "## A blind walk in the research deep forest\n",
    "\n",
    "FR remembers this stuff from their past studies and considers this methodology fairly standard and easy to follow.\n",
    "\n",
    "FR develops their idea, starts thinking about the experimental setup and what to code..."
   ]
  },
  {
   "cell_type": "markdown",
   "id": "cbeec3d1",
   "metadata": {
    "slideshow": {
     "slide_type": "fragment"
    }
   },
   "source": [
    "However..**some wild issues appear!**\n",
    "\n",
    "<center>\n",
    "<div>\n",
    "<img src=\"Images/Lecture-1/oh-my-god-omg.gif\" width=\"1200\" alt='JOJO_OHMYGOD'/>\n",
    "</div>\n",
    "</center>"
   ]
  },
  {
   "cell_type": "markdown",
   "id": "9ccc1935",
   "metadata": {
    "slideshow": {
     "slide_type": "subslide"
    }
   },
   "source": [
    "### w/ Data\n",
    "\n",
    "- Some interesting datasets for their study are **not available**... (*private only, premium subscription required, ethical/legal reasons, etc..*)"
   ]
  },
  {
   "cell_type": "markdown",
   "id": "16a32007",
   "metadata": {
    "slideshow": {
     "slide_type": "fragment"
    }
   },
   "source": [
    "- The available datasets are not **well-documented or maintained** (*good luck!*)"
   ]
  },
  {
   "cell_type": "markdown",
   "id": "3fc12430",
   "metadata": {
    "slideshow": {
     "slide_type": "fragment"
    }
   },
   "source": [
    "- FR can't find the **datasheet** of the dataset (*err.. is that an insult?*)"
   ]
  },
  {
   "cell_type": "markdown",
   "id": "7c7768a0",
   "metadata": {
    "slideshow": {
     "slide_type": "fragment"
    }
   },
   "source": [
    "- Some of the datasets have significant **flaws/biases** [[Bolukbasi et al., 2016](https://proceedings.neurips.cc/paper/2016/file/a486cd07e4ac3d270571622f4f316ec5-Paper.pdf)]"
   ]
  },
  {
   "cell_type": "markdown",
   "id": "0d4592f4",
   "metadata": {
    "slideshow": {
     "slide_type": "fragment"
    }
   },
   "source": [
    "- Can't **reproduce the same dataset** by following the paper [[Recht et al., 2019](https://proceedings.mlr.press/v97/recht19a/recht19a.pdf)]"
   ]
  },
  {
   "cell_type": "markdown",
   "id": "b0e697e6",
   "metadata": {
    "slideshow": {
     "slide_type": "fragment"
    }
   },
   "source": [
    "[❓] Do you feel related?"
   ]
  },
  {
   "cell_type": "markdown",
   "id": "33647a89",
   "metadata": {
    "slideshow": {
     "slide_type": "subslide"
    }
   },
   "source": [
    "[Word2vec gender bias](https://chanind.github.io/word2vec-gender-bias-explorer/#/query?sentence=kitchen)\n",
    "\n",
    "<div>\n",
    "<img src=\"Images/Lecture-1/word2vec_bias.png\" width=\"1550\" alt='word2vec_bias'/>\n",
    "</div>"
   ]
  },
  {
   "cell_type": "markdown",
   "id": "b50712b6",
   "metadata": {
    "slideshow": {
     "slide_type": "subslide"
    }
   },
   "source": [
    "### w/ Competitor models\n",
    "\n",
    "- The code of some competitor models is **not available** $\\rightarrow$ We'll make the code available after publication.."
   ]
  },
  {
   "cell_type": "markdown",
   "id": "24b64082",
   "metadata": {
    "slideshow": {
     "slide_type": "fragment"
    }
   },
   "source": [
    "- The code of some competitor models is **outdated**, **horrifying**, **full of errors/bugs** and **incomplete** (*pick any combination*)"
   ]
  },
  {
   "cell_type": "markdown",
   "id": "3fd0c6a7",
   "metadata": {
    "slideshow": {
     "slide_type": "fragment"
    }
   },
   "source": [
    "- The code of some competitor models is **not exactly what you inferred** after reading the paper (*tricksters*)"
   ]
  },
  {
   "cell_type": "markdown",
   "id": "d2f338e6",
   "metadata": {
    "slideshow": {
     "slide_type": "fragment"
    }
   },
   "source": [
    "- **Missing** hyper-parameter specs, training configuration"
   ]
  },
  {
   "cell_type": "markdown",
   "id": "dab4b31c",
   "metadata": {
    "slideshow": {
     "slide_type": "fragment"
    }
   },
   "source": [
    "- FR finally managed to run/re-implement the code for competitor models but **can't reproduce the same results** (*bugs?*)"
   ]
  },
  {
   "cell_type": "markdown",
   "id": "7981a1ad",
   "metadata": {
    "slideshow": {
     "slide_type": "fragment"
    }
   },
   "source": [
    "[❓] Do you feel related?"
   ]
  },
  {
   "cell_type": "markdown",
   "id": "e0463a9b",
   "metadata": {
    "slideshow": {
     "slide_type": "subslide"
    }
   },
   "source": [
    "Sampling from a very specific latent space region...\n",
    "\n",
    "<div>\n",
    "<img src=\"Images/Lecture-1/CCVAE_trick.png\" width=\"1550\" alt='CCVAE_trick'/>\n",
    "</div>"
   ]
  },
  {
   "cell_type": "markdown",
   "id": "7eda7897",
   "metadata": {
    "slideshow": {
     "slide_type": "fragment"
    }
   },
   "source": [
    "This paper was accepted at ICLR 2021... (*very interesting idea by the way!*)"
   ]
  },
  {
   "cell_type": "markdown",
   "id": "aae5e199",
   "metadata": {
    "slideshow": {
     "slide_type": "subslide"
    }
   },
   "source": [
    "And again...\n",
    "\n",
    "<div>\n",
    "<img src=\"Images/Lecture-1/MONET_trick.png\" width=\"1550\" alt='MONET_trick'/>\n",
    "</div>"
   ]
  },
  {
   "cell_type": "markdown",
   "id": "d881f2db",
   "metadata": {
    "slideshow": {
     "slide_type": "fragment"
    }
   },
   "source": [
    "This paper has more than **300 citations**... (*the idea is super cool by the way!*)"
   ]
  },
  {
   "cell_type": "markdown",
   "id": "211794e9",
   "metadata": {
    "slideshow": {
     "slide_type": "subslide"
    }
   },
   "source": [
    "### w/ Experimental setup\n",
    "\n",
    "- **Improper use** of statistical analysis $\\rightarrow$ p-hacking (there's a lot of debate)"
   ]
  },
  {
   "cell_type": "markdown",
   "id": "860a3234",
   "metadata": {
    "slideshow": {
     "slide_type": "fragment"
    }
   },
   "source": [
    "- **Over-claiming** of results $\\rightarrow$ check what you really got"
   ]
  },
  {
   "cell_type": "markdown",
   "id": "5bf3d59a",
   "metadata": {
    "slideshow": {
     "slide_type": "fragment"
    }
   },
   "source": [
    "- **Unfair comparison** with other models, methods, etc.."
   ]
  },
  {
   "cell_type": "markdown",
   "id": "689e8b56",
   "metadata": {
    "slideshow": {
     "slide_type": "fragment"
    }
   },
   "source": [
    "- **Wrong** experiments (not aligned with FR thesis)"
   ]
  },
  {
   "cell_type": "markdown",
   "id": "145b98ab",
   "metadata": {
    "slideshow": {
     "slide_type": "fragment"
    }
   },
   "source": [
    "[❓] Do you feel related?"
   ]
  },
  {
   "cell_type": "markdown",
   "id": "60535b68",
   "metadata": {
    "slideshow": {
     "slide_type": "subslide"
    }
   },
   "source": [
    "An over-claiming example\n",
    "\n",
    "<table><tr>\n",
    "<td> <img src=\"Images/Lecture-1/overclaiming_1.png\" width=\"1100\" alt='overclaiming_1'/> </td>\n",
    "<td> <img src=\"Images/Lecture-1/overclaiming_2.png\" width=\"900\" alt='overclaiming_2'/> </td>\n",
    "</tr></table>"
   ]
  },
  {
   "cell_type": "markdown",
   "id": "e0d3db2a",
   "metadata": {
    "slideshow": {
     "slide_type": "slide"
    }
   },
   "source": [
    "## [❓] Why this happens? \n",
    "\n",
    "<br>\n",
    "<br>\n",
    "\n",
    "<center>\n",
    "<div>\n",
    "<img src=\"Images/Lecture-1/jojo_thinking.gif\" width=\"1000\" alt='MONET_trick'/>\n",
    "</div>\n",
    "</center>"
   ]
  },
  {
   "cell_type": "markdown",
   "id": "ae117cff",
   "metadata": {
    "slideshow": {
     "slide_type": "subslide"
    }
   },
   "source": [
    "## Some causes (?)\n",
    "\n",
    "- Flawed reviewing system $\\rightarrow$ *feels like a dice roll?*\n",
    "- Lack of guidelines $\\rightarrow$ *any rule of thumb?*\n",
    "- Lack of documentation $\\rightarrow$ *transparency, readability, introspection*\n",
    "- Poor maintainability $\\rightarrow$ *version control*\n",
    "- 'Human factors' $\\rightarrow$ pressure to publish, poor mentoring"
   ]
  },
  {
   "cell_type": "markdown",
   "id": "d14a94fc",
   "metadata": {
    "slideshow": {
     "slide_type": "slide"
    }
   },
   "source": [
    "## A well-known issue!\n",
    "\n",
    "According to [[Baker et al., 2016](https://www.nature.com/articles/533452a)]:\n",
    "\n",
    "\"*More than 70% of researchers **failed** in their attempt to **reproduce another** researcher's experiments, and over 50% failed to reproduce one of **their own** experiments*''\n",
    "\n",
    "We observe a trend where research (in computer science) is a **frenetic race** to publications, often leading to significant flaws in proposed work."
   ]
  },
  {
   "cell_type": "markdown",
   "id": "9aae53eb",
   "metadata": {
    "slideshow": {
     "slide_type": "fragment"
    }
   },
   "source": [
    "Moreover...\n",
    "\n",
    "\"*There's a **bias** in the field towards publishing **positive results** (rather than negative ones). Indeed, the evidence threshold for publishing a new positive finding is much lower than that for **invalidating** a previous finding.*'' [[Pineau et al., 2020](https://www.jmlr.org/papers/volume22/20-303/20-303.pdf)]"
   ]
  },
  {
   "cell_type": "markdown",
   "id": "5a1c8faf",
   "metadata": {
    "slideshow": {
     "slide_type": "subslide"
    }
   },
   "source": [
    "### Reporting and drawing conclusions\n",
    "\n",
    "We always want to **achieve new SOTA**: propose solutions that lead to **higher metric scores** (*just metrics?*)."
   ]
  },
  {
   "cell_type": "markdown",
   "id": "76c2ecd1",
   "metadata": {
    "slideshow": {
     "slide_type": "fragment"
    }
   },
   "source": [
    "[❗] However, it is **hard to assert** if the aspect of a model claimed to have improved its performance is indeed the factor leading to the higher score"
   ]
  },
  {
   "cell_type": "markdown",
   "id": "ea7a3c61",
   "metadata": {
    "slideshow": {
     "slide_type": "fragment"
    }
   },
   "source": [
    "$\\rightarrow$ A few studies show new proposed methods are **often not better than previous implementations** after a more thorough **hyper-parameter search** [[Lucic et al., 2018](https://proceedings.neurips.cc/paper_files/paper/2018/file/e46de7e1bcaaced9a54f1e9d0d2f800d-Paper.pdf); [Melis et al., 2017](https://arxiv.org/pdf/1707.05589.pdf)] or **initialization** [[Bouthillier et al., 2019](https://proceedings.mlr.press/v97/bouthillier19a/bouthillier19a.pdf); [Henderson et al., 2018](https://dl.acm.org/doi/pdf/10.5555/3504035.3504427)]"
   ]
  },
  {
   "cell_type": "markdown",
   "id": "f2b71a76",
   "metadata": {
    "slideshow": {
     "slide_type": "subslide"
    }
   },
   "source": [
    "### Documentation\n",
    "\n",
    "[[Raff, 2019](https://proceedings.neurips.cc/paper_files/paper/2019/file/c429429bf1f2af051f2021dc92a8ebea-Paper.pdf)] showed that **63.5%** of manuscripts out of **255** were **successfully reproduced** given proper documentation."
   ]
  },
  {
   "cell_type": "markdown",
   "id": "dea1ce5e",
   "metadata": {
    "slideshow": {
     "slide_type": "fragment"
    }
   },
   "source": [
    "Strikingly, this study found that when authors provided assistance, **85%** of results were reproduced (compared to 4% when authors didn't respond)"
   ]
  },
  {
   "cell_type": "markdown",
   "id": "1704017a",
   "metadata": {
    "slideshow": {
     "slide_type": "fragment"
    }
   },
   "source": [
    "- Selection bias\n",
    "\n",
    "- Reporting problem?\n",
    "\n",
    "<center>\n",
    "<div>\n",
    "<img src=\"Images/Lecture-1/reporting_bias.png\" width=\"1550\" alt='reporting_bias'/>\n",
    "</div>\n",
    "</center>"
   ]
  },
  {
   "cell_type": "markdown",
   "id": "54672320",
   "metadata": {
    "slideshow": {
     "slide_type": "slide"
    }
   },
   "source": [
    "## Advocating for reproducibility\n",
    "\n",
    "There's a **growing interest** in improving reproducibility across scientific disciplines: guidelines, recommendations [[McNutt, 2014](https://www.science.org/doi/epdf/10.1126/science.1250475)]."
   ]
  },
  {
   "cell_type": "markdown",
   "id": "4ba016fb",
   "metadata": {
    "slideshow": {
     "slide_type": "fragment"
    }
   },
   "source": [
    "### The Open Science movement\n",
    "\n",
    "\"*Open Science is transparent and accessible knowledge that is shared and developed through **collaborative networks***'' [[Vicente-Saez & Martinez-Fuentes, 2018](https://www.sciencedirect.com/science/article/pii/S0148296317305441)]\n",
    "\n",
    "$\\rightarrow$ Code, data, scientific communications, research artifacts **should be made publicly available** [[Sonnenburg et al., 2007](https://jmlr.csail.mit.edu/papers/volume8/sonnenburg07a/sonnenburg07a.pdf)]"
   ]
  },
  {
   "cell_type": "markdown",
   "id": "3aaa81e5",
   "metadata": {
    "slideshow": {
     "slide_type": "subslide"
    }
   },
   "source": [
    "### [Stodden's Best Practices Wiki](https://papers.ssrn.com/sol3/papers.cfm?abstract_id=2322276)\n",
    "\n",
    "*It's now completely acceptable for a researcher to say - here is what I did, and here are my results. [...] The presentation's core isn't about the struggle to root our error but is instead a sales pitch: **an enthusiastic presentation of ideas and a breezy demo of an implementation*** [[Donoho et al., 2009](https://ieeexplore.ieee.org/stamp/stamp.jsp?tp=&arnumber=4720218)]\n",
    "\n",
    "- Make your data, code, supplementary material and other artifacts **publicly available**\n",
    "- Provide **version control** for data and code\n",
    "- Make sure you **cite original authors** if using external data, code, etc...\n",
    "\n",
    "<center>\n",
    "<div>\n",
    "<img src=\"Images/Lecture-1/jotaro_notes.gif \" width=\"1000\" alt='JOJO_notes'/>\n",
    "</div>\n",
    "</center>"
   ]
  },
  {
   "cell_type": "markdown",
   "id": "4b3aa0a5",
   "metadata": {
    "slideshow": {
     "slide_type": "subslide"
    }
   },
   "source": [
    "### Transparency\n",
    "\n",
    "Share your data, code, results in an accessible way. \n",
    "\n",
    "- It adds **confidence** to your work\n",
    "- It allows **easier** and **fair** comparison\n",
    "- Enforces you to act **thoughtfully** and **carefully**: document your steps, write clean code, fill checklists\n",
    "- Replication of mistakes $\\rightarrow$ code availability doesn't mean **correctness** but it's a good starting point!"
   ]
  },
  {
   "cell_type": "markdown",
   "id": "3099e62e",
   "metadata": {
    "slideshow": {
     "slide_type": "slide"
    }
   },
   "source": [
    "## Reproducible Research \n",
    "\n",
    "<center>\n",
    "<div>\n",
    "<img src=\"Images/Lecture-1/reproducible_research.png\" width=\"1000\" alt='reproducible_research'/>\n",
    "</div>\n",
    "</center>\n",
    "\n",
    "- <u>**Reproducible**</u>: re-doing an experiment using the **same data** and **same analytical tools**\n",
    "- **Replicable**: considers **different data** (presumably, from the same distribution)\n",
    "- <u>**Robust**</u>: assumes the **same data** but **different analysis** (e.g., code re-implementation, different hardware, different architecture, etc..)\n",
    "- **Generalisable**: leads to the **same conclusions** despite considering **different data** and **different analytical tools**"
   ]
  },
  {
   "cell_type": "markdown",
   "id": "66a6e0d6",
   "metadata": {
    "slideshow": {
     "slide_type": "subslide"
    }
   },
   "source": [
    "### Not a single definition\n",
    "\n",
    "A research finding is **reproducible** if the code and data used to obtain the finding are **available** and the data is **correctly analyzed** [[Kapoor & Narayanan, 2022](https://arxiv.org/pdf/2207.07048.pdf)]\n",
    "\n",
    "$\\rightarrow$ A more **broader** definition than **computational reproducibility**: when the results in a paper can be replicated using the **exact code** and **dataset** provided by the authors\n",
    "\n",
    "[Bouthillier et al., 2019](https://proceedings.mlr.press/v97/bouthillier19a/bouthillier19a.pdf) extend this notion to *reproducibility of the findings*. $\\rightarrow$ fixing stochastic effects may weaken the generality of conclusions\n",
    "\n",
    "In general, there is **no consensus** about the term reproducibility, but all attempts aim at addressing the same suite of flaws in research."
   ]
  },
  {
   "cell_type": "markdown",
   "id": "88168be9",
   "metadata": {
    "slideshow": {
     "slide_type": "slide"
    }
   },
   "source": [
    "## What are we going to cover\n",
    "\n",
    "- Setting up a **correct** and **coherent** experimental setup\n",
    "- **Define** a reproducible and robust implementation\n",
    "\n",
    "### What does it mean?\n",
    "\n",
    "- Contextualize your contribution\n",
    "- Data understanding\n",
    "- Model experimenting\n",
    "- Model evaluation and analysis\n",
    "- Research guidelines and recommendation"
   ]
  },
  {
   "cell_type": "markdown",
   "id": "96f489f8",
   "metadata": {
    "slideshow": {
     "slide_type": "slide"
    }
   },
   "source": [
    "## Step 1 - The data\n",
    "\n",
    "- Data selection\n",
    "- Understand your data\n",
    "- Data size and distribution"
   ]
  },
  {
   "cell_type": "markdown",
   "id": "7df41e98",
   "metadata": {
    "slideshow": {
     "slide_type": "subslide"
    }
   },
   "source": [
    "### Data selection\n",
    "\n",
    "The data on which you carry out your experiments is **extremely important**."
   ]
  },
  {
   "cell_type": "markdown",
   "id": "8fa85268",
   "metadata": {
    "slideshow": {
     "slide_type": "fragment"
    }
   },
   "source": [
    "- What does it contain?"
   ]
  },
  {
   "cell_type": "markdown",
   "id": "d28748ca",
   "metadata": {
    "slideshow": {
     "slide_type": "fragment"
    }
   },
   "source": [
    "- Where was the data collected?"
   ]
  },
  {
   "cell_type": "markdown",
   "id": "755272f6",
   "metadata": {
    "slideshow": {
     "slide_type": "fragment"
    }
   },
   "source": [
    "- Are there any limitations/bias/spurious correlations? $\\rightarrow$ **The Tank problem** [💬]; **Pre-processing on Aharoni et al., 2014** [💬]."
   ]
  },
  {
   "cell_type": "markdown",
   "id": "c3d3ec61",
   "metadata": {
    "slideshow": {
     "slide_type": "fragment"
    }
   },
   "source": [
    "- **Popularity != quality** $\\rightarrow$ several popular datasets have shown to have significant limitations [[Paullada et al., 2020](https://www.sciencedirect.com/science/article/pii/S2666389921001847); [Koch et al., 2021](https://datasets-benchmarks-proceedings.neurips.cc/paper/2021/file/3b8a614226a953a8cd9526fca6fe9ba5-Paper-round2.pdf)]"
   ]
  },
  {
   "cell_type": "markdown",
   "id": "3391dbe4",
   "metadata": {
    "slideshow": {
     "slide_type": "fragment"
    }
   },
   "source": [
    "- Is the data directly available or built via code?"
   ]
  },
  {
   "cell_type": "markdown",
   "id": "e9a66ae5",
   "metadata": {
    "slideshow": {
     "slide_type": "fragment"
    }
   },
   "source": [
    "- Are you going to collect any data?"
   ]
  },
  {
   "cell_type": "markdown",
   "id": "01656d64",
   "metadata": {
    "slideshow": {
     "slide_type": "subslide"
    }
   },
   "source": [
    "### Understand your data\n",
    "\n",
    "**Data is your friend**: you may spot relevant patterns that can guide your modeling. \n",
    "\n",
    "$\\rightarrow$ However, **only look at training data!**\n",
    "\n",
    "Otherwise, you might **impose some biases** that limit the generalization capabilities of your approach: **data leakage** [❗]\n",
    "\n",
    "**Domain experts** are a valuable resource for understanding your data!"
   ]
  },
  {
   "cell_type": "markdown",
   "id": "182f0340",
   "metadata": {
    "slideshow": {
     "slide_type": "subslide"
    }
   },
   "source": [
    "### Data size\n",
    "\n",
    "- Are there any requirements on data size?\n"
   ]
  },
  {
   "cell_type": "markdown",
   "id": "b0c65391",
   "metadata": {
    "slideshow": {
     "slide_type": "fragment"
    }
   },
   "source": [
    "- Low amount of data? What does 'low' mean?"
   ]
  },
  {
   "cell_type": "markdown",
   "id": "1b97ba1f",
   "metadata": {
    "slideshow": {
     "slide_type": "fragment"
    }
   },
   "source": [
    "- Do you need specific solutions concerning data size? $\\rightarrow$ cross-validation, data-augmentation [[Wong et al., 2016](https://ieeexplore.ieee.org/document/7797091); [Shorten and Khoshgoftaar, 2019](https://journalofbigdata.springeropen.com/articles/10.1186/s40537-019-0197-0)], transfer learning, simple models."
   ]
  },
  {
   "cell_type": "markdown",
   "id": "0307ae0c",
   "metadata": {
    "slideshow": {
     "slide_type": "fragment"
    }
   },
   "source": [
    "- Class imbalance [[Haixian et al., 2017](https://www.sciencedirect.com/science/article/pii/S0957417416307175?via%3Dihub)]"
   ]
  },
  {
   "cell_type": "markdown",
   "id": "20e94ffa",
   "metadata": {
    "slideshow": {
     "slide_type": "slide"
    }
   },
   "source": [
    "## Dataset collection\n",
    "\n",
    "According to [[Paullada et al., 2021](https://www.sciencedirect.com/science/article/pii/S2666389921001847)], a **wide majority** of datasets and related data collection processes have **major flaws**.\n"
   ]
  },
  {
   "cell_type": "markdown",
   "id": "b0d8cc0c",
   "metadata": {
    "slideshow": {
     "slide_type": "fragment"
    }
   },
   "source": [
    "- **Trend** on collecting large-scale datasets (quantity over quality) $\\rightarrow$ *''If it is available to us, we ingest it\"*"
   ]
  },
  {
   "cell_type": "markdown",
   "id": "094d542d",
   "metadata": {
    "slideshow": {
     "slide_type": "fragment"
    }
   },
   "source": [
    "- No **clear understanding** what these datasets/benchmarks **measure**."
   ]
  },
  {
   "cell_type": "markdown",
   "id": "47d85f8f",
   "metadata": {
    "slideshow": {
     "slide_type": "fragment"
    }
   },
   "source": [
    "- Affected by **spurious correlations** that deep learning models use as **shortcuts** and **overfit** on them [[Geirhos et al., 2020](https://www.nature.com/articles/s42256-020-00257-z); [Storks et al. 2020](https://arxiv.org/pdf/1904.01172.pdf); [Schlegel et al., 2020](https://arxiv.org/pdf/2005.14709.pdf)] $\\rightarrow$ exacerbate a dataset's utility (the hypothesis of reflecting human reasoning capabilities)"
   ]
  },
  {
   "cell_type": "markdown",
   "id": "ff033ee2",
   "metadata": {
    "slideshow": {
     "slide_type": "fragment"
    }
   },
   "source": [
    "- **Improper** task formulation (I/O)$\\rightarrow$ **Personal traits prediction from images** [💬]"
   ]
  },
  {
   "cell_type": "markdown",
   "id": "efe150e1",
   "metadata": {
    "slideshow": {
     "slide_type": "fragment"
    }
   },
   "source": [
    "- Annotators' **biases**, usually due to **lack of** guidelines or dataset documentation  $\\rightarrow$ **re-building ImageNet** [💬]"
   ]
  },
  {
   "cell_type": "markdown",
   "id": "572d84a5",
   "metadata": {
    "slideshow": {
     "slide_type": "fragment"
    }
   },
   "source": [
    "- Hard to scrutinize $\\rightarrow$ **abbatoir-effect** [[Raji et al., 2020](https://slideslive.com/38947414/harms-from-ai-research)] exacerbating data quality and hiding ethical issues"
   ]
  },
  {
   "cell_type": "markdown",
   "id": "5ed381a5",
   "metadata": {
    "slideshow": {
     "slide_type": "fragment"
    }
   },
   "source": [
    "- Entirely focused on **benchmarking metrics** $\\rightarrow$ consumption, cost, fairness, model size, limitations, multiple gold standards, etc.."
   ]
  },
  {
   "cell_type": "markdown",
   "id": "598d551a",
   "metadata": {
    "slideshow": {
     "slide_type": "slide"
    }
   },
   "source": [
    "## Data guidelines and recommendations\n",
    "\n",
    "One recommendation for evaluating aforementioned issues is via datasheets for datasets [[Gebru et al., 2021](https://cacm.acm.org/magazines/2021/12/256932-datasheets-for-datasets/abstract)]"
   ]
  },
  {
   "cell_type": "markdown",
   "id": "6a81c861",
   "metadata": {
    "slideshow": {
     "slide_type": "fragment"
    }
   },
   "source": [
    "For dataset **creators**:\n",
    "\n",
    "- Creation process $\\rightarrow$ reproducing, creating a new one..\n",
    "- Distribution\n",
    "- Maintenance\n",
    "- Assumptions\n",
    "- Risks, harms, implications of use, biases, limitations"
   ]
  },
  {
   "cell_type": "markdown",
   "id": "042ca764",
   "metadata": {
    "slideshow": {
     "slide_type": "fragment"
    }
   },
   "source": [
    "For dataset **consumers**:\n",
    "\n",
    "- Information to make informed decisions about using the dataset\n",
    "- Transparency for data selection\n",
    "- Avoid unintentional misuse"
   ]
  },
  {
   "cell_type": "markdown",
   "id": "f2682f6c",
   "metadata": {
    "slideshow": {
     "slide_type": "fragment"
    }
   },
   "source": [
    "$\\rightarrow$ **facilitates reproducibility** of machine learning results <br>\n",
    "$\\rightarrow$ **not** a prescriptive or automated approach (may change according to domain)"
   ]
  },
  {
   "cell_type": "markdown",
   "id": "62b47dfb",
   "metadata": {
    "slideshow": {
     "slide_type": "subslide"
    }
   },
   "source": [
    "<center>\n",
    "<div>\n",
    "<img src=\"Images/Lecture-1/datasheet1.png\" width=\"1000\" alt='datasheet1'/>\n",
    "</div>\n",
    "</center>"
   ]
  },
  {
   "cell_type": "markdown",
   "id": "92d5b0ee",
   "metadata": {
    "slideshow": {
     "slide_type": "subslide"
    }
   },
   "source": [
    "<center>\n",
    "<div>\n",
    "<img src=\"Images/Lecture-1/datasheet2.png\" width=\"1000\" alt='datasheet2'/>\n",
    "</div>\n",
    "</center>"
   ]
  },
  {
   "cell_type": "markdown",
   "id": "2371b08d",
   "metadata": {
    "slideshow": {
     "slide_type": "subslide"
    }
   },
   "source": [
    "<center>\n",
    "<div>\n",
    "<img src=\"Images/Lecture-1/datasheet3.png\" width=\"1000\" alt='datasheet3'/>\n",
    "</div>\n",
    "</center>"
   ]
  },
  {
   "cell_type": "markdown",
   "id": "be075fbb",
   "metadata": {
    "slideshow": {
     "slide_type": "subslide"
    }
   },
   "source": [
    "<center>\n",
    "<div>\n",
    "<img src=\"Images/Lecture-1/datasheet4.png\" width=\"1000\" alt='datasheet4'/>\n",
    "</div>\n",
    "</center>"
   ]
  },
  {
   "cell_type": "markdown",
   "id": "02f0c6da",
   "metadata": {
    "slideshow": {
     "slide_type": "subslide"
    }
   },
   "source": [
    "## Data Leakage\n",
    "\n",
    "''*Data leakage is a spurious relationship between the independent variables and the target variable that arises as an artifact of the data collection, sampling, or pre-processing strategy.\" [[Kapoor & Narayanan, 2022](https://arxiv.org/pdf/2207.07048.pdf)]"
   ]
  },
  {
   "cell_type": "markdown",
   "id": "c792bcbd",
   "metadata": {
    "slideshow": {
     "slide_type": "fragment"
    }
   },
   "source": [
    "#### Examples\n",
    "\n",
    "- Perform variable scaling/normalization using the whole data set.\n",
    "- Feature selection before data partitioning.\n",
    "- Dimensionality reduction before data partitioning.\n",
    "- Calibrate and test your model on the same dev/test set.\n",
    "- Data augmentation before data partitioning\n",
    "- Random splits with time series data or look ahead bias \n",
    "- Biased data partitioning"
   ]
  },
  {
   "cell_type": "markdown",
   "id": "07d264ff",
   "metadata": {
    "slideshow": {
     "slide_type": "subslide"
    }
   },
   "source": [
    "<center>\n",
    "<div>\n",
    "<img src=\"Images/Lecture-1/data_leakage.png\" width=\"2000\" alt='data_leakage'/>\n",
    "</div>\n",
    "</center>"
   ]
  },
  {
   "cell_type": "markdown",
   "id": "669638ef",
   "metadata": {
    "slideshow": {
     "slide_type": "subslide"
    }
   },
   "source": [
    "<center>\n",
    "<div>\n",
    "<img src=\"Images/Lecture-1/kapoor_leakage.png\" width=\"2000\" alt='kapoor_leakage'/>\n",
    "</div>\n",
    "</center>"
   ]
  },
  {
   "cell_type": "markdown",
   "id": "83ae6356",
   "metadata": {
    "slideshow": {
     "slide_type": "subslide"
    }
   },
   "source": [
    "### [L2] Illegitimate features\n",
    "\n",
    "The model has access to features that should **not be legitimately available** for use.\n",
    "\n",
    "The judgement of whether the use of a given feature is legitimate for a modeling task requires **domain knowledge** and can be highly **problem specific**!\n",
    "\n",
    "Use **domain expertise** to decide which features are suitable."
   ]
  },
  {
   "cell_type": "markdown",
   "id": "0fc9f1fc",
   "metadata": {
    "slideshow": {
     "slide_type": "subslide"
    }
   },
   "source": [
    "### [L3] Test set not drawn from the distribution of scientific interest\n",
    "\n",
    "The distribution of data on which the performance of an ML model is evaluated **differs from** the distribution of data about which the scientific claims are made.\n",
    "\n",
    "The performance of the model on the test set **does not correspond** to its performance on data drawn from the distribution of scientific interest."
   ]
  },
  {
   "cell_type": "markdown",
   "id": "fed67508",
   "metadata": {
    "slideshow": {
     "slide_type": "subslide"
    }
   },
   "source": [
    "### [L3.1] Temporal Leakage\n",
    "\n",
    "The test set should **not contain** any data form a date before the training set.\n",
    "\n",
    "If the test set contains data from before the training set, the model is built using data *''from the future\"* that it should not have access to during training.\n",
    "\n",
    "$\\rightarrow$ Avoid random splitting and check for potential **look-ahead bias** [[Cerqueira et al., 2020](https://link.springer.com/article/10.1007/s10994-020-05910-7); [Wang & Ruf, 2022](https://papers.ssrn.com/sol3/papers.cfm?abstract_id=3836631)]"
   ]
  },
  {
   "cell_type": "markdown",
   "id": "a61dd55d",
   "metadata": {
    "slideshow": {
     "slide_type": "subslide"
    }
   },
   "source": [
    "### [L3.2] Non-independence between train and test samples\n",
    "\n",
    "Nonindependence between train and test samples constitutes leakage, unless the scientific claim is about a distribution that has the same dependence structure.\n",
    "\n",
    "It is **quite common** that train and test samples come from the same people or unit (histopathology case [💬] [[Oner et al., 2020](https://www.medrxiv.org/content/10.1101/2020.04.23.20076406v1)])\n",
    "\n",
    "There are solutions like 'block cross-validation' [[Roberts et al., 2017](https://onlinelibrary.wiley.com/doi/10.1111/ecog.02881); [Valavi et al., 2021](https://besjournals.onlinelibrary.wiley.com/doi/10.1111/2041-210X.13107)]\n",
    "\n",
    "$\\rightarrow$ Non-independence is a **hard problem** since we might not know the **underlying dependency structure** of the task."
   ]
  },
  {
   "cell_type": "markdown",
   "id": "6b20a0a8",
   "metadata": {
    "slideshow": {
     "slide_type": "subslide"
    }
   },
   "source": [
    "### [L3.3] Sampling bias in test distribution\n",
    "\n",
    "- **Spatial bias**: choosing data from a geographic location but making claims about model performance in other locations as well\n",
    "\n",
    "- **Selection bias**: choosing a non-representative subset of the dataset for evaluation (autism case [💬], pneumonia prediction [💬])"
   ]
  },
  {
   "cell_type": "markdown",
   "id": "21661f91",
   "metadata": {
    "slideshow": {
     "slide_type": "subslide"
    }
   },
   "source": [
    "#### There are a lot of other biases (*a small memo*)\n",
    "\n",
    "- **Self-selection bias**: People with specific characteristics are more likely to agree to take part in a study than others.\n",
    "\n",
    "- **Non-response bias**: People who refuse to participate or drop out from a study systematically differ from those who take part.\n",
    "\n",
    "- **Undercoverage bias**: Some members of a population are inadequately represented in the sample.\n",
    "\n",
    "- **Survivorship bias**: Successful observations, people and objects are more likely to be represented in the sample than unsuccessful ones.\n",
    "\n",
    "<center>\n",
    "<div>\n",
    "<img src=\"Images/Lecture-1/Survivorship-bias.svg\" width=\"850\" alt='survivorship-bias'/>\n",
    "</div>\n",
    "</center>"
   ]
  },
  {
   "cell_type": "markdown",
   "id": "a1ac9ccf",
   "metadata": {
    "slideshow": {
     "slide_type": "slide"
    }
   },
   "source": [
    "## Model info sheets\n",
    "\n",
    "Similarly to datasheets for datasets, there exist **datasheets for models**. $\\rightarrow$ supplementary material\n",
    "\n",
    "Offer a **middle ground** for peer-reviewing processes: code checking is a time-consuming process."
   ]
  },
  {
   "cell_type": "markdown",
   "id": "112a1050",
   "metadata": {
    "slideshow": {
     "slide_type": "subslide"
    }
   },
   "source": [
    "### Limitations\n",
    "\n",
    "- **Cannot be verified** in the **absence** of computational reproducibility (code availability!)\n",
    "- **Incorrect claims** in the datasheet $\\rightarrow$ false assurance (*I'm only human after all...*)"
   ]
  },
  {
   "cell_type": "markdown",
   "id": "8bd3c8e3",
   "metadata": {
    "slideshow": {
     "slide_type": "fragment"
    }
   },
   "source": [
    "### Kapoor & Narayanan, 2022 template\n",
    "\n",
    "[Model info sheet](files/Images/Lecture-1/model-info-sheet-template.docx/)"
   ]
  },
  {
   "cell_type": "markdown",
   "id": "6ad6d36b",
   "metadata": {
    "slideshow": {
     "slide_type": "subslide"
    }
   },
   "source": [
    "## Model Cards [[Mitchell et al., 2019](https://dl.acm.org/doi/10.1145/3287560.3287596)]\n",
    "\n",
    "Focus on trained model characteristics: \n",
    "\n",
    "- Type of model\n",
    "- Intended use cases\n",
    "- Attributes for which performance may vary\n",
    "- Measures of model performance (their motivation)\n",
    "\n",
    "Useful to understand the **systematic impacts** of models before their deployment."
   ]
  },
  {
   "cell_type": "markdown",
   "id": "d4a836c6",
   "metadata": {
    "slideshow": {
     "slide_type": "subslide"
    }
   },
   "source": [
    "<center>\n",
    "<div>\n",
    "<img src=\"Images/Lecture-1/model-card.png\" width=\"650\" alt='model-card'/>\n",
    "</div>\n",
    "</center>"
   ]
  },
  {
   "cell_type": "markdown",
   "id": "b2fb8a8e",
   "metadata": {
    "slideshow": {
     "slide_type": "subslide"
    }
   },
   "source": [
    "<center>\n",
    "<div>\n",
    "<img src=\"Images/Lecture-1/model-card-example.png\" width=\"1050\" alt='model-card-example'/>\n",
    "</div>\n",
    "</center>"
   ]
  },
  {
   "cell_type": "markdown",
   "id": "9bc71de6",
   "metadata": {
    "slideshow": {
     "slide_type": "subslide"
    }
   },
   "source": [
    "## Many other ways for reporting\n",
    "\n",
    "- Checklists [[Han et al., 2017](https://journals.plos.org/plosone/article?id=10.1371/journal.pone.0183591)] $\\rightarrow$ mainly for reviewing and community specific\n",
    "- Data statements [[Bender & Friedman, 2018](https://aclanthology.org/Q18-1041.pdf)] $\\rightarrow$ to allieve issues related to exclusion and bias in NLP\n",
    "- The Dataset Nutrition Label [[Holland et al., 2018](https://arxiv.org/pdf/1805.03677.pdf)] $\\rightarrow$ Guidelines for analyzing data structure and status\n",
    "- FactSheets [[Arnold et al., 2019](https://ieeexplore.ieee.org/document/8843893)] $\\rightarrow$ product overview to increase trustworthiness"
   ]
  },
  {
   "cell_type": "markdown",
   "id": "22a35faf",
   "metadata": {
    "slideshow": {
     "slide_type": "fragment"
    }
   },
   "source": [
    "[❓] Do you see any drawback?"
   ]
  },
  {
   "cell_type": "markdown",
   "id": "4f68f7e1",
   "metadata": {
    "slideshow": {
     "slide_type": "slide"
    }
   },
   "source": [
    "## Model Evaluation\n",
    "\n",
    "Having **valid results** from which to **draw reliable** conclusions is a fundamental aspect of your experimental setting [[Lones, 2023](https://arxiv.org/pdf/2108.02497.pdf)].\n",
    "\n",
    "*Current SOTA achieves 94% of accuracy, while our model achieve 95.2%* $\\rightarrow$ **new SOTA!** [[Hooker, 1995](https://link.springer.com/article/10.1007/BF02430364)]"
   ]
  },
  {
   "cell_type": "markdown",
   "id": "941502cb",
   "metadata": {
    "slideshow": {
     "slide_type": "fragment"
    }
   },
   "source": [
    "[❓] What could have gone differently? "
   ]
  },
  {
   "cell_type": "markdown",
   "id": "c302a03c",
   "metadata": {
    "slideshow": {
     "slide_type": "fragment"
    }
   },
   "source": [
    "- Training/evaluation on different **data partitions**\n",
    "- Different **training dataset**\n",
    "- Different **training regularization**\n",
    "- **Mismatch** in hyper-parameter optimization $\\rightarrow$ I know you have calibrated your model only!"
   ]
  },
  {
   "cell_type": "markdown",
   "id": "cfb260d7",
   "metadata": {
    "slideshow": {
     "slide_type": "subslide"
    }
   },
   "source": [
    "### What to do?"
   ]
  },
  {
   "cell_type": "markdown",
   "id": "4e782a62",
   "metadata": {
    "slideshow": {
     "slide_type": "fragment"
    }
   },
   "source": [
    "- **Re-implement** all models or use available code (*good luck!*)"
   ]
  },
  {
   "cell_type": "markdown",
   "id": "272bc40f",
   "metadata": {
    "slideshow": {
     "slide_type": "fragment"
    }
   },
   "source": [
    "- Perform a **fair hyper-parameter** calibration"
   ]
  },
  {
   "cell_type": "markdown",
   "id": "f5633d7c",
   "metadata": {
    "slideshow": {
     "slide_type": "fragment"
    }
   },
   "source": [
    "- Evaluation on an **appropriate** test set: no overlap with training data, representative of population $\\rightarrow$ **Images with same weather conditions** [💬]"
   ]
  },
  {
   "cell_type": "markdown",
   "id": "748056e7",
   "metadata": {
    "slideshow": {
     "slide_type": "fragment"
    }
   },
   "source": [
    "- In case of data-augmentation, perform it on **training data only**"
   ]
  },
  {
   "cell_type": "markdown",
   "id": "0c2e59ef",
   "metadata": {
    "slideshow": {
     "slide_type": "fragment"
    }
   },
   "source": [
    "- Perform model evaluation **multiple times** [[Blagec et al., 2020](https://arxiv.org/pdf/2008.02577.pdf)]: multiple data partitions (**input sensitivity**); multiple seeds (**random initialization sensitivity**) $\\rightarrow$ under/over-estimation of model's performance.\n",
    "    - It becomes increasingly likely that the best model just happens to **over-fit the test set**, and doesn't necessarily **generalize** any better than the other models.  **The Persuasive Essays dataset** [💬]"
   ]
  },
  {
   "cell_type": "markdown",
   "id": "68852cab",
   "metadata": {
    "slideshow": {
     "slide_type": "fragment"
    }
   },
   "source": [
    "- Cross-validation (**stratified** in case of class imbalance) $\\rightarrow$ keep a separate test set for final evaluation"
   ]
  },
  {
   "cell_type": "markdown",
   "id": "b8a602e6",
   "metadata": {
    "slideshow": {
     "slide_type": "fragment"
    }
   },
   "source": [
    "- Pick **correct** evaluation metrics: different metrics give different perspectives [Wagstaff, 2012](https://icml.cc/2012/papers/298.pdf)"
   ]
  },
  {
   "cell_type": "markdown",
   "id": "4c598e93",
   "metadata": {
    "slideshow": {
     "slide_type": "subslide"
    }
   },
   "source": [
    "- Statistical tests"
   ]
  },
  {
   "cell_type": "markdown",
   "id": "54a212c9",
   "metadata": {
    "slideshow": {
     "slide_type": "fragment"
    }
   },
   "source": [
    "- Check your results $\\rightarrow$ In some domains it is very important to understand which errors does your model make"
   ]
  },
  {
   "cell_type": "markdown",
   "id": "8d3577dc",
   "metadata": {
    "slideshow": {
     "slide_type": "fragment"
    }
   },
   "source": [
    "- Consider strong simple baselines $\\rightarrow$ is there any advantage?"
   ]
  },
  {
   "cell_type": "markdown",
   "id": "519657e7",
   "metadata": {
    "slideshow": {
     "slide_type": "slide"
    }
   },
   "source": [
    "## Reporting results\n",
    "\n",
    "To effectively contribute to knowledge, you need to provide a **complete picture** of your work, covering both what worked and what **didn't**. \n",
    "\n",
    "$\\rightarrow$ Trade-offs are common."
   ]
  },
  {
   "cell_type": "markdown",
   "id": "1aeb19c5",
   "metadata": {
    "slideshow": {
     "slide_type": "subslide"
    }
   },
   "source": [
    "### Over-statements\n",
    "\n",
    "A common mistake is to make **general** statements that are **not supported** by the data used to train and evaluate models.\n",
    "\n",
    "- If your model does really well on one dataset, it doesn't **necessarily mean** that it will do well on other datasets.\n",
    "- There's always a limit of what can be **inferred from** an experimental study $\\rightarrow$ sampling error/bias, datasets overlap, data quality."
   ]
  },
  {
   "cell_type": "markdown",
   "id": "2ca78591",
   "metadata": {
    "slideshow": {
     "slide_type": "subslide"
    }
   },
   "source": [
    "### Statistical significance shotgun\n",
    "\n",
    "As opposed to most scientific disciplines, statistical analysis **is seldom conducted** in machine learning-based research [[Forde & Paganini, 2019](https://arxiv.org/pdf/1904.10922.pdf); [Henderson et al., 2018](https://aaai.org/papers/11694-deep-reinforcement-learning-that-matters/)]\n",
    "\n",
    "Statistical tests are **error-prone**: some may **underestimate** significance while some others may **overestimate** it.\n",
    "\n",
    "$\\rightarrow$ A positive test **doesn't always** indicate that something is significant, and a negative test doesn't necessarily mean that something isn't significant."
   ]
  },
  {
   "cell_type": "markdown",
   "id": "dea110e0",
   "metadata": {
    "slideshow": {
     "slide_type": "fragment"
    }
   },
   "source": [
    "#### Threshold selection and abuse\n",
    "\n",
    "Statisticians are increasingly arguing that it is better **not to** use thresholds and just report p-values for **interpretation** [[Amrhein et al., 2019](https://www.nature.com/articles/d41586-019-00857-9)]\n",
    "\n",
    "To give a better indication of whether something is important, we can measure **effect size** [[Betensky, 2019](https://www.tandfonline.com/doi/epdf/10.1080/00031305.2018.1529624?needAccess=true&role=button); [Benavoli et al., 2017](https://jmlr.org/papers/volume18/16-305/16-305.pdf)]."
   ]
  },
  {
   "cell_type": "markdown",
   "id": "302a9d42",
   "metadata": {
    "slideshow": {
     "slide_type": "fragment"
    }
   },
   "source": [
    "#### Which one to use?\n",
    "\n",
    "**[Pairwise comparison]** Student's T test (if normally distributed), Mann-Whitneys's U test (more general) [[Raschka, 2020](https://arxiv.org/pdf/1811.12808.pdf); [Carrasco et al, 2020](https://www.sciencedirect.com/science/article/pii/S2210650219302639)]\n",
    "\n",
    "**[Multiple comparisons]** Multiple pairwise comparisons can lead to overly-optimistic interpretations of significance (using the test set multiple times) $\\rightarrow$ **multiplicity effect** or **data dredging** or **p-hacking** [[Head et al., 2015](https://journals.plos.org/plosbiology/article?id=10.1371/journal.pbio.1002106)]"
   ]
  },
  {
   "cell_type": "markdown",
   "id": "576bd449",
   "metadata": {
    "slideshow": {
     "slide_type": "subslide"
    }
   },
   "source": [
    "### Error Analysis\n",
    "\n",
    "Metric reporting is **complementary** to model inspection as the former doesn't give insight into what the model has actually learnt.\n",
    "\n",
    "$\\rightarrow$ We don't want to just improve metric performance, but rather **generate knowledge and understanding** to share with the research community. [❗]\n",
    "\n",
    "Some insights could be gathered through (if your model is not explainable):\n",
    "\n",
    "- Human evaluation\n",
    "- Explainable AI tools [[Li et al., 2020](https://ieeexplore.ieee.org/document/9451544); [Angelov et al., 2021](https://wires.onlinelibrary.wiley.com/doi/pdf/10.1002/widm.1424)]"
   ]
  },
  {
   "cell_type": "markdown",
   "id": "3ff6cd9b",
   "metadata": {
    "slideshow": {
     "slide_type": "slide"
    }
   },
   "source": [
    "## Coding\n",
    "\n",
    "There are several guidelines, datasheets and recommendations to ensure a sound, coherent and reproducible environment.\n",
    "\n",
    "However, coding is still an **essential aspect** concerning reproducible and robust research!"
   ]
  },
  {
   "cell_type": "markdown",
   "id": "8b956893",
   "metadata": {
    "slideshow": {
     "slide_type": "fragment"
    }
   },
   "source": [
    "- Closed environment tools: [Docker](https://www.docker.com/), [ReproZip](https://www.reprozip.org/), [WholeTale](https://wholetale.org/)\n",
    "- Code verification platforms: CodeOcean [Clyburne-Sherin et al., 2019](https://diytranscriptomics.com/Reading/files/codeOcean_whitepaper.pdf)"
   ]
  },
  {
   "cell_type": "markdown",
   "id": "27cee3e5",
   "metadata": {
    "slideshow": {
     "slide_type": "slide"
    }
   },
   "source": [
    "## Concluding Remarks\n",
    "\n",
    "- Ensuring reproducible and robust research is still an **open problem**"
   ]
  },
  {
   "cell_type": "markdown",
   "id": "df196cd7",
   "metadata": {
    "slideshow": {
     "slide_type": "fragment"
    }
   },
   "source": [
    "- There are **several ways** for documenting and keeping track of experiments $\\rightarrow$ **overhead**? **effectiveness**?"
   ]
  },
  {
   "cell_type": "markdown",
   "id": "2c89397e",
   "metadata": {
    "slideshow": {
     "slide_type": "fragment"
    }
   },
   "source": [
    "- There are **several recommendations** to avoid **erroneous decision making** in your experimental approach"
   ]
  },
  {
   "cell_type": "markdown",
   "id": "36ee07b4",
   "metadata": {
    "slideshow": {
     "slide_type": "fragment"
    }
   },
   "source": [
    "- Ensuring a **clean coding environment** is crucial"
   ]
  },
  {
   "cell_type": "markdown",
   "id": "9bc3e8bd",
   "metadata": {
    "slideshow": {
     "slide_type": "fragment"
    }
   },
   "source": [
    "<center>\n",
    "<div>\n",
    "<img src=\"Images/Lecture-1/jojo_tbc.gif\" width=\"800\" alt='JOJO_tbc'/>\n",
    "</div>\n",
    "</center>"
   ]
  },
  {
   "cell_type": "markdown",
   "id": "b9bba58a",
   "metadata": {
    "slideshow": {
     "slide_type": "slide"
    }
   },
   "source": [
    "# Any questions?\n",
    "\n",
    "<center>\n",
    "<div>\n",
    "<img src=\"Images/Lecture-1/jojo-arrivederci.gif\" width=\"1000\" alt='JOJO_arrivederci'/>\n",
    "</div>\n",
    "</center>"
   ]
  }
 ],
 "metadata": {
  "celltoolbar": "Slideshow",
  "kernelspec": {
   "display_name": "Python 3 (ipykernel)",
   "language": "python",
   "name": "python3"
  },
  "language_info": {
   "codemirror_mode": {
    "name": "ipython",
    "version": 3
   },
   "file_extension": ".py",
   "mimetype": "text/x-python",
   "name": "python",
   "nbconvert_exporter": "python",
   "pygments_lexer": "ipython3",
   "version": "3.7.16"
  }
 },
 "nbformat": 4,
 "nbformat_minor": 5
}
