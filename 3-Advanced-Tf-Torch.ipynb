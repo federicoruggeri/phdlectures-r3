{
 "cells": [
  {
   "cell_type": "markdown",
   "id": "f48d0c4e",
   "metadata": {
    "slideshow": {
     "slide_type": "slide"
    }
   },
   "source": [
    "## It's coding time!\n",
    "\n",
    "<center>\n",
    "<div>\n",
    "<img src=\"Images/Lecture-3/programming_skills.png\" width=\"1800\" alt='programming_skills'/>\n",
    "</div>\n",
    "</center>\n",
    "\n",
    "<br/>\n",
    "<br/>\n",
    "<br/>"
   ]
  },
  {
   "cell_type": "markdown",
   "id": "f6213d8f",
   "metadata": {
    "slideshow": {
     "slide_type": "fragment"
    }
   },
   "source": [
    "<center>\n",
    "<div>\n",
    "<img src=\"Images/Lecture-3/framework_knowledge.png\" width=\"2200\" alt='framework_knowledge'/>\n",
    "</div>\n",
    "</center>"
   ]
  },
  {
   "cell_type": "markdown",
   "id": "1cea3e54",
   "metadata": {
    "slideshow": {
     "slide_type": "slide"
    }
   },
   "source": [
    "## Why do we need this lecture?\n",
    "\n",
    "Whether you like it or not, experimental setting might require you to do some coding stuff.\n",
    "\n",
    "Coding translates to: \n",
    "\n",
    "1. Transparency (*don't you dare do some cheap tricks!*)\n",
    "2. Correctness (*your code should reflect your paper statements*) \n",
    "3. **Readability** (*please, don't make this a nightmare*)\n",
    "4. **Efficiency** (*time is money*)\n",
    "5. **Maintainability** (*I'm sure you'll re-use this code*)"
   ]
  },
  {
   "cell_type": "markdown",
   "id": "4bda74f6",
   "metadata": {
    "slideshow": {
     "slide_type": "fragment"
    }
   },
   "source": [
    "We should have an idea about [1-2] from past lectures!"
   ]
  },
  {
   "cell_type": "markdown",
   "id": "bc969f07",
   "metadata": {
    "slideshow": {
     "slide_type": "fragment"
    }
   },
   "source": [
    "We mainly focus on [4] in this lecture, while we provide some tips & tricks concerning [3, 5] in the next lecture"
   ]
  },
  {
   "cell_type": "markdown",
   "id": "d9ee19f6",
   "metadata": {
    "slideshow": {
     "slide_type": "slide"
    }
   },
   "source": [
    "## What are we going to cover?\n",
    "\n",
    "- Dataset encoding \n",
    "- Dataset pre-processing pipeline\n",
    "- Model definition\n",
    "- Model training, evaluation\n",
    "- High-level APIs (e.g., tensorflow-addons, pytorch-lightning, etc...)"
   ]
  },
  {
   "cell_type": "markdown",
   "id": "a1295fc8",
   "metadata": {
    "slideshow": {
     "slide_type": "slide"
    }
   },
   "source": [
    "# Preliminaries"
   ]
  },
  {
   "cell_type": "markdown",
   "id": "681678be",
   "metadata": {
    "slideshow": {
     "slide_type": "slide"
    }
   },
   "source": [
    "### Requirements.txt"
   ]
  },
  {
   "cell_type": "code",
   "execution_count": null,
   "id": "6608e7fa",
   "metadata": {
    "slideshow": {
     "slide_type": "fragment"
    }
   },
   "outputs": [],
   "source": [
    "## Run this if needed\n",
    "!pip install numpy==1.21.6 \\\n",
    "pandas==1.3.5 \\\n",
    "tqdm==4.64.1\n",
    "tensorflow-gpu==2.9.0 \\\n",
    "torch==2.0.0 \\"
   ]
  },
  {
   "cell_type": "markdown",
   "id": "45da9af8",
   "metadata": {
    "slideshow": {
     "slide_type": "subslide"
    }
   },
   "source": [
    "### Task"
   ]
  },
  {
   "cell_type": "markdown",
   "id": "15582ad6",
   "metadata": {
    "slideshow": {
     "slide_type": "fragment"
    }
   },
   "source": [
    "For simplicity, we are going to consider a NLP classification task on Argument Mining"
   ]
  },
  {
   "cell_type": "markdown",
   "id": "0841e724",
   "metadata": {
    "slideshow": {
     "slide_type": "subslide"
    }
   },
   "source": [
    "### Data\n",
    "\n",
    "We are going to consider a medium-size dataset to show the benefits of efficient coding $\\rightarrow$ time is precious!"
   ]
  },
  {
   "cell_type": "markdown",
   "id": "f0d8acb9",
   "metadata": {
    "slideshow": {
     "slide_type": "fragment"
    }
   },
   "source": [
    "#### IBM2015 text dataset\n",
    "\n",
    "- Dataset for Argument Mining: we use for argument sentence detection (binary classification task)\n",
    "- ~82k sentences from Wikipedia articles\n",
    "- 58 controversial topics (e.g., violent videogames)\n"
   ]
  },
  {
   "cell_type": "markdown",
   "id": "9c9f3964",
   "metadata": {
    "slideshow": {
     "slide_type": "slide"
    }
   },
   "source": [
    "# Dataset encoding and pre-processing"
   ]
  },
  {
   "cell_type": "code",
   "execution_count": null,
   "id": "68f8df15",
   "metadata": {
    "slideshow": {
     "slide_type": "slide"
    }
   },
   "outputs": [],
   "source": []
  }
 ],
 "metadata": {
  "celltoolbar": "Slideshow",
  "kernelspec": {
   "display_name": "Python 3 (ipykernel)",
   "language": "python",
   "name": "python3"
  },
  "language_info": {
   "codemirror_mode": {
    "name": "ipython",
    "version": 3
   },
   "file_extension": ".py",
   "mimetype": "text/x-python",
   "name": "python",
   "nbconvert_exporter": "python",
   "pygments_lexer": "ipython3",
   "version": "3.7.16"
  }
 },
 "nbformat": 4,
 "nbformat_minor": 5
}
