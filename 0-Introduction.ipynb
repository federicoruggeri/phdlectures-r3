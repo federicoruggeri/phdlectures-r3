{
 "cells": [
  {
   "cell_type": "markdown",
   "id": "1cfec425",
   "metadata": {
    "slideshow": {
     "slide_type": "slide"
    }
   },
   "source": [
    "  ## Program\n",
    "\n",
    "* Lecture 1 (2 hours): Defining an experimental scenario: concepts\n",
    "* Lecture 2 (2 hours): Defining an experimental scenario: implementation\n",
    "* Lecture 3 (2 hours): Advanced Tensorflow/Pytorch\n",
    "* Lecture 4 (2 hours): Common Mistakes and Best Practices\n",
    "* Lecture 5 (2 hours): Deasy-Learning: a simple deep learning framework for research\n",
    "\n",
    "**Tl;dr: 10 hours, 2 CFU**"
   ]
  },
  {
   "cell_type": "markdown",
   "id": "b124eab6",
   "metadata": {
    "slideshow": {
     "slide_type": "slide"
    }
   },
   "source": [
    "## Lecture format\n",
    "\n",
    "Lectures are held in **hybrid** format (via **Teams**).\n",
    "\n",
    "I'll try my best to **record** lectures.\n",
    "\n",
    "P.s. Please, check the course Teams page for updates! Let me know if I've missed to invite someone"
   ]
  },
  {
   "cell_type": "markdown",
   "id": "ff2d180c",
   "metadata": {
    "slideshow": {
     "slide_type": "slide"
    }
   },
   "source": [
    "## Exam\n",
    "\n",
    "If you need to certify your participation in the course via an exam, you can choose one option\n",
    "from the ones reported below. "
   ]
  },
  {
   "cell_type": "markdown",
   "id": "f3ecafda",
   "metadata": {
    "slideshow": {
     "slide_type": "fragment"
    }
   },
   "source": [
    "#### **Disclaimer**:\n",
    "\n",
    "I don't really **like** this CFU-based system for PhD students. \n",
    "\n",
    "Thus, I don't put **too much value** into the exam. \n",
    "\n",
    "However, I do really **hope** you find this course (or, at least, part of it) useful."
   ]
  },
  {
   "cell_type": "markdown",
   "id": "d9959df8",
   "metadata": {
    "slideshow": {
     "slide_type": "fragment"
    }
   },
   "source": [
    "**All submissions are made by contacting me via <a href=\"mailto:federico.ruggeri6@unibo.it\">email</a>.** "
   ]
  },
  {
   "cell_type": "markdown",
   "id": "949e9afa",
   "metadata": {
    "slideshow": {
     "slide_type": "subslide"
    }
   },
   "source": [
    "### Review\n",
    "\n",
    "You can report a review you have made concerning the experimental setup\n",
    "of a paper of your choice. \n",
    "\n",
    "I kindly ask you to analyze the pros and cons of the\n",
    "considered experimental setup."
   ]
  },
  {
   "cell_type": "markdown",
   "id": "68df70d0",
   "metadata": {
    "slideshow": {
     "slide_type": "fragment"
    }
   },
   "source": [
    "**Please submit your review in .pdf format (<u>1-2 pages at most</u>).**"
   ]
  },
  {
   "cell_type": "markdown",
   "id": "c25231c9",
   "metadata": {
    "slideshow": {
     "slide_type": "subslide"
    }
   },
   "source": [
    "### Code\n",
    "\n",
    "You can submit a code snippet (either a GitHub repo or a notebook) describing how you used certain advanced deep learning APIs/functionalities\n",
    "(e.g., efficient data loading, parallel training, custom architectures, etc..)."
   ]
  },
  {
   "cell_type": "markdown",
   "id": "f9fd384f",
   "metadata": {
    "slideshow": {
     "slide_type": "fragment"
    }
   },
   "source": [
    "**I kindly ask you to report a .pdf report (<u>1-2 pages at most</u>) that summarizes\n",
    "and motivates your implementation.** \n",
    "\n",
    "**NOTE: You can submit code snippets used in your research activity!**"
   ]
  },
  {
   "cell_type": "markdown",
   "id": "d38e82a0",
   "metadata": {
    "slideshow": {
     "slide_type": "subslide"
    }
   },
   "source": [
    "### Deasy-learning\n",
    "\n",
    "As a variant of the Code option, you can submit a code snippet written\n",
    "using my deep-learning library. (**do it at your own risk**)"
   ]
  },
  {
   "cell_type": "markdown",
   "id": "25b277b4",
   "metadata": {
    "slideshow": {
     "slide_type": "fragment"
    }
   },
   "source": [
    "**As in Code, I kindly ask you to <u>report a .pdf report</u>.**\n",
    "\n",
    "**Feedbacks are welcome!**"
   ]
  },
  {
   "cell_type": "markdown",
   "id": "02fcc70d",
   "metadata": {
    "slideshow": {
     "slide_type": "slide"
    }
   },
   "source": [
    "## How to run notebooks in presentation mode\n",
    "\n",
    "I'm using [RISE](https://rise.readthedocs.io/en/stable/) plugin for notebooks.\n",
    "\n",
    "Just run ``pip install notebook`` and ``pip install RISE`` for installation. \n",
    "\n",
    "Then run jupyter notebook to see added plugin functionalities."
   ]
  },
  {
   "cell_type": "markdown",
   "id": "772b99c8",
   "metadata": {
    "slideshow": {
     "slide_type": "slide"
    }
   },
   "source": [
    "## About me\n",
    "\n",
    "Post-doc research fellow at Unibo, <a href=\"https://site.unibo.it/nlp/en\">Language Technologies Lab</a>.\n",
    "\n",
    "I'm 29 (actually, 21), currently located at DISI (LIA room).\n",
    "\n",
    "I like making bad jokes, watching anime, developing video games... \n",
    "\n",
    "Expect some **JoJo** references. **$\\leftarrow$ to be continued...**\n",
    "\n",
    "I like the term **romantic** researcher: \n",
    "\n",
    "*Research is done by the community and never alone!* $\\rightarrow$ **feel free to contact me for discussion/brainstorming!**"
   ]
  },
  {
   "cell_type": "markdown",
   "id": "09db989a",
   "metadata": {
    "slideshow": {
     "slide_type": "subslide"
    }
   },
   "source": [
    "### Research interest\n",
    "\n",
    "Mainly specialized in NLP: Argument Mining\n",
    "\n",
    "My main research area is about **unstructured knowledge integration**: raw text as knowledge, in NLP\n",
    "\n",
    "You can check my (rarely updated) [UniBo web page](https://www.unibo.it/sitoweb/federico.ruggeri6) and [Google Scholar](https://scholar.google.com/citations?user=moOd0BwAAAAJ&hl=en&oi=ao) profile."
   ]
  },
  {
   "cell_type": "markdown",
   "id": "7826b2a4",
   "metadata": {
    "slideshow": {
     "slide_type": "subslide"
    }
   },
   "source": [
    "### Contact\n",
    "\n",
    "<a href=\"mailto:federico.ruggeri6@unibo.it\">Federico Ruggeri</a>\n",
    "\n",
    "DISI, Viale Risorgimento 2, first floor (<u>!= ground floor</u>), LIA room. \n",
    "\n",
    "**Luckily**, I don't have a desk phone number.\n",
    "\n",
    "Feel free to contact me via email/Teams for any issue/question about the course."
   ]
  },
  {
   "cell_type": "markdown",
   "id": "f289b861",
   "metadata": {
    "slideshow": {
     "slide_type": "slide"
    }
   },
   "source": [
    "## Baptism of Fire\n",
    "\n",
    "This is my **first time** teaching! "
   ]
  },
  {
   "cell_type": "markdown",
   "id": "bf366520",
   "metadata": {
    "slideshow": {
     "slide_type": "fragment"
    }
   },
   "source": [
    "Thus\n",
    "- I might explain some content not so clearly $\\rightarrow$ please, **ask** questions and **correct** me!\n",
    "- I might go overtime or, conversely, be too fast at explaining things $\\rightarrow$ **stop me**!\n",
    "- I'll ask for your **feedback** (Google Form) at the end of this course $\\rightarrow$ your feedback is **important** to improve the course!"
   ]
  },
  {
   "cell_type": "markdown",
   "id": "cb962534",
   "metadata": {
    "slideshow": {
     "slide_type": "slide"
    }
   },
   "source": [
    "## The End (?)\n",
    "\n",
    "Let's give you a valid reason on why you are here...\n",
    "\n"
   ]
  }
 ],
 "metadata": {
  "celltoolbar": "Slideshow",
  "kernelspec": {
   "display_name": "Python 3 (ipykernel)",
   "language": "python",
   "name": "python3"
  },
  "language_info": {
   "codemirror_mode": {
    "name": "ipython",
    "version": 3
   },
   "file_extension": ".py",
   "mimetype": "text/x-python",
   "name": "python",
   "nbconvert_exporter": "python",
   "pygments_lexer": "ipython3",
   "version": "3.7.16"
  }
 },
 "nbformat": 4,
 "nbformat_minor": 5
}
