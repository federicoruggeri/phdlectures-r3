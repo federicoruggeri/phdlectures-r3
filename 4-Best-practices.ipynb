{
 "cells": [
  {
   "cell_type": "markdown",
   "id": "f48d0c4e",
   "metadata": {
    "slideshow": {
     "slide_type": "slide"
    }
   },
   "source": [
    "## It's coding time again!\n",
    "\n",
    "<center>\n",
    "<div>\n",
    "<img src=\"Images/Lecture-3/programming_skills.png\" width=\"1800\" alt='programming_skills'/>\n",
    "</div>\n",
    "</center>\n",
    "\n",
    "<br/>\n",
    "<br/>\n",
    "<br/>"
   ]
  },
  {
   "cell_type": "markdown",
   "id": "47fad4a7",
   "metadata": {
    "slideshow": {
     "slide_type": "slide"
    }
   },
   "source": [
    "## Let's recall your interests\n",
    "\n",
    "61.8% is interested in programming mistakes!\n",
    "\n",
    "<center>\n",
    "<div>\n",
    "<img src=\"Images/Lecture-1/google_form_true.png\" width=\"2200\" alt='google_form_true'/>\n",
    "</div>\n",
    "</center>\n"
   ]
  },
  {
   "cell_type": "markdown",
   "id": "5e770bcf",
   "metadata": {
    "slideshow": {
     "slide_type": "fragment"
    }
   },
   "source": [
    "Let's focus on this topic!"
   ]
  },
  {
   "cell_type": "markdown",
   "id": "d1a981a9",
   "metadata": {
    "slideshow": {
     "slide_type": "slide"
    }
   },
   "source": [
    "## Why do we need this lecture?\n",
    "\n",
    "Whether you like it or not, experimental setting might require you to do some coding stuff.\n",
    "\n",
    "Coding translates to: \n",
    "\n",
    "1. Transparency (*don't you dare do some cheap tricks!*)\n",
    "2. Correctness (*your code should reflect your paper statements*) \n",
    "3. **Readability** (*please, don't make this a nightmare*)\n",
    "4. Efficiency (*time is money*)\n",
    "5. **Maintainability** (*I'm sure you'll re-use this code*)"
   ]
  },
  {
   "cell_type": "markdown",
   "id": "4bda74f6",
   "metadata": {
    "slideshow": {
     "slide_type": "fragment"
    }
   },
   "source": [
    "In the past lecture, We have shown some tools to make our code more efficient in Tensorflow and Pytorch [4]"
   ]
  },
  {
   "cell_type": "markdown",
   "id": "bc969f07",
   "metadata": {
    "slideshow": {
     "slide_type": "fragment"
    }
   },
   "source": [
    "We now provide some tips & tricks concerning [3, 5]"
   ]
  },
  {
   "cell_type": "markdown",
   "id": "d9ee19f6",
   "metadata": {
    "slideshow": {
     "slide_type": "slide"
    }
   },
   "source": [
    "## What are we going to cover?\n",
    "\n",
    "- Debugging\n",
    "- General coding best practices\n",
    "- Tensorflow best practices\n",
    "- Torch best practices\n",
    "- Misc: code documentation, README, controlled environments, updates tracking"
   ]
  },
  {
   "cell_type": "markdown",
   "id": "2b9afc8f",
   "metadata": {
    "slideshow": {
     "slide_type": "fragment"
    }
   },
   "source": [
    "*The 5-minute-in-the-future of yourself and your friends will appreciate!*"
   ]
  },
  {
   "cell_type": "markdown",
   "id": "f14b02b9",
   "metadata": {
    "slideshow": {
     "slide_type": "slide"
    }
   },
   "source": [
    "# Debugging"
   ]
  },
  {
   "cell_type": "markdown",
   "id": "ebb46f01",
   "metadata": {
    "slideshow": {
     "slide_type": "subslide"
    }
   },
   "source": [
    "### What are we going to see\n",
    "\n",
    "TODO"
   ]
  },
  {
   "cell_type": "markdown",
   "id": "e8641fbd",
   "metadata": {
    "slideshow": {
     "slide_type": "slide"
    }
   },
   "source": [
    "# Coding Best Practices"
   ]
  },
  {
   "cell_type": "markdown",
   "id": "15c87e28",
   "metadata": {
    "slideshow": {
     "slide_type": "subslide"
    }
   },
   "source": [
    "### What are we going to see\n",
    "\n",
    "- Type hints, type checking, annotations\n",
    "- Naming choice\n",
    "- Comments\n",
    "- Nesting\n",
    "- Inheritance\n",
    "- Abstraction\n",
    "- Organization\n",
    "- Profiling\n",
    "- Code optimization\n",
    "- Testing"
   ]
  },
  {
   "cell_type": "markdown",
   "id": "f7fa9cb3",
   "metadata": {
    "slideshow": {
     "slide_type": "slide"
    }
   },
   "source": [
    "# Tensorflow Best Practices"
   ]
  },
  {
   "cell_type": "markdown",
   "id": "ee0f6856",
   "metadata": {
    "slideshow": {
     "slide_type": "slide"
    }
   },
   "source": [
    "# Torch Best Practices\n",
    "\n",
    "- Layers definition\n",
    "- Custom losses\n",
    "- Detaching\n",
    "- Freeing GPU memory\n",
    "- Eval() mode\n",
    "- Numpy code\n",
    "- Calling layers"
   ]
  },
  {
   "cell_type": "markdown",
   "id": "08f20b72",
   "metadata": {
    "slideshow": {
     "slide_type": "slide"
    }
   },
   "source": [
    "### File Organization\n",
    "\n",
    "Split your model into individual layers and losses to\n",
    "\n",
    "- Enhance re-usability (*easier to spot errors*)\n",
    "- Enhance readability (*top-down view of a model*)\n",
    "\n",
    "The same applies for nested models, layers and losses"
   ]
  },
  {
   "cell_type": "code",
   "execution_count": null,
   "id": "53ad35ea",
   "metadata": {
    "slideshow": {
     "slide_type": "fragment"
    }
   },
   "outputs": [],
   "source": [
    "# losses.py\n",
    "class CustomLoss(th.nn.Module):\n",
    "    def __init__(self, *args, **kwargs):\n",
    "        ...\n",
    "        \n",
    "    def forward(self, inputs):\n",
    "        ...\n",
    "        \n",
    "# layers.py\n",
    "class CustomLayer(th.nn.Module):\n",
    "    def __init__(self, *args, **kwargs):\n",
    "        ...\n",
    "        \n",
    "    def forward(self, inputs):\n",
    "        ...\n",
    "        \n",
    "# models.py\n",
    "class CustomModel(th.nn.Module):\n",
    "    def __init__(self, *args, **kwargs):\n",
    "        self.layer = CustomLayer(...)\n",
    "        self.loss_op = CustomLoss(...)\n",
    "        \n",
    "    def forward(self, inputs):\n",
    "        pass"
   ]
  },
  {
   "cell_type": "markdown",
   "id": "9b5db125",
   "metadata": {
    "slideshow": {
     "slide_type": "slide"
    }
   },
   "source": [
    "### Sequential Layers\n",
    "\n",
    "In many cases, we may have to define a sequential network"
   ]
  },
  {
   "cell_type": "markdown",
   "id": "588f7866",
   "metadata": {
    "slideshow": {
     "slide_type": "fragment"
    }
   },
   "source": [
    "#### Which one do you use?\n",
    "\n",
    "<table><tr>\n",
    "<td> <img src=\"Images/Lecture-4/th-examples-1-1.png\" width=\"1100\"/> </td>\n",
    "<td> <img src=\"Images/Lecture-4/th-examples-1-2.png\" width=\"1100\"/> </td>\n",
    "<td> <img src=\"Images/Lecture-4/th-examples-1-3.png\" width=\"1100\"/> </td>\n",
    "</tr>\n",
    "<tr>\n",
    "<td style=\"text-align: center; vertical-align: middle;\"> <strong>(A)</strong> </td>\n",
    "<td style=\"text-align: center; vertical-align: middle;\"> <strong>(B)</strong> </td>\n",
    "<td style=\"text-align: center; vertical-align: middle;\"> <strong>(C)</strong> </td>\n",
    "</tr>\n",
    "</table>"
   ]
  },
  {
   "cell_type": "markdown",
   "id": "021d1272",
   "metadata": {
    "slideshow": {
     "slide_type": "subslide"
    }
   },
   "source": [
    "#### (A) is the best choice\n",
    "\n",
    "- Uses nn.Sequential(...) to define a sequential network $\\rightarrow$ higher efficiency, readibility\n",
    "    \n",
    "#### (B) may give some problems with list wrapping\n",
    "\n",
    "- Consider using ```th.nn.ModuleList(...)``` rather than a list\n",
    "    \n",
    "#### (C) is terrible!\n",
    "\n",
    "- Generates layers at each forward pass $\\rightarrow$ losing track of model weights to update\n",
    "- You need to define layers in the ```__init__(...)``` method so that model weights are kept throughout the life the of the model"
   ]
  },
  {
   "cell_type": "markdown",
   "id": "0ead0ddf",
   "metadata": {
    "slideshow": {
     "slide_type": "slide"
    }
   },
   "source": [
    "### Mixing operations\n",
    "\n",
    "Consider the following code snippet"
   ]
  },
  {
   "cell_type": "code",
   "execution_count": null,
   "id": "b676d073",
   "metadata": {
    "slideshow": {
     "slide_type": "fragment"
    }
   },
   "outputs": [],
   "source": [
    "# Numpy version\n",
    "loss = np.square(y_pred - y_true).sum()\n",
    "\n",
    "# Torch version\n",
    "loss = (y_pred - y_true).pow(2).sum()"
   ]
  },
  {
   "cell_type": "markdown",
   "id": "13dbefa9",
   "metadata": {
    "slideshow": {
     "slide_type": "fragment"
    }
   },
   "source": [
    "The numpy code is always run on the CPU, while the torch code may also run on the GPU\n",
    "\n",
    "- Avoid mixing numpy and torch operations in ```forward(...)``` method since numpy operations slow down your code execution!"
   ]
  },
  {
   "cell_type": "markdown",
   "id": "f7f71b4e",
   "metadata": {
    "slideshow": {
     "slide_type": "slide"
    }
   },
   "source": [
    "### Getting results\n",
    "\n",
    "How to properly collect model outputs?"
   ]
  },
  {
   "cell_type": "markdown",
   "id": "baede4ac",
   "metadata": {
    "slideshow": {
     "slide_type": "fragment"
    }
   },
   "source": [
    "#### Which one do you use?\n",
    "\n",
    "<table><tr>\n",
    "<td> <img src=\"Images/Lecture-4/th-examples-2-1.png\" width=\"1100\"/> </td>\n",
    "<td> <img src=\"Images/Lecture-4/th-examples-2-2.png\" width=\"1100\"/> </td>\n",
    "</tr>\n",
    "<tr>\n",
    "<td style=\"text-align: center; vertical-align: middle;\"> <strong>(A)</strong> </td>\n",
    "<td style=\"text-align: center; vertical-align: middle;\"> <strong>(B)</strong> </td>\n",
    "</tr>\n",
    "</table>"
   ]
  },
  {
   "cell_type": "markdown",
   "id": "c70abf95",
   "metadata": {
    "slideshow": {
     "slide_type": "subslide"
    }
   },
   "source": [
    "#### Detaching is need!\n",
    "\n",
    "- Remove tensor from torch tracking for automatic differentation\n",
    "- If you don't do that, the unnecessary recording of these tensors slows down your program execution!"
   ]
  },
  {
   "cell_type": "markdown",
   "id": "06c1d94a",
   "metadata": {
    "slideshow": {
     "slide_type": "slide"
    }
   },
   "source": [
    "### Evaluation mode\n",
    "\n",
    "Torch has two model modalities: ```model.train()``` and ```model.eval()```"
   ]
  },
  {
   "cell_type": "markdown",
   "id": "053051f9",
   "metadata": {
    "slideshow": {
     "slide_type": "fragment"
    }
   },
   "source": [
    "#### Which one do you use?\n",
    "\n",
    "<table><tr>\n",
    "<td> <img src=\"Images/Lecture-4/th-examples-3-1.png\" width=\"1100\"/> </td>\n",
    "<td> <img src=\"Images/Lecture-4/th-examples-3-2.png\" width=\"1100\"/> </td>\n",
    "</tr>\n",
    "<tr>\n",
    "<td style=\"text-align: center; vertical-align: middle;\"> <strong>(A)</strong> </td>\n",
    "<td style=\"text-align: center; vertical-align: middle;\"> <strong>(B)</strong> </td>\n",
    "</tr>\n",
    "</table>"
   ]
  },
  {
   "cell_type": "markdown",
   "id": "feef5e4f",
   "metadata": {
    "slideshow": {
     "slide_type": "fragment"
    }
   },
   "source": [
    "#### Both are correct!\n",
    "\n",
    "#### Model.eval()\n",
    "\n",
    "- Just changes model execution so that layers like Dropout, BatchNorm can execute correctly\n",
    "\n",
    "#### torch.no_grad()\n",
    "\n",
    "- Disables automatic differentiation saving up memory and time\n",
    "\n",
    "\n",
    "In the common case where you don't compute any gradient during evaluation, you can use both to gain some speed-up and use less memory."
   ]
  },
  {
   "cell_type": "markdown",
   "id": "e9c3d73f",
   "metadata": {
    "slideshow": {
     "slide_type": "slide"
    }
   },
   "source": [
    "### Numerical Stability\n",
    "\n",
    "Mathematical correctness of your code doesn't necessarily translates to correct results"
   ]
  },
  {
   "cell_type": "markdown",
   "id": "6ebcf1b9",
   "metadata": {
    "slideshow": {
     "slide_type": "subslide"
    }
   },
   "source": [
    "#### Some examples\n",
    "\n",
    "<table><tr>\n",
    "<td> <img src=\"Images/Lecture-4/th-examples-4-1.png\" width=\"1100\"/> </td>\n",
    "<td> <img src=\"Images/Lecture-4/th-examples-4-2.png\" width=\"1100\"/> </td>\n",
    "<td> <img src=\"Images/Lecture-4/th-examples-4-3.png\" width=\"1100\"/> </td>\n",
    "</tr>\n",
    "<tr>\n",
    "<td style=\"text-align: center; vertical-align: middle;\"> <strong>(A)</strong> </td>\n",
    "<td style=\"text-align: center; vertical-align: middle;\"> <strong>(B)</strong> </td>\n",
    "<td style=\"text-align: center; vertical-align: middle;\"> <strong>(C)</strong> </td>\n",
    "</tr>\n",
    "</table>"
   ]
  },
  {
   "cell_type": "markdown",
   "id": "f7fb0998",
   "metadata": {
    "slideshow": {
     "slide_type": "subslide"
    }
   },
   "source": [
    "#### Stable versions\n",
    "\n",
    "<table><tr>\n",
    "<td> <img src=\"Images/Lecture-4/th-examples-5-1.png\" width=\"1100\"/> </td>\n",
    "<td> <img src=\"Images/Lecture-4/th-examples-5-2.png\" width=\"1100\"/> </td>\n",
    "<td> <img src=\"Images/Lecture-4/th-examples-5-3.png\" width=\"1100\"/> </td>\n",
    "</tr>\n",
    "<tr>\n",
    "<td style=\"text-align: center; vertical-align: middle;\"> <strong>(A)</strong> </td>\n",
    "<td style=\"text-align: center; vertical-align: middle;\"> <strong>(B)</strong> </td>\n",
    "<td style=\"text-align: center; vertical-align: middle;\"> <strong>(C)</strong> </td>\n",
    "</tr>\n",
    "</table>"
   ]
  },
  {
   "cell_type": "markdown",
   "id": "5d8fbfef",
   "metadata": {
    "slideshow": {
     "slide_type": "slide"
    }
   },
   "source": [
    "### Mixed-precision\n",
    "\n",
    "In many cases, you may want to speed-up your training by relying on mixed-precision operations"
   ]
  },
  {
   "cell_type": "markdown",
   "id": "d7eca5f7",
   "metadata": {
    "slideshow": {
     "slide_type": "fragment"
    }
   },
   "source": [
    "<table><tr>\n",
    "<td> <img src=\"Images/Lecture-4/th-examples-6-1.png\" width=\"1100\"/> </td>\n",
    "<td> <img src=\"Images/Lecture-4/th-examples-6-2.png\" width=\"1100\"/> </td>\n",
    "</tr>\n",
    "</table>"
   ]
  },
  {
   "cell_type": "markdown",
   "id": "865318f1",
   "metadata": {
    "slideshow": {
     "slide_type": "subslide"
    }
   },
   "source": [
    "#### torch.cuda.amp.autocast()\n",
    "\n",
    "- Automatically casts down heavy operations (e.g., convolution, matrix multiplication) to 16-bit\n",
    "- Allows mixed-precision computations\n",
    "\n",
    "\n",
    "#### torch.cuda.amp.GradScaler()\n",
    "\n",
    "- Allows to work with 16-bit gradient values while avoid under/over-flows\n",
    "- Scales up loss to avoid underflows\n",
    "- Scale gradient values down during gradient update to ensure correct model weights update"
   ]
  },
  {
   "cell_type": "markdown",
   "id": "4a8b8a33",
   "metadata": {
    "slideshow": {
     "slide_type": "slide"
    }
   },
   "source": [
    "# Concluding Remarks\n",
    "\n",
    "- TODO"
   ]
  },
  {
   "cell_type": "markdown",
   "id": "470be101",
   "metadata": {
    "slideshow": {
     "slide_type": "slide"
    }
   },
   "source": [
    "# 次回 (Jikai!)\n",
    "\n",
    "Actually, there's nothing left to show you...\n",
    "\n",
    "Since I wanted to hold a 10-hours course (thus, 2 CFUs), I thought it could have been a good opportunity to show you something I've been working on.\n",
    "\n",
    "- Deasy-learning (*a tiny tiny custom library for research*)\n",
    "- Course feedback (*don't forget to leave a like and hit subscribe!* ~semicit)\n",
    "- **Motivational outro** (*please, don't miss this!*)"
   ]
  },
  {
   "cell_type": "markdown",
   "id": "c3256c3b",
   "metadata": {
    "slideshow": {
     "slide_type": "slide"
    }
   },
   "source": [
    "# Any questions?\n",
    "\n",
    "<center>\n",
    "<div>\n",
    "<img src=\"Images/Lecture-1/jojo-arrivederci.gif\" width=\"1200\" alt='JOJO_arrivederci'/>\n",
    "</div>\n",
    "</center>"
   ]
  }
 ],
 "metadata": {
  "celltoolbar": "Slideshow",
  "kernelspec": {
   "display_name": "Python 3 (ipykernel)",
   "language": "python",
   "name": "python3"
  },
  "language_info": {
   "codemirror_mode": {
    "name": "ipython",
    "version": 3
   },
   "file_extension": ".py",
   "mimetype": "text/x-python",
   "name": "python",
   "nbconvert_exporter": "python",
   "pygments_lexer": "ipython3",
   "version": "3.7.16"
  }
 },
 "nbformat": 4,
 "nbformat_minor": 5
}
