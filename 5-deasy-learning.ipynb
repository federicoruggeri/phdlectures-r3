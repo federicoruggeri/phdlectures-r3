{
 "cells": [
  {
   "cell_type": "markdown",
   "id": "7bc225cc",
   "metadata": {
    "slideshow": {
     "slide_type": "slide"
    }
   },
   "source": [
    "## The end (?)\n",
    "\n",
    "We've reached **the end** of this short Ph.D. course about reproducibility and deep learning experiments."
   ]
  },
  {
   "cell_type": "markdown",
   "id": "4a2e1236",
   "metadata": {
    "slideshow": {
     "slide_type": "fragment"
    }
   },
   "source": [
    "#### What to do?"
   ]
  },
  {
   "cell_type": "markdown",
   "id": "4fc14f27",
   "metadata": {
    "slideshow": {
     "slide_type": "slide"
    }
   },
   "source": [
    "## deasy-learning\n",
    "\n",
    "In this **bonus** lecture to achieve the desired **10 hours**, I'm going to briefly show you some functionalities of my small **custom library**."
   ]
  },
  {
   "cell_type": "markdown",
   "id": "e5f01449",
   "metadata": {
    "slideshow": {
     "slide_type": "fragment"
    }
   },
   "source": [
    "#### Disclaimer"
   ]
  },
  {
   "cell_type": "markdown",
   "id": "29cf2004",
   "metadata": {
    "slideshow": {
     "slide_type": "fragment"
    }
   },
   "source": [
    "- What you are going to see is not **groundbreaking** and probably well-known since 50 years. I just couldn't find anything suitable...but I'm a picky person time to time..."
   ]
  },
  {
   "cell_type": "markdown",
   "id": "1dd1b5b0",
   "metadata": {
    "slideshow": {
     "slide_type": "fragment"
    }
   },
   "source": [
    "- **No official code yet**: the library is currently undergoing a **major refactoring**!"
   ]
  },
  {
   "cell_type": "markdown",
   "id": "c76e2644",
   "metadata": {
    "slideshow": {
     "slide_type": "fragment"
    }
   },
   "source": [
    "- **ETA** release date: approximately end of May/beginning of June"
   ]
  },
  {
   "cell_type": "markdown",
   "id": "27a9e4d0",
   "metadata": {
    "slideshow": {
     "slide_type": "fragment"
    }
   },
   "source": [
    "- The chosen **name** is embarassing! Any suggestions? (*DISI $\\rightarrow$ deasy $\\rightarrow$ diversified easy learning*)"
   ]
  },
  {
   "cell_type": "markdown",
   "id": "2868597b",
   "metadata": {
    "slideshow": {
     "slide_type": "fragment"
    }
   },
   "source": [
    "- **Ping me** if you are interested! (*don't you have anything else to do?*)"
   ]
  },
  {
   "cell_type": "markdown",
   "id": "0f162de5",
   "metadata": {
    "slideshow": {
     "slide_type": "slide"
    }
   },
   "source": [
    "## What are we going to cover?\n",
    "\n",
    "- ``deasy-learning``\n",
    "    - Motivational intro $\\rightarrow$ *why writing a custom library*\n",
    "    - Overview\n",
    "    - Configuration and Component\n",
    "    - Training a SVM model with deasy-learning\n",
    "- Evaluation questionnaire\n",
    "- Motivational outro"
   ]
  },
  {
   "cell_type": "markdown",
   "id": "9541a1cb",
   "metadata": {
    "slideshow": {
     "slide_type": "slide"
    }
   },
   "source": [
    "## Motivational Intro\n",
    "\n",
    "*Shouldn't you be doing research instead of jamming with your mechanical keyboard to write buggy code?*"
   ]
  },
  {
   "cell_type": "markdown",
   "id": "0e22e68a",
   "metadata": {
    "slideshow": {
     "slide_type": "subslide"
    }
   },
   "source": [
    "### Why deasy-learning \n",
    "\n",
    "*Take a seat, my friend, for I'm telling you my story now*\n",
    "\n",
    "Around the middle of my Ph.D., I noticed that:"
   ]
  },
  {
   "cell_type": "markdown",
   "id": "8a37ce84",
   "metadata": {
    "slideshow": {
     "slide_type": "fragment"
    }
   },
   "source": [
    "- I was **copy-pasting** quite a lot of code from one project to another (*w/ several bugs*)"
   ]
  },
  {
   "cell_type": "markdown",
   "id": "ebebf6a8",
   "metadata": {
    "slideshow": {
     "slide_type": "fragment"
    }
   },
   "source": [
    "- The majority of my **most frequent errors** were about running experiments with the **wrong hyper-parameters configuration**"
   ]
  },
  {
   "cell_type": "markdown",
   "id": "801413f8",
   "metadata": {
    "slideshow": {
     "slide_type": "fragment"
    }
   },
   "source": [
    "- I had a lot of models (variants included) to test and their **management** was becoming **cumbersome**"
   ]
  },
  {
   "cell_type": "markdown",
   "id": "92998898",
   "metadata": {
    "slideshow": {
     "slide_type": "subslide"
    }
   },
   "source": [
    "### An example\n",
    "\n",
    "For one paper, I had to test a GNN:"
   ]
  },
  {
   "cell_type": "markdown",
   "id": "750aa955",
   "metadata": {
    "slideshow": {
     "slide_type": "fragment"
    }
   },
   "source": [
    "- A basic model (B)"
   ]
  },
  {
   "cell_type": "markdown",
   "id": "10add49f",
   "metadata": {
    "slideshow": {
     "slide_type": "fragment"
    }
   },
   "source": [
    "- A variant with an additional layer (B + layer)"
   ]
  },
  {
   "cell_type": "markdown",
   "id": "d81997d5",
   "metadata": {
    "slideshow": {
     "slide_type": "fragment"
    }
   },
   "source": [
    "- 3 variants of 'B + layer' with a specific regularization (B + layer + regs)"
   ]
  },
  {
   "cell_type": "markdown",
   "id": "ca4c4f8a",
   "metadata": {
    "slideshow": {
     "slide_type": "fragment"
    }
   },
   "source": [
    "- All the above models had to be tested on 5 different datasets"
   ]
  },
  {
   "cell_type": "markdown",
   "id": "7f29b848",
   "metadata": {
    "slideshow": {
     "slide_type": "fragment"
    }
   },
   "source": [
    "- All the above models had to be tested on 2 different input configurations (I1, I2)"
   ]
  },
  {
   "cell_type": "markdown",
   "id": "1f122787",
   "metadata": {
    "slideshow": {
     "slide_type": "fragment"
    }
   },
   "source": [
    "$\\rightarrow $ *Because yes*"
   ]
  },
  {
   "cell_type": "markdown",
   "id": "06993fbf",
   "metadata": {
    "slideshow": {
     "slide_type": "fragment"
    }
   },
   "source": [
    "#### Totaling: 10 models per dataset $\\rightarrow$ 50 models\n",
    "\n",
    "Actually, I have also an LSTM baseline and a BERT model, so the total number of models was **150**.\n",
    "\n",
    "$\\rightarrow$ *Yes, I like to hurt myself*"
   ]
  },
  {
   "cell_type": "markdown",
   "id": "63a29e96",
   "metadata": {
    "slideshow": {
     "slide_type": "subslide"
    }
   },
   "source": [
    "### An Example (cont'd)\n",
    "\n",
    "I was **confident** and started writing up model configurations in JSON format (*a simplified version*)\n",
    "\n",
    "```\n",
    "\"dataset1_B_GNN_I1\": {\n",
    "        \"rnn_encoding\": false\n",
    "        \"representation_mlp_weights\": [\n",
    "                    64,\n",
    "                    256,\n",
    "                    512\n",
    "                ]\n",
    "        \"merge_vocabularies\": false,\n",
    "        \"build_embedding_matrix\": true,\n",
    "        \"embedding_model_type\": \"glove\",\n",
    "        \"input_dropout_rate\": 0.4,\n",
    "        \"feature_class\": \"pos_text_graph_dep_adj_features\",\n",
    "        \"is_directional\": false,\n",
    "        \"clip_gradient\": true,\n",
    "        \"embedding_dimension\":  200,\n",
    "        \"l2_regularization\": 0.0002,\n",
    "        \"max_grad_norm\":  40,\n",
    "        \"gcn_info\": {\n",
    "                \"0\": {\n",
    "                    \"message_weights\": [\n",
    "                        64\n",
    "                    ],\n",
    "                    \"aggregation_weights\": [\n",
    "                        512,\n",
    "                        512\n",
    "                    ],\n",
    "                    \"node_weights\": [\n",
    "                        64\n",
    "                    ],\n",
    "                    \"pooling_weights\": [\n",
    "                        64,\n",
    "                        1\n",
    "                    ]\n",
    "                }\n",
    "            },\n",
    "        \"use_position_feature\":  true\n",
    "        \"tokenizer_args\": {\n",
    "                \"filters\": \"\",\n",
    "                \"oov_token\": 1\n",
    "        },\n",
    "        \"weight_predictions\": true,\n",
    "        \"add_gradient_noise\": true,\n",
    "        \"dropout_rate\": 0.4,\n",
    "        \"optimizer_args\": {\n",
    "                \"learning_rate\": 0.0002\n",
    "        },\n",
    "        \"max_graph_nodes_limit\": 140\n",
    "    }\n",
    "```"
   ]
  },
  {
   "cell_type": "markdown",
   "id": "7beb1b98",
   "metadata": {
    "slideshow": {
     "slide_type": "fragment"
    }
   },
   "source": [
    "Eventually:"
   ]
  },
  {
   "cell_type": "markdown",
   "id": "d0f02806",
   "metadata": {
    "slideshow": {
     "slide_type": "fragment"
    }
   },
   "source": [
    "- My JSON configuration file ended up having **more than 8k lines** - barely readable (*not all models were yet listed!*)"
   ]
  },
  {
   "cell_type": "markdown",
   "id": "43b163ef",
   "metadata": {
    "slideshow": {
     "slide_type": "fragment"
    }
   },
   "source": [
    "- I could **hardly recall** (each day) each parameter type, allowed values, potential conflicts, etc..."
   ]
  },
  {
   "cell_type": "markdown",
   "id": "af7c6317",
   "metadata": {
    "slideshow": {
     "slide_type": "fragment"
    }
   },
   "source": [
    "- I was **still messing around** with wrong hyper-parameter settings (*my eyes @_@*)"
   ]
  },
  {
   "cell_type": "markdown",
   "id": "df4722ca",
   "metadata": {
    "slideshow": {
     "slide_type": "fragment"
    }
   },
   "source": [
    "- I was **wasting quite a lot of time** by just making errors and setting up the right experiment"
   ]
  },
  {
   "cell_type": "markdown",
   "id": "28918e71",
   "metadata": {
    "slideshow": {
     "slide_type": "subslide"
    }
   },
   "source": [
    "### I want to be lazy!\n",
    "\n",
    "I looked at my configuration hell and reasoned on the **limitations**..."
   ]
  },
  {
   "cell_type": "markdown",
   "id": "0a54a117",
   "metadata": {
    "slideshow": {
     "slide_type": "fragment"
    }
   },
   "source": [
    "- **Hardly** readable (*wanna collaborate? enjoy...*)"
   ]
  },
  {
   "cell_type": "markdown",
   "id": "462c5383",
   "metadata": {
    "slideshow": {
     "slide_type": "fragment"
    }
   },
   "source": [
    "- **No typing** (*err, what was the accepted format of this parameter?*)"
   ]
  },
  {
   "cell_type": "markdown",
   "id": "e8eb77c4",
   "metadata": {
    "slideshow": {
     "slide_type": "fragment"
    }
   },
   "source": [
    "- Custom types (e.g., numpy.ndarray) had to be **converted**..."
   ]
  },
  {
   "cell_type": "markdown",
   "id": "ec5c027d",
   "metadata": {
    "slideshow": {
     "slide_type": "fragment"
    }
   },
   "source": [
    "- **No** possibility to define configuration **constraints**"
   ]
  },
  {
   "cell_type": "markdown",
   "id": "deb20f89",
   "metadata": {
    "slideshow": {
     "slide_type": "fragment"
    }
   },
   "source": [
    "- **No** possibility to add **descriptions**"
   ]
  },
  {
   "cell_type": "markdown",
   "id": "289905e5",
   "metadata": {
    "slideshow": {
     "slide_type": "fragment"
    }
   },
   "source": [
    "#### I'm fucking lazy..."
   ]
  },
  {
   "cell_type": "markdown",
   "id": "a21800f8",
   "metadata": {
    "slideshow": {
     "slide_type": "fragment"
    }
   },
   "source": [
    "- I don't want to **waste time** on writing my configuration in a different format"
   ]
  },
  {
   "cell_type": "markdown",
   "id": "95e95f85",
   "metadata": {
    "slideshow": {
     "slide_type": "fragment"
    }
   },
   "source": [
    "- I want to run **different** experiments with the **effort comparable to a mouse click**"
   ]
  },
  {
   "cell_type": "markdown",
   "id": "c094630f",
   "metadata": {
    "slideshow": {
     "slide_type": "fragment"
    }
   },
   "source": [
    "- I want to **focus** on my research (*Nobody believes you, Fede!*)"
   ]
  },
  {
   "cell_type": "markdown",
   "id": "40905fb6",
   "metadata": {
    "slideshow": {
     "slide_type": "subslide"
    }
   },
   "source": [
    "### F*** you configuration files!\n",
    "\n",
    "- F*** you JSON\n",
    "- F*** you JSONL\n",
    "- F*** YAML (*horrible*)\n",
    "- F*** JSONNET (*kill me*)\n",
    "- F*** TXT (*really?*)\n",
    "- F*** CFG\n",
    "- **BIG** F*** to command line arguments (*I'll never be friend*)"
   ]
  },
  {
   "cell_type": "markdown",
   "id": "a98699b7",
   "metadata": {
    "slideshow": {
     "slide_type": "fragment"
    }
   },
   "source": [
    "$\\rightarrow$ I want write my configurations in **Python**!"
   ]
  },
  {
   "cell_type": "markdown",
   "id": "56995cd4",
   "metadata": {
    "slideshow": {
     "slide_type": "subslide"
    }
   },
   "source": [
    "### Why not some existing library?\n",
    "\n",
    "Well, this is entirely due to my **personal experience** and the fact that I'm a very stupid user"
   ]
  },
  {
   "cell_type": "markdown",
   "id": "32d35004",
   "metadata": {
    "slideshow": {
     "slide_type": "fragment"
    }
   },
   "source": [
    "- [Allennlp](https://allenai.org/allennlp): cool features but fucking hard to **customize** unless you are from allennlp"
   ]
  },
  {
   "cell_type": "markdown",
   "id": "e4793234",
   "metadata": {},
   "source": [
    "- [ParlAI](https://parl.ai/): cool if you have to do the three commands written in the **tutorial page**. Otherwise, kill yourself"
   ]
  },
  {
   "cell_type": "markdown",
   "id": "99fb01f5",
   "metadata": {},
   "source": [
    "- [Huggingface](https://huggingface.co/): super cool if you are working with transformers but **horrible configuration** format $\\rightarrow$ you need an open tab on their documentation to **understand each hyper-parameter**"
   ]
  },
  {
   "cell_type": "markdown",
   "id": "586f3d62",
   "metadata": {
    "slideshow": {
     "slide_type": "fragment"
    }
   },
   "source": [
    "- Tensorflow/Torch/Keras: not a simple way to **define configurations** except for **flags**. You'll never have me!!!"
   ]
  },
  {
   "cell_type": "markdown",
   "id": "ec077613",
   "metadata": {
    "slideshow": {
     "slide_type": "fragment"
    }
   },
   "source": [
    "#### Disclaimer: \n",
    "\n",
    "I'm saying these are bad libraries at all! It's just that I was not able to use them efficiently..."
   ]
  },
  {
   "cell_type": "markdown",
   "id": "193523f4",
   "metadata": {
    "slideshow": {
     "slide_type": "fragment"
    }
   },
   "source": [
    "$\\rightarrow$ Why can't I run my SVM, decision tree, LSTM, BERT using the **same configuration** and **training format**?"
   ]
  },
  {
   "cell_type": "markdown",
   "id": "abf6f0b7",
   "metadata": {
    "slideshow": {
     "slide_type": "slide"
    }
   },
   "source": [
    "## Overview"
   ]
  },
  {
   "cell_type": "markdown",
   "id": "868f4c03",
   "metadata": {
    "slideshow": {
     "slide_type": "slide"
    }
   },
   "source": [
    "### Inspiration\n",
    "\n",
    "I wanted to **simplify** my life and remember a cool feature of some library (*I think it was allenlp...*) \n",
    "\n",
    "- You could write your model and **register it** so that you could run your experiment by commandline"
   ]
  },
  {
   "cell_type": "markdown",
   "id": "84ac0924",
   "metadata": {
    "slideshow": {
     "slide_type": "fragment"
    }
   },
   "source": [
    "This feature led me to the following conclusions:"
   ]
  },
  {
   "cell_type": "markdown",
   "id": "a6773abb",
   "metadata": {
    "slideshow": {
     "slide_type": "fragment"
    }
   },
   "source": [
    "1. **Separate** configuration from logic\n",
    "2. **Register** configuration and logic separately to **quickly use them later** and organize your working environment"
   ]
  },
  {
   "cell_type": "markdown",
   "id": "eeb4bf82",
   "metadata": {
    "slideshow": {
     "slide_type": "fragment"
    }
   },
   "source": [
    "$\\rightarrow$ Formally, I denote the configuration as ``Configuration`` and the logic as ``Component``."
   ]
  },
  {
   "cell_type": "markdown",
   "id": "28ceec2c",
   "metadata": {
    "slideshow": {
     "slide_type": "slide"
    }
   },
   "source": [
    "### A visual depiction\n",
    "\n",
    "A ``Component`` **is built** via its ``Configuration``.\n",
    "\n",
    "<center>\n",
    "<div>\n",
    "<img src=\"Images/Lecture-5/conf_and_comp.png\" width=\"1200\"/>\n",
    "</div>\n",
    "</center>"
   ]
  },
  {
   "cell_type": "markdown",
   "id": "9881b2c4",
   "metadata": {
    "slideshow": {
     "slide_type": "subslide"
    }
   },
   "source": [
    "## Binding\n",
    "\n",
    "We are just associating the ``Configuration`` to its ``Component``.\n",
    "\n",
    "<center>\n",
    "<div>\n",
    "<img src=\"Images/Lecture-5/conf_and_comp_bound.png\" width=\"1200\"/>\n",
    "</div>\n",
    "</center>"
   ]
  },
  {
   "cell_type": "markdown",
   "id": "0c929cbc",
   "metadata": {
    "slideshow": {
     "slide_type": "subslide"
    }
   },
   "source": [
    "## Registration\n",
    "\n",
    "We register the ``Configuration`` to remember it.\n",
    "\n",
    "<center>\n",
    "<div>\n",
    "<img src=\"Images/Lecture-5/registration.png\" width=\"1200\"/>\n",
    "</div>\n",
    "</center>"
   ]
  },
  {
   "cell_type": "markdown",
   "id": "7d38f836",
   "metadata": {
    "slideshow": {
     "slide_type": "subslide"
    }
   },
   "source": [
    "## Registration (cont'd)\n",
    "\n",
    "To remember a ``Configuration`` we simply define a ``RegistrationKey`` (*a compound dictionary key*)\n",
    "\n",
    "<center>\n",
    "<div>\n",
    "<img src=\"Images/Lecture-5/registration_key.png\" width=\"1200\"/>\n",
    "</div>\n",
    "</center>"
   ]
  },
  {
   "cell_type": "markdown",
   "id": "feb5ebc8",
   "metadata": {
    "slideshow": {
     "slide_type": "subslide"
    }
   },
   "source": [
    "## Binding (cont'd)\n",
    "\n",
    "<center>\n",
    "<div>\n",
    "<img src=\"Images/Lecture-5/binding_with_key.png\" width=\"1200\"/>\n",
    "</div>\n",
    "</center>"
   ]
  },
  {
   "cell_type": "markdown",
   "id": "bbf28432",
   "metadata": {
    "slideshow": {
     "slide_type": "subslide"
    }
   },
   "source": [
    "### To sum up\n",
    "\n",
    "- We define our ``Component``\n",
    "- We define its corresponding ``Configuration``\n",
    "- We register it to the ``Registry`` with a ``RegistrationKey``\n",
    "- We bind the ``Configuration`` to ``Component`` by using the configuration ``RegistrationKey``"
   ]
  },
  {
   "cell_type": "markdown",
   "id": "71d75014",
   "metadata": {
    "slideshow": {
     "slide_type": "fragment"
    }
   },
   "source": [
    "Thus, the ``RegistrationKey`` of our ``Configuration`` allows to:\n",
    "- Retrieve the registered ``Configuration`` from the ``Registry``\n",
    "- Retrieve the ``Component`` that our registered ``Configuration`` is bounded to"
   ]
  },
  {
   "cell_type": "markdown",
   "id": "051e77e4",
   "metadata": {
    "slideshow": {
     "slide_type": "fragment"
    }
   },
   "source": [
    "#### That's it! If you get this, you get 99% of deasy-learning!"
   ]
  },
  {
   "cell_type": "markdown",
   "id": "c897011b",
   "metadata": {
    "slideshow": {
     "slide_type": "slide"
    }
   },
   "source": [
    "## Configuration and Component\n",
    "\n",
    "*Let's see some examples!*"
   ]
  },
  {
   "cell_type": "markdown",
   "id": "ec9010b2",
   "metadata": {
    "slideshow": {
     "slide_type": "subslide"
    }
   },
   "source": [
    "### Configuration parameters\n",
    "\n",
    "A ``Configuration`` is comprised of ``Parameter`` objects\n",
    "\n",
    "<center>\n",
    "<div>\n",
    "<img src=\"Images/Lecture-5/configuration.png\" width=\"1200\"/>\n",
    "</div>\n",
    "</center>"
   ]
  },
  {
   "cell_type": "markdown",
   "id": "858e34b9",
   "metadata": {
    "slideshow": {
     "slide_type": "fragment"
    }
   },
   "source": [
    "A ``Parameter`` is essentially a wrapper for each field of ``Configuration``"
   ]
  },
  {
   "cell_type": "markdown",
   "id": "82950427",
   "metadata": {
    "slideshow": {
     "slide_type": "subslide"
    }
   },
   "source": [
    "### Why ``Parameter``?\n",
    "\n",
    "Essentially, ``Parameter`` is a useful wrapper for storing additional metadata\n",
    "\n",
    "- type hints\n",
    "- descriptions\n",
    "- allowed value range\n",
    "- possible variants of interest\n",
    "- optional tags for quickly retrieving a certain subset of parameters\n",
    "- ... (*more on this later*)"
   ]
  },
  {
   "cell_type": "markdown",
   "id": "b557a7eb",
   "metadata": {
    "slideshow": {
     "slide_type": "subslide"
    }
   },
   "source": [
    "### Configuration class"
   ]
  },
  {
   "cell_type": "code",
   "execution_count": null,
   "id": "16f88ad6",
   "metadata": {
    "slideshow": {
     "slide_type": "fragment"
    }
   },
   "outputs": [],
   "source": [
    "class Configuration:\n",
    "    \n",
    "    def add(self, param: Parameter):\n",
    "        ...\n",
    "    \n",
    "    def add_condition(self, condition: Callable[[], bool], name):\n",
    "        ...\n",
    "        \n",
    "    def validate(self):\n",
    "        ...\n",
    "        \n",
    "    def search(self, search_key, exact_match):\n",
    "        ...\n",
    "        \n",
    "    def get_delta_copy(self, key_value_dict):\n",
    "        ...\n",
    "        \n",
    "    @classmethod\n",
    "    def get_default(cls):\n",
    "        ..."
   ]
  },
  {
   "cell_type": "markdown",
   "id": "9cebd7a9",
   "metadata": {
    "slideshow": {
     "slide_type": "subslide"
    }
   },
   "source": [
    "### What does a ``Configuration`` do?\n",
    "\n",
    "A ``Configuration`` is essentially an extension of a Python dictionary\n",
    "\n",
    "- You can add ``Parameter``\n",
    "- You can add conditions (i.e., callable functions) relating multiple ``Parameter``\n",
    "- You can ``validate()`` your ``Configuration``: running all conditions to check for errors\n",
    "- You can quickly search for ``Parameter``\n",
    "- You can quickly get a delta copy of your ``Configuration`` via a simple key-value dictionary\n",
    "- You can specify standard template (``get_default()``) of your ``Configuration`` $\\rightarrow$ a readable and detailed specification!"
   ]
  },
  {
   "cell_type": "markdown",
   "id": "cc4e7bc2",
   "metadata": {
    "slideshow": {
     "slide_type": "subslide"
    }
   },
   "source": [
    "### An example"
   ]
  },
  {
   "cell_type": "code",
   "execution_count": null,
   "id": "cb9aba76",
   "metadata": {
    "slideshow": {
     "slide_type": "fragment"
    }
   },
   "outputs": [],
   "source": [
    "class DataLoaderConfig(Configuration):\n",
    "\n",
    "    @classmethod\n",
    "    def get_default(\n",
    "            cls\n",
    "    ):\n",
    "        config = super().get_default()\n",
    "\n",
    "        config.add_short(name='name',\n",
    "                         type_hint=str,\n",
    "                         description=\"Unique dataset identifier\",\n",
    "                         is_required=True)\n",
    "        config.add_short(name='has_test_split_only',\n",
    "                         value=False,\n",
    "                         type_hint=bool,\n",
    "                         description=\"Whether DataLoader has test split only or not\")\n",
    "        config.add_short(name='has_val_split',\n",
    "                         value=True,\n",
    "                         type_hint=bool,\n",
    "                         description=\"Whether DataLoader has a val split or not\")\n",
    "        config.add_short(name='has_test_split',\n",
    "                         value=True,\n",
    "                         type_hint=bool,\n",
    "                         description=\"Whether DataLoader has a test split or not\")\n",
    "\n",
    "        return config"
   ]
  },
  {
   "cell_type": "markdown",
   "id": "47ad3ce9",
   "metadata": {
    "slideshow": {
     "slide_type": "subslide"
    }
   },
   "source": [
    "### Another example"
   ]
  },
  {
   "cell_type": "code",
   "execution_count": null,
   "id": "9854aeab",
   "metadata": {
    "slideshow": {
     "slide_type": "fragment"
    }
   },
   "outputs": [],
   "source": [
    "class ConfigA(Configuration):\n",
    "\n",
    "    @classmethod\n",
    "    def get_default(\n",
    "            cls\n",
    "    ) -> ConfigA:\n",
    "        config = super().get_default()\n",
    "\n",
    "        config.add_short(name='param_1',\n",
    "                         value=True,\n",
    "                         type_hint=bool)\n",
    "        config.add_short(name='param_2',\n",
    "                         value=True,\n",
    "                         type_hint=bool)\n",
    "\n",
    "        config.add_condition(condition=lambda p: p.param_1 == p.param_2)\n",
    "\n",
    "        return config"
   ]
  },
  {
   "cell_type": "markdown",
   "id": "a2dbade9",
   "metadata": {
    "slideshow": {
     "slide_type": "subslide"
    }
   },
   "source": [
    "### Composition\n",
    "\n",
    "A ``Configuration`` can also include another (or multiple) ``Configuration``."
   ]
  },
  {
   "cell_type": "code",
   "execution_count": null,
   "id": "c3e14a3e",
   "metadata": {
    "slideshow": {
     "slide_type": "fragment"
    }
   },
   "outputs": [],
   "source": [
    "class ParentConfig(Configuration):\n",
    "\n",
    "    @classmethod\n",
    "    def get_default(\n",
    "            cls\n",
    "    ):\n",
    "        config = super().get_default()\n",
    "\n",
    "        config.add_short(name='param_1',\n",
    "                         value=True,\n",
    "                         type_hint=bool)\n",
    "        config.add_short(name='param_2',\n",
    "                         value=False, t\n",
    "                         ype_hint=bool)\n",
    "        config.add_short(name='child_A',\n",
    "                         value=RegistrationKey(name='config_a',\n",
    "                                               namespace='testing'),   # <--- This assumes that ConfigA is registered\n",
    "                         is_registration=True)   # <--- metadata\n",
    "        return config\n",
    "    \n",
    "class ConfigA(Configuration):\n",
    "    ..."
   ]
  },
  {
   "cell_type": "markdown",
   "id": "89e025ef",
   "metadata": {
    "slideshow": {
     "slide_type": "fragment"
    }
   },
   "source": [
    "This allows us to define complex ``Component`` like\n",
    "\n",
    "- A data-loading pipeline\n",
    "- A data pre-processing pipeline\n",
    "- A training routine\n",
    "- ..."
   ]
  },
  {
   "cell_type": "markdown",
   "id": "cb5fa1ad",
   "metadata": {
    "slideshow": {
     "slide_type": "subslide"
    }
   },
   "source": [
    "### An example"
   ]
  },
  {
   "cell_type": "code",
   "execution_count": null,
   "id": "c44ac510",
   "metadata": {
    "slideshow": {
     "slide_type": "fragment"
    }
   },
   "outputs": [],
   "source": [
    "class ProcessorPipelineConfig(Configuration):\n",
    "\n",
    "    @classmethod\n",
    "    def get_default(\n",
    "            cls\n",
    "    ):\n",
    "        config = super().get_default()\n",
    "\n",
    "        config.add_short(name='processors',\n",
    "                         type_hint=List[RegistrationKey],\n",
    "                         description='List of processors to be executed in a sequence fashion',\n",
    "                         is_required=True,\n",
    "                         is_registration=True)\n",
    "\n",
    "        return config"
   ]
  },
  {
   "cell_type": "code",
   "execution_count": null,
   "id": "166a24a1",
   "metadata": {
    "slideshow": {
     "slide_type": "fragment"
    }
   },
   "outputs": [],
   "source": [
    "class ProcessorPipeline(Component):\n",
    "    \n",
    "    def run(\n",
    "            self,\n",
    "            data: Optional[FieldDict] = None,\n",
    "            is_training_data: bool = False\n",
    "    ):\n",
    "        for processor in self.processors:\n",
    "            data = processor.run(data=data,\n",
    "                                 is_training_data=is_training_data)\n",
    "        return data"
   ]
  },
  {
   "cell_type": "markdown",
   "id": "24cd51b7",
   "metadata": {
    "slideshow": {
     "slide_type": "subslide"
    }
   },
   "source": [
    "### Variants\n",
    "\n",
    "In many cases, you may need multiple ``Configuration`` instances to define different scenarios.\n",
    "\n",
    "- Work at ``Parameter`` level to specify variants\n",
    "- Work at ``Configuration`` level to specify explicit configuration variants"
   ]
  },
  {
   "cell_type": "markdown",
   "id": "8545f76f",
   "metadata": {
    "slideshow": {
     "slide_type": "subslide"
    }
   },
   "source": [
    "### ``Parameter`` level variants\n",
    "\n",
    "Simply list possible values via ``Parameter.variants`` field."
   ]
  },
  {
   "cell_type": "code",
   "execution_count": null,
   "id": "0c8a8f9a",
   "metadata": {
    "slideshow": {
     "slide_type": "fragment"
    }
   },
   "outputs": [],
   "source": [
    "class ConfigA(Configuration):\n",
    "\n",
    "    @classmethod\n",
    "    def get_default(\n",
    "            cls\n",
    "    ) -> ConfigA:\n",
    "        config = super().get_default()\n",
    "\n",
    "        config.add_short(name='param_1',\n",
    "                         value=True,\n",
    "                         type_hint=bool,\n",
    "                         variants=[False, True])    # <---\n",
    "        config.add_short(name='param_2',\n",
    "                         value=True,\n",
    "                         type_hint=bool,\n",
    "                         variants=[False, True])    # <---\n",
    "\n",
    "        config.add_condition(condition=lambda p: p.param_1 == p.param_2)\n",
    "\n",
    "        return config"
   ]
  },
  {
   "cell_type": "markdown",
   "id": "ce2a88ab",
   "metadata": {
    "slideshow": {
     "slide_type": "subslide"
    }
   },
   "source": [
    "### Configuration level variants\n",
    "\n",
    "We can explicitly define new ``Configuration`` via two decorators: ``supports_variants``, ``add_variant``"
   ]
  },
  {
   "cell_type": "code",
   "execution_count": null,
   "id": "13e75a89",
   "metadata": {
    "slideshow": {
     "slide_type": "subslide"
    }
   },
   "outputs": [],
   "source": [
    "@supports_variants\n",
    "class ConfigA(Configuration):\n",
    "\n",
    "    @classmethod\n",
    "    def get_default(\n",
    "            cls\n",
    "    ) -> ConfigA:\n",
    "        config = super().get_default()\n",
    "\n",
    "        config.add_short(name='param_1',\n",
    "                         value=True,\n",
    "                         type_hint=bool,\n",
    "                         variants=[False, True])\n",
    "        config.add_short(name='param_2',\n",
    "                         value=True,\n",
    "                         type_hint=bool,\n",
    "                         variants=[False, True])\n",
    "\n",
    "        config.add_condition(condition=lambda p: p.param_1 == p.param_2)\n",
    "\n",
    "        return config\n",
    "    \n",
    "    @classmethod\n",
    "    @add_variant(variant_name='variant1')\n",
    "    def variant1(cls):\n",
    "        config = cls.get_default()\n",
    "        config.param_1 = False\n",
    "        config.param_2 = False\n",
    "        return config\n",
    "    \n",
    "    @classmethod\n",
    "    @add_variant(variant_name='variant2')\n",
    "    def variant1(cls):\n",
    "        config = cls.get_default()\n",
    "        config.param_1 = True\n",
    "        config.param_2 = True\n",
    "        return config"
   ]
  },
  {
   "cell_type": "markdown",
   "id": "07585960",
   "metadata": {
    "slideshow": {
     "slide_type": "subslide"
    }
   },
   "source": [
    "### Registering variants\n",
    "\n",
    "Both of them can be automatically considered during registration to quickly take into account variants."
   ]
  },
  {
   "cell_type": "code",
   "execution_count": null,
   "id": "f4bfe87b",
   "metadata": {
    "slideshow": {
     "slide_type": "fragment"
    }
   },
   "outputs": [],
   "source": [
    "Registry.register_and_bind_configuration_variants(configuration_class=ConfigA,\n",
    "                                                  component_class=ComponentA,\n",
    "                                                  name='config_a',\n",
    "                                                  namespace='testing',\n",
    "                                                  allow_parameters_variants=True)   # <---"
   ]
  },
  {
   "cell_type": "markdown",
   "id": "dfdabfad",
   "metadata": {
    "slideshow": {
     "slide_type": "fragment"
    }
   },
   "source": [
    "Registration variants is controlled by ``allow_parameters_variants``\n",
    "\n",
    "- [True] Ignore any ``add_variant`` declarations and look for ``Parameter`` level variants\n",
    "- [False] Just consider ``add_variant`` declarations"
   ]
  },
  {
   "cell_type": "markdown",
   "id": "14d4643d",
   "metadata": {
    "slideshow": {
     "slide_type": "subslide"
    }
   },
   "source": [
    "### Variants and Nesting\n",
    "\n",
    "Registering variants is a powerful tool since it supports ``Configuration`` nesting!\n",
    "\n",
    "Consider your complex routine: data-loading, pre-processing, model training\n",
    "\n",
    "- You can write it as a combination of ``Configuration`` and ``Component`` classes\n",
    "- You can define variants\n",
    "- You can specify conditions $\\rightarrow$ only valid variants are considered!\n",
    "- You can register all possible valid variant combinations in one shot!"
   ]
  },
  {
   "cell_type": "markdown",
   "id": "19550423",
   "metadata": {
    "slideshow": {
     "slide_type": "subslide"
    }
   },
   "source": [
    "## An Example"
   ]
  },
  {
   "cell_type": "code",
   "execution_count": null,
   "id": "9bff4c9c",
   "metadata": {
    "slideshow": {
     "slide_type": "fragment"
    }
   },
   "outputs": [],
   "source": [
    "class ConfigA(Configuration):\n",
    "\n",
    "    @classmethod\n",
    "    def get_default(\n",
    "            cls\n",
    "    ) -> ConfigA:\n",
    "        config = super().get_default()\n",
    "        config.add_short(name='param_1', value=True, type_hint=bool, variants=[False, True])\n",
    "        config.add_short(name='child', value=RegistrationKey(name='config_b',\n",
    "                                                             namespace='testing'), is_registration=True)\n",
    "        return config\n",
    "\n",
    "\n",
    "class ConfigB(Configuration):\n",
    "\n",
    "    @classmethod\n",
    "    def get_default(\n",
    "            cls\n",
    "    ) -> ConfigB:\n",
    "        config = super().get_default()\n",
    "        config.add_short(name='param_1', value=1, type_hint=int, variants=[1, 2])\n",
    "        config.add_short(name='child', value=RegistrationKey(name='config_c',\n",
    "                                                             namespace='testing'), is_registration=True)\n",
    "        return config\n",
    "\n",
    "\n",
    "class ConfigC(Configuration):\n",
    "\n",
    "    @classmethod\n",
    "    def get_default(\n",
    "            cls\n",
    "    ) -> ConfigC:\n",
    "        config = super().get_default()\n",
    "        config.add_short(name='param_1', value=False, type_hint=bool, variants=[False, True])\n",
    "        return config\n"
   ]
  },
  {
   "cell_type": "code",
   "execution_count": null,
   "id": "421b29df",
   "metadata": {
    "slideshow": {
     "slide_type": "subslide"
    }
   },
   "outputs": [],
   "source": [
    "if __name__ == '__main__':\n",
    "    Registry.register_and_bind(configuration_class=ConfigB,\n",
    "                               configuration_constructor=Configuration.get_default,\n",
    "                               component_class=Component,\n",
    "                               name='config_b',\n",
    "                               namespace='testing')\n",
    "    Registry.register_and_bind(configuration_class=ConfigC,\n",
    "                               configuration_constructor=Configuration.get_default,\n",
    "                               component_class=Component,\n",
    "                               name='config_c',\n",
    "                               namespace='testing')\n",
    "\n",
    "    for config_regr_key in Registry.register_and_bind_configuration_variants(configuration_class=ConfigA,\n",
    "                                                                             component_class=Component,\n",
    "                                                                             name='config_a',\n",
    "                                                                             namespace='testing',\n",
    "                                                                             allow_parameters_variants=True):\n",
    "        print(config_regr_key)"
   ]
  },
  {
   "cell_type": "code",
   "execution_count": null,
   "id": "e0931e9a",
   "metadata": {
    "slideshow": {
     "slide_type": "fragment"
    }
   },
   "outputs": [],
   "source": [
    "name:config_a--tags:['child.child.param_1=False', 'child.param_1=1', 'param_1=False']--namespace:testing\n",
    "name:config_a--tags:['child.child.param_1=False', 'child.param_1=1', 'param_1=True']--namespace:testing\n",
    "name:config_a--tags:['child.child.param_1=False', 'child.param_1=2', 'param_1=False']--namespace:testing\n",
    "name:config_a--tags:['child.child.param_1=False', 'child.param_1=2', 'param_1=True']--namespace:testing\n",
    "name:config_a--tags:['child.child.param_1=True', 'child.param_1=1', 'param_1=False']--namespace:testing\n",
    "name:config_a--tags:['child.child.param_1=True', 'child.param_1=1', 'param_1=True']--namespace:testing\n",
    "name:config_a--tags:['child.child.param_1=True', 'child.param_1=2', 'param_1=False']--namespace:testing\n",
    "name:config_a--tags:['child.child.param_1=True', 'child.param_1=2', 'param_1=True']--namespace:testing"
   ]
  },
  {
   "cell_type": "markdown",
   "id": "40c4f89d",
   "metadata": {
    "slideshow": {
     "slide_type": "slide"
    }
   },
   "source": [
    "### Calibration"
   ]
  },
  {
   "cell_type": "markdown",
   "id": "d361f666",
   "metadata": {
    "slideshow": {
     "slide_type": "subslide"
    }
   },
   "source": [
    "### Component"
   ]
  },
  {
   "cell_type": "markdown",
   "id": "843485b8",
   "metadata": {
    "slideshow": {
     "slide_type": "slide"
    }
   },
   "source": [
    "## Registration"
   ]
  },
  {
   "cell_type": "markdown",
   "id": "0b5824ed",
   "metadata": {
    "slideshow": {
     "slide_type": "subslide"
    }
   },
   "source": [
    "### Registration format"
   ]
  },
  {
   "cell_type": "markdown",
   "id": "fdfbb45f",
   "metadata": {
    "slideshow": {
     "slide_type": "subslide"
    }
   },
   "source": [
    "### Commands"
   ]
  },
  {
   "cell_type": "markdown",
   "id": "c9bef773",
   "metadata": {
    "slideshow": {
     "slide_type": "slide"
    }
   },
   "source": [
    "## Training a SVM model with deasy-learning"
   ]
  },
  {
   "cell_type": "markdown",
   "id": "9e6d14c9",
   "metadata": {
    "slideshow": {
     "slide_type": "subslide"
    }
   },
   "source": [
    "### Data loading"
   ]
  },
  {
   "cell_type": "markdown",
   "id": "53129fe0",
   "metadata": {
    "slideshow": {
     "slide_type": "subslide"
    }
   },
   "source": [
    "### Data pre-processing"
   ]
  },
  {
   "cell_type": "markdown",
   "id": "b48bec3c",
   "metadata": {
    "slideshow": {
     "slide_type": "subslide"
    }
   },
   "source": [
    "### Modeling"
   ]
  },
  {
   "cell_type": "markdown",
   "id": "d8d745f0",
   "metadata": {
    "slideshow": {
     "slide_type": "subslide"
    }
   },
   "source": [
    "### Routine"
   ]
  },
  {
   "cell_type": "markdown",
   "id": "8ad7ffa7",
   "metadata": {
    "slideshow": {
     "slide_type": "slide"
    }
   },
   "source": [
    "## deasy-learning upcoming structure"
   ]
  },
  {
   "cell_type": "markdown",
   "id": "83286db3",
   "metadata": {
    "slideshow": {
     "slide_type": "slide"
    }
   },
   "source": [
    "## Evaluation questionnaire"
   ]
  },
  {
   "cell_type": "markdown",
   "id": "737f1b81",
   "metadata": {
    "slideshow": {
     "slide_type": "slide"
    }
   },
   "source": [
    "## Motivational outro"
   ]
  },
  {
   "cell_type": "markdown",
   "id": "c3256c3b",
   "metadata": {
    "slideshow": {
     "slide_type": "slide"
    }
   },
   "source": [
    "# Any questions?\n",
    "\n",
    "<center>\n",
    "<div>\n",
    "<img src=\"Images/Lecture-1/jojo-arrivederci.gif\" width=\"1200\" alt='JOJO_arrivederci'/>\n",
    "</div>\n",
    "</center>"
   ]
  }
 ],
 "metadata": {
  "celltoolbar": "Slideshow",
  "kernelspec": {
   "display_name": "Python 3 (ipykernel)",
   "language": "python",
   "name": "python3"
  },
  "language_info": {
   "codemirror_mode": {
    "name": "ipython",
    "version": 3
   },
   "file_extension": ".py",
   "mimetype": "text/x-python",
   "name": "python",
   "nbconvert_exporter": "python",
   "pygments_lexer": "ipython3",
   "version": "3.7.16"
  }
 },
 "nbformat": 4,
 "nbformat_minor": 5
}
