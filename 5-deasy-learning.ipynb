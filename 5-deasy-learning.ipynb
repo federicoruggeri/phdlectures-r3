{
 "cells": [
  {
   "cell_type": "markdown",
   "id": "7bc225cc",
   "metadata": {
    "slideshow": {
     "slide_type": "slide"
    }
   },
   "source": [
    "## The end (?)\n",
    "\n",
    "We've reached **the end** of this short Ph.D. course about reproducibility and deep learning experiments."
   ]
  },
  {
   "cell_type": "markdown",
   "id": "4a2e1236",
   "metadata": {
    "slideshow": {
     "slide_type": "fragment"
    }
   },
   "source": [
    "#### What to do?"
   ]
  },
  {
   "cell_type": "markdown",
   "id": "4fc14f27",
   "metadata": {
    "slideshow": {
     "slide_type": "slide"
    }
   },
   "source": [
    "## deasy-learning\n",
    "\n",
    "In this **bonus** lecture, I'm going to briefly show you some functionalities of my small **custom library**."
   ]
  },
  {
   "cell_type": "markdown",
   "id": "e5f01449",
   "metadata": {
    "slideshow": {
     "slide_type": "fragment"
    }
   },
   "source": [
    "#### Disclaimer"
   ]
  },
  {
   "cell_type": "markdown",
   "id": "29cf2004",
   "metadata": {
    "slideshow": {
     "slide_type": "fragment"
    }
   },
   "source": [
    "- What you are going to see is not **groundbreaking** and probably well-known since 50 years. I just couldn't find anything suitable...but I'm a picky person time to time..."
   ]
  },
  {
   "cell_type": "markdown",
   "id": "1dd1b5b0",
   "metadata": {
    "slideshow": {
     "slide_type": "fragment"
    }
   },
   "source": [
    "- **No official code yet**: the library is currently undergoing a **major refactoring**!"
   ]
  },
  {
   "cell_type": "markdown",
   "id": "c76e2644",
   "metadata": {
    "slideshow": {
     "slide_type": "fragment"
    }
   },
   "source": [
    "- **ETA** release date: approximately end of May/beginning of June"
   ]
  },
  {
   "cell_type": "markdown",
   "id": "27a9e4d0",
   "metadata": {
    "slideshow": {
     "slide_type": "fragment"
    }
   },
   "source": [
    "- The chosen **name** is embarassing! Any suggestions? (*DISI $\\rightarrow$ deasy $\\rightarrow$ diversified easy learning*)"
   ]
  },
  {
   "cell_type": "markdown",
   "id": "2868597b",
   "metadata": {
    "slideshow": {
     "slide_type": "fragment"
    }
   },
   "source": [
    "- **Ping me** if you are interested! (*don't you have anything else to do?*)"
   ]
  },
  {
   "cell_type": "markdown",
   "id": "0f162de5",
   "metadata": {
    "slideshow": {
     "slide_type": "slide"
    }
   },
   "source": [
    "## What are we going to cover?\n",
    "\n",
    "- ``deasy-learning``\n",
    "    - Motivational intro $\\rightarrow$ *why writing a custom library*\n",
    "    - Overview\n",
    "    - Configuration and Component\n",
    "    - Registration\n",
    "    - Training a SVM model with deasy-learning\n",
    "- Evaluation questionnaire\n",
    "- Motivational outro"
   ]
  },
  {
   "cell_type": "markdown",
   "id": "9541a1cb",
   "metadata": {
    "slideshow": {
     "slide_type": "slide"
    }
   },
   "source": [
    "## Motivational Intro\n",
    "\n",
    "*Shouldn't you be doing research instead of jamming with your **mechanical** keyboard to write buggy code?*"
   ]
  },
  {
   "cell_type": "markdown",
   "id": "0e22e68a",
   "metadata": {
    "slideshow": {
     "slide_type": "subslide"
    }
   },
   "source": [
    "### Why deasy-learning \n",
    "\n",
    "*Take a seat, my friend, for I'm telling you my story now*\n",
    "\n",
    "Around the middle of my Ph.D., I noticed that:"
   ]
  },
  {
   "cell_type": "markdown",
   "id": "8a37ce84",
   "metadata": {
    "slideshow": {
     "slide_type": "fragment"
    }
   },
   "source": [
    "- I was **copy-pasting** quite a lot of code from one project to another (*w/ several bugs*)"
   ]
  },
  {
   "cell_type": "markdown",
   "id": "ebebf6a8",
   "metadata": {
    "slideshow": {
     "slide_type": "fragment"
    }
   },
   "source": [
    "- The majority of my **most frequent errors** were about running experiments with the **wrong hyper-parameters configuration**"
   ]
  },
  {
   "cell_type": "markdown",
   "id": "801413f8",
   "metadata": {
    "slideshow": {
     "slide_type": "fragment"
    }
   },
   "source": [
    "- I had a lot of models (variants included) to test and their **management** was becoming **cumbersome**"
   ]
  },
  {
   "cell_type": "markdown",
   "id": "92998898",
   "metadata": {
    "slideshow": {
     "slide_type": "subslide"
    }
   },
   "source": [
    "### An example\n",
    "\n",
    "For one paper, I had to test a GNN:"
   ]
  },
  {
   "cell_type": "markdown",
   "id": "750aa955",
   "metadata": {
    "slideshow": {
     "slide_type": "fragment"
    }
   },
   "source": [
    "- A basic model (**B**)"
   ]
  },
  {
   "cell_type": "markdown",
   "id": "10add49f",
   "metadata": {
    "slideshow": {
     "slide_type": "fragment"
    }
   },
   "source": [
    "- A variant with an additional layer (**B + layer**)"
   ]
  },
  {
   "cell_type": "markdown",
   "id": "d81997d5",
   "metadata": {
    "slideshow": {
     "slide_type": "fragment"
    }
   },
   "source": [
    "- **3** variants of **B + layer** with a specific regularization (**B + layer + regs**)"
   ]
  },
  {
   "cell_type": "markdown",
   "id": "ca4c4f8a",
   "metadata": {
    "slideshow": {
     "slide_type": "fragment"
    }
   },
   "source": [
    "- **All** the above models had to be tested on **5 different datasets**"
   ]
  },
  {
   "cell_type": "markdown",
   "id": "7f29b848",
   "metadata": {
    "slideshow": {
     "slide_type": "fragment"
    }
   },
   "source": [
    "- **All** the above models had to be tested on **2** different **input** configurations (**I1**, **I2**)"
   ]
  },
  {
   "cell_type": "markdown",
   "id": "1f122787",
   "metadata": {
    "slideshow": {
     "slide_type": "fragment"
    }
   },
   "source": [
    "$\\rightarrow $ *Because yes*"
   ]
  },
  {
   "cell_type": "markdown",
   "id": "06993fbf",
   "metadata": {
    "slideshow": {
     "slide_type": "fragment"
    }
   },
   "source": [
    "#### Totaling: 10 models per dataset $\\rightarrow$ 50 models\n",
    "\n",
    "Actually, I have also an LSTM baseline and a BERT model, so the total number of models was **150**.\n",
    "\n",
    "$\\rightarrow$ *Yes, I like to hurt myself*"
   ]
  },
  {
   "cell_type": "markdown",
   "id": "63a29e96",
   "metadata": {
    "slideshow": {
     "slide_type": "subslide"
    }
   },
   "source": [
    "### An Example (cont'd)\n",
    "\n",
    "I was **confident** and started writing up model configurations in JSON format (*a simplified version*)\n",
    "\n",
    "```\n",
    "\"dataset1_B_GNN_I1\": {\n",
    "        \"rnn_encoding\": false\n",
    "        \"representation_mlp_weights\": [\n",
    "                    64,\n",
    "                    256,\n",
    "                    512\n",
    "                ]\n",
    "        \"merge_vocabularies\": false,\n",
    "        \"build_embedding_matrix\": true,\n",
    "        \"embedding_model_type\": \"glove\",\n",
    "        \"input_dropout_rate\": 0.4,\n",
    "        \"feature_class\": \"pos_text_graph_dep_adj_features\",\n",
    "        \"is_directional\": false,\n",
    "        \"clip_gradient\": true,\n",
    "        \"embedding_dimension\":  200,\n",
    "        \"l2_regularization\": 0.0002,\n",
    "        \"max_grad_norm\":  40,\n",
    "        \"gcn_info\": {\n",
    "                \"0\": {\n",
    "                    \"message_weights\": [\n",
    "                        64\n",
    "                    ],\n",
    "                    \"aggregation_weights\": [\n",
    "                        512,\n",
    "                        512\n",
    "                    ],\n",
    "                    \"node_weights\": [\n",
    "                        64\n",
    "                    ],\n",
    "                    \"pooling_weights\": [\n",
    "                        64,\n",
    "                        1\n",
    "                    ]\n",
    "                }\n",
    "            },\n",
    "        \"use_position_feature\":  true\n",
    "        \"tokenizer_args\": {\n",
    "                \"filters\": \"\",\n",
    "                \"oov_token\": 1\n",
    "        },\n",
    "        \"weight_predictions\": true,\n",
    "        \"add_gradient_noise\": true,\n",
    "        \"dropout_rate\": 0.4,\n",
    "        \"optimizer_args\": {\n",
    "                \"learning_rate\": 0.0002\n",
    "        },\n",
    "        \"max_graph_nodes_limit\": 140\n",
    "    }\n",
    "```"
   ]
  },
  {
   "cell_type": "markdown",
   "id": "7beb1b98",
   "metadata": {
    "slideshow": {
     "slide_type": "fragment"
    }
   },
   "source": [
    "Eventually:"
   ]
  },
  {
   "cell_type": "markdown",
   "id": "d0f02806",
   "metadata": {
    "slideshow": {
     "slide_type": "fragment"
    }
   },
   "source": [
    "- My JSON configuration file ended up having **more than 8k lines** - barely readable (*not all models were yet listed!*)"
   ]
  },
  {
   "cell_type": "markdown",
   "id": "43b163ef",
   "metadata": {
    "slideshow": {
     "slide_type": "fragment"
    }
   },
   "source": [
    "- I could **hardly recall** (each day) each parameter type, allowed values, potential conflicts, etc..."
   ]
  },
  {
   "cell_type": "markdown",
   "id": "af7c6317",
   "metadata": {
    "slideshow": {
     "slide_type": "fragment"
    }
   },
   "source": [
    "- I was **still messing around** with wrong hyper-parameter settings (*my eyes @_@*)"
   ]
  },
  {
   "cell_type": "markdown",
   "id": "df4722ca",
   "metadata": {
    "slideshow": {
     "slide_type": "fragment"
    }
   },
   "source": [
    "- I was **wasting quite a lot of time** by just making errors and setting up the right experiment"
   ]
  },
  {
   "cell_type": "markdown",
   "id": "28918e71",
   "metadata": {
    "slideshow": {
     "slide_type": "subslide"
    }
   },
   "source": [
    "### I want to be lazy!\n",
    "\n",
    "I looked at my configuration hell and reasoned on the **limitations**..."
   ]
  },
  {
   "cell_type": "markdown",
   "id": "0a54a117",
   "metadata": {
    "slideshow": {
     "slide_type": "fragment"
    }
   },
   "source": [
    "- **Hardly** readable (*wanna collaborate? enjoy...*)"
   ]
  },
  {
   "cell_type": "markdown",
   "id": "462c5383",
   "metadata": {
    "slideshow": {
     "slide_type": "fragment"
    }
   },
   "source": [
    "- **No typing** (*err, what was the accepted format of this parameter?*)"
   ]
  },
  {
   "cell_type": "markdown",
   "id": "e8eb77c4",
   "metadata": {
    "slideshow": {
     "slide_type": "fragment"
    }
   },
   "source": [
    "- Custom types (e.g., numpy.ndarray) had to be **converted**..."
   ]
  },
  {
   "cell_type": "markdown",
   "id": "ec5c027d",
   "metadata": {
    "slideshow": {
     "slide_type": "fragment"
    }
   },
   "source": [
    "- **No** possibility to define configuration **constraints**"
   ]
  },
  {
   "cell_type": "markdown",
   "id": "deb20f89",
   "metadata": {
    "slideshow": {
     "slide_type": "fragment"
    }
   },
   "source": [
    "- **No** possibility to add **descriptions**"
   ]
  },
  {
   "cell_type": "markdown",
   "id": "289905e5",
   "metadata": {
    "slideshow": {
     "slide_type": "fragment"
    }
   },
   "source": [
    "#### I'm fucking lazy..."
   ]
  },
  {
   "cell_type": "markdown",
   "id": "a21800f8",
   "metadata": {
    "slideshow": {
     "slide_type": "fragment"
    }
   },
   "source": [
    "- I don't want to **waste time** on writing my configuration in a different format"
   ]
  },
  {
   "cell_type": "markdown",
   "id": "95e95f85",
   "metadata": {
    "slideshow": {
     "slide_type": "fragment"
    }
   },
   "source": [
    "- I want to run **different** experiments with an **effort comparable to a mouse click**"
   ]
  },
  {
   "cell_type": "markdown",
   "id": "c094630f",
   "metadata": {
    "slideshow": {
     "slide_type": "fragment"
    }
   },
   "source": [
    "- I want to **focus** on my research (*Nobody believes you, Fede!*)"
   ]
  },
  {
   "cell_type": "markdown",
   "id": "40905fb6",
   "metadata": {
    "slideshow": {
     "slide_type": "subslide"
    }
   },
   "source": [
    "### F\\*\\*\\* you configuration files!\n",
    "\n",
    "- F\\*\\*\\* you JSON\n",
    "- F\\*\\*\\* you JSONL\n",
    "- F\\*\\*\\* YAML (*horrible*)\n",
    "- F\\*\\*\\* JSONNET (*kill me*)\n",
    "- F\\*\\*\\* TXT (*really?*)\n",
    "- F\\*\\*\\* CFG\n",
    "- **BIG** F\\*\\*\\* to command line arguments (*I'll never be your friend*)"
   ]
  },
  {
   "cell_type": "markdown",
   "id": "a98699b7",
   "metadata": {
    "slideshow": {
     "slide_type": "fragment"
    }
   },
   "source": [
    "$\\rightarrow$ I want write my configurations in **Python**!"
   ]
  },
  {
   "cell_type": "markdown",
   "id": "56995cd4",
   "metadata": {
    "slideshow": {
     "slide_type": "subslide"
    }
   },
   "source": [
    "### Why not some existing library?\n",
    "\n",
    "Well, this is entirely due to my **personal experience** and the fact that I'm a very stupid user"
   ]
  },
  {
   "cell_type": "markdown",
   "id": "32d35004",
   "metadata": {
    "slideshow": {
     "slide_type": "fragment"
    }
   },
   "source": [
    "- [Allennlp](https://allenai.org/allennlp): cool features but fucking **hard** to **customize** unless you are from allennlp"
   ]
  },
  {
   "cell_type": "markdown",
   "id": "e4793234",
   "metadata": {},
   "source": [
    "- [ParlAI](https://parl.ai/): cool if you have to do the three commands written in the **tutorial page**. Otherwise, kill yourself!"
   ]
  },
  {
   "cell_type": "markdown",
   "id": "99fb01f5",
   "metadata": {},
   "source": [
    "- [Huggingface](https://huggingface.co/): super cool if you are working with transformers but **horrible configuration** format $\\rightarrow$ you need an open tab on their documentation to **understand each hyper-parameter**"
   ]
  },
  {
   "cell_type": "markdown",
   "id": "586f3d62",
   "metadata": {
    "slideshow": {
     "slide_type": "fragment"
    }
   },
   "source": [
    "- Tensorflow/Torch/Keras: not a simple way to **define configurations** except for **flags**. You'll never have me!!!"
   ]
  },
  {
   "cell_type": "markdown",
   "id": "ec077613",
   "metadata": {
    "slideshow": {
     "slide_type": "fragment"
    }
   },
   "source": [
    "#### Disclaimer: \n",
    "\n",
    "I'm **NOT** saying these are bad libraries at all! It's just that I was not able to use them to solve my issues..."
   ]
  },
  {
   "cell_type": "markdown",
   "id": "193523f4",
   "metadata": {
    "slideshow": {
     "slide_type": "fragment"
    }
   },
   "source": [
    "$\\rightarrow$ Why can't I run my SVM, decision tree, LSTM, BERT models using the **same configuration** and **training format**?"
   ]
  },
  {
   "cell_type": "markdown",
   "id": "abf6f0b7",
   "metadata": {
    "slideshow": {
     "slide_type": "slide"
    }
   },
   "source": [
    "## Overview"
   ]
  },
  {
   "cell_type": "markdown",
   "id": "868f4c03",
   "metadata": {
    "slideshow": {
     "slide_type": "slide"
    }
   },
   "source": [
    "### Inspiration\n",
    "\n",
    "I remembered a cool feature of some library (*I think it was allenlp...*) \n",
    "\n",
    "- You could write your model and **register it** so that you could run your experiment by commandline (*aaargh...*)"
   ]
  },
  {
   "cell_type": "markdown",
   "id": "84ac0924",
   "metadata": {
    "slideshow": {
     "slide_type": "fragment"
    }
   },
   "source": [
    "This feature led me to the following conclusions:"
   ]
  },
  {
   "cell_type": "markdown",
   "id": "a6773abb",
   "metadata": {
    "slideshow": {
     "slide_type": "fragment"
    }
   },
   "source": [
    "1. **Separate** configuration from logic\n",
    "2. **Register** configuration and logic separately to **quickly use them later** and organize your working environment"
   ]
  },
  {
   "cell_type": "markdown",
   "id": "eeb4bf82",
   "metadata": {
    "slideshow": {
     "slide_type": "fragment"
    }
   },
   "source": [
    "$\\rightarrow$ Formally, I denote the configuration as ``Configuration`` and the logic as ``Component``."
   ]
  },
  {
   "cell_type": "markdown",
   "id": "28ceec2c",
   "metadata": {
    "slideshow": {
     "slide_type": "slide"
    }
   },
   "source": [
    "### A visual depiction\n",
    "\n",
    "A ``Component`` **is built** via its ``Configuration``.\n",
    "\n",
    "<center>\n",
    "<div>\n",
    "<img src=\"Images/Lecture-5/conf_and_comp.png\" width=\"1200\"/>\n",
    "</div>\n",
    "</center>"
   ]
  },
  {
   "cell_type": "markdown",
   "id": "9881b2c4",
   "metadata": {
    "slideshow": {
     "slide_type": "subslide"
    }
   },
   "source": [
    "## Binding\n",
    "\n",
    "We **bind** the ``Configuration`` to its ``Component``.\n",
    "\n",
    "<center>\n",
    "<div>\n",
    "<img src=\"Images/Lecture-5/conf_and_comp_bound.png\" width=\"1200\"/>\n",
    "</div>\n",
    "</center>"
   ]
  },
  {
   "cell_type": "markdown",
   "id": "0c929cbc",
   "metadata": {
    "slideshow": {
     "slide_type": "subslide"
    }
   },
   "source": [
    "## Registration\n",
    "\n",
    "We **register** the ``Configuration`` to remember it.\n",
    "\n",
    "<center>\n",
    "<div>\n",
    "<img src=\"Images/Lecture-5/registration.png\" width=\"1200\"/>\n",
    "</div>\n",
    "</center>"
   ]
  },
  {
   "cell_type": "markdown",
   "id": "7d38f836",
   "metadata": {
    "slideshow": {
     "slide_type": "subslide"
    }
   },
   "source": [
    "## Registration (cont'd)\n",
    "\n",
    "To remember a ``Configuration`` we simply define a ``RegistrationKey`` (*a compound dictionary key*)\n",
    "\n",
    "<br/>\n",
    "\n",
    "<center>\n",
    "<div>\n",
    "<img src=\"Images/Lecture-5/registration_with_key.png\" width=\"1200\"/>\n",
    "</div>\n",
    "</center>"
   ]
  },
  {
   "cell_type": "markdown",
   "id": "feb5ebc8",
   "metadata": {
    "slideshow": {
     "slide_type": "subslide"
    }
   },
   "source": [
    "## Binding (cont'd)\n",
    "\n",
    "After registration, we can bind a ``Configuration`` to a ``Component`` using the ``RegistrationKey`` defined for the ``Configuration``.\n",
    "\n",
    "<br/>\n",
    "\n",
    "<center>\n",
    "<div>\n",
    "<img src=\"Images/Lecture-5/binding_with_key.png\" width=\"1200\"/>\n",
    "</div>\n",
    "</center>"
   ]
  },
  {
   "cell_type": "markdown",
   "id": "bbf28432",
   "metadata": {
    "slideshow": {
     "slide_type": "subslide"
    }
   },
   "source": [
    "### To sum up\n",
    "\n",
    "- We **define** our ``Component``\n",
    "- We **define** its corresponding ``Configuration``\n",
    "- We **register** it to the ``Registry`` with a ``RegistrationKey``\n",
    "- We **bind** the ``Configuration`` to ``Component`` by using the configuration ``RegistrationKey``"
   ]
  },
  {
   "cell_type": "markdown",
   "id": "71d75014",
   "metadata": {
    "slideshow": {
     "slide_type": "fragment"
    }
   },
   "source": [
    "Thus, the ``RegistrationKey`` of our ``Configuration`` allows to:\n",
    "- **Retrieve** the registered ``Configuration`` from the ``Registry``\n",
    "- **Retrieve** the ``Component`` that our registered ``Configuration`` is bounded to"
   ]
  },
  {
   "cell_type": "markdown",
   "id": "051e77e4",
   "metadata": {
    "slideshow": {
     "slide_type": "fragment"
    }
   },
   "source": [
    "#### That's it! If you get this, you get 99% of deasy-learning!"
   ]
  },
  {
   "cell_type": "markdown",
   "id": "c897011b",
   "metadata": {
    "slideshow": {
     "slide_type": "slide"
    }
   },
   "source": [
    "## Configuration and Component\n",
    "\n",
    "*Let's delve into the details!*"
   ]
  },
  {
   "cell_type": "markdown",
   "id": "ec9010b2",
   "metadata": {
    "slideshow": {
     "slide_type": "subslide"
    }
   },
   "source": [
    "### Configuration parameters\n",
    "\n",
    "A ``Configuration`` is comprised of ``Parameter`` objects\n",
    "\n",
    "<center>\n",
    "<div>\n",
    "<img src=\"Images/Lecture-5/configuration.png\" width=\"1200\"/>\n",
    "</div>\n",
    "</center>"
   ]
  },
  {
   "cell_type": "markdown",
   "id": "858e34b9",
   "metadata": {
    "slideshow": {
     "slide_type": "fragment"
    }
   },
   "source": [
    "A ``Parameter`` is essentially a wrapper for each attribute of ``Configuration``"
   ]
  },
  {
   "cell_type": "markdown",
   "id": "82950427",
   "metadata": {
    "slideshow": {
     "slide_type": "subslide"
    }
   },
   "source": [
    "### Why ``Parameter``?\n",
    "\n",
    "Essentially, ``Parameter`` is a useful wrapper for storing additional metadata\n",
    "\n",
    "- type hints\n",
    "- descriptions\n",
    "- allowed value range\n",
    "- possible variants of interest\n",
    "- optional tags for quickly retrieving a certain subset of parameters\n",
    "- ..."
   ]
  },
  {
   "cell_type": "markdown",
   "id": "b557a7eb",
   "metadata": {
    "slideshow": {
     "slide_type": "subslide"
    }
   },
   "source": [
    "### Configuration class"
   ]
  },
  {
   "cell_type": "code",
   "execution_count": null,
   "id": "16f88ad6",
   "metadata": {
    "slideshow": {
     "slide_type": "fragment"
    }
   },
   "outputs": [],
   "source": [
    "class Configuration:\n",
    "    \n",
    "    def add(self, param: Parameter):\n",
    "        ...\n",
    "    \n",
    "    def add_condition(self, condition: Callable[[], bool], name):\n",
    "        ...\n",
    "        \n",
    "    def validate(self):\n",
    "        ...\n",
    "        \n",
    "    def search(self, search_key, exact_match):\n",
    "        ...\n",
    "        \n",
    "    def get_delta_copy(self, key_value_dict):\n",
    "        ...\n",
    "        \n",
    "    @classmethod\n",
    "    def get_default(cls):\n",
    "        ..."
   ]
  },
  {
   "cell_type": "markdown",
   "id": "9cebd7a9",
   "metadata": {
    "slideshow": {
     "slide_type": "subslide"
    }
   },
   "source": [
    "### What does a ``Configuration`` do?\n",
    "\n",
    "A ``Configuration`` is essentially an extension of a Python dictionary\n",
    "\n",
    "- You can add ``Parameter``\n",
    "- You can add **conditions** (i.e., callable functions) relating multiple ``Parameter``\n",
    "- You can ``validate()`` your ``Configuration``: running all conditions to check for errors\n",
    "- You can **quickly search** for ``Parameter``\n",
    "- You can **quickly get a delta copy** of your ``Configuration`` via a simple key-value dictionary\n",
    "- You can **specify the template** (``get_default()``) of your ``Configuration`` $\\rightarrow$ a readable and detailed specification!\n",
    "- Lastly, it is a Python object, you can define ``Configuration`` subclasses via **inheritance**!"
   ]
  },
  {
   "cell_type": "markdown",
   "id": "cc4e7bc2",
   "metadata": {
    "slideshow": {
     "slide_type": "subslide"
    }
   },
   "source": [
    "### An example"
   ]
  },
  {
   "cell_type": "code",
   "execution_count": null,
   "id": "cb9aba76",
   "metadata": {
    "slideshow": {
     "slide_type": "fragment"
    }
   },
   "outputs": [],
   "source": [
    "class DataLoaderConfig(Configuration):\n",
    "\n",
    "    @classmethod\n",
    "    def get_default(\n",
    "            cls\n",
    "    ):\n",
    "        config = super().get_default()\n",
    "\n",
    "        config.add_short(name='name',\n",
    "                         type_hint=str,\n",
    "                         description=\"Unique dataset identifier\",\n",
    "                         is_required=True)\n",
    "        config.add_short(name='has_test_split_only',\n",
    "                         value=False,\n",
    "                         type_hint=bool,\n",
    "                         description=\"Whether DataLoader has test split only or not\")\n",
    "        config.add_short(name='has_val_split',\n",
    "                         value=True,\n",
    "                         type_hint=bool,\n",
    "                         description=\"Whether DataLoader has a val split or not\")\n",
    "        config.add_short(name='has_test_split',\n",
    "                         value=True,\n",
    "                         type_hint=bool,\n",
    "                         description=\"Whether DataLoader has a test split or not\")\n",
    "\n",
    "        return config"
   ]
  },
  {
   "cell_type": "markdown",
   "id": "47ad3ce9",
   "metadata": {
    "slideshow": {
     "slide_type": "subslide"
    }
   },
   "source": [
    "### Another example"
   ]
  },
  {
   "cell_type": "code",
   "execution_count": null,
   "id": "9854aeab",
   "metadata": {
    "slideshow": {
     "slide_type": "fragment"
    }
   },
   "outputs": [],
   "source": [
    "class ConfigA(Configuration):\n",
    "\n",
    "    @classmethod\n",
    "    def get_default(\n",
    "            cls\n",
    "    ) -> ConfigA:\n",
    "        config = super().get_default()\n",
    "\n",
    "        config.add_short(name='param_1',\n",
    "                         value=True,\n",
    "                         type_hint=bool)\n",
    "        config.add_short(name='param_2',\n",
    "                         value=True,\n",
    "                         type_hint=bool)\n",
    "\n",
    "        config.add_condition(condition=lambda p: p.param_1 == p.param_2)\n",
    "\n",
    "        return config"
   ]
  },
  {
   "cell_type": "markdown",
   "id": "a2dbade9",
   "metadata": {
    "slideshow": {
     "slide_type": "subslide"
    }
   },
   "source": [
    "### Nesting\n",
    "\n",
    "A ``Configuration`` can also include another (or multiple) ``Configuration``."
   ]
  },
  {
   "cell_type": "code",
   "execution_count": null,
   "id": "c3e14a3e",
   "metadata": {
    "slideshow": {
     "slide_type": "fragment"
    }
   },
   "outputs": [],
   "source": [
    "class ParentConfig(Configuration):\n",
    "\n",
    "    @classmethod\n",
    "    def get_default(\n",
    "            cls\n",
    "    ):\n",
    "        config = super().get_default()\n",
    "\n",
    "        config.add_short(name='param_1',\n",
    "                         value=True,\n",
    "                         type_hint=bool)\n",
    "        config.add_short(name='param_2',\n",
    "                         value=False, t\n",
    "                         ype_hint=bool)\n",
    "        config.add_short(name='child_A',\n",
    "                         value=RegistrationKey(name='config_a',\n",
    "                                               namespace='testing'),   # <--- This assumes that ConfigA is registered\n",
    "                         is_registration=True)   # <--- metadata\n",
    "        return config\n",
    "    \n",
    "class ConfigA(Configuration):\n",
    "    ..."
   ]
  },
  {
   "cell_type": "markdown",
   "id": "89e025ef",
   "metadata": {
    "slideshow": {
     "slide_type": "fragment"
    }
   },
   "source": [
    "This allows us to define complex ``Component`` like\n",
    "\n",
    "- A data-loading pipeline\n",
    "- A data pre-processing pipeline\n",
    "- A training routine\n",
    "- ..."
   ]
  },
  {
   "cell_type": "markdown",
   "id": "cb5fa1ad",
   "metadata": {
    "slideshow": {
     "slide_type": "subslide"
    }
   },
   "source": [
    "### An example"
   ]
  },
  {
   "cell_type": "code",
   "execution_count": null,
   "id": "c44ac510",
   "metadata": {
    "slideshow": {
     "slide_type": "fragment"
    }
   },
   "outputs": [],
   "source": [
    "class ProcessorPipelineConfig(Configuration):\n",
    "\n",
    "    @classmethod\n",
    "    def get_default(\n",
    "            cls\n",
    "    ):\n",
    "        config = super().get_default()\n",
    "\n",
    "        config.add_short(name='processors',\n",
    "                         type_hint=List[RegistrationKey],\n",
    "                         description='List of processors to be executed in sequence',\n",
    "                         is_required=True,\n",
    "                         is_registration=True)\n",
    "\n",
    "        return config"
   ]
  },
  {
   "cell_type": "code",
   "execution_count": null,
   "id": "166a24a1",
   "metadata": {
    "slideshow": {
     "slide_type": "fragment"
    }
   },
   "outputs": [],
   "source": [
    "class ProcessorPipeline(Component):\n",
    "    \n",
    "    def run(\n",
    "            self,\n",
    "            data: Optional[FieldDict] = None,\n",
    "            is_training_data: bool = False\n",
    "    ):\n",
    "        for processor in self.processors:\n",
    "            data = processor.run(data=data,\n",
    "                                 is_training_data=is_training_data)\n",
    "        return data"
   ]
  },
  {
   "cell_type": "markdown",
   "id": "24cd51b7",
   "metadata": {
    "slideshow": {
     "slide_type": "subslide"
    }
   },
   "source": [
    "### Variants\n",
    "\n",
    "In many cases, you may need **multiple** ``Configuration`` instances to define different scenarios.\n",
    "\n",
    "- Work at ``Parameter`` level to specify variants\n",
    "- Work at ``Configuration`` level to specify explicit configuration variants"
   ]
  },
  {
   "cell_type": "markdown",
   "id": "8545f76f",
   "metadata": {
    "slideshow": {
     "slide_type": "subslide"
    }
   },
   "source": [
    "### ``Parameter`` level variants\n",
    "\n",
    "Simply list possible values via ``Parameter.variants`` field."
   ]
  },
  {
   "cell_type": "code",
   "execution_count": null,
   "id": "0c8a8f9a",
   "metadata": {
    "slideshow": {
     "slide_type": "fragment"
    }
   },
   "outputs": [],
   "source": [
    "class ConfigA(Configuration):\n",
    "\n",
    "    @classmethod\n",
    "    def get_default(\n",
    "            cls\n",
    "    ) -> ConfigA:\n",
    "        config = super().get_default()\n",
    "\n",
    "        config.add_short(name='param_1',\n",
    "                         value=True,\n",
    "                         type_hint=bool,\n",
    "                         variants=[False, True])    # <---\n",
    "        config.add_short(name='param_2',\n",
    "                         value=True,\n",
    "                         type_hint=bool,\n",
    "                         variants=[False, True])    # <---\n",
    "\n",
    "        config.add_condition(condition=lambda p: p.param_1 == p.param_2)\n",
    "\n",
    "        return config"
   ]
  },
  {
   "cell_type": "markdown",
   "id": "ce2a88ab",
   "metadata": {
    "slideshow": {
     "slide_type": "subslide"
    }
   },
   "source": [
    "### Configuration level variants\n",
    "\n",
    "We can explicitly define new ``Configuration`` via two decorators: ``supports_variants``, ``add_variant``"
   ]
  },
  {
   "cell_type": "code",
   "execution_count": null,
   "id": "13e75a89",
   "metadata": {
    "slideshow": {
     "slide_type": "subslide"
    }
   },
   "outputs": [],
   "source": [
    "@supports_variants\n",
    "class ConfigA(Configuration):\n",
    "\n",
    "    @classmethod\n",
    "    def get_default(\n",
    "            cls\n",
    "    ) -> ConfigA:\n",
    "        config = super().get_default()\n",
    "\n",
    "        config.add_short(name='param_1',\n",
    "                         value=True,\n",
    "                         type_hint=bool,\n",
    "                         variants=[False, True])\n",
    "        config.add_short(name='param_2',\n",
    "                         value=True,\n",
    "                         type_hint=bool,\n",
    "                         variants=[False, True])\n",
    "\n",
    "        config.add_condition(condition=lambda p: p.param_1 == p.param_2)\n",
    "\n",
    "        return config\n",
    "    \n",
    "    @classmethod\n",
    "    @add_variant(variant_name='variant1')\n",
    "    def variant1(cls):\n",
    "        config = cls.get_default()\n",
    "        config.param_1 = False\n",
    "        config.param_2 = False\n",
    "        return config\n",
    "    \n",
    "    @classmethod\n",
    "    @add_variant(variant_name='variant2')\n",
    "    def variant1(cls):\n",
    "        config = cls.get_default()\n",
    "        config.param_1 = True\n",
    "        config.param_2 = True\n",
    "        return config"
   ]
  },
  {
   "cell_type": "markdown",
   "id": "07585960",
   "metadata": {
    "slideshow": {
     "slide_type": "subslide"
    }
   },
   "source": [
    "### Registering variants\n",
    "\n",
    "Both of them can be **automatically** considered during registration to quickly take into account variants."
   ]
  },
  {
   "cell_type": "code",
   "execution_count": null,
   "id": "f4bfe87b",
   "metadata": {
    "slideshow": {
     "slide_type": "fragment"
    }
   },
   "outputs": [],
   "source": [
    "Registry.register_and_bind_configuration_variants(configuration_class=ConfigA,\n",
    "                                                  component_class=ComponentA,\n",
    "                                                  name='config_a',\n",
    "                                                  namespace='testing',\n",
    "                                                  allow_parameters_variants=True)   # <---"
   ]
  },
  {
   "cell_type": "markdown",
   "id": "dfdabfad",
   "metadata": {
    "slideshow": {
     "slide_type": "fragment"
    }
   },
   "source": [
    "Registration variants is controlled by ``allow_parameters_variants``\n",
    "\n",
    "- [**True**] **Ignore** ``add_variant`` declarations and look for ``Parameter`` level variants\n",
    "- [**False**] **Only** consider ``add_variant`` declarations"
   ]
  },
  {
   "cell_type": "markdown",
   "id": "14d4643d",
   "metadata": {
    "slideshow": {
     "slide_type": "subslide"
    }
   },
   "source": [
    "### Variants and Nesting\n",
    "\n",
    "Registering variants is a powerful tool since it **supports** ``Configuration`` nesting!"
   ]
  },
  {
   "cell_type": "markdown",
   "id": "f355b5a3",
   "metadata": {
    "slideshow": {
     "slide_type": "fragment"
    }
   },
   "source": [
    "Consider your complex pipeline: data-loading, pre-processing, model training, etc..."
   ]
  },
  {
   "cell_type": "markdown",
   "id": "d5d88f95",
   "metadata": {
    "slideshow": {
     "slide_type": "fragment"
    }
   },
   "source": [
    "- You can write it as a combination of ``Configuration`` and ``Component`` classes\n",
    "- You can define variants\n",
    "- You can specify conditions $\\rightarrow$ only **valid variants** are considered!\n",
    "- You can register all possible valid variant combinations in one shot!"
   ]
  },
  {
   "cell_type": "markdown",
   "id": "19550423",
   "metadata": {
    "slideshow": {
     "slide_type": "subslide"
    }
   },
   "source": [
    "## An Example"
   ]
  },
  {
   "cell_type": "code",
   "execution_count": null,
   "id": "9bff4c9c",
   "metadata": {
    "slideshow": {
     "slide_type": "fragment"
    }
   },
   "outputs": [],
   "source": [
    "class ConfigA(Configuration):\n",
    "\n",
    "    @classmethod\n",
    "    def get_default(\n",
    "            cls\n",
    "    ) -> ConfigA:\n",
    "        config = super().get_default()\n",
    "        config.add_short(name='param_1', value=True, type_hint=bool, variants=[False, True])\n",
    "        config.add_short(name='child', value=RegistrationKey(name='config_b',\n",
    "                                                             namespace='testing'), is_registration=True)\n",
    "        return config\n",
    "\n",
    "\n",
    "class ConfigB(Configuration):\n",
    "\n",
    "    @classmethod\n",
    "    def get_default(\n",
    "            cls\n",
    "    ) -> ConfigB:\n",
    "        config = super().get_default()\n",
    "        config.add_short(name='param_1', value=1, type_hint=int, variants=[1, 2])\n",
    "        config.add_short(name='child', value=RegistrationKey(name='config_c',\n",
    "                                                             namespace='testing'), is_registration=True)\n",
    "        return config\n",
    "\n",
    "\n",
    "class ConfigC(Configuration):\n",
    "\n",
    "    @classmethod\n",
    "    def get_default(\n",
    "            cls\n",
    "    ) -> ConfigC:\n",
    "        config = super().get_default()\n",
    "        config.add_short(name='param_1', value=False, type_hint=bool, variants=[False, True])\n",
    "        return config\n"
   ]
  },
  {
   "cell_type": "code",
   "execution_count": null,
   "id": "421b29df",
   "metadata": {
    "slideshow": {
     "slide_type": "subslide"
    }
   },
   "outputs": [],
   "source": [
    "if __name__ == '__main__':\n",
    "    Registry.register_and_bind(configuration_class=ConfigB,\n",
    "                               configuration_constructor=Configuration.get_default,\n",
    "                               component_class=Component,\n",
    "                               name='config_b',\n",
    "                               namespace='testing')\n",
    "    Registry.register_and_bind(configuration_class=ConfigC,\n",
    "                               configuration_constructor=Configuration.get_default,\n",
    "                               component_class=Component,\n",
    "                               name='config_c',\n",
    "                               namespace='testing')\n",
    "\n",
    "    for config_regr_key in Registry.register_and_bind_configuration_variants(configuration_class=ConfigA,\n",
    "                                                                             component_class=Component,\n",
    "                                                                             name='config_a',\n",
    "                                                                             namespace='testing',\n",
    "                                                                             allow_parameters_variants=True):\n",
    "        print(config_regr_key)"
   ]
  },
  {
   "cell_type": "code",
   "execution_count": null,
   "id": "e0931e9a",
   "metadata": {
    "slideshow": {
     "slide_type": "fragment"
    }
   },
   "outputs": [],
   "source": [
    "name:config_a--tags:['child.child.param_1=False', 'child.param_1=1', 'param_1=False']--namespace:testing\n",
    "name:config_a--tags:['child.child.param_1=False', 'child.param_1=1', 'param_1=True']--namespace:testing\n",
    "name:config_a--tags:['child.child.param_1=False', 'child.param_1=2', 'param_1=False']--namespace:testing\n",
    "name:config_a--tags:['child.child.param_1=False', 'child.param_1=2', 'param_1=True']--namespace:testing\n",
    "name:config_a--tags:['child.child.param_1=True', 'child.param_1=1', 'param_1=False']--namespace:testing\n",
    "name:config_a--tags:['child.child.param_1=True', 'child.param_1=1', 'param_1=True']--namespace:testing\n",
    "name:config_a--tags:['child.child.param_1=True', 'child.param_1=2', 'param_1=False']--namespace:testing\n",
    "name:config_a--tags:['child.child.param_1=True', 'child.param_1=2', 'param_1=True']--namespace:testing"
   ]
  },
  {
   "cell_type": "markdown",
   "id": "40c4f89d",
   "metadata": {
    "slideshow": {
     "slide_type": "slide"
    }
   },
   "source": [
    "### Calibration\n",
    "\n",
    "What about hyper-parameter calibration?\n",
    "\n",
    "Calibration is **implemented via** ``Configuration`` nesting\n",
    "\n",
    "- `TunableConfiguration` is a ``Configuration`` that by default has a ``Parameter`` called ``calibration_config``.\n",
    "- ``calibration_config`` is a ``Configuration`` that defines the search space"
   ]
  },
  {
   "cell_type": "markdown",
   "id": "de1dd9df",
   "metadata": {
    "slideshow": {
     "slide_type": "fragment"
    }
   },
   "source": [
    "#### Why?\n",
    "\n",
    "This allows you to define **multiple** search spaces and quickly switch from one to another.\n",
    "\n",
    "Essentially, we are **de-coupling** a ``Configuration`` with its hyper-parameter search.\n",
    "\n",
    "Besides, this also **inherently allows nesting** ``Configuration`` search spaces!"
   ]
  },
  {
   "cell_type": "markdown",
   "id": "b7d17239",
   "metadata": {
    "slideshow": {
     "slide_type": "fragment"
    }
   },
   "source": [
    "#### Difference with variants\n",
    "\n",
    "Variants define what you **want to test**\n",
    "\n",
    "Each variant may **undergo calibration**"
   ]
  },
  {
   "cell_type": "markdown",
   "id": "e7ef8e34",
   "metadata": {
    "slideshow": {
     "slide_type": "subslide"
    }
   },
   "source": [
    "### An example"
   ]
  },
  {
   "cell_type": "code",
   "execution_count": null,
   "id": "b07b552f",
   "metadata": {
    "slideshow": {
     "slide_type": "fragment"
    }
   },
   "outputs": [],
   "source": [
    "class ConfigA(TunableConfiguration):\n",
    "\n",
    "    @classmethod\n",
    "    def get_default(cls):\n",
    "        config = super().get_default()\n",
    "        config.add_short(name='param1', value=1, type_hint=int)\n",
    "        config.add_short(name='param2', value=True, type_hint=bool)\n",
    "        config.calibration_config = RegistrationKey(name='calibration',\n",
    "                                                    tags={'config_a'},\n",
    "                                                    namespace='testing')\n",
    "\n",
    "        return config\n",
    "\n",
    "    \n",
    "class CalConfigA(Configuration):\n",
    "\n",
    "    @classmethod\n",
    "    def get_default(cls):\n",
    "        config = super().get_default()\n",
    "        config.add_short(name='search_space',\n",
    "                         value={\n",
    "                             'param1': [1, 2, 3],\n",
    "                             'param2': [False, True]\n",
    "                         })\n",
    "        return config\n",
    "    \n",
    "if __name__ == '__main__':\n",
    "    config = ConfigA.get_default()\n",
    "    search_space = config.get_search_space()\n",
    "    print(search_space)"
   ]
  },
  {
   "cell_type": "code",
   "execution_count": null,
   "id": "b2aa4bee",
   "metadata": {
    "slideshow": {
     "slide_type": "fragment"
    }
   },
   "outputs": [],
   "source": [
    "{'param1': [1, 2, 3], 'param2': [False, True]}"
   ]
  },
  {
   "cell_type": "markdown",
   "id": "3ee008e3",
   "metadata": {
    "slideshow": {
     "slide_type": "subslide"
    }
   },
   "source": [
    "### An example with nesting"
   ]
  },
  {
   "cell_type": "code",
   "execution_count": null,
   "id": "573a6508",
   "metadata": {
    "slideshow": {
     "slide_type": "fragment"
    }
   },
   "outputs": [],
   "source": [
    "class ConfigA(TunableConfiguration):\n",
    "\n",
    "    @classmethod\n",
    "    def get_default(cls):\n",
    "        config = super().get_default()\n",
    "        config.add_short(name='param1', value=1, type_hint=int)\n",
    "        config.add_short(name='param2', value=True, type_hint=bool)\n",
    "        config.add_short(name='child',                               # <-- Pay attention to this name!\n",
    "                         value=RegistrationKey(name='config_b',\n",
    "                                               namespace='testing'),\n",
    "                         is_registration=True)\n",
    "        config.calibration_config = RegistrationKey(name='calibration',\n",
    "                                                    tags={'config_a'},\n",
    "                                                    namespace='testing')\n",
    "\n",
    "        return config\n",
    "\n",
    "class ConfigB(TunableConfiguration):\n",
    "\n",
    "    @classmethod\n",
    "    def get_default(cls):\n",
    "        config = super().get_default()\n",
    "        config.add_short(name='param1',\n",
    "                         value=True,\n",
    "                         type_hint=bool)\n",
    "        config.calibration_config = RegistrationKey(name='calibration',\n",
    "                                                    tags={'config_b'},\n",
    "                                                    namespace='testing')\n",
    "        return config"
   ]
  },
  {
   "cell_type": "code",
   "execution_count": null,
   "id": "fc914f14",
   "metadata": {
    "slideshow": {
     "slide_type": "subslide"
    }
   },
   "outputs": [],
   "source": [
    "class CalConfigA(Configuration):\n",
    "\n",
    "    @classmethod\n",
    "    def get_default(\n",
    "            cls\n",
    "    ):\n",
    "        config = super().get_default()\n",
    "        config.add_short(name='search_space',\n",
    "                         value={\n",
    "                             'param1': [1, 2, 3],\n",
    "                             'param2': [False, True]\n",
    "                         })\n",
    "        return config\n",
    "\n",
    "class CalConfigB(Configuration):\n",
    "\n",
    "    @classmethod\n",
    "    def get_default(\n",
    "            cls\n",
    "    ):\n",
    "        config = super().get_default()\n",
    "        config.add_short(name='search_space',\n",
    "                         value={\n",
    "                             'param1': [False, True]\n",
    "                         })\n",
    "        return config\n",
    "\n",
    "if __name__ == '__main__':\n",
    "    config = ConfigA.get_default()\n",
    "    search_space = config.get_search_space()\n",
    "    print(search_space)"
   ]
  },
  {
   "cell_type": "code",
   "execution_count": null,
   "id": "0d2530d0",
   "metadata": {
    "slideshow": {
     "slide_type": "fragment"
    }
   },
   "outputs": [],
   "source": [
    "{'child.param1': [False, True], 'param1': [1, 2, 3], 'param2': [False, True]}"
   ]
  },
  {
   "cell_type": "markdown",
   "id": "a3717dec",
   "metadata": {
    "slideshow": {
     "slide_type": "subslide"
    }
   },
   "source": [
    "### Component delta copy from search space"
   ]
  },
  {
   "cell_type": "code",
   "execution_count": null,
   "id": "9586b78c",
   "metadata": {
    "slideshow": {
     "slide_type": "fragment"
    }
   },
   "outputs": [],
   "source": [
    "if __name__ == '__main__':\n",
    "    config = ConfigA.get_default()\n",
    "    \n",
    "    # Get search space\n",
    "    search_space = config.get_search_space()\n",
    "    combinations = get_dict_values_combinations(search_space)\n",
    "\n",
    "    # Get component\n",
    "    component = Registry.retrieve_component(name='config_a',\n",
    "                                            namespace='testing')\n",
    "\n",
    "    # Get a delta copy\n",
    "    copy_component = component.get_delta_copy(params_dict=combinations[0])\n",
    "    print(combinations)\n",
    "    print(combinations[0])"
   ]
  },
  {
   "cell_type": "code",
   "execution_count": null,
   "id": "20e5b3a0",
   "metadata": {
    "slideshow": {
     "slide_type": "fragment"
    }
   },
   "outputs": [],
   "source": [
    "[{'child.param1': False, 'param1': 1, 'param2': False}, {'child.param1': False, 'param1': 1, 'param2': True}, {'child.param1': False, 'param1': 2, 'param2': False}, {'child.param1': False, 'param1': 2, 'param2': True}, {'child.param1': False, 'param1': 3, 'param2': False}, {'child.param1': False, 'param1': 3, 'param2': True}, {'child.param1': True, 'param1': 1, 'param2': False}, {'child.param1': True, 'param1': 1, 'param2': True}, {'child.param1': True, 'param1': 2, 'param2': False}, {'child.param1': True, 'param1': 2, 'param2': True}, {'child.param1': True, 'param1': 3, 'param2': False}, {'child.param1': True, 'param1': 3, 'param2': True}]\n",
    "{'child.param1': False, 'param1': 1, 'param2': False}"
   ]
  },
  {
   "cell_type": "markdown",
   "id": "d361f666",
   "metadata": {
    "slideshow": {
     "slide_type": "subslide"
    }
   },
   "source": [
    "### Component\n",
    "\n",
    "The ``Component`` is a simple interface that **doesn't define** any specific **behaviour**\n",
    "\n",
    "- I really like freedom of choice\n",
    "- You can define your preferred APIs since **you decide** how ``Component`` are nested"
   ]
  },
  {
   "cell_type": "code",
   "execution_count": null,
   "id": "54b34068",
   "metadata": {
    "slideshow": {
     "slide_type": "subslide"
    }
   },
   "outputs": [],
   "source": [
    "class Component(ABC):\n",
    "\n",
    "    def __init__(\n",
    "            self,\n",
    "            config: Configuration,\n",
    "            post_build: bool = True\n",
    "    ):\n",
    "        self.config = config\n",
    "        if post_build:\n",
    "            self.config.post_build()\n",
    "        self.config.validate()\n",
    "        \n",
    "    def get_delta_copy(\n",
    "            self,\n",
    "            params_dict: Dict[str, Any]\n",
    "    ):\n",
    "        ...\n",
    "        \n",
    "    @serialize_save_and_load\n",
    "    def save(self, serialization_path: Union[AnyStr, Path]):\n",
    "        ...\n",
    "        \n",
    "    @serialize_save_and_load\n",
    "    def load(self, serialization_path: Union[AnyStr, Path]):\n",
    "        ...\n",
    "\n",
    "    @abstractmethod\n",
    "    def run(\n",
    "            self,\n",
    "            serialization_path: Optional[Union[AnyStr, Path]] = None,\n",
    "            serialize: bool = False,\n",
    "    ) -> Any:\n",
    "        pass"
   ]
  },
  {
   "cell_type": "markdown",
   "id": "4a7dd8c7",
   "metadata": {
    "slideshow": {
     "slide_type": "subslide"
    }
   },
   "source": [
    "### Component dynamics\n"
   ]
  },
  {
   "cell_type": "markdown",
   "id": "cd8f2aaa",
   "metadata": {
    "slideshow": {
     "slide_type": "fragment"
    }
   },
   "source": [
    "#### ``__init__``\n",
    "\n",
    "- The ``Component`` **only requires** its ``Configuration`` (*just like in Hugginface...*)\n",
    "- The ``post_build(...)`` method builds **all nested** ``Configuration`` to their bounded ``Component``\n",
    "- The ``Configuration`` is also validated after build (*it was already validated before build operation*)"
   ]
  },
  {
   "cell_type": "markdown",
   "id": "185ffa5d",
   "metadata": {
    "slideshow": {
     "slide_type": "fragment"
    }
   },
   "source": [
    "#### ``run(...)``\n",
    "\n",
    "- A general single interface that can be **arbitrarily extended**"
   ]
  },
  {
   "cell_type": "markdown",
   "id": "17b7ff02",
   "metadata": {
    "slideshow": {
     "slide_type": "fragment"
    }
   },
   "source": [
    "#### ``get_delta_copy(...)``\n",
    "\n",
    "- Quick API to get a delta **copy** of the original ``Component``"
   ]
  },
  {
   "cell_type": "markdown",
   "id": "4a3b530b",
   "metadata": {
    "slideshow": {
     "slide_type": "fragment"
    }
   },
   "source": [
    "#### ``save(...)`` and ``load(...)``\n",
    "\n",
    "- ``Component`` **automatically supports** own state serialization for quick and multiple re-uses"
   ]
  },
  {
   "cell_type": "markdown",
   "id": "e2082d09",
   "metadata": {
    "slideshow": {
     "slide_type": "subslide"
    }
   },
   "source": [
    "### That's all you have to know about ``Component``!\n",
    "\n",
    "I **don't** want to setup **yet another restrictive** Python library with all its interfaces...\n",
    "\n",
    "- Define any kind of ``Component`` you want\n",
    "- Wrap existing code logic into ``Component``\n",
    "- Simply re-map your configuration to ``Configuration``\n",
    "- Done!"
   ]
  },
  {
   "cell_type": "markdown",
   "id": "843485b8",
   "metadata": {
    "slideshow": {
     "slide_type": "slide"
    }
   },
   "source": [
    "## Registration\n",
    "\n",
    "*How does it work?*"
   ]
  },
  {
   "cell_type": "markdown",
   "id": "0b5824ed",
   "metadata": {
    "slideshow": {
     "slide_type": "subslide"
    }
   },
   "source": [
    "### Registration format\n",
    "\n",
    "Right now, registration has **very few** requirements and dynamics\n",
    "\n",
    "- The ``Registry`` is yet a simple Python dictionary: ``RegistrationKey: Configuration``\n",
    "- You need to **manually register** and **bind** ``Configuration`` via simple APIs\n",
    "- You need to wrap all registrations in a ``register()`` function in ``__init__.py``"
   ]
  },
  {
   "cell_type": "markdown",
   "id": "13531ec4",
   "metadata": {
    "slideshow": {
     "slide_type": "subslide"
    }
   },
   "source": [
    "## An example\n",
    "\n",
    "Suppose the following **recommended** code organization:\n",
    "\n",
    "``\n",
    "    project_folder\n",
    "        |\n",
    "        |__ configurations\n",
    "        |        |__ __init__.py\n",
    "        |        |__ data_loader.py\n",
    "        |\n",
    "        |__ components\n",
    "        |       |__ __init__.py\n",
    "        |       |__ data_loader.py\n",
    "        |\n",
    "        |__ my_script.py\n",
    "``"
   ]
  },
  {
   "cell_type": "code",
   "execution_count": null,
   "id": "40a30a62",
   "metadata": {
    "slideshow": {
     "slide_type": "subslide"
    }
   },
   "outputs": [],
   "source": [
    "from components.data_loader import ExampleLoader\n",
    "\n",
    "# configurations/data_loader.py\n",
    "class ExampleLoaderConfig(DataLoaderConfig):\n",
    "\n",
    "    @classmethod\n",
    "    def get_default(\n",
    "            cls\n",
    "    ):\n",
    "        config = super().get_default()\n",
    "\n",
    "        config.has_val_split = False\n",
    "        config.name = 'example_dataset'\n",
    "\n",
    "        config.add_short(name='file_manager_regr_info', value=RegistrationKey(\n",
    "            name='file_manager',\n",
    "            tags={'default'},\n",
    "            namespace='generic'\n",
    "        ), type_hint=RegistrationKey, description=\"registration info of built FileManager component.\"\n",
    "                                                  \" Used for filesystem interfacing\")\n",
    "        config.add_short(name='data_url', value='http://ai.stanford.edu/~amaas/data/sentiment/aclImdb_v1.tar.gz',\n",
    "                         type_hint=AnyStr, description='URL to dataset archive file')\n",
    "        config.add_short(name='download_directory', value='imdb', type_hint=str,\n",
    "                         description='Folder the archive file is downloaded', is_required=True)\n",
    "        config.add_short(name='download_filename', value='imdb.tar.gz', type_hint=str,\n",
    "                         description='Name of the archive file', is_required=True)\n",
    "        config.add_short(name='samples_amount', value=500, type_hint=int,\n",
    "                         description='Number of samples per split to consider at maximum')\n",
    "\n",
    "        return config\n",
    "\n",
    "\n",
    "def register_data_loaders():\n",
    "    Registry.register_and_bind(configuration_class=ExampleLoaderConfig,\n",
    "                               component_class=ExampleLoader,\n",
    "                               name='data_loader',\n",
    "                               tags={'imdb'},\n",
    "                               is_default=True,\n",
    "                               namespace='examples')"
   ]
  },
  {
   "cell_type": "code",
   "execution_count": null,
   "id": "8e1b871d",
   "metadata": {
    "slideshow": {
     "slide_type": "fragment"
    }
   },
   "outputs": [],
   "source": [
    "# configurations/__init__.py\n",
    "from configurations.data_loader import register_data_loaders\n",
    "\n",
    "def register():\n",
    "    register_data_loaders()"
   ]
  },
  {
   "cell_type": "markdown",
   "id": "fdfbb45f",
   "metadata": {
    "slideshow": {
     "slide_type": "subslide"
    }
   },
   "source": [
    "### Commands\n",
    "\n",
    "That's **all you need to setup** since ``deasy_learning`` offers some **high-level APIs** to deal with registrations"
   ]
  },
  {
   "cell_type": "code",
   "execution_count": null,
   "id": "2dfc6125",
   "metadata": {
    "slideshow": {
     "slide_type": "fragment"
    }
   },
   "outputs": [],
   "source": [
    "# my_script.py\n",
    "from pathlib import Path\n",
    "\n",
    "from deasy_learning_generic.core.commands import setup_registry\n",
    "\n",
    "if __name__ == '__main__':\n",
    "    directory = Path(__file__).parent.resolve()   # <-- project_folder\n",
    "    module_directories = [\n",
    "        directory\n",
    "    ]\n",
    "\n",
    "    setup_registry(directory=directory,\n",
    "                   module_directories=module_directories,\n",
    "                   generate_registration=True)"
   ]
  },
  {
   "cell_type": "markdown",
   "id": "a5fe24af",
   "metadata": {
    "slideshow": {
     "slide_type": "fragment"
    }
   },
   "source": [
    "The above command ``setup_registry`` only requires\n",
    "\n",
    "- A ``directory`` path mainly used to save potentially serialized data during execution (e.g.., results, data, model weights...)\n",
    "- A ``module_directories`` list of base folders from which to look for registrations\n",
    "- ``generate_registrations=True`` tells the ``Registry`` to serialize in JSON format all ``RegistrationKey`` (*for visualization purposes*)"
   ]
  },
  {
   "cell_type": "markdown",
   "id": "df8e4fbd",
   "metadata": {
    "slideshow": {
     "slide_type": "subslide"
    }
   },
   "source": [
    "#### Behind the curtains\n",
    "\n",
    "The ``Registry`` is looking for all ``register(...)`` functions in every ``__init__.py`` in subfolders of each directory in ``module_directories``"
   ]
  },
  {
   "cell_type": "markdown",
   "id": "fd89c863",
   "metadata": {
    "slideshow": {
     "slide_type": "fragment"
    }
   },
   "source": [
    "#### Limitations\n",
    "\n",
    "Registration is **always done** at **runtime**!\n",
    "\n",
    "Thus, **always** begin your script with ``setup_registry(...)``"
   ]
  },
  {
   "cell_type": "markdown",
   "id": "19efb11f",
   "metadata": {
    "slideshow": {
     "slide_type": "subslide"
    }
   },
   "source": [
    "### Inspecting found registrations\n",
    "\n",
    "A ``registrations`` folder will be created under ``directory``.\n",
    "\n",
    "``\n",
    "    project_folder\n",
    "        |\n",
    "        |__ configurations\n",
    "        |\n",
    "        |__ components\n",
    "        |\n",
    "        |__ registrations\n",
    "        |      |\n",
    "        |      |__ examples    # <-- this is the namespace!\n",
    "        |             |\n",
    "        |             |__ components.json\n",
    "        |             |\n",
    "        |             |__ configurations.json\n",
    "        |\n",
    "        |__ my_script.py\n",
    "``"
   ]
  },
  {
   "cell_type": "code",
   "execution_count": null,
   "id": "013c8e87",
   "metadata": {
    "slideshow": {
     "slide_type": "fragment"
    }
   },
   "outputs": [],
   "source": [
    "# registrations/examples/configurations.json\n",
    "[\n",
    "    \"name:data_loader--tags:['default', 'imdb']--namespace:examples\",\n",
    "]"
   ]
  },
  {
   "cell_type": "markdown",
   "id": "c9bef773",
   "metadata": {
    "slideshow": {
     "slide_type": "slide"
    }
   },
   "source": [
    "## Training a SVM model with deasy-learning\n",
    "\n",
    "Enough showcasing! Let's see some practical example (*still a showcase ehehe...*)\n",
    "\n",
    "#### Steps\n",
    "\n",
    "- Data loading: IMDB dataset\n",
    "- Preprocessor pipeline: some text normalization and tf-idf encoding\n",
    "- Model: a SVM\n",
    "- Routine: a train and test routine"
   ]
  },
  {
   "cell_type": "markdown",
   "id": "9e6d14c9",
   "metadata": {
    "slideshow": {
     "slide_type": "subslide"
    }
   },
   "source": [
    "### Data loading (Component)\n",
    "\n",
    "Let's define a base ``DataLoader`` component."
   ]
  },
  {
   "cell_type": "markdown",
   "id": "a82e6fd5",
   "metadata": {
    "slideshow": {
     "slide_type": "fragment"
    }
   },
   "source": [
    "```python\n",
    "class DataLoader(Component):\n",
    "\n",
    "    @abc.abstractmethod\n",
    "    def load_data(self\n",
    "    ) -> Any:\n",
    "        pass\n",
    "\n",
    "    @abc.abstractmethod\n",
    "    def get_splits(\n",
    "            self,\n",
    "    ) -> Tuple[Optional[pd.DataFrame], Optional[pd.DataFrame], Optional[pd.DataFrame]]:\n",
    "        pass\n",
    "\n",
    "    @abc.abstractmethod\n",
    "    def parse(\n",
    "            self,\n",
    "            data: pd.DataFrame,\n",
    "            data_name: str\n",
    "    ) -> FieldDict:\n",
    "        pass\n",
    "\n",
    "    @serialize_run\n",
    "    def run(self,\n",
    "            serialization_path: Optional[Union[AnyStr, Path]] = None,\n",
    "            serialize: bool = False,\n",
    "            ) -> FieldDict:\n",
    "        train_data, val_data, test_data = self.get_splits()\n",
    "\n",
    "        # We might use a DataLoader to load inference data only\n",
    "        if not self.has_test_split_only:\n",
    "            if train_data is None:\n",
    "                raise UnspecifiedDataSplitException(split='training')\n",
    "\n",
    "            if self.has_val_split and val_data is None:\n",
    "                raise UnspecifiedDataSplitException(split='validation')\n",
    "\n",
    "        if self.has_test_split and test_data is None:\n",
    "            raise UnspecifiedDataSplitException(split='test')\n",
    "\n",
    "        # Build instances\n",
    "        result = FieldDict()\n",
    "        if train_data is not None:\n",
    "            train_data = self.parse(data=train_data,\n",
    "                                    data_name=f'train')\n",
    "        result.add_short(name='train',\n",
    "                         value=train_data,\n",
    "                         type_hint=FieldDict,\n",
    "                         tags={'train'})\n",
    "        if val_data is not None:\n",
    "            val_data = self.parse(data=val_data,\n",
    "                                  data_name='val')\n",
    "        result.add_short(name='val',\n",
    "                         value=val_data,\n",
    "                         type_hint=FieldDict,\n",
    "                         tags={'val'})\n",
    "        if test_data is not None:\n",
    "            test_data = self.parse(data=test_data,\n",
    "                                   data_name='test')\n",
    "        result.add_short(name='test',\n",
    "                         value=test_data,\n",
    "                         type_hint=FieldDict,\n",
    "                         tags={'test'})\n",
    "\n",
    "        return result\n",
    "```"
   ]
  },
  {
   "cell_type": "markdown",
   "id": "cba71928",
   "metadata": {
    "slideshow": {
     "slide_type": "subslide"
    }
   },
   "source": [
    "And now we define our ``DataLoader`` for IMDB\n",
    "\n",
    "```python\n",
    "class ExampleLoader(DataLoader):\n",
    "\n",
    "    def __init__(\n",
    "            self,\n",
    "            **kwargs\n",
    "    ):\n",
    "        super().__init__(**kwargs)\n",
    "\n",
    "        # Update directory paths\n",
    "        file_manager = Registry.retrieve_built_component_from_key(self.file_manager_regr_info)\n",
    "        file_manager = cast(FileManager, file_manager)\n",
    "\n",
    "        self.download_path = file_manager.run(filepath=self.download_directory).joinpath(self.download_filename)\n",
    "        self.extraction_path = self.download_path.parents[0]\n",
    "        self.dataframe_path = self.extraction_path.joinpath('dataset.csv')\n",
    "\n",
    "    def download(\n",
    "            self\n",
    "    ):\n",
    "        request.urlretrieve(self.data_url, self.download_path)\n",
    "\n",
    "        logging_utility.logger.info('Download complete...Extracting files...')\n",
    "        with tarfile.open(self.download_path) as loaded_tar:\n",
    "            loaded_tar.extractall(self.extraction_path)\n",
    "        logging_utility.logger.info('Extraction complete...')\n",
    "\n",
    "    def read_df_from_files(\n",
    "            self\n",
    "    ) -> pd.DataFrame:\n",
    "        dataframe_rows = []\n",
    "        for split in ['train', 'test']:\n",
    "            for sentiment in ['pos', 'neg']:\n",
    "                folder = self.extraction_path.joinpath('aclImdb', split, sentiment)\n",
    "                for filepath in folder.glob('**/*'):\n",
    "                    if not filepath.is_file():\n",
    "                        continue\n",
    "\n",
    "                    filename = filepath.name\n",
    "                    with filepath.open(mode='r', encoding='utf-8') as text_file:\n",
    "                        text = text_file.read()\n",
    "                        score = filename.split(\"_\")[1].split(\".\")[0]\n",
    "                        file_id = filename.split(\"_\")[0]\n",
    "\n",
    "                        # create single dataframe row\n",
    "                        dataframe_row = {\n",
    "                            \"file_id\": file_id,\n",
    "                            \"score\": score,\n",
    "                            \"sentiment\": sentiment,\n",
    "                            \"split\": split,\n",
    "                            \"text\": text\n",
    "                        }\n",
    "                        dataframe_rows.append(dataframe_row)\n",
    "\n",
    "        df = pd.DataFrame(dataframe_rows)\n",
    "        df = df[[\"file_id\",\n",
    "                 \"score\",\n",
    "                 \"sentiment\",\n",
    "                 \"split\",\n",
    "                 \"text\"]]\n",
    "\n",
    "        # Save dataframe for quick retrieval\n",
    "        df.to_csv(path_or_buf=self.dataframe_path, index=None)\n",
    "\n",
    "        return df\n",
    "\n",
    "    def load_data(\n",
    "            self\n",
    "    ) -> pd.DataFrame:\n",
    "        if not self.download_path.is_file():\n",
    "            logging_utility.logger.info('First time loading dataset...Downloading...')\n",
    "            self.download()\n",
    "            df = self.read_df_from_files()\n",
    "        else:\n",
    "            if self.dataframe_path.is_file():\n",
    "                logging_utility.logger.info('Loaded pre-loaded dataset...')\n",
    "                df = pd.read_csv(self.dataframe_path)\n",
    "            else:\n",
    "                logging_utility.logger.info(\"Couldn't find pre-loaded dataset...Building dataset from files...\")\n",
    "                df = self.read_df_from_files()\n",
    "                df.to_csv(self.dataframe_path, index=False)\n",
    "\n",
    "        return df\n",
    "\n",
    "    def get_splits(\n",
    "            self,\n",
    "    ) -> Tuple[Optional[pd.DataFrame], Optional[pd.DataFrame], Optional[pd.DataFrame]]:\n",
    "        df = self.load_data()\n",
    "        train = df[df.split == 'train'].sample(frac=1).reset_index(drop=True)[:self.samples_amount]\n",
    "        val = None\n",
    "        test = df[df.split == 'test'].sample(frac=1).reset_index(drop=True)[:self.samples_amount]\n",
    "\n",
    "        return train, val, test\n",
    "\n",
    "    def parse(\n",
    "            self,\n",
    "            data: pd.DataFrame,\n",
    "            data_name: str\n",
    "    ) -> Optional[FieldDict]:\n",
    "        if data is None:\n",
    "            return data\n",
    "\n",
    "        return_field = FieldDict()\n",
    "        return_field.add_short(name='text',\n",
    "                               value=data['text'].values,\n",
    "                               type_hint=Iterable[str],\n",
    "                               tags={'text'},\n",
    "                               description='Input text to classify')\n",
    "        return_field.add_short(name='sentiment',\n",
    "                               value=data['sentiment'].values,\n",
    "                               type_hint=Iterable[str],\n",
    "                               tags={'label'},\n",
    "                               description='Sentiment associated to text')\n",
    "        return return_field\n",
    "```"
   ]
  },
  {
   "cell_type": "markdown",
   "id": "37218bfe",
   "metadata": {
    "slideshow": {
     "slide_type": "subslide"
    }
   },
   "source": [
    "### Data loading (Configuration)\n",
    "\n",
    "We have defined our ``Component``, we now define the corresponding ``Configuration``\n",
    "\n",
    "```python\n",
    "class DataLoaderConfig(TunableConfiguration):\n",
    "\n",
    "    @classmethod\n",
    "    def get_default(\n",
    "            cls\n",
    "    ):\n",
    "        config = super().get_default()\n",
    "\n",
    "        config.add_short(name='name',\n",
    "                         type_hint=str,\n",
    "                         description=\"Unique dataset identifier\",\n",
    "                         is_required=True)\n",
    "        config.add_short(name='has_test_split_only',\n",
    "                         value=False,\n",
    "                         type_hint=bool,\n",
    "                         description=\"Whether DataLoader has test split only or not\")\n",
    "        config.add_short(name='has_val_split',\n",
    "                         value=True,\n",
    "                         type_hint=bool,\n",
    "                         description=\"Whether DataLoader has a val split or not\")\n",
    "        config.add_short(name='has_test_split',\n",
    "                         value=True,\n",
    "                         type_hint=bool,\n",
    "                         description=\"Whether DataLoader has a test split or not\")\n",
    "\n",
    "        return config\n",
    "\n",
    "```"
   ]
  },
  {
   "cell_type": "markdown",
   "id": "f98657bf",
   "metadata": {
    "slideshow": {
     "slide_type": "fragment"
    }
   },
   "source": [
    "```python\n",
    "class ExampleLoaderConfig(DataLoaderConfig):\n",
    "\n",
    "    @classmethod\n",
    "    def get_default(\n",
    "            cls\n",
    "    ):\n",
    "        config = super().get_default()\n",
    "\n",
    "        config.has_val_split = False\n",
    "        config.name = 'example_dataset'\n",
    "\n",
    "        config.add_short(name='file_manager_regr_info', value=RegistrationKey(\n",
    "            name='file_manager',\n",
    "            tags={'default'},\n",
    "            namespace='generic'\n",
    "        ), type_hint=RegistrationKey, description=\"registration info of built FileManager component.\"\n",
    "                                                  \" Used for filesystem interfacing\")\n",
    "        config.add_short(name='data_url', value='http://ai.stanford.edu/~amaas/data/sentiment/aclImdb_v1.tar.gz',\n",
    "                         type_hint=AnyStr, description='URL to dataset archive file')\n",
    "        config.add_short(name='download_directory', value='imdb', type_hint=str,\n",
    "                         description='Folder the archive file is downloaded', is_required=True)\n",
    "        config.add_short(name='download_filename', value='imdb.tar.gz', type_hint=str,\n",
    "                         description='Name of the archive file', is_required=True)\n",
    "        config.add_short(name='samples_amount', value=500, type_hint=int,\n",
    "                         description='Number of samples per split to consider at maximum')\n",
    "\n",
    "        return config\n",
    "\n",
    "\n",
    "def register_data_loaders():\n",
    "    Registry.register_and_bind(configuration_class=ExampleLoaderConfig,\n",
    "                               component_class=ExampleLoader,\n",
    "                               name='data_loader',\n",
    "                               tags={'imdb'},\n",
    "                               is_default=True,\n",
    "                               namespace='examples')\n",
    "```"
   ]
  },
  {
   "cell_type": "markdown",
   "id": "a3bfd92a",
   "metadata": {
    "slideshow": {
     "slide_type": "subslide"
    }
   },
   "source": [
    "### Data loading (Testing)\n",
    "\n",
    "Let's test our ``ExampleDataLoader``!"
   ]
  },
  {
   "cell_type": "code",
   "execution_count": null,
   "id": "ea34c830",
   "metadata": {
    "slideshow": {
     "slide_type": "fragment"
    }
   },
   "outputs": [],
   "source": [
    "from pathlib import Path\n",
    "from typing import cast\n",
    "\n",
    "from deasy_learning_generic.components.data_loader import DataLoader\n",
    "from deasy_learning_generic.core.commands import setup_registry\n",
    "from deasy_learning_generic.core.registry import Registry\n",
    "from deasy_learning_generic.utility import logging_utility\n",
    "\n",
    "if __name__ == '__main__':\n",
    "    directory = Path(__file__).parent.parent.resolve()\n",
    "    module_directories = [\n",
    "        Path(__file__).parent.parent.parent.resolve()\n",
    "    ]\n",
    "\n",
    "    setup_registry(directory=directory,\n",
    "                   module_directories=module_directories,\n",
    "                   generate_registration=True)\n",
    "\n",
    "    logging_utility.logger.info(f'Directory: {directory}')\n",
    "\n",
    "    loader_regr_key = \"name:data_loader--tags:['default', 'imdb']--namespace:examples\"\n",
    "    loader = Registry.retrieve_component_from_key(config_regr_key=loader_regr_key)\n",
    "    loader = cast(DataLoader, loader)\n",
    "    data = loader.run()\n",
    "    logging_utility.logger.info(data)"
   ]
  },
  {
   "cell_type": "markdown",
   "id": "53129fe0",
   "metadata": {
    "slideshow": {
     "slide_type": "subslide"
    }
   },
   "source": [
    "### Data pre-processing (Component)\n",
    "\n",
    "We now define how to convert our inputs to be digested by our SVM model.\n",
    "\n",
    "```python\n",
    "class Processor(Component):\n",
    "\n",
    "    @abc.abstractmethod\n",
    "    def process(\n",
    "            self,\n",
    "            data: FieldDict,\n",
    "            is_training_data: bool = False\n",
    "    ) -> FieldDict:\n",
    "        pass\n",
    "\n",
    "    @serialize_run\n",
    "    def run(\n",
    "            self,\n",
    "            data: Optional[FieldDict] = None,\n",
    "            is_training_data: bool = False,\n",
    "            serialization_path: Optional[Union[AnyStr, Path]] = None,\n",
    "            serialize: bool = False,\n",
    "    ) -> Optional[FieldDict]:\n",
    "        if data is None:\n",
    "            return data\n",
    "\n",
    "        return self.process(data=data, is_training_data=is_training_data)\n",
    "```"
   ]
  },
  {
   "cell_type": "markdown",
   "id": "195c555f",
   "metadata": {
    "slideshow": {
     "slide_type": "subslide"
    }
   },
   "source": [
    "```python\n",
    "class TfIdfProcessor(Processor):\n",
    "\n",
    "    def __init__(\n",
    "            self,\n",
    "            **kwargs\n",
    "    ):\n",
    "        super().__init__(**kwargs)\n",
    "        self.vectorizer = TfidfVectorizer(ngram_range=self.ngram_range)\n",
    "\n",
    "    def process(\n",
    "            self,\n",
    "            data: FieldDict,\n",
    "            is_training_data: bool = False,\n",
    "    ):\n",
    "        if is_training_data:\n",
    "            text_data = data.search_by_tag(tags='text')\n",
    "            text_data = list(itertools.chain.from_iterable([field.value for field in text_data.values()]))\n",
    "            self.vectorizer.fit(text_data)\n",
    "\n",
    "        text_fields = data.search_by_tag(tags='text')\n",
    "        for index, field in text_fields.items():\n",
    "            data[index] = self.vectorizer.transform(field.value)\n",
    "        return data\n",
    "```"
   ]
  },
  {
   "cell_type": "markdown",
   "id": "0778f8f0",
   "metadata": {
    "slideshow": {
     "slide_type": "fragment"
    }
   },
   "source": [
    "```python\n",
    "class LabelProcessor(Processor):\n",
    "\n",
    "    def __init__(\n",
    "            self,\n",
    "            **kwargs\n",
    "    ):\n",
    "        super().__init__(**kwargs)\n",
    "        self.encoders = dict()\n",
    "\n",
    "    def process(\n",
    "            self,\n",
    "            data: FieldDict,\n",
    "            is_training_data: bool = False\n",
    "    ):\n",
    "        if is_training_data and data is not None:\n",
    "            label_fields = data.search_by_tag(tags='label')\n",
    "            for index, field in label_fields.items():\n",
    "                field_encoder = LabelEncoder() if index not in self.encoders else self.encoders[index]\n",
    "                field_encoder.fit(field.value)\n",
    "                self.encoders[index] = field_encoder\n",
    "\n",
    "        label_fields = data.search_by_tag(tags='label')\n",
    "        for index, field in label_fields.items():\n",
    "            field_encoder = self.encoders[field.name]\n",
    "            data[index] = field_encoder.transform(field.value)\n",
    "        return data\n",
    "\n",
    "```"
   ]
  },
  {
   "cell_type": "markdown",
   "id": "f2b99231",
   "metadata": {
    "slideshow": {
     "slide_type": "subslide"
    }
   },
   "source": [
    "### Data pre-processing (Configuration)\n",
    "\n",
    "As done before, we define the corresponding ``Configuration``\n",
    "\n",
    "```python\n",
    "class TfIdfProcessorConfig(TunableConfiguration):\n",
    "\n",
    "    @classmethod\n",
    "    def get_default(\n",
    "            cls\n",
    "    ):\n",
    "        config = super().get_default()\n",
    "\n",
    "        config.add_short(name='ngram_range',\n",
    "                         value=(1, 1),\n",
    "                         type_hint=Any,\n",
    "                         description='Vectorizer ngram_range hyper-parameter')\n",
    "\n",
    "        return config\n",
    "\n",
    "def register_processors():\n",
    "    tfidf_regr_key = Registry.register_and_bind(configuration_class=TfIdfProcessorConfig,\n",
    "                                                component_class=TfIdfProcessor,\n",
    "                                                name='processor',\n",
    "                                                tags={'tf-idf'},\n",
    "                                                is_default=True,\n",
    "                                                namespace='examples')\n",
    "\n",
    "    label_regr_key = Registry.register_and_bind(configuration_class=TunableConfiguration,\n",
    "                                                component_class=LabelProcessor,\n",
    "                                                name='processor',\n",
    "                                                tags={'label'},\n",
    "                                                is_default=True,\n",
    "                                                namespace='examples')\n",
    "\n",
    "    Registry.register_and_bind(configuration_class=ProcessorPipelineConfig,\n",
    "                               configuration_constructor=ProcessorPipelineConfig.get_delta_class_copy,\n",
    "                               configuration_kwargs={\n",
    "                                   'params_dict': {\n",
    "                                       'processors': [\n",
    "                                           tfidf_regr_key,\n",
    "                                           label_regr_key\n",
    "                                       ]\n",
    "                                   }\n",
    "                               },\n",
    "                               component_class=ProcessorPipeline,\n",
    "                               name='processor',\n",
    "                               tags={'tf-idf', 'label'},\n",
    "                               namespace='examples')\n",
    "\n",
    "```"
   ]
  },
  {
   "cell_type": "markdown",
   "id": "c77dcaf8",
   "metadata": {
    "slideshow": {
     "slide_type": "subslide"
    }
   },
   "source": [
    "### Data pre-processing (Testing)\n",
    "\n",
    "Again, let's test our loading + preprocessing pipeline!"
   ]
  },
  {
   "cell_type": "markdown",
   "id": "29ecfa0e",
   "metadata": {
    "slideshow": {
     "slide_type": "fragment"
    }
   },
   "source": [
    "```python\n",
    "from pathlib import Path\n",
    "from typing import cast\n",
    "\n",
    "from deasy_learning_generic.components.data_loader import DataLoader\n",
    "from deasy_learning_generic.components.file_manager import FileManager\n",
    "from deasy_learning_generic.components.processor import Processor\n",
    "from deasy_learning_generic.core.commands import setup_registry\n",
    "from deasy_learning_generic.core.registry import Registry\n",
    "from deasy_learning_generic.utility import logging_utility\n",
    "\n",
    "if __name__ == '__main__':\n",
    "    directory = Path(__file__).parent.parent.resolve()\n",
    "    module_directories = [\n",
    "        Path(__file__).parent.parent.parent.resolve()\n",
    "    ]\n",
    "\n",
    "    file_manager_regr_key = setup_registry(directory=directory,\n",
    "                                           module_directories=module_directories,\n",
    "                                           generate_registration=True)\n",
    "\n",
    "    file_manager = Registry.retrieve_built_component_from_key(config_regr_key=file_manager_regr_key)\n",
    "    file_manager = cast(FileManager, file_manager)\n",
    "    serialization_path = file_manager.run(filepath=file_manager.serialization_directory)\n",
    "    serialize = True\n",
    "\n",
    "    # DataLoader (dl)\n",
    "    dl_regr_key = \"name:data_loader--tags:['default', 'imdb']--namespace:examples\"\n",
    "    dl = Registry.retrieve_component_from_key(config_regr_key=dl_regr_key)\n",
    "    dl = cast(DataLoader, dl)\n",
    "    data = dl.run(serialization_path=serialization_path, serialize=serialize)\n",
    "\n",
    "    # TfIdfProcessor (tip)\n",
    "    tip_regr_key = \"name:processor--tags:{'default', 'tf-idf'}--namespace:examples\"\n",
    "    tip = Registry.retrieve_component_from_key(config_regr_key=tip_regr_key)\n",
    "    tip = cast(Processor, tip)\n",
    "    tip.run(data=data.train, is_training_data=True, serialization_path=serialization_path)\n",
    "    tip.run(data=data.val)\n",
    "    tip.run(data=data.test, serialize=serialize, serialization_path=serialization_path)\n",
    "\n",
    "    # LabelProcessor (lp)\n",
    "    lp_regr_key = \"name:processor--tags:{'label', 'default'}--namespace:examples\"\n",
    "    lp = Registry.retrieve_component_from_key(config_regr_key=lp_regr_key)\n",
    "    lp = cast(Processor, lp)\n",
    "    lp.run(data=data.train, is_training_data=True)\n",
    "    lp.run(data=data.val)\n",
    "    lp.run(data=data.test, serialize=serialize, serialization_path=serialization_path)\n",
    "    logging_utility.logger.info(f'Train: {data.train}')\n",
    "    logging_utility.logger.info(f'Val: {data.val}')\n",
    "    logging_utility.logger.info(f'Test: {data.test}')\n",
    "```"
   ]
  },
  {
   "cell_type": "markdown",
   "id": "b48bec3c",
   "metadata": {
    "slideshow": {
     "slide_type": "subslide"
    }
   },
   "source": [
    "### Modeling (Component)\n",
    "\n",
    "We are now ready to define our SVM ``Component`` wrapper!"
   ]
  },
  {
   "cell_type": "markdown",
   "id": "e5c25c94",
   "metadata": {
    "slideshow": {
     "slide_type": "fragment"
    }
   },
   "source": [
    "```python\n",
    "class ExampleModel(Model):\n",
    "\n",
    "    def build_model(\n",
    "            self,\n",
    "            processor_state: FieldDict,\n",
    "            callbacks: Optional[CallbackPipeline] = None\n",
    "    ):\n",
    "        self.model = SVC(C=self.C,\n",
    "                         kernel=self.kernel,\n",
    "                         class_weight=self.class_weight)\n",
    "\n",
    "    def predict(\n",
    "            self,\n",
    "            data: FieldDict,\n",
    "            callbacks: Optional[CallbackPipeline] = None,\n",
    "            metrics: Optional[MetricPipeline] = None\n",
    "    ) -> FieldDict:\n",
    "        model_data = self.get_model_data(data=data, with_labels=True)\n",
    "        predictions = self.model.predict(X=model_data['X'])\n",
    "\n",
    "        return_field = FieldDict()\n",
    "        return_field.add_short(name='predictions',\n",
    "                               value=predictions)\n",
    "\n",
    "        if 'y' in model_data and metrics is not None:\n",
    "            metrics_result = metrics.run(y_pred=predictions,\n",
    "                                         y_true=model_data['y'])\n",
    "            return_field.add_short(name='metrics',\n",
    "                                   value=metrics_result)\n",
    "\n",
    "        return return_field\n",
    "\n",
    "    def get_model_data(\n",
    "            self,\n",
    "            data: FieldDict,\n",
    "            with_labels: bool = False\n",
    "    ) -> Dict[str, Iterable]:\n",
    "        return_data = dict()\n",
    "\n",
    "        text_data = list(data.search_by_tag(tags='text').values())[0].value\n",
    "        return_data['X'] = text_data\n",
    "\n",
    "        if with_labels:\n",
    "            label_data = data.search_by_tag(tags='label')\n",
    "            if len(label_data):\n",
    "                label_data = list(label_data.values())[0].value\n",
    "                return_data['y'] = label_data\n",
    "\n",
    "        return return_data\n",
    "\n",
    "    def fit(\n",
    "            self,\n",
    "            train_data: FieldDict,\n",
    "            val_data: Optional[FieldDict] = None,\n",
    "            metrics: Optional[MetricPipeline] = None,\n",
    "            callbacks: Optional[CallbackPipeline] = None\n",
    "    ) -> FieldDict:\n",
    "        train_info = self.model.fit(**self.get_model_data(data=train_data, with_labels=True))\n",
    "\n",
    "        return_field = FieldDict()\n",
    "        return_field.add_short(name='train_info',\n",
    "                               value=train_info)\n",
    "\n",
    "        if val_data is not None:\n",
    "            val_info = self.evaluate_and_predict(data=val_data,\n",
    "                                                 callbacks=callbacks,\n",
    "                                                 metrics=metrics)\n",
    "            return_field.add_short(name='val_info',\n",
    "                                   value=val_info)\n",
    "        return return_field\n",
    "\n",
    "```"
   ]
  },
  {
   "cell_type": "markdown",
   "id": "e8d7b9c4",
   "metadata": {
    "slideshow": {
     "slide_type": "subslide"
    }
   },
   "source": [
    "### Modeling (Configuration)"
   ]
  },
  {
   "cell_type": "code",
   "execution_count": null,
   "id": "3a23ea00",
   "metadata": {
    "slideshow": {
     "slide_type": "fragment"
    }
   },
   "outputs": [],
   "source": [
    "class ExampleModelConfig(TunableConfiguration):\n",
    "\n",
    "    @classmethod\n",
    "    def get_default(\n",
    "            cls\n",
    "    ):\n",
    "        config = super().get_default()\n",
    "\n",
    "        config.add_short(name='C',\n",
    "                         value=1.0,\n",
    "                         type_hint=float,\n",
    "                         description='C parameter of SVC')\n",
    "        config.add_short(name='kernel', type_hint=str, value='linear')\n",
    "        config.add_short(name='class_weight', type_hint=str, value='balanced')\n",
    "\n",
    "        return config\n",
    "\n",
    "\n",
    "def register_models():\n",
    "    Registry.register_and_bind(configuration_class=ExampleModelConfig,\n",
    "                               component_class=ExampleModel,\n",
    "                               name='model',\n",
    "                               tags={'svm'},\n",
    "                               is_default=True,\n",
    "                               namespace='examples')"
   ]
  },
  {
   "cell_type": "markdown",
   "id": "353839f4",
   "metadata": {
    "slideshow": {
     "slide_type": "subslide"
    }
   },
   "source": [
    "### Metrics (Configuration)\n",
    "\n",
    "Before testing our model, we might define some metrics"
   ]
  },
  {
   "cell_type": "markdown",
   "id": "fabf2023",
   "metadata": {
    "slideshow": {
     "slide_type": "fragment"
    }
   },
   "source": [
    "```python\n",
    "from sklearn.metrics import f1_score, accuracy_score\n",
    "\n",
    "from deasy_learning_generic.components.metrics import MetricPipeline, LambdaMetric\n",
    "from deasy_learning_generic.configurations.metrics import MetricManagerConfig, LambdaMetricConfig\n",
    "from deasy_learning_generic.core.configuration import add_variant, supports_variants\n",
    "from deasy_learning_generic.core.registry import Registry\n",
    "\n",
    "\n",
    "@supports_variants\n",
    "class ExampleLambdaMetricConfig(LambdaMetricConfig):\n",
    "\n",
    "    @classmethod\n",
    "    @add_variant('binary_F1')\n",
    "    def get_sklearn_binary_f1(\n",
    "            cls\n",
    "    ):\n",
    "        config = cls.get_default()\n",
    "        config.name = 'binary_f1'\n",
    "        config.method = f1_score\n",
    "        config.method_args = {'average': 'binary', 'pos_label': 1}\n",
    "        return config\n",
    "\n",
    "    @classmethod\n",
    "    @add_variant('macro_F1')\n",
    "    def get_sklearn_macro_f1(\n",
    "            cls\n",
    "    ):\n",
    "        config = cls.get_default()\n",
    "        config.name = 'macro_f1'\n",
    "        config.method = f1_score\n",
    "        config.method_args = {'average': 'macro'}\n",
    "        return config\n",
    "\n",
    "    @classmethod\n",
    "    @add_variant('accuracy')\n",
    "    def get_sklearn_accuracy(\n",
    "            cls\n",
    "    ):\n",
    "        config = cls.get_default()\n",
    "        config.name = 'accuracy'\n",
    "        config.method = accuracy_score\n",
    "        return config\n",
    "\n",
    "\n",
    "def register_metrics_configurations():\n",
    "    variant_regr_keys = Registry.register_and_bind_configuration_variants(configuration_class=ExampleLambdaMetricConfig,\n",
    "                                                                          component_class=LambdaMetric,\n",
    "                                                                          name='metrics',\n",
    "                                                                          namespace='examples')\n",
    "\n",
    "    Registry.register_and_bind(configuration_class=MetricManagerConfig,\n",
    "                               configuration_constructor=MetricManagerConfig.get_delta_class_copy,\n",
    "                               configuration_kwargs={\n",
    "                                   'params_dict': {\n",
    "                                       'metrics': variant_regr_keys\n",
    "                                   }\n",
    "                               },\n",
    "                               component_class=MetricPipeline,\n",
    "                               name='metrics',\n",
    "                               tags={'binary_f1', 'macro_f1', 'accuracy'},\n",
    "                               namespace='examples')\n",
    "\n",
    "```"
   ]
  },
  {
   "cell_type": "markdown",
   "id": "0cc0e07c",
   "metadata": {
    "slideshow": {
     "slide_type": "subslide"
    }
   },
   "source": [
    "### Modeling (Testing)\n",
    "\n",
    "Let's see if we can train and evaluate our model!"
   ]
  },
  {
   "cell_type": "markdown",
   "id": "c3bafa21",
   "metadata": {
    "slideshow": {
     "slide_type": "fragment"
    }
   },
   "source": [
    "```python\n",
    "from pathlib import Path\n",
    "from typing import cast\n",
    "\n",
    "from deasy_learning_generic.components.data_loader import DataLoader\n",
    "from deasy_learning_generic.components.metrics import MetricPipeline\n",
    "from deasy_learning_generic.components.model import Model\n",
    "from deasy_learning_generic.components.processor import Processor\n",
    "from deasy_learning_generic.core.commands import setup_registry\n",
    "from deasy_learning_generic.core.registry import Registry\n",
    "from deasy_learning_generic.utility import logging_utility\n",
    "\n",
    "if __name__ == '__main__':\n",
    "    directory = Path(__file__).parent.parent.resolve()\n",
    "    module_directories = [\n",
    "        Path(__file__).parent.parent.parent.resolve()\n",
    "    ]\n",
    "\n",
    "    file_manager_regr_key = setup_registry(directory=directory,\n",
    "                                           module_directories=module_directories,\n",
    "                                           generate_registration=True)\n",
    "    # DataLoader (dl)\n",
    "    dl_regr_key = \"name:data_loader--tags:{'imdb', 'default'}--namespace:examples\"\n",
    "    dl = Registry.retrieve_component_from_key(config_regr_key=dl_regr_key)\n",
    "    dl = cast(DataLoader, dl)\n",
    "    data = dl.run()\n",
    "\n",
    "    # TfIdfProcessor (tip)\n",
    "    tip_regr_key = \"name:processor--tags:{'default', 'tf-idf'}--namespace:examples\"\n",
    "    tip = Registry.retrieve_component_from_key(config_regr_key=tip_regr_key)\n",
    "    tip = cast(Processor, tip)\n",
    "    tip.run(data=data.train, is_training_data=True)\n",
    "    tip.run(data=data.val)\n",
    "    tip.run(data=data.test)\n",
    "\n",
    "    # LabelProcessor (lp)\n",
    "    lp_regr_key = \"name:processor--tags:{'label', 'default'}--namespace:examples\"\n",
    "    lp = Registry.retrieve_component_from_key(config_regr_key=lp_regr_key)\n",
    "    lp = cast(Processor, lp)\n",
    "    lp.run(data=data.train, is_training_data=True)\n",
    "    lp.run(data=data.val)\n",
    "    lp.run(data=data.test)\n",
    "    logging_utility.logger.info(f'Train: {data.train}')\n",
    "    logging_utility.logger.info(f'Val: {data.val}')\n",
    "    logging_utility.logger.info(f'Test: {data.test}')\n",
    "\n",
    "    # Metrics\n",
    "    metrics_regr_key = \"name:metrics--tags:['accuracy', 'binary_f1', 'macro_f1']--namespace:examples\"\n",
    "    metrics = Registry.retrieve_component_from_key(config_regr_key=metrics_regr_key)\n",
    "    metrics = cast(MetricPipeline, metrics)\n",
    "\n",
    "    # Model\n",
    "    model_regr_key = \"name:model--tags:['default', 'svm']--namespace:examples\"\n",
    "    model = Registry.retrieve_component_from_key(config_regr_key=model_regr_key)\n",
    "    model = cast(Model, model)\n",
    "\n",
    "    # Training\n",
    "    model.build_model(processor_state=lp.state)\n",
    "    fit_info = model.fit(train_data=data.train,\n",
    "                         val_data=data.val,\n",
    "                         metrics=metrics,\n",
    "                         callbacks=None)\n",
    "    logging_utility.logger.info(f'Fit info: {fit_info}')\n",
    "\n",
    "    predict_info = model.predict(data=data.test,\n",
    "                                 metrics=metrics)\n",
    "    logging_utility.logger.info(f'Predict info: {predict_info}')\n",
    "```"
   ]
  },
  {
   "cell_type": "markdown",
   "id": "d8d745f0",
   "metadata": {
    "slideshow": {
     "slide_type": "subslide"
    }
   },
   "source": [
    "### Routine\n",
    "\n",
    "The ``Routine`` is our task pipeline: from data loading to model training and evaluation"
   ]
  },
  {
   "cell_type": "markdown",
   "id": "92d3f664",
   "metadata": {
    "slideshow": {
     "slide_type": "fragment"
    }
   },
   "source": [
    "```python\n",
    "class TrainAndTestRoutine(Routine):\n",
    "\n",
    "    def get_random_split(\n",
    "            self,\n",
    "            data: pd.DataFrame\n",
    "    ) -> Tuple[pd.DataFrame, pd.DataFrame]:\n",
    "        amount = int(len(data) * self.validation_percentage)\n",
    "        all_indexes = np.arange(len(data))\n",
    "        split_indexes = np.random.choice(all_indexes, size=amount, replace=False)\n",
    "        remaining_indexes = np.array([idx for idx in all_indexes if idx not in split_indexes])\n",
    "        split_data = data[split_indexes]\n",
    "        remaining_data = data[remaining_indexes]\n",
    "        return remaining_data, split_data\n",
    "\n",
    "    def build_routine_splits(\n",
    "            self,\n",
    "            train_data: pd.DataFrame = None,\n",
    "            val_data: pd.DataFrame = None,\n",
    "            test_data: pd.DataFrame = None,\n",
    "            is_training: bool = False\n",
    "    ) -> Tuple[pd.DataFrame, pd.DataFrame, pd.DataFrame]:\n",
    "        logging_utility.logger.info(f'''\n",
    "        Building routine splits...\n",
    "        Train data: {len(train_data) if train_data is not None else train_data}\n",
    "        Validation data: {len(val_data) if val_data is not None else val_data}\n",
    "        Test data: {len(test_data) if test_data is not None else test_data}\n",
    "        ''')\n",
    "\n",
    "        if is_training:\n",
    "            assert train_data is not None, f'Training data should be given when training. Got {train_data}'\n",
    "\n",
    "        if self.has_val_split:\n",
    "            if train_data is not None and val_data is None:\n",
    "                assert self.validation_percentage is not None, \"Routine is expected to build the validation data,\" \\\n",
    "                                                               \" but no validation percentage was given\"\n",
    "\n",
    "                logging_utility.logger.info(f'Randomly splitting train data into train and validation splits. '\n",
    "                                            f'Validation percentage: {self.validation_percentage}')\n",
    "                train_data, val_data = self.get_random_split(data=train_data)\n",
    "\n",
    "        if test_data is None and self.parameter_dict[\"has_test_split\"]:\n",
    "            logging_utility.logger.info(f'Randomly splitting train data into train and test splits. '\n",
    "                                        f'Test percentage: {self.validation_percentage}')\n",
    "            train_data, test_data = self.get_random_split(data=train_data)\n",
    "\n",
    "        logging_utility.logger.info(f'''\n",
    "        Done!\n",
    "        Train data: {len(train_data) if train_data is not None else train_data}\n",
    "        Validation data: {len(val_data) if val_data is not None else val_data}\n",
    "        Test data: {len(test_data) if test_data is not None else test_data}\n",
    "        ''')\n",
    "        return train_data, val_data, test_data\n",
    "\n",
    "    def _step_execute(\n",
    "            self,\n",
    "            routine_suffixes: List[RoutineSuffix],\n",
    "            train_data: Optional[FieldDict] = None,\n",
    "            val_data: Optional[FieldDict] = None,\n",
    "            test_data: Optional[FieldDict] = None,\n",
    "            is_training: bool = False,\n",
    "            serialization_path: Optional[Union[AnyStr, Path]] = None,\n",
    "            serialize: bool = False,\n",
    "            serialize_data: bool = False\n",
    "    ):\n",
    "        step_result = FieldDict()\n",
    "\n",
    "        serialization_path = Path(serialization_path) if type(serialization_path) != Path else serialization_path\n",
    "\n",
    "        routine_name = '_'.join([str(suffix) for suffix in routine_suffixes])\n",
    "        routine_path = serialization_path.joinpath(routine_name) if serialize is not None else None\n",
    "        if routine_path is not None and not routine_path.is_dir():\n",
    "            routine_path.mkdir()\n",
    "\n",
    "        helper = cast(FrameworkHelper, self.helper)\n",
    "        assert routine_suffixes[0].name == 'seed', \\\n",
    "            f'{self.__class__.__name__} expects a seed for each iteration!'\n",
    "        helper.run(seed=routine_suffixes[0].value)\n",
    "\n",
    "        # Processor\n",
    "        processor = Registry.retrieve_component_from_key(config_regr_key=self.processor)\n",
    "        processor = cast(ProcessorPipeline, processor)\n",
    "        # serialize only at the end of process\n",
    "        train_data = processor.run(data=train_data,\n",
    "                                   is_training_data=is_training,\n",
    "                                   serialization_path=routine_path,\n",
    "                                   serialize_data=serialize_data,\n",
    "                                   data_serialization_index='train')\n",
    "        val_data = processor.run(data=val_data,\n",
    "                                 serialization_path=routine_path,\n",
    "                                 serialize_data=serialize_data,\n",
    "                                 data_serialization_index='val')\n",
    "        test_data = processor.run(data=test_data,\n",
    "                                  serialize=serialize,\n",
    "                                  serialization_path=routine_path,\n",
    "                                  serialize_data=serialize_data,\n",
    "                                  data_serialization_index='test')\n",
    "\n",
    "        # Model\n",
    "        if self.callbacks is not None:\n",
    "            callbacks = Registry.retrieve_component_from_key(config_regr_key=self.callbacks)\n",
    "            callbacks = cast(CallbackPipeline, callbacks)\n",
    "        else:\n",
    "            callbacks = None\n",
    "\n",
    "        model = Registry.retrieve_component_from_key(config_regr_key=self.model)\n",
    "        model = cast(Model, model)\n",
    "\n",
    "        model.build_model(processor_state=processor.state,\n",
    "                          callbacks=callbacks)\n",
    "\n",
    "        # Training\n",
    "        metrics = Registry.retrieve_component_from_key(config_regr_key=self.metrics)\n",
    "        metrics = cast(MetricPipeline, metrics)\n",
    "\n",
    "        if is_training:\n",
    "            model.prepare_for_training(train_data=train_data)\n",
    "\n",
    "            assert routine_suffixes[0].name == 'seed', \\\n",
    "                f'{self.__class__.__name__} expects a seed for each iteration!'\n",
    "            helper.run(seed=routine_suffixes[0].value)\n",
    "\n",
    "            fit_info = model.fit(train_data=train_data,\n",
    "                                 val_data=val_data,\n",
    "                                 metrics=metrics,\n",
    "                                 callbacks=callbacks)\n",
    "            step_result.add_short(name='fit_info',\n",
    "                                  value=fit_info)\n",
    "        else:\n",
    "            model.prepare_for_loading(data=test_data if test_data is not None else val_data)\n",
    "\n",
    "            model.load(serialization_path=routine_path)\n",
    "\n",
    "            model.check_after_loading()\n",
    "\n",
    "            assert routine_suffixes[0].name == 'seed', \\\n",
    "                f'{self.__class__.__name__} expects a seed for each iteration!'\n",
    "            helper.run(seed=routine_suffixes[0].value)\n",
    "\n",
    "        # Evaluator\n",
    "        if val_data is not None:\n",
    "            val_result = model.predict(data=val_data,\n",
    "                                       metrics=metrics,\n",
    "                                       callbacks=callbacks)\n",
    "            step_result.add_short(name='val_info',\n",
    "                                  value=val_result)\n",
    "\n",
    "        if test_data is not None:\n",
    "            test_result = model.predict(data=test_data,\n",
    "                                        metrics=metrics,\n",
    "                                        callbacks=callbacks)\n",
    "            step_result.add_short(name='test_info',\n",
    "                                  value=test_result)\n",
    "\n",
    "        # Save\n",
    "        if serialize:\n",
    "            model.save(serialization_path=routine_path)\n",
    "\n",
    "        return step_result\n",
    "\n",
    "    def run(\n",
    "            self,\n",
    "            helper: Optional[FrameworkHelper] = None,\n",
    "            is_training: bool = False,\n",
    "            routine_path: Optional[AnyStr] = None,\n",
    "            save_result: bool = False,\n",
    "            serialization_path: Optional[AnyStr] = None,\n",
    "            serialize: bool = False,\n",
    "            serialize_data: bool = False\n",
    "    ) -> FieldDict:\n",
    "        routine_result = FieldDict()\n",
    "\n",
    "        # Helper\n",
    "        if helper is not None:\n",
    "            self.helper = helper\n",
    "\n",
    "        self.helper.run(seed=self.seeds[0])\n",
    "\n",
    "        # Get data splits\n",
    "        data_loader = cast(DataLoader, self.data_loader)\n",
    "        train_data, val_data, test_data = data_loader.get_splits()\n",
    "        train_data, val_data, test_data = self.build_routine_splits(train_data=train_data,\n",
    "                                                                    val_data=val_data,\n",
    "                                                                    test_data=test_data,\n",
    "                                                                    is_training=is_training)\n",
    "\n",
    "        for seed_idx, seed in enumerate(self.seeds):\n",
    "            logging_utility.logger.info(f'Seed: {seed} (Progress -> {seed_idx + 1}/{len(self.seeds)})')\n",
    "\n",
    "            seed_train_data = data_loader.parse(data=train_data, data_name='train')\n",
    "            seed_val_data = data_loader.parse(data=val_data, data_name='val')\n",
    "            seed_test_data = data_loader.parse(data=test_data, data_name='test')\n",
    "\n",
    "            routine_suffixes = [\n",
    "                RoutineSuffix(name='seed',\n",
    "                              value=seed)\n",
    "            ]\n",
    "            step_result = self._step_execute(routine_suffixes=routine_suffixes,\n",
    "                                             train_data=seed_train_data,\n",
    "                                             val_data=seed_val_data,\n",
    "                                             test_data=seed_test_data,\n",
    "                                             is_training=is_training,\n",
    "                                             serialization_path=serialization_path,\n",
    "                                             serialize=serialize,\n",
    "                                             serialize_data=serialize_data)\n",
    "            routine_result.add_short(name='_'.join([str(suffix) for suffix in routine_suffixes]),\n",
    "                                     value=step_result)\n",
    "\n",
    "        return routine_result\n",
    "```"
   ]
  },
  {
   "cell_type": "markdown",
   "id": "8b393e3e",
   "metadata": {
    "slideshow": {
     "slide_type": "subslide"
    }
   },
   "source": [
    "### Routine (Configuration)\n",
    "\n",
    "We use the ``TrainAndTestRoutine`` component and extend its existing ``TrainAndTestConfig``"
   ]
  },
  {
   "cell_type": "markdown",
   "id": "7e8c2b4c",
   "metadata": {
    "slideshow": {
     "slide_type": "fragment"
    }
   },
   "source": [
    "```python\n",
    "class TrainAndTestConfig(RoutineConfig):\n",
    "\n",
    "    @classmethod\n",
    "    def get_default(\n",
    "            cls\n",
    "    ):\n",
    "        config = super(TrainAndTestConfig, cls).get_default()\n",
    "\n",
    "        config.add_short(name='test_percentage', type_hint=Optional[float],\n",
    "                         description='Training set percentage to use as test split.')\n",
    "        config.add_short(name='has_val_split', value=True, type_hint=bool,\n",
    "                         description='If true, val data is considered as a data split. '\n",
    "                                     'If no val data is provided, it is built via random split')\n",
    "        config.add_short(name='has_test_split', value=True, type_hint=bool,\n",
    "                         description=\"If true, test data is distinct from training data \"\n",
    "                                     \"and no data split is required\")\n",
    "        return config\n",
    "```"
   ]
  },
  {
   "cell_type": "markdown",
   "id": "b770535f",
   "metadata": {
    "slideshow": {
     "slide_type": "fragment"
    }
   },
   "source": [
    "```python\n",
    "from deasy_learning_generic.components.routine import TrainAndTestRoutine\n",
    "from deasy_learning_generic.configurations.routine import TrainAndTestConfig\n",
    "from deasy_learning_generic.core.registry import Registry, RegistrationKey\n",
    "\n",
    "\n",
    "class ExampleRoutineConfig(TrainAndTestConfig):\n",
    "\n",
    "    @classmethod\n",
    "    def get_default(\n",
    "            cls\n",
    "    ):\n",
    "        config = super().get_default()\n",
    "\n",
    "        config.data_loader = RegistrationKey(name='data_loader',\n",
    "                                             tags={'imdb', 'default'},\n",
    "                                             namespace='examples')\n",
    "        config.processor = RegistrationKey(name='processor',\n",
    "                                           tags={'tf-idf', 'label'},\n",
    "                                           namespace='examples')\n",
    "        config.model = RegistrationKey(name='model',\n",
    "                                       tags={'svm', 'default'},\n",
    "                                       namespace='examples')\n",
    "        config.metrics = RegistrationKey(name='metrics',\n",
    "                                         tags={'binary_f1', 'macro_f1', 'accuracy'},\n",
    "                                         namespace='examples')\n",
    "        config.helper = RegistrationKey(name='helper',\n",
    "                                        tags={'default'},\n",
    "                                        namespace='generic')\n",
    "\n",
    "        config.name = 'svm'\n",
    "        config.seeds = [15000, 42]\n",
    "        config.has_val_split = False\n",
    "        config.has_test_split = True\n",
    "\n",
    "        return config\n",
    "\n",
    "\n",
    "def register_routines():\n",
    "    Registry.register_and_bind(configuration_class=ExampleRoutineConfig,\n",
    "                               component_class=TrainAndTestRoutine,\n",
    "                               name='routine',\n",
    "                               tags={'train_and_test'},\n",
    "                               namespace='examples')\n",
    "\n",
    "```"
   ]
  },
  {
   "cell_type": "markdown",
   "id": "c75c6dbc",
   "metadata": {
    "slideshow": {
     "slide_type": "subslide"
    }
   },
   "source": [
    "### Routine (Testing)\n",
    "\n",
    "Let's test our **whole** pipeline in a **single shot**!"
   ]
  },
  {
   "cell_type": "markdown",
   "id": "6f534cb2",
   "metadata": {
    "slideshow": {
     "slide_type": "fragment"
    }
   },
   "source": [
    "```python\n",
    "from pathlib import Path\n",
    "from typing import cast\n",
    "\n",
    "from deasy_learning_generic.utility import logging_utility\n",
    "from deasy_learning_generic.components.file_manager import FileManager\n",
    "from deasy_learning_generic.components.routine import Routine\n",
    "from deasy_learning_generic.core.commands import setup_registry\n",
    "from deasy_learning_generic.core.registry import Registry, RegistrationKey\n",
    "\n",
    "if __name__ == '__main__':\n",
    "    directory = Path(__file__).parent.parent.resolve()\n",
    "    module_directories = [\n",
    "        Path(__file__).parent.parent.parent.resolve()\n",
    "    ]\n",
    "\n",
    "    file_manager_regr_key = setup_registry(directory=directory,\n",
    "                                           module_directories=module_directories,\n",
    "                                           generate_registration=True)\n",
    "\n",
    "    logging_utility.logger.info(f'Directory: {directory}')\n",
    "\n",
    "    file_manager = Registry.retrieve_built_component_from_key(config_regr_key=file_manager_regr_key)\n",
    "    file_manager = cast(FileManager, file_manager)\n",
    "    serialization_path = file_manager.run(filepath=file_manager.serialization_directory)\n",
    "    serialize = True\n",
    "\n",
    "    # Routine\n",
    "    routine_regr_key = RegistrationKey(name='routine',\n",
    "                                       tags={'train_and_test'},\n",
    "                                       namespace='examples')\n",
    "    routine = Registry.retrieve_component_from_key(config_regr_key=routine_regr_key)\n",
    "    routine = cast(Routine, routine)\n",
    "    routine_info = routine.run(is_training=True,\n",
    "                               serialization_path=serialization_path,\n",
    "                               serialize=serialize,\n",
    "                               serialize_data=True)\n",
    "    logging_utility.logger.info(f'Predict info: {routine_info}')\n",
    "    routine_info = routine.run(serialization_path=serialization_path,\n",
    "                               serialize_data=True)\n",
    "    logging_utility.logger.info(routine_info)\n",
    "```"
   ]
  },
  {
   "cell_type": "markdown",
   "id": "8ad7ffa7",
   "metadata": {
    "slideshow": {
     "slide_type": "slide"
    }
   },
   "source": [
    "## Upcoming features\n",
    "\n",
    "``deasy-learning`` is **just about** ``Registry``, ``Component``, ``Configuration``"
   ]
  },
  {
   "cell_type": "markdown",
   "id": "e6ce132c",
   "metadata": {
    "slideshow": {
     "slide_type": "fragment"
    }
   },
   "source": [
    "Still, **quite a lot of stuff** can be defined\n",
    "\n",
    "- Custom ``Component`` $\\rightarrow$ e.g., ``TrainAndTestRoutine`` is a default ``Component`` of ``deasy-learning``\n",
    "- Custom ``Configuration`` $\\rightarrow$ same as for ``Component``\n",
    "- A simple dedicated **web service** for visualizing registrations (similar to Hugginface space)\n",
    "- **Upload/Download** ``Configuration`` and ``Component`` for research purposes"
   ]
  },
  {
   "cell_type": "markdown",
   "id": "633683d5",
   "metadata": {
    "slideshow": {
     "slide_type": "fragment"
    }
   },
   "source": [
    "#### Python package\n",
    "\n",
    "I thought about defining **small modules** regarding different frameworks\n",
    "\n",
    "- ``deasy_learning_generic``: general module that defines the core of the library\n",
    "- ``deasy_learning_tf``: specialized ``Configuration`` and ``Component`` for Tensorflow\n",
    "- ``deasy_learning_th``: specialized ``Configuration`` and ``Component`` for Torch"
   ]
  },
  {
   "cell_type": "markdown",
   "id": "83286db3",
   "metadata": {
    "slideshow": {
     "slide_type": "slide"
    }
   },
   "source": [
    "## The end! Finally!\n",
    "\n",
    "**Thank you very much** for attending my course **<3**\n",
    "\n",
    "Since this is my **first teaching experience**, I kindly ask you for **your feedback**!!!!"
   ]
  },
  {
   "cell_type": "markdown",
   "id": "90f99e8f",
   "metadata": {
    "slideshow": {
     "slide_type": "fragment"
    }
   },
   "source": [
    "#### [Evaluation questionnaire](https://forms.gle/wxAV2XarJSKr5qLa7)  $\\leftarrow$ click me!\n",
    "\n",
    "**Click on the title** to access to the Google Form.\n",
    "\n",
    "Otherwise, here's the **QR code** for quick scan\n",
    "\n",
    "<center>\n",
    "<div>\n",
    "<img src=\"Images/Lecture-5/questionnaire.png\" width=\"400\"/>\n",
    "</div>\n",
    "</center>"
   ]
  },
  {
   "cell_type": "markdown",
   "id": "737f1b81",
   "metadata": {
    "slideshow": {
     "slide_type": "slide"
    }
   },
   "source": [
    "## Motivational outro\n",
    "\n",
    "Before saying goodbye, here are few things I want to tell you"
   ]
  },
  {
   "cell_type": "markdown",
   "id": "e5640f30",
   "metadata": {
    "slideshow": {
     "slide_type": "fragment"
    }
   },
   "source": [
    "- Research is **chaotic**, often **competitive** and time to time **toxic** $\\rightarrow$ let's **share** knowledge!"
   ]
  },
  {
   "cell_type": "markdown",
   "id": "4c86fc80",
   "metadata": {
    "slideshow": {
     "slide_type": "fragment"
    }
   },
   "source": [
    "- ``deasy-learning`` is **my attempt** to share experience and set up a common working environment"
   ]
  },
  {
   "cell_type": "markdown",
   "id": "30339c93",
   "metadata": {
    "slideshow": {
     "slide_type": "fragment"
    }
   },
   "source": [
    "- It may be a **good idea** to sit down and talk about research problems time to time! $\\rightarrow$ **recurring themed meetings**"
   ]
  },
  {
   "cell_type": "markdown",
   "id": "c3256c3b",
   "metadata": {
    "slideshow": {
     "slide_type": "slide"
    }
   },
   "source": [
    "# Any questions?\n",
    "\n",
    "<center>\n",
    "<div>\n",
    "<img src=\"Images/Lecture-1/jojo-arrivederci.gif\" width=\"1200\" alt='JOJO_arrivederci'/>\n",
    "</div>\n",
    "</center>"
   ]
  }
 ],
 "metadata": {
  "celltoolbar": "Slideshow",
  "kernelspec": {
   "display_name": "Python 3 (ipykernel)",
   "language": "python",
   "name": "python3"
  },
  "language_info": {
   "codemirror_mode": {
    "name": "ipython",
    "version": 3
   },
   "file_extension": ".py",
   "mimetype": "text/x-python",
   "name": "python",
   "nbconvert_exporter": "python",
   "pygments_lexer": "ipython3",
   "version": "3.7.16"
  }
 },
 "nbformat": 4,
 "nbformat_minor": 5
}
